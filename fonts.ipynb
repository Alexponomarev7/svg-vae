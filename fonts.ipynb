{
 "cells": [
  {
   "cell_type": "code",
   "execution_count": 1,
   "metadata": {},
   "outputs": [],
   "source": [
    "import torch\n",
    "import torch.nn as nn\n",
    "import torchvision\n",
    "import torchvision.transforms as transforms\n",
    "import torchsummary\n",
    "from IPython.display import clear_output\n",
    "from matplotlib import pyplot as plt\n",
    "from matplotlib.pyplot import figure\n",
    "import numpy as np\n",
    "import os\n",
    "\n",
    "\n",
    "device = 'cuda:0' if torch.cuda.is_available() else 'cpu'"
   ]
  },
  {
   "cell_type": "markdown",
   "metadata": {},
   "source": [
    "# Model"
   ]
  },
  {
   "cell_type": "code",
   "execution_count": null,
   "metadata": {},
   "outputs": [],
   "source": [
    "class VisualEncoderModel(nn.Module):\n",
    "    def __init__(self):\n",
    "        super(VisualEncoderModel, self).__init__()\n",
    "        self.block1 = nn.Conv2d(in_channels=channels, \n",
    "                              out_channels=channels,\n",
    "                              kernel_size=kernel_size,\n",
    "                              padding=kernel_size//2)\n",
    "        \n",
    "        self.block2 = TinyImageNetResidualBlock(channels=64, kernel_size=5)\n",
    "#         self.block2 = TinyImageNetResidualSqueezeBlock(channels=64, \n",
    "#                                                        kernel_size=5,\n",
    "#                                                        r=16)\n",
    "    \n",
    "        self.sq1 = TinyImageNetResidualBlock(channels=64, kernel_size=3)\n",
    "#         self.sq1 = TinyImageNetResidualSqueezeBlock(channels=64, \n",
    "#                                                     kernel_size=3, \n",
    "#                                                     r=16)\n",
    "        \n",
    "        self.block3 = TinyImageNetBlockWithPool(in_channels=64,\n",
    "                                                out_channels=128,\n",
    "                                                kernel_size=3,\n",
    "                                                pool_size=2)\n",
    "        \n",
    "        self.block4 = TinyImageNetResidualBlock(channels=128, kernel_size=3)\n",
    "#         self.block4 = TinyImageNetResidualSqueezeBlock(channels=128, \n",
    "#                                                        kernel_size=3,\n",
    "#                                                        r=16)\n",
    "        \n",
    "        self.sq2 = TinyImageNetResidualBlock(channels=128, kernel_size=3)\n",
    "#         self.sq2 = TinyImageNetResidualSqueezeBlock(channels=128,\n",
    "#                                                     kernel_size=3,\n",
    "#                                                     r=16)\n",
    "        \n",
    "        self.block5 = TinyImageNetBlockWithPool(in_channels=128, \n",
    "                                                out_channels=256, \n",
    "                                                kernel_size=3, \n",
    "                                                pool_size=2)\n",
    "        \n",
    "        self.block6 = TinyImageNetResidualBlock(channels=256, kernel_size=3)\n",
    "#         self.block6 = TinyImageNetResidualSqueezeBlock(channels=256, \n",
    "#                                                        kernel_size=3, \n",
    "#                                                        r=16)\n",
    "        \n",
    "        self.block7 = TinyImageNetBlockWithPool(in_channels=256,\n",
    "                                                out_channels=512, \n",
    "                                                kernel_size=3,\n",
    "                                                pool_size=1)\n",
    "        \n",
    "        self.block8 = TinyImageNetBlockWithPool(in_channels=512,\n",
    "                                                out_channels=1024,\n",
    "                                                kernel_size=1,\n",
    "                                                pool_size=1)\n",
    "        \n",
    "        self.average_pool = nn.AdaptiveAvgPool2d(1)\n",
    "        self.dense_logits = nn.Linear(1024, 50)\n",
    "        \n",
    "    def forward(self, input):\n",
    "        h = self.block5(self.sq2(self.block4(self.block3(self.sq1(self.block2(self.block1(input)))))))\n",
    "        h = self.average_pool(self.block8(self.block7(self.block6(h)))).view(input.shape[0], -1)\n",
    "        return self.dense_logits(h)\n"
   ]
  }
 ],
 "metadata": {
  "kernelspec": {
   "display_name": "Python 3",
   "language": "python",
   "name": "python3"
  },
  "language_info": {
   "codemirror_mode": {
    "name": "ipython",
    "version": 3
   },
   "file_extension": ".py",
   "mimetype": "text/x-python",
   "name": "python",
   "nbconvert_exporter": "python",
   "pygments_lexer": "ipython3",
   "version": "3.7.3"
  }
 },
 "nbformat": 4,
 "nbformat_minor": 4
}
