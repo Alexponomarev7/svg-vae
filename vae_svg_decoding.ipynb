{
 "cells": [
  {
   "cell_type": "markdown",
   "metadata": {},
   "source": [
    "# SVG-VAE"
   ]
  },
  {
   "cell_type": "code",
   "execution_count": 1,
   "metadata": {},
   "outputs": [],
   "source": [
    "import pyarrow.parquet as pq\n",
    "import svg_utils\n",
    "import numpy as np\n",
    "import matplotlib.pyplot as plt\n",
    "import torch\n",
    "\n",
    "from torch.utils.data import Dataset, DataLoader\n",
    "from model import VAEModel\n",
    "from config import ImageVAEConfig"
   ]
  },
  {
   "cell_type": "markdown",
   "metadata": {},
   "source": [
    "## Prepare dataset"
   ]
  },
  {
   "cell_type": "code",
   "execution_count": 2,
   "metadata": {},
   "outputs": [
    {
     "data": {
      "text/html": [
       "<div>\n",
       "<style scoped>\n",
       "    .dataframe tbody tr th:only-of-type {\n",
       "        vertical-align: middle;\n",
       "    }\n",
       "\n",
       "    .dataframe tbody tr th {\n",
       "        vertical-align: top;\n",
       "    }\n",
       "\n",
       "    .dataframe thead th {\n",
       "        text-align: right;\n",
       "    }\n",
       "</style>\n",
       "<table border=\"1\" class=\"dataframe\">\n",
       "  <thead>\n",
       "    <tr style=\"text-align: right;\">\n",
       "      <th></th>\n",
       "      <th>uni</th>\n",
       "      <th>width</th>\n",
       "      <th>vwidth</th>\n",
       "      <th>sfd</th>\n",
       "      <th>id</th>\n",
       "      <th>binary_fp</th>\n",
       "    </tr>\n",
       "  </thead>\n",
       "  <tbody>\n",
       "    <tr>\n",
       "      <th>0</th>\n",
       "      <td>97</td>\n",
       "      <td>649</td>\n",
       "      <td>1000</td>\n",
       "      <td>SplineSet\\n637 0 m 1,0,-1\\n 595 0 l 1,1,-1\\n 5...</td>\n",
       "      <td>1</td>\n",
       "      <td>12127215344058962203\\n</td>\n",
       "    </tr>\n",
       "    <tr>\n",
       "      <th>1</th>\n",
       "      <td>98</td>\n",
       "      <td>560</td>\n",
       "      <td>1000</td>\n",
       "      <td>SplineSet\\n535 284 m 0,0,1\\n 535 166 535 166 4...</td>\n",
       "      <td>2</td>\n",
       "      <td>12127215344058962203\\n</td>\n",
       "    </tr>\n",
       "    <tr>\n",
       "      <th>2</th>\n",
       "      <td>99</td>\n",
       "      <td>712</td>\n",
       "      <td>1000</td>\n",
       "      <td>SplineSet\\n693 125 m 1,0,1\\n 686 116 686 116 6...</td>\n",
       "      <td>3</td>\n",
       "      <td>12127215344058962203\\n</td>\n",
       "    </tr>\n",
       "    <tr>\n",
       "      <th>3</th>\n",
       "      <td>100</td>\n",
       "      <td>710</td>\n",
       "      <td>1000</td>\n",
       "      <td>SplineSet\\n678 378 m 0,0,1\\n 678 221 678 221 5...</td>\n",
       "      <td>4</td>\n",
       "      <td>12127215344058962203\\n</td>\n",
       "    </tr>\n",
       "    <tr>\n",
       "      <th>4</th>\n",
       "      <td>101</td>\n",
       "      <td>613</td>\n",
       "      <td>1000</td>\n",
       "      <td>SplineSet\\n586 0 m 1,0,-1\\n 28 0 l 1,1,-1\\n 28...</td>\n",
       "      <td>5</td>\n",
       "      <td>12127215344058962203\\n</td>\n",
       "    </tr>\n",
       "  </tbody>\n",
       "</table>\n",
       "</div>"
      ],
      "text/plain": [
       "   uni  width  vwidth                                                sfd  id  \\\n",
       "0   97    649    1000  SplineSet\\n637 0 m 1,0,-1\\n 595 0 l 1,1,-1\\n 5...   1   \n",
       "1   98    560    1000  SplineSet\\n535 284 m 0,0,1\\n 535 166 535 166 4...   2   \n",
       "2   99    712    1000  SplineSet\\n693 125 m 1,0,1\\n 686 116 686 116 6...   3   \n",
       "3  100    710    1000  SplineSet\\n678 378 m 0,0,1\\n 678 221 678 221 5...   4   \n",
       "4  101    613    1000  SplineSet\\n586 0 m 1,0,-1\\n 28 0 l 1,1,-1\\n 28...   5   \n",
       "\n",
       "                binary_fp  \n",
       "0  12127215344058962203\\n  \n",
       "1  12127215344058962203\\n  \n",
       "2  12127215344058962203\\n  \n",
       "3  12127215344058962203\\n  \n",
       "4  12127215344058962203\\n  "
      ]
     },
     "execution_count": 2,
     "metadata": {},
     "output_type": "execute_result"
    }
   ],
   "source": [
    "data_train = pq.read_table('data_train.parquet')\n",
    "data_train = data_train.to_pandas()\n",
    "\n",
    "data_test = pq.read_table('data_test.parquet')\n",
    "data_test = data_test.to_pandas()\n",
    "\n",
    "data_train.head()"
   ]
  },
  {
   "cell_type": "code",
   "execution_count": 3,
   "metadata": {},
   "outputs": [
    {
     "data": {
      "text/plain": [
       "1971326"
      ]
     },
     "execution_count": 3,
     "metadata": {},
     "output_type": "execute_result"
    }
   ],
   "source": [
    "len(data_train)"
   ]
  },
  {
   "cell_type": "markdown",
   "metadata": {},
   "source": [
    "Взглянем на сэмпл."
   ]
  },
  {
   "cell_type": "code",
   "execution_count": 4,
   "metadata": {},
   "outputs": [],
   "source": [
    "from random import randint\n",
    "i = 1358568 # randint(0, 1971326)"
   ]
  },
  {
   "cell_type": "code",
   "execution_count": 5,
   "metadata": {},
   "outputs": [
    {
     "data": {
      "text/plain": [
       "dict_keys(['rendered', 'seq_len', 'class', 'binary_fp', 'sequence'])"
      ]
     },
     "execution_count": 5,
     "metadata": {},
     "output_type": "execute_result"
    }
   ],
   "source": [
    "assert svg_utils._is_valid_glyph(data_train.loc[i])\n",
    "path = svg_utils._convert_to_path(data_train.loc[i])\n",
    "assert svg_utils._is_valid_path(path)\n",
    "data = svg_utils._create_example(path)\n",
    "data.keys()"
   ]
  },
  {
   "cell_type": "code",
   "execution_count": 6,
   "metadata": {},
   "outputs": [
    {
     "data": {
      "text/plain": [
       "<matplotlib.image.AxesImage at 0x1633621d0>"
      ]
     },
     "execution_count": 6,
     "metadata": {},
     "output_type": "execute_result"
    },
    {
     "data": {
      "image/png": "[encoded data removed]",
      "text/plain": [
       "<Figure size 432x288 with 1 Axes>"
      ]
     },
     "metadata": {
      "needs_background": "light"
     },
     "output_type": "display_data"
    }
   ],
   "source": [
    "plt.imshow(np.array(data['rendered']).reshape(64, 64))"
   ]
  },
  {
   "cell_type": "markdown",
   "metadata": {},
   "source": [
    "Подготовим даталоадеры."
   ]
  },
  {
   "cell_type": "code",
   "execution_count": 7,
   "metadata": {},
   "outputs": [
    {
     "data": {
      "text/plain": [
       "uni                                                         97\n",
       "width                                                      649\n",
       "vwidth                                                    1000\n",
       "sfd          SplineSet\\n637 0 m 1,0,-1\\n 595 0 l 1,1,-1\\n 5...\n",
       "id                                                           1\n",
       "binary_fp                               12127215344058962203\\n\n",
       "Name: 0, dtype: object"
      ]
     },
     "execution_count": 7,
     "metadata": {},
     "output_type": "execute_result"
    }
   ],
   "source": [
    "data_train.loc[0, :]"
   ]
  },
  {
   "cell_type": "code",
   "execution_count": 78,
   "metadata": {},
   "outputs": [],
   "source": [
    "class GlyphDataset(Dataset):\n",
    "    def __init__(self, df):\n",
    "        self.df = df\n",
    "        self.map_class = {}\n",
    "        self.cached = self.__getitem__(0)\n",
    "    \n",
    "    def __len__(self):\n",
    "        return len(self.df)\n",
    "    \n",
    "    def __getitem__(self, idx):\n",
    "        try:\n",
    "            example = np.array(svg_utils._create_example(svg_utils._convert_to_path(self.df.loc[idx, :]))['rendered']\n",
    "                              , dtype=np.float32)\n",
    "            \n",
    "            if not (self.df.loc[idx, \"uni\"] in self.map_class):\n",
    "                len_ind = len(self.map_class)\n",
    "                self.map_class[self.df.loc[idx, \"uni\"]] = len_ind\n",
    "                \n",
    "            return torch.FloatTensor(example.reshape(1, 64, 64)), self.map_class[self.df.loc[idx, \"uni\"]]\n",
    "        except Exception as e:\n",
    "            return self.cached"
   ]
  },
  {
   "cell_type": "code",
   "execution_count": 79,
   "metadata": {},
   "outputs": [],
   "source": [
    "glyph_train = GlyphDataset(data_train)\n",
    "glyph_test = GlyphDataset(data_test)"
   ]
  },
  {
   "cell_type": "code",
   "execution_count": 80,
   "metadata": {},
   "outputs": [
    {
     "name": "stdout",
     "output_type": "stream",
     "text": [
      "torch.Size([64, 1, 64, 64])\n",
      "tensor([ 0,  1,  2,  3,  4,  5,  6,  7,  8,  9, 10, 11, 12, 13, 14, 15, 16, 17,\n",
      "        18, 19, 20, 21, 22, 23, 24, 25, 26, 27, 28, 29, 30, 31, 32, 33, 34, 35,\n",
      "        36, 37, 38, 39, 40, 41, 42, 43, 44, 45, 46, 47, 48, 49, 50, 51, 52, 53,\n",
      "        54, 55, 56, 57, 58, 59, 60, 61,  0,  1])\n"
     ]
    }
   ],
   "source": [
    "train_loader = DataLoader(glyph_train, batch_size=64)\n",
    "for X_batch, Y_batch in train_loader:\n",
    "    print(X_batch.size())\n",
    "    print(Y_batch)\n",
    "    break"
   ]
  },
  {
   "cell_type": "markdown",
   "metadata": {},
   "source": [
    "## Model declaration"
   ]
  },
  {
   "cell_type": "code",
   "execution_count": 11,
   "metadata": {},
   "outputs": [],
   "source": [
    "%load_ext autoreload\n",
    "%autoreload 2"
   ]
  },
  {
   "cell_type": "code",
   "execution_count": 84,
   "metadata": {},
   "outputs": [],
   "source": [
    "config = ImageVAEConfig()"
   ]
  },
  {
   "cell_type": "code",
   "execution_count": 85,
   "metadata": {},
   "outputs": [],
   "source": [
    "model = VAEModel(config)"
   ]
  },
  {
   "cell_type": "code",
   "execution_count": 86,
   "metadata": {},
   "outputs": [
    {
     "name": "stdout",
     "output_type": "stream",
     "text": [
      "tensor([[[[ 0.1975,  0.3291,  0.4104,  ...,  0.1341,  0.2541,  0.2247],\n",
      "          [ 0.0897,  0.5155,  0.4756,  ...,  0.3540, -0.1822,  0.0089],\n",
      "          [ 0.2443,  0.2290,  0.3401,  ...,  0.3207, -0.2052, -0.1620],\n",
      "          ...,\n",
      "          [ 0.1087,  0.0068,  0.4110,  ...,  0.2598,  0.4035,  0.2694],\n",
      "          [ 0.0451,  0.4237,  0.1999,  ...,  0.2615,  0.1549,  0.1035],\n",
      "          [ 0.0411, -0.0244,  0.0435,  ..., -0.0663,  0.0555,  0.0688]]],\n",
      "\n",
      "\n",
      "        [[[ 0.3602,  0.3773,  0.2678,  ...,  0.1601,  0.3245,  0.2012],\n",
      "          [ 0.0532,  0.4270,  0.2615,  ...,  0.2901, -0.1620,  0.1228],\n",
      "          [ 0.0605,  0.3575,  0.5325,  ...,  0.0601, -0.1772,  0.0875],\n",
      "          ...,\n",
      "          [ 0.3049, -0.0225,  0.1514,  ...,  0.1026,  0.2966,  0.3306],\n",
      "          [-0.0227,  0.3084,  0.0512,  ...,  0.2502,  0.0214,  0.2588],\n",
      "          [ 0.1631,  0.1571,  0.0890,  ..., -0.0401,  0.0904,  0.0699]]]],\n",
      "       grad_fn=<MkldnnConvolutionBackward>)\n",
      "----------------------------------------------------------------\n",
      "        Layer (type)               Output Shape         Param #\n",
      "================================================================\n",
      "            Conv2d-1           [-1, 32, 64, 64]             832\n",
      "CategoricalConditionalBatchNorm-2           [-1, 32, 64, 64]           3,968\n",
      "              ReLU-3           [-1, 32, 64, 64]               0\n",
      " VisualEncoderCell-4           [-1, 32, 64, 64]               0\n",
      "            Conv2d-5           [-1, 32, 32, 32]          25,632\n",
      "CategoricalConditionalBatchNorm-6           [-1, 32, 32, 32]           3,968\n",
      "              ReLU-7           [-1, 32, 32, 32]               0\n",
      " VisualEncoderCell-8           [-1, 32, 32, 32]               0\n",
      "            Conv2d-9           [-1, 64, 32, 32]          51,264\n",
      "CategoricalConditionalBatchNorm-10           [-1, 64, 32, 32]           7,936\n",
      "             ReLU-11           [-1, 64, 32, 32]               0\n",
      "VisualEncoderCell-12           [-1, 64, 32, 32]               0\n",
      "           Conv2d-13           [-1, 64, 16, 16]         102,464\n",
      "CategoricalConditionalBatchNorm-14           [-1, 64, 16, 16]           7,936\n",
      "             ReLU-15           [-1, 64, 16, 16]               0\n",
      "VisualEncoderCell-16           [-1, 64, 16, 16]               0\n",
      "           Conv2d-17             [-1, 64, 8, 8]          65,600\n",
      "CategoricalConditionalBatchNorm-18             [-1, 64, 8, 8]           7,936\n",
      "             ReLU-19             [-1, 64, 8, 8]               0\n",
      "VisualEncoderCell-20             [-1, 64, 8, 8]               0\n",
      "           Conv2d-21             [-1, 64, 4, 4]          65,600\n",
      "CategoricalConditionalBatchNorm-22             [-1, 64, 4, 4]           7,936\n",
      "             ReLU-23             [-1, 64, 4, 4]               0\n",
      "VisualEncoderCell-24             [-1, 64, 4, 4]               0\n",
      "          Flatten-25                 [-1, 1024]               0\n",
      "           Linear-26                   [-1, 64]          65,600\n",
      "VisualEncoderModel-27                   [-1, 64]               0\n",
      "           Linear-28                 [-1, 1024]          33,792\n",
      "  ConvTranspose2d-29             [-1, 64, 8, 8]          65,600\n",
      "CategoricalConditionalBatchNorm-30             [-1, 64, 8, 8]           7,936\n",
      "             ReLU-31             [-1, 64, 8, 8]               0\n",
      "VisualDecoderCell-32             [-1, 64, 8, 8]               0\n",
      "  ConvTranspose2d-33           [-1, 64, 16, 16]          65,600\n",
      "CategoricalConditionalBatchNorm-34           [-1, 64, 16, 16]           7,936\n",
      "             ReLU-35           [-1, 64, 16, 16]               0\n",
      "VisualDecoderCell-36           [-1, 64, 16, 16]               0\n",
      "  ConvTranspose2d-37           [-1, 64, 16, 16]         102,464\n",
      "CategoricalConditionalBatchNorm-38           [-1, 64, 16, 16]           7,936\n",
      "             ReLU-39           [-1, 64, 16, 16]               0\n",
      "VisualDecoderCell-40           [-1, 64, 16, 16]               0\n",
      "  ConvTranspose2d-41           [-1, 64, 32, 32]         102,464\n",
      "CategoricalConditionalBatchNorm-42           [-1, 64, 32, 32]           7,936\n",
      "             ReLU-43           [-1, 64, 32, 32]               0\n",
      "VisualDecoderCell-44           [-1, 64, 32, 32]               0\n",
      "  ConvTranspose2d-45           [-1, 32, 32, 32]          51,232\n",
      "CategoricalConditionalBatchNorm-46           [-1, 32, 32, 32]           3,968\n",
      "             ReLU-47           [-1, 32, 32, 32]               0\n",
      "VisualDecoderCell-48           [-1, 32, 32, 32]               0\n",
      "  ConvTranspose2d-49           [-1, 32, 64, 64]          25,632\n",
      "CategoricalConditionalBatchNorm-50           [-1, 32, 64, 64]           3,968\n",
      "             ReLU-51           [-1, 32, 64, 64]               0\n",
      "VisualDecoderCell-52           [-1, 32, 64, 64]               0\n",
      "  ConvTranspose2d-53           [-1, 32, 64, 64]          25,632\n",
      "CategoricalConditionalBatchNorm-54           [-1, 32, 64, 64]           3,968\n",
      "             ReLU-55           [-1, 32, 64, 64]               0\n",
      "VisualDecoderCell-56           [-1, 32, 64, 64]               0\n",
      "           Conv2d-57            [-1, 1, 64, 64]             801\n",
      "VisualDecoderModel-58            [-1, 1, 64, 64]               0\n",
      "================================================================\n",
      "Total params: 933,537\n",
      "Trainable params: 933,537\n",
      "Non-trainable params: 0\n",
      "----------------------------------------------------------------\n",
      "Input size (MB): 0.02\n",
      "Forward/backward pass size (MB): 19.86\n",
      "Params size (MB): 3.56\n",
      "Estimated Total Size (MB): 23.44\n",
      "----------------------------------------------------------------\n"
     ]
    }
   ],
   "source": [
    "from torchsummary import summary\n",
    "\n",
    "summary(model, [(1, 64, 64), (1, 1, 1)])"
   ]
  },
  {
   "cell_type": "markdown",
   "metadata": {},
   "source": [
    "## Training"
   ]
  },
  {
   "cell_type": "code",
   "execution_count": 87,
   "metadata": {},
   "outputs": [],
   "source": [
    "opt = torch.optim.Adam(model.parameters(), eps=1e-6)\n",
    "scheduler = torch.optim.lr_scheduler.ReduceLROnPlateau(opt, mode='min', patience=4, min_lr=0.0001)"
   ]
  },
  {
   "cell_type": "code",
   "execution_count": 93,
   "metadata": {},
   "outputs": [],
   "source": [
    "import time\n",
    "from tqdm import tqdm\n",
    "\n",
    "\n",
    "def train_model(model, opt, scheduler, train_loss, \n",
    "                val_accuracy, num_epochs, print_every=5):\n",
    "    cur_max_acc = None\n",
    "    for epoch in tqdm(range(num_epochs)):\n",
    "        print(f'Start epoch {epoch}')\n",
    "        start_time = time.time()\n",
    "        model.train()\n",
    "        epoch_loss = 0\n",
    "        i = 0\n",
    "        for X_batch, Y_batch in tqdm(train_loader):\n",
    "            logits, losses = model(X_batch, Y_batch)\n",
    "            #print(scores)\n",
    "            #print(losses)\n",
    "            loss = model.loss(logits, X_batch)[0]\n",
    "            loss.backward()\n",
    "            opt.step()\n",
    "            opt.zero_grad()\n",
    "            epoch_loss += loss.item()\n",
    "            if i % print_every == 0:\n",
    "                print(f'Epoch {epoch}, Batch {i}, loss {loss.item()}')\n",
    "            i += 1\n",
    "        cur_val_acc, cur_val_loss = get_accuracy(model, val_batch_gen)\n",
    "        epoch_loss /= len(train_batch_gen)\n",
    "        scheduler.step(cur_val_loss)\n",
    "        \n",
    "        train_loss.append(epoch_loss)\n",
    "        val_accuracy.append(cur_val_acc)\n",
    "        val_loss.append(cur_val_loss)\n",
    "        \n",
    "        print(\"Epoch {} of {} took {:.3f}s\".format(\n",
    "            epoch + 1, num_epochs, time.time() - start_time))\n",
    "        print('  lr =', scheduler._last_lr[0])\n",
    "        print(\"  training loss (in-iteration): \\t{:.6f}\".format(epoch_loss))\n",
    "        print(\"  validate loss (in-iteration): \\t{:.6f}\".format(cur_val_loss))\n",
    "        print(\"  validation accuracy: \\t\\t\\t{:.2f} %\".format(cur_val_acc * 100))\n",
    "        if cur_max_acc is None or cur_val_acc > cur_max_acc:\n",
    "            cur_max_acc = cur_val_acc\n",
    "            torch.save(model.state_dict(), 'models/residual.best4')"
   ]
  },
  {
   "cell_type": "code",
   "execution_count": null,
   "metadata": {
    "scrolled": true
   },
   "outputs": [
    {
     "name": "stderr",
     "output_type": "stream",
     "text": [
      "  0%|          | 0/3 [00:00<?, ?it/s]\n",
      "  0%|          | 0/30802 [00:00<?, ?it/s]\u001b[A"
     ]
    },
    {
     "name": "stdout",
     "output_type": "stream",
     "text": [
      "Start epoch 0\n"
     ]
    },
    {
     "name": "stderr",
     "output_type": "stream",
     "text": [
      "\n",
      "  0%|          | 1/30802 [00:04<40:21:40,  4.72s/it]\u001b[A"
     ]
    },
    {
     "name": "stdout",
     "output_type": "stream",
     "text": [
      "Epoch 0, Batch 0, loss 906986368.0\n"
     ]
    },
    {
     "name": "stderr",
     "output_type": "stream",
     "text": [
      "\n",
      "  0%|          | 2/30802 [00:09<40:43:59,  4.76s/it]\u001b[A\n",
      "  0%|          | 3/30802 [00:14<41:58:01,  4.91s/it]\u001b[A\n",
      "  0%|          | 4/30802 [00:19<42:13:35,  4.94s/it]\u001b[A\n",
      "  0%|          | 5/30802 [00:24<41:54:07,  4.90s/it]\u001b[A\n",
      "  0%|          | 6/30802 [00:29<42:14:42,  4.94s/it]\u001b[A"
     ]
    },
    {
     "name": "stdout",
     "output_type": "stream",
     "text": [
      "Epoch 0, Batch 5, loss 1040534464.0\n"
     ]
    },
    {
     "name": "stderr",
     "output_type": "stream",
     "text": [
      "\n",
      "  0%|          | 7/30802 [00:34<42:19:59,  4.95s/it]\u001b[A\n",
      "  0%|          | 8/30802 [00:39<43:20:28,  5.07s/it]\u001b[A\n",
      "  0%|          | 9/30802 [00:44<42:50:52,  5.01s/it]\u001b[A\n",
      "  0%|          | 10/30802 [00:49<42:29:26,  4.97s/it]\u001b[A\n",
      "  0%|          | 11/30802 [00:54<43:14:32,  5.06s/it]\u001b[A"
     ]
    },
    {
     "name": "stdout",
     "output_type": "stream",
     "text": [
      "Epoch 0, Batch 10, loss 593731456.0\n"
     ]
    },
    {
     "name": "stderr",
     "output_type": "stream",
     "text": [
      "\n",
      "  0%|          | 12/30802 [01:00<43:18:25,  5.06s/it]\u001b[A\n",
      "  0%|          | 13/30802 [01:05<43:38:53,  5.10s/it]\u001b[A\n",
      "  0%|          | 14/30802 [01:11<45:22:55,  5.31s/it]\u001b[A\n",
      "  0%|          | 15/30802 [01:16<45:03:49,  5.27s/it]\u001b[A\n",
      "  0%|          | 16/30802 [01:21<44:20:30,  5.19s/it]\u001b[A"
     ]
    },
    {
     "name": "stdout",
     "output_type": "stream",
     "text": [
      "Epoch 0, Batch 15, loss 1113464192.0\n"
     ]
    },
    {
     "name": "stderr",
     "output_type": "stream",
     "text": [
      "\n",
      "  0%|          | 17/30802 [01:26<43:26:26,  5.08s/it]\u001b[A\n",
      "  0%|          | 18/30802 [01:31<43:13:13,  5.05s/it]\u001b[A\n",
      "  0%|          | 19/30802 [01:35<42:56:22,  5.02s/it]\u001b[A\n",
      "  0%|          | 20/30802 [01:40<42:47:31,  5.00s/it]\u001b[A\n",
      "  0%|          | 21/30802 [01:46<43:30:33,  5.09s/it]\u001b[A"
     ]
    },
    {
     "name": "stdout",
     "output_type": "stream",
     "text": [
      "Epoch 0, Batch 20, loss 610878400.0\n"
     ]
    },
    {
     "name": "stderr",
     "output_type": "stream",
     "text": [
      "\n",
      "  0%|          | 22/30802 [01:51<43:08:00,  5.04s/it]\u001b[A\n",
      "  0%|          | 23/30802 [01:56<43:10:49,  5.05s/it]\u001b[A\n",
      "  0%|          | 24/30802 [02:01<42:31:50,  4.97s/it]\u001b[A\n",
      "  0%|          | 25/30802 [02:07<46:20:06,  5.42s/it]\u001b[A\n",
      "  0%|          | 26/30802 [02:13<47:02:27,  5.50s/it]\u001b[A"
     ]
    },
    {
     "name": "stdout",
     "output_type": "stream",
     "text": [
      "Epoch 0, Batch 25, loss 613307392.0\n"
     ]
    },
    {
     "name": "stderr",
     "output_type": "stream",
     "text": [
      "\n",
      "  0%|          | 27/30802 [02:18<46:17:08,  5.41s/it]\u001b[A\n",
      "  0%|          | 28/30802 [02:23<46:07:57,  5.40s/it]\u001b[A\n",
      "  0%|          | 29/30802 [02:29<45:45:20,  5.35s/it]\u001b[A\n",
      "  0%|          | 30/30802 [02:34<45:25:18,  5.31s/it]\u001b[A\n",
      "  0%|          | 31/30802 [02:39<44:42:49,  5.23s/it]\u001b[A"
     ]
    },
    {
     "name": "stdout",
     "output_type": "stream",
     "text": [
      "Epoch 0, Batch 30, loss 939639360.0\n"
     ]
    },
    {
     "name": "stderr",
     "output_type": "stream",
     "text": [
      "\n",
      "  0%|          | 32/30802 [02:44<44:22:55,  5.19s/it]\u001b[A\n",
      "  0%|          | 33/30802 [02:49<43:24:05,  5.08s/it]\u001b[A\n",
      "  0%|          | 34/30802 [02:54<42:49:57,  5.01s/it]\u001b[A\n",
      "  0%|          | 35/30802 [02:58<42:02:33,  4.92s/it]\u001b[A\n",
      "  0%|          | 36/30802 [03:03<41:36:44,  4.87s/it]\u001b[A"
     ]
    },
    {
     "name": "stdout",
     "output_type": "stream",
     "text": [
      "Epoch 0, Batch 35, loss 690484544.0\n"
     ]
    },
    {
     "name": "stderr",
     "output_type": "stream",
     "text": [
      "\n",
      "  0%|          | 37/30802 [03:08<41:10:07,  4.82s/it]\u001b[A\n",
      "  0%|          | 38/30802 [03:13<41:43:26,  4.88s/it]\u001b[A\n",
      "  0%|          | 39/30802 [03:18<42:22:22,  4.96s/it]\u001b[A\n",
      "  0%|          | 40/30802 [03:23<43:49:23,  5.13s/it]\u001b[A\n",
      "  0%|          | 41/30802 [03:29<44:39:25,  5.23s/it]\u001b[A"
     ]
    },
    {
     "name": "stdout",
     "output_type": "stream",
     "text": [
      "Epoch 0, Batch 40, loss 525598080.0\n"
     ]
    },
    {
     "name": "stderr",
     "output_type": "stream",
     "text": [
      "\n",
      "  0%|          | 42/30802 [03:34<44:11:40,  5.17s/it]\u001b[A\n",
      "  0%|          | 43/30802 [03:40<45:20:27,  5.31s/it]\u001b[A\n",
      "  0%|          | 44/30802 [03:44<44:09:33,  5.17s/it]\u001b[A\n",
      "  0%|          | 45/30802 [03:49<43:10:17,  5.05s/it]\u001b[A\n",
      "  0%|          | 46/30802 [03:54<43:02:26,  5.04s/it]\u001b[A"
     ]
    },
    {
     "name": "stdout",
     "output_type": "stream",
     "text": [
      "Epoch 0, Batch 45, loss 696640448.0\n"
     ]
    },
    {
     "name": "stderr",
     "output_type": "stream",
     "text": [
      "\n",
      "  0%|          | 47/30802 [03:59<43:43:28,  5.12s/it]\u001b[A\n",
      "  0%|          | 48/30802 [04:05<43:58:00,  5.15s/it]\u001b[A\n",
      "  0%|          | 49/30802 [04:10<43:52:54,  5.14s/it]\u001b[A\n",
      "  0%|          | 50/30802 [04:15<44:26:13,  5.20s/it]\u001b[A\n",
      "  0%|          | 51/30802 [04:20<44:30:35,  5.21s/it]\u001b[A"
     ]
    },
    {
     "name": "stdout",
     "output_type": "stream",
     "text": [
      "Epoch 0, Batch 50, loss 419475520.0\n"
     ]
    },
    {
     "name": "stderr",
     "output_type": "stream",
     "text": [
      "\n",
      "  0%|          | 52/30802 [04:26<45:07:01,  5.28s/it]\u001b[A\n",
      "  0%|          | 53/30802 [04:31<44:57:16,  5.26s/it]\u001b[A\n",
      "  0%|          | 54/30802 [04:36<45:01:23,  5.27s/it]\u001b[A\n",
      "  0%|          | 55/30802 [04:42<45:29:38,  5.33s/it]\u001b[A\n",
      "  0%|          | 56/30802 [04:47<46:14:30,  5.41s/it]\u001b[A"
     ]
    },
    {
     "name": "stdout",
     "output_type": "stream",
     "text": [
      "Epoch 0, Batch 55, loss 859417344.0\n"
     ]
    },
    {
     "name": "stderr",
     "output_type": "stream",
     "text": [
      "\n",
      "  0%|          | 57/30802 [04:52<45:11:41,  5.29s/it]\u001b[A\n",
      "  0%|          | 58/30802 [04:57<44:18:18,  5.19s/it]\u001b[A\n",
      "  0%|          | 59/30802 [05:02<43:47:49,  5.13s/it]\u001b[A\n",
      "  0%|          | 60/30802 [05:07<43:49:09,  5.13s/it]\u001b[A\n",
      "  0%|          | 61/30802 [05:13<44:06:52,  5.17s/it]\u001b[A"
     ]
    },
    {
     "name": "stdout",
     "output_type": "stream",
     "text": [
      "Epoch 0, Batch 60, loss 443934080.0\n"
     ]
    },
    {
     "name": "stderr",
     "output_type": "stream",
     "text": [
      "\n",
      "  0%|          | 62/30802 [05:18<43:19:31,  5.07s/it]\u001b[A\n",
      "  0%|          | 63/30802 [05:23<43:33:56,  5.10s/it]\u001b[A\n",
      "  0%|          | 64/30802 [05:28<44:58:12,  5.27s/it]\u001b[A\n",
      "  0%|          | 65/30802 [05:34<45:44:40,  5.36s/it]\u001b[A\n",
      "  0%|          | 66/30802 [05:39<45:30:30,  5.33s/it]\u001b[A"
     ]
    },
    {
     "name": "stdout",
     "output_type": "stream",
     "text": [
      "Epoch 0, Batch 65, loss 622865664.0\n"
     ]
    },
    {
     "name": "stderr",
     "output_type": "stream",
     "text": [
      "\n",
      "  0%|          | 67/30802 [05:44<44:05:40,  5.16s/it]\u001b[A\n",
      "  0%|          | 68/30802 [05:49<43:24:28,  5.08s/it]\u001b[A\n",
      "  0%|          | 69/30802 [05:54<43:50:05,  5.13s/it]\u001b[A\n",
      "  0%|          | 70/30802 [05:59<43:39:38,  5.11s/it]\u001b[A\n",
      "  0%|          | 71/30802 [06:04<43:20:45,  5.08s/it]\u001b[A"
     ]
    },
    {
     "name": "stdout",
     "output_type": "stream",
     "text": [
      "Epoch 0, Batch 70, loss 386213856.0\n"
     ]
    },
    {
     "name": "stderr",
     "output_type": "stream",
     "text": [
      "\n",
      "  0%|          | 72/30802 [06:09<42:57:03,  5.03s/it]\u001b[A\n",
      "  0%|          | 73/30802 [06:14<43:25:40,  5.09s/it]\u001b[A\n",
      "  0%|          | 74/30802 [06:19<42:58:58,  5.04s/it]\u001b[A\n",
      "  0%|          | 75/30802 [06:25<43:56:25,  5.15s/it]\u001b[A\n",
      "  0%|          | 76/30802 [06:30<43:58:36,  5.15s/it]\u001b[A"
     ]
    },
    {
     "name": "stdout",
     "output_type": "stream",
     "text": [
      "Epoch 0, Batch 75, loss 392070528.0\n"
     ]
    },
    {
     "name": "stderr",
     "output_type": "stream",
     "text": [
      "\n",
      "  0%|          | 77/30802 [06:35<44:01:09,  5.16s/it]\u001b[A\n",
      "  0%|          | 78/30802 [06:40<44:21:28,  5.20s/it]\u001b[A\n",
      "  0%|          | 79/30802 [06:46<46:06:02,  5.40s/it]\u001b[A\n",
      "  0%|          | 80/30802 [06:52<48:02:11,  5.63s/it]\u001b[A\n",
      "  0%|          | 81/30802 [06:58<47:09:33,  5.53s/it]\u001b[A"
     ]
    },
    {
     "name": "stdout",
     "output_type": "stream",
     "text": [
      "Epoch 0, Batch 80, loss 710798080.0\n"
     ]
    },
    {
     "name": "stderr",
     "output_type": "stream",
     "text": [
      "\n",
      "  0%|          | 82/30802 [07:03<46:57:37,  5.50s/it]\u001b[A\n",
      "  0%|          | 83/30802 [07:08<44:55:31,  5.26s/it]\u001b[A\n",
      "  0%|          | 84/30802 [07:13<43:49:10,  5.14s/it]\u001b[A\n",
      "  0%|          | 85/30802 [07:19<46:59:39,  5.51s/it]\u001b[A\n",
      "  0%|          | 86/30802 [07:24<46:36:13,  5.46s/it]\u001b[A"
     ]
    },
    {
     "name": "stdout",
     "output_type": "stream",
     "text": [
      "Epoch 0, Batch 85, loss 375969888.0\n"
     ]
    },
    {
     "name": "stderr",
     "output_type": "stream",
     "text": [
      "\n",
      "  0%|          | 87/30802 [07:29<45:09:05,  5.29s/it]\u001b[A\n",
      "  0%|          | 88/30802 [07:34<44:27:08,  5.21s/it]\u001b[A\n",
      "  0%|          | 89/30802 [07:39<44:26:44,  5.21s/it]\u001b[A\n",
      "  0%|          | 90/30802 [07:45<45:14:59,  5.30s/it]\u001b[A\n",
      "  0%|          | 91/30802 [07:50<44:14:42,  5.19s/it]\u001b[A"
     ]
    },
    {
     "name": "stdout",
     "output_type": "stream",
     "text": [
      "Epoch 0, Batch 90, loss 952713088.0\n"
     ]
    },
    {
     "name": "stderr",
     "output_type": "stream",
     "text": [
      "\n",
      "  0%|          | 92/30802 [07:55<43:33:58,  5.11s/it]\u001b[A\n",
      "  0%|          | 93/30802 [08:00<43:23:55,  5.09s/it]\u001b[A\n",
      "  0%|          | 94/30802 [08:05<43:24:56,  5.09s/it]\u001b[A\n",
      "  0%|          | 95/30802 [08:10<43:42:18,  5.12s/it]\u001b[A\n",
      "  0%|          | 96/30802 [08:16<44:10:48,  5.18s/it]\u001b[A"
     ]
    },
    {
     "name": "stdout",
     "output_type": "stream",
     "text": [
      "Epoch 0, Batch 95, loss 570656256.0\n"
     ]
    },
    {
     "name": "stderr",
     "output_type": "stream",
     "text": [
      "\n",
      "  0%|          | 97/30802 [08:21<44:16:19,  5.19s/it]\u001b[A\n",
      "  0%|          | 98/30802 [08:26<43:54:32,  5.15s/it]\u001b[A\n",
      "  0%|          | 99/30802 [08:31<43:42:30,  5.12s/it]\u001b[A\n",
      "  0%|          | 100/30802 [08:36<43:17:12,  5.08s/it]\u001b[A\n",
      "  0%|          | 101/30802 [08:42<45:09:45,  5.30s/it]\u001b[A"
     ]
    },
    {
     "name": "stdout",
     "output_type": "stream",
     "text": [
      "Epoch 0, Batch 100, loss 361456768.0\n"
     ]
    },
    {
     "name": "stderr",
     "output_type": "stream",
     "text": [
      "\n",
      "  0%|          | 102/30802 [08:47<44:56:06,  5.27s/it]\u001b[A\n",
      "  0%|          | 103/30802 [08:52<44:15:32,  5.19s/it]\u001b[A\n",
      "  0%|          | 104/30802 [08:57<43:19:04,  5.08s/it]\u001b[A\n",
      "  0%|          | 105/30802 [09:02<42:51:13,  5.03s/it]\u001b[A\n",
      "  0%|          | 106/30802 [09:07<43:30:55,  5.10s/it]\u001b[A"
     ]
    },
    {
     "name": "stdout",
     "output_type": "stream",
     "text": [
      "Epoch 0, Batch 105, loss 480790560.0\n"
     ]
    },
    {
     "name": "stderr",
     "output_type": "stream",
     "text": [
      "\n",
      "  0%|          | 107/30802 [09:12<44:51:38,  5.26s/it]\u001b[A\n",
      "  0%|          | 108/30802 [09:18<45:07:05,  5.29s/it]\u001b[A\n",
      "  0%|          | 109/30802 [09:23<44:25:24,  5.21s/it]\u001b[A\n",
      "  0%|          | 110/30802 [09:28<44:05:34,  5.17s/it]\u001b[A\n",
      "  0%|          | 111/30802 [09:33<43:58:52,  5.16s/it]\u001b[A"
     ]
    },
    {
     "name": "stdout",
     "output_type": "stream",
     "text": [
      "Epoch 0, Batch 110, loss 707270016.0\n"
     ]
    },
    {
     "name": "stderr",
     "output_type": "stream",
     "text": [
      "\n",
      "  0%|          | 112/30802 [09:38<43:42:40,  5.13s/it]\u001b[A\n",
      "  0%|          | 113/30802 [09:43<43:24:38,  5.09s/it]\u001b[A\n",
      "  0%|          | 114/30802 [09:48<43:30:19,  5.10s/it]\u001b[A\n",
      "  0%|          | 115/30802 [09:53<43:39:13,  5.12s/it]\u001b[A\n",
      "  0%|          | 116/30802 [09:58<43:10:41,  5.07s/it]\u001b[A"
     ]
    },
    {
     "name": "stdout",
     "output_type": "stream",
     "text": [
      "Epoch 0, Batch 115, loss 653032832.0\n"
     ]
    },
    {
     "name": "stderr",
     "output_type": "stream",
     "text": [
      "\n",
      "  0%|          | 117/30802 [10:03<43:16:40,  5.08s/it]\u001b[A\n",
      "  0%|          | 118/30802 [10:08<43:04:59,  5.05s/it]\u001b[A\n",
      "  0%|          | 119/30802 [10:13<42:56:37,  5.04s/it]\u001b[A\n",
      "  0%|          | 120/30802 [10:19<43:01:01,  5.05s/it]\u001b[A\n",
      "  0%|          | 121/30802 [10:24<43:46:23,  5.14s/it]\u001b[A"
     ]
    },
    {
     "name": "stdout",
     "output_type": "stream",
     "text": [
      "Epoch 0, Batch 120, loss 772333440.0\n"
     ]
    },
    {
     "name": "stderr",
     "output_type": "stream",
     "text": [
      "\n",
      "  0%|          | 122/30802 [10:29<44:18:37,  5.20s/it]\u001b[A\n",
      "  0%|          | 123/30802 [10:34<44:12:47,  5.19s/it]\u001b[A\n",
      "  0%|          | 124/30802 [10:40<44:17:04,  5.20s/it]\u001b[A\n",
      "  0%|          | 125/30802 [10:45<43:40:26,  5.13s/it]\u001b[A\n",
      "  0%|          | 126/30802 [10:49<42:59:32,  5.05s/it]\u001b[A"
     ]
    },
    {
     "name": "stdout",
     "output_type": "stream",
     "text": [
      "Epoch 0, Batch 125, loss 402995296.0\n"
     ]
    },
    {
     "name": "stderr",
     "output_type": "stream",
     "text": [
      "\n",
      "  0%|          | 127/30802 [10:55<43:38:58,  5.12s/it]\u001b[A\n",
      "  0%|          | 128/30802 [11:00<43:45:34,  5.14s/it]\u001b[A\n",
      "  0%|          | 129/30802 [11:05<44:01:06,  5.17s/it]\u001b[A\n",
      "  0%|          | 130/30802 [11:10<44:21:44,  5.21s/it]\u001b[A\n",
      "  0%|          | 131/30802 [11:16<44:16:05,  5.20s/it]\u001b[A"
     ]
    },
    {
     "name": "stdout",
     "output_type": "stream",
     "text": [
      "Epoch 0, Batch 130, loss 660794240.0\n"
     ]
    },
    {
     "name": "stderr",
     "output_type": "stream",
     "text": [
      "\n",
      "  0%|          | 132/30802 [11:22<46:29:36,  5.46s/it]\u001b[A\n",
      "  0%|          | 133/30802 [11:28<48:22:16,  5.68s/it]\u001b[A\n",
      "  0%|          | 134/30802 [11:33<47:31:36,  5.58s/it]\u001b[A\n",
      "  0%|          | 135/30802 [11:39<47:54:35,  5.62s/it]\u001b[A\n",
      "  0%|          | 136/30802 [11:44<47:36:26,  5.59s/it]\u001b[A"
     ]
    },
    {
     "name": "stdout",
     "output_type": "stream",
     "text": [
      "Epoch 0, Batch 135, loss 388058176.0\n"
     ]
    },
    {
     "name": "stderr",
     "output_type": "stream",
     "text": [
      "\n",
      "  0%|          | 137/30802 [11:50<46:57:48,  5.51s/it]\u001b[A\n",
      "  0%|          | 138/30802 [11:55<46:00:32,  5.40s/it]\u001b[A\n",
      "  0%|          | 139/30802 [12:00<45:16:12,  5.31s/it]\u001b[A\n",
      "  0%|          | 140/30802 [12:05<44:52:07,  5.27s/it]\u001b[A\n",
      "  0%|          | 141/30802 [12:10<44:14:41,  5.19s/it]\u001b[A"
     ]
    },
    {
     "name": "stdout",
     "output_type": "stream",
     "text": [
      "Epoch 0, Batch 140, loss 745089408.0\n"
     ]
    },
    {
     "name": "stderr",
     "output_type": "stream",
     "text": [
      "\n",
      "  0%|          | 142/30802 [12:15<44:07:19,  5.18s/it]\u001b[A\n",
      "  0%|          | 143/30802 [12:20<43:38:51,  5.13s/it]\u001b[A\n",
      "  0%|          | 144/30802 [12:25<43:29:55,  5.11s/it]\u001b[A\n",
      "  0%|          | 145/30802 [12:31<43:28:01,  5.10s/it]\u001b[A\n",
      "  0%|          | 146/30802 [12:36<43:57:57,  5.16s/it]\u001b[A"
     ]
    },
    {
     "name": "stdout",
     "output_type": "stream",
     "text": [
      "Epoch 0, Batch 145, loss 580981632.0\n"
     ]
    },
    {
     "name": "stderr",
     "output_type": "stream",
     "text": [
      "\n",
      "  0%|          | 147/30802 [12:41<43:45:00,  5.14s/it]\u001b[A\n",
      "  0%|          | 148/30802 [12:46<43:57:52,  5.16s/it]\u001b[A\n",
      "  0%|          | 149/30802 [12:51<44:19:43,  5.21s/it]\u001b[A\n",
      "  0%|          | 150/30802 [12:57<44:37:47,  5.24s/it]\u001b[A\n",
      "  0%|          | 151/30802 [13:02<44:19:34,  5.21s/it]\u001b[A"
     ]
    },
    {
     "name": "stdout",
     "output_type": "stream",
     "text": [
      "Epoch 0, Batch 150, loss 881145856.0\n"
     ]
    },
    {
     "name": "stderr",
     "output_type": "stream",
     "text": [
      "\n",
      "  0%|          | 152/30802 [13:07<44:58:23,  5.28s/it]\u001b[A\n",
      "  0%|          | 153/30802 [13:13<45:01:01,  5.29s/it]\u001b[A\n",
      "  0%|          | 154/30802 [13:18<44:45:51,  5.26s/it]\u001b[A\n",
      "  1%|          | 155/30802 [13:23<44:50:04,  5.27s/it]\u001b[A\n",
      "  1%|          | 156/30802 [13:29<45:52:03,  5.39s/it]\u001b[A"
     ]
    },
    {
     "name": "stdout",
     "output_type": "stream",
     "text": [
      "Epoch 0, Batch 155, loss 515270048.0\n"
     ]
    },
    {
     "name": "stderr",
     "output_type": "stream",
     "text": [
      "\n",
      "  1%|          | 157/30802 [13:34<45:30:32,  5.35s/it]\u001b[A\n",
      "  1%|          | 158/30802 [13:39<44:58:47,  5.28s/it]\u001b[A\n",
      "  1%|          | 159/30802 [13:44<44:49:59,  5.27s/it]\u001b[A\n",
      "  1%|          | 160/30802 [13:50<45:20:36,  5.33s/it]\u001b[A\n",
      "  1%|          | 161/30802 [13:56<46:18:28,  5.44s/it]\u001b[A"
     ]
    },
    {
     "name": "stdout",
     "output_type": "stream",
     "text": [
      "Epoch 0, Batch 160, loss 448900192.0\n"
     ]
    },
    {
     "name": "stderr",
     "output_type": "stream",
     "text": [
      "\n",
      "  1%|          | 162/30802 [14:01<45:58:17,  5.40s/it]\u001b[A\n",
      "  1%|          | 163/30802 [14:06<45:32:16,  5.35s/it]\u001b[A\n",
      "  1%|          | 164/30802 [14:11<44:16:24,  5.20s/it]\u001b[A\n",
      "  1%|          | 165/30802 [14:16<44:03:11,  5.18s/it]\u001b[A\n",
      "  1%|          | 166/30802 [14:21<44:03:33,  5.18s/it]\u001b[A"
     ]
    },
    {
     "name": "stdout",
     "output_type": "stream",
     "text": [
      "Epoch 0, Batch 165, loss 308787520.0\n"
     ]
    },
    {
     "name": "stderr",
     "output_type": "stream",
     "text": [
      "\n",
      "  1%|          | 167/30802 [14:27<44:24:29,  5.22s/it]\u001b[A\n",
      "  1%|          | 168/30802 [14:32<44:13:59,  5.20s/it]\u001b[A\n",
      "  1%|          | 169/30802 [14:37<44:33:17,  5.24s/it]\u001b[A\n",
      "  1%|          | 170/30802 [14:43<45:17:54,  5.32s/it]\u001b[A\n",
      "  1%|          | 171/30802 [14:48<45:30:50,  5.35s/it]\u001b[A"
     ]
    },
    {
     "name": "stdout",
     "output_type": "stream",
     "text": [
      "Epoch 0, Batch 170, loss 467368320.0\n"
     ]
    },
    {
     "name": "stderr",
     "output_type": "stream",
     "text": [
      "\n",
      "  1%|          | 172/30802 [14:53<45:42:01,  5.37s/it]\u001b[A\n",
      "  1%|          | 173/30802 [14:59<45:38:14,  5.36s/it]\u001b[A\n",
      "  1%|          | 174/30802 [15:04<45:39:12,  5.37s/it]\u001b[A\n",
      "  1%|          | 175/30802 [15:10<45:53:05,  5.39s/it]\u001b[A\n",
      "  1%|          | 176/30802 [15:15<45:45:43,  5.38s/it]\u001b[A"
     ]
    },
    {
     "name": "stdout",
     "output_type": "stream",
     "text": [
      "Epoch 0, Batch 175, loss 399273920.0\n"
     ]
    },
    {
     "name": "stderr",
     "output_type": "stream",
     "text": [
      "\n",
      "  1%|          | 177/30802 [15:20<44:57:15,  5.28s/it]\u001b[A\n",
      "  1%|          | 178/30802 [15:25<44:43:33,  5.26s/it]\u001b[A\n",
      "  1%|          | 179/30802 [15:30<44:43:30,  5.26s/it]\u001b[A\n",
      "  1%|          | 180/30802 [15:36<44:13:21,  5.20s/it]\u001b[A\n",
      "  1%|          | 181/30802 [15:40<43:36:20,  5.13s/it]\u001b[A"
     ]
    },
    {
     "name": "stdout",
     "output_type": "stream",
     "text": [
      "Epoch 0, Batch 180, loss 667990080.0\n"
     ]
    },
    {
     "name": "stderr",
     "output_type": "stream",
     "text": [
      "\n",
      "  1%|          | 182/30802 [15:46<43:38:24,  5.13s/it]\u001b[A\n",
      "  1%|          | 183/30802 [15:51<43:48:23,  5.15s/it]\u001b[A\n",
      "  1%|          | 184/30802 [15:56<43:47:37,  5.15s/it]\u001b[A\n",
      "  1%|          | 185/30802 [16:01<43:49:04,  5.15s/it]\u001b[A\n",
      "  1%|          | 186/30802 [16:07<44:27:52,  5.23s/it]\u001b[A"
     ]
    },
    {
     "name": "stdout",
     "output_type": "stream",
     "text": [
      "Epoch 0, Batch 185, loss 929094976.0\n"
     ]
    },
    {
     "name": "stderr",
     "output_type": "stream",
     "text": [
      "\n",
      "  1%|          | 187/30802 [16:12<44:19:12,  5.21s/it]\u001b[A\n",
      "  1%|          | 188/30802 [16:17<44:13:10,  5.20s/it]\u001b[A\n",
      "  1%|          | 189/30802 [16:22<44:50:33,  5.27s/it]\u001b[A\n",
      "  1%|          | 190/30802 [16:28<45:20:49,  5.33s/it]\u001b[A\n",
      "  1%|          | 191/30802 [16:33<45:00:37,  5.29s/it]\u001b[A"
     ]
    },
    {
     "name": "stdout",
     "output_type": "stream",
     "text": [
      "Epoch 0, Batch 190, loss 664767296.0\n"
     ]
    },
    {
     "name": "stderr",
     "output_type": "stream",
     "text": [
      "\n",
      "  1%|          | 192/30802 [16:38<44:42:16,  5.26s/it]\u001b[A\n",
      "  1%|          | 193/30802 [16:43<44:41:34,  5.26s/it]\u001b[A\n",
      "  1%|          | 194/30802 [16:48<44:10:53,  5.20s/it]\u001b[A\n",
      "  1%|          | 195/30802 [16:54<44:04:00,  5.18s/it]\u001b[A\n",
      "  1%|          | 196/30802 [16:59<43:46:20,  5.15s/it]\u001b[A"
     ]
    },
    {
     "name": "stdout",
     "output_type": "stream",
     "text": [
      "Epoch 0, Batch 195, loss 363640192.0\n"
     ]
    },
    {
     "name": "stderr",
     "output_type": "stream",
     "text": [
      "\n",
      "  1%|          | 197/30802 [17:04<43:21:05,  5.10s/it]\u001b[A\n",
      "  1%|          | 198/30802 [17:09<43:32:03,  5.12s/it]\u001b[A\n",
      "  1%|          | 199/30802 [17:14<43:48:38,  5.15s/it]\u001b[A\n",
      "  1%|          | 200/30802 [17:19<43:44:43,  5.15s/it]\u001b[A\n",
      "  1%|          | 201/30802 [17:24<43:56:16,  5.17s/it]\u001b[A"
     ]
    },
    {
     "name": "stdout",
     "output_type": "stream",
     "text": [
      "Epoch 0, Batch 200, loss 610595136.0\n"
     ]
    },
    {
     "name": "stderr",
     "output_type": "stream",
     "text": [
      "\n",
      "  1%|          | 202/30802 [17:30<44:48:12,  5.27s/it]\u001b[A\n",
      "  1%|          | 203/30802 [17:35<45:17:39,  5.33s/it]\u001b[A\n",
      "  1%|          | 204/30802 [17:41<45:53:54,  5.40s/it]\u001b[A\n",
      "  1%|          | 205/30802 [17:46<45:44:31,  5.38s/it]\u001b[A\n",
      "  1%|          | 206/30802 [17:52<45:26:15,  5.35s/it]\u001b[A"
     ]
    },
    {
     "name": "stdout",
     "output_type": "stream",
     "text": [
      "Epoch 0, Batch 205, loss 363528288.0\n"
     ]
    },
    {
     "name": "stderr",
     "output_type": "stream",
     "text": [
      "\n",
      "  1%|          | 207/30802 [17:57<44:44:54,  5.27s/it]\u001b[A\n",
      "  1%|          | 208/30802 [18:02<44:32:38,  5.24s/it]\u001b[A\n",
      "  1%|          | 209/30802 [18:07<45:02:55,  5.30s/it]\u001b[A\n",
      "  1%|          | 210/30802 [18:13<45:08:39,  5.31s/it]\u001b[A\n",
      "  1%|          | 211/30802 [18:18<45:27:56,  5.35s/it]\u001b[A"
     ]
    },
    {
     "name": "stdout",
     "output_type": "stream",
     "text": [
      "Epoch 0, Batch 210, loss 291391616.0\n"
     ]
    },
    {
     "name": "stderr",
     "output_type": "stream",
     "text": [
      "\n",
      "  1%|          | 212/30802 [18:24<46:30:42,  5.47s/it]\u001b[A\n",
      "  1%|          | 213/30802 [18:29<46:29:53,  5.47s/it]\u001b[A\n",
      "  1%|          | 214/30802 [18:35<45:59:23,  5.41s/it]\u001b[A\n",
      "  1%|          | 215/30802 [18:40<46:13:42,  5.44s/it]\u001b[A\n",
      "  1%|          | 216/30802 [18:46<46:26:29,  5.47s/it]\u001b[A"
     ]
    },
    {
     "name": "stdout",
     "output_type": "stream",
     "text": [
      "Epoch 0, Batch 215, loss 919080768.0\n"
     ]
    },
    {
     "name": "stderr",
     "output_type": "stream",
     "text": [
      "\n",
      "  1%|          | 217/30802 [18:51<46:09:14,  5.43s/it]\u001b[A\n",
      "  1%|          | 218/30802 [18:56<46:10:14,  5.43s/it]\u001b[A\n",
      "  1%|          | 219/30802 [19:02<46:14:54,  5.44s/it]\u001b[A\n",
      "  1%|          | 220/30802 [19:07<45:53:43,  5.40s/it]\u001b[A\n",
      "  1%|          | 221/30802 [19:13<45:53:11,  5.40s/it]\u001b[A"
     ]
    },
    {
     "name": "stdout",
     "output_type": "stream",
     "text": [
      "Epoch 0, Batch 220, loss 478903264.0\n"
     ]
    },
    {
     "name": "stderr",
     "output_type": "stream",
     "text": [
      "\n",
      "  1%|          | 222/30802 [19:18<46:03:51,  5.42s/it]\u001b[A\n",
      "  1%|          | 223/30802 [19:23<46:03:05,  5.42s/it]\u001b[A\n",
      "  1%|          | 224/30802 [19:29<46:12:32,  5.44s/it]\u001b[A\n",
      "  1%|          | 225/30802 [19:34<46:27:35,  5.47s/it]\u001b[A\n",
      "  1%|          | 226/30802 [19:40<46:41:47,  5.50s/it]\u001b[A"
     ]
    },
    {
     "name": "stdout",
     "output_type": "stream",
     "text": [
      "Epoch 0, Batch 225, loss 845928192.0\n"
     ]
    },
    {
     "name": "stderr",
     "output_type": "stream",
     "text": [
      "\n",
      "  1%|          | 227/30802 [19:46<47:03:39,  5.54s/it]\u001b[A\n",
      "  1%|          | 228/30802 [19:51<47:46:17,  5.62s/it]\u001b[A\n",
      "  1%|          | 229/30802 [19:57<47:00:03,  5.53s/it]\u001b[A\n",
      "  1%|          | 230/30802 [20:02<46:28:20,  5.47s/it]\u001b[A\n",
      "  1%|          | 231/30802 [20:07<46:11:25,  5.44s/it]\u001b[A"
     ]
    },
    {
     "name": "stdout",
     "output_type": "stream",
     "text": [
      "Epoch 0, Batch 230, loss 565408256.0\n"
     ]
    },
    {
     "name": "stderr",
     "output_type": "stream",
     "text": [
      "\n",
      "  1%|          | 232/30802 [20:13<45:32:28,  5.36s/it]\u001b[A\n",
      "  1%|          | 233/30802 [20:18<44:55:32,  5.29s/it]\u001b[A\n",
      "  1%|          | 234/30802 [20:23<45:24:24,  5.35s/it]\u001b[A\n",
      "  1%|          | 235/30802 [20:29<45:20:48,  5.34s/it]\u001b[A\n",
      "  1%|          | 236/30802 [20:34<45:00:07,  5.30s/it]\u001b[A"
     ]
    },
    {
     "name": "stdout",
     "output_type": "stream",
     "text": [
      "Epoch 0, Batch 235, loss 806827200.0\n"
     ]
    },
    {
     "name": "stderr",
     "output_type": "stream",
     "text": [
      "\n",
      "  1%|          | 237/30802 [20:39<45:02:15,  5.30s/it]\u001b[A\n",
      "  1%|          | 238/30802 [20:45<46:01:53,  5.42s/it]\u001b[A\n",
      "  1%|          | 239/30802 [20:51<46:55:30,  5.53s/it]\u001b[A\n",
      "  1%|          | 240/30802 [20:56<46:07:23,  5.43s/it]\u001b[A\n",
      "  1%|          | 241/30802 [21:01<45:33:35,  5.37s/it]\u001b[A"
     ]
    },
    {
     "name": "stdout",
     "output_type": "stream",
     "text": [
      "Epoch 0, Batch 240, loss 273589440.0\n"
     ]
    },
    {
     "name": "stderr",
     "output_type": "stream",
     "text": [
      "\n",
      "  1%|          | 242/30802 [21:06<45:27:24,  5.35s/it]\u001b[A\n",
      "  1%|          | 243/30802 [21:12<46:00:34,  5.42s/it]\u001b[A\n",
      "  1%|          | 244/30802 [21:17<46:04:18,  5.43s/it]\u001b[A\n",
      "  1%|          | 245/30802 [21:23<45:22:36,  5.35s/it]\u001b[A\n",
      "  1%|          | 246/30802 [21:28<45:05:39,  5.31s/it]\u001b[A"
     ]
    },
    {
     "name": "stdout",
     "output_type": "stream",
     "text": [
      "Epoch 0, Batch 245, loss 740802112.0\n"
     ]
    },
    {
     "name": "stderr",
     "output_type": "stream",
     "text": [
      "\n",
      "  1%|          | 247/30802 [21:33<45:34:27,  5.37s/it]\u001b[A\n",
      "  1%|          | 248/30802 [21:39<46:19:53,  5.46s/it]\u001b[A\n",
      "  1%|          | 249/30802 [21:44<44:56:32,  5.30s/it]\u001b[A\n",
      "  1%|          | 250/30802 [21:49<45:06:30,  5.32s/it]\u001b[A\n",
      "  1%|          | 251/30802 [21:55<45:05:00,  5.31s/it]\u001b[A"
     ]
    },
    {
     "name": "stdout",
     "output_type": "stream",
     "text": [
      "Epoch 0, Batch 250, loss 542894336.0\n"
     ]
    },
    {
     "name": "stderr",
     "output_type": "stream",
     "text": [
      "\n",
      "  1%|          | 252/30802 [22:00<45:35:08,  5.37s/it]\u001b[A\n",
      "  1%|          | 253/30802 [22:06<45:59:06,  5.42s/it]\u001b[A\n",
      "  1%|          | 254/30802 [22:11<45:21:09,  5.34s/it]\u001b[A\n",
      "  1%|          | 255/30802 [22:16<44:42:38,  5.27s/it]\u001b[A\n",
      "  1%|          | 256/30802 [22:21<44:34:50,  5.25s/it]\u001b[A"
     ]
    },
    {
     "name": "stdout",
     "output_type": "stream",
     "text": [
      "Epoch 0, Batch 255, loss 285418688.0\n"
     ]
    },
    {
     "name": "stderr",
     "output_type": "stream",
     "text": [
      "\n",
      "  1%|          | 257/30802 [22:26<45:06:41,  5.32s/it]\u001b[A\n",
      "  1%|          | 258/30802 [22:32<45:17:19,  5.34s/it]\u001b[A\n",
      "  1%|          | 259/30802 [22:37<44:26:37,  5.24s/it]\u001b[A\n",
      "  1%|          | 260/30802 [22:42<44:24:01,  5.23s/it]\u001b[A\n",
      "  1%|          | 261/30802 [22:47<44:22:20,  5.23s/it]\u001b[A"
     ]
    },
    {
     "name": "stdout",
     "output_type": "stream",
     "text": [
      "Epoch 0, Batch 260, loss 658497216.0\n"
     ]
    },
    {
     "name": "stderr",
     "output_type": "stream",
     "text": [
      "\n",
      "  1%|          | 262/30802 [22:53<44:51:15,  5.29s/it]\u001b[A\n",
      "  1%|          | 263/30802 [22:58<45:02:39,  5.31s/it]\u001b[A\n",
      "  1%|          | 264/30802 [23:03<45:00:18,  5.31s/it]\u001b[A\n",
      "  1%|          | 265/30802 [23:09<46:05:36,  5.43s/it]\u001b[A\n",
      "  1%|          | 266/30802 [23:15<46:01:32,  5.43s/it]\u001b[A"
     ]
    },
    {
     "name": "stdout",
     "output_type": "stream",
     "text": [
      "Epoch 0, Batch 265, loss 268013984.0\n"
     ]
    },
    {
     "name": "stderr",
     "output_type": "stream",
     "text": [
      "\n",
      "  1%|          | 267/30802 [23:20<45:54:42,  5.41s/it]\u001b[A\n",
      "  1%|          | 268/30802 [23:25<45:48:22,  5.40s/it]\u001b[A\n",
      "  1%|          | 269/30802 [23:31<45:30:22,  5.37s/it]\u001b[A\n",
      "  1%|          | 270/30802 [23:36<44:31:02,  5.25s/it]\u001b[A\n",
      "  1%|          | 271/30802 [23:41<44:09:36,  5.21s/it]\u001b[A"
     ]
    },
    {
     "name": "stdout",
     "output_type": "stream",
     "text": [
      "Epoch 0, Batch 270, loss 701073920.0\n"
     ]
    },
    {
     "name": "stderr",
     "output_type": "stream",
     "text": [
      "\n",
      "  1%|          | 272/30802 [23:46<44:32:29,  5.25s/it]\u001b[A\n",
      "  1%|          | 273/30802 [23:52<45:44:56,  5.39s/it]\u001b[A\n",
      "  1%|          | 274/30802 [23:57<46:14:12,  5.45s/it]\u001b[A\n",
      "  1%|          | 275/30802 [24:03<46:13:32,  5.45s/it]\u001b[A\n",
      "  1%|          | 276/30802 [24:08<45:41:48,  5.39s/it]\u001b[A"
     ]
    },
    {
     "name": "stdout",
     "output_type": "stream",
     "text": [
      "Epoch 0, Batch 275, loss 649189696.0\n"
     ]
    },
    {
     "name": "stderr",
     "output_type": "stream",
     "text": [
      "\n",
      "  1%|          | 277/30802 [24:14<46:08:30,  5.44s/it]\u001b[A\n",
      "  1%|          | 278/30802 [24:19<45:55:24,  5.42s/it]\u001b[A\n",
      "  1%|          | 279/30802 [24:24<44:41:16,  5.27s/it]\u001b[A\n",
      "  1%|          | 280/30802 [24:29<44:08:13,  5.21s/it]\u001b[A\n",
      "  1%|          | 281/30802 [24:34<43:44:59,  5.16s/it]\u001b[A"
     ]
    },
    {
     "name": "stdout",
     "output_type": "stream",
     "text": [
      "Epoch 0, Batch 280, loss 543145984.0\n"
     ]
    },
    {
     "name": "stderr",
     "output_type": "stream",
     "text": [
      "\n",
      "  1%|          | 282/30802 [24:39<43:54:00,  5.18s/it]\u001b[A\n",
      "  1%|          | 283/30802 [24:44<44:07:39,  5.21s/it]\u001b[A\n",
      "  1%|          | 284/30802 [24:50<45:05:36,  5.32s/it]\u001b[A\n",
      "  1%|          | 285/30802 [24:55<44:32:35,  5.25s/it]\u001b[A\n",
      "  1%|          | 286/30802 [25:00<44:22:44,  5.24s/it]\u001b[A"
     ]
    },
    {
     "name": "stdout",
     "output_type": "stream",
     "text": [
      "Epoch 0, Batch 285, loss 389396736.0\n"
     ]
    },
    {
     "name": "stderr",
     "output_type": "stream",
     "text": [
      "\n",
      "  1%|          | 287/30802 [25:05<44:00:28,  5.19s/it]\u001b[A\n",
      "  1%|          | 288/30802 [25:11<44:26:21,  5.24s/it]\u001b[A\n",
      "  1%|          | 289/30802 [25:16<44:35:40,  5.26s/it]\u001b[A\n",
      "  1%|          | 290/30802 [25:22<45:01:08,  5.31s/it]\u001b[A\n",
      "  1%|          | 291/30802 [25:26<44:03:37,  5.20s/it]\u001b[A"
     ]
    },
    {
     "name": "stdout",
     "output_type": "stream",
     "text": [
      "Epoch 0, Batch 290, loss 545387712.0\n"
     ]
    },
    {
     "name": "stderr",
     "output_type": "stream",
     "text": [
      "\n",
      "  1%|          | 292/30802 [25:31<43:35:09,  5.14s/it]\u001b[A\n",
      "  1%|          | 293/30802 [25:37<43:42:15,  5.16s/it]\u001b[A\n",
      "  1%|          | 294/30802 [25:42<44:23:08,  5.24s/it]\u001b[A\n",
      "  1%|          | 295/30802 [25:47<44:26:39,  5.24s/it]\u001b[A\n",
      "  1%|          | 296/30802 [25:53<44:23:59,  5.24s/it]\u001b[A"
     ]
    },
    {
     "name": "stdout",
     "output_type": "stream",
     "text": [
      "Epoch 0, Batch 295, loss 662233728.0\n"
     ]
    },
    {
     "name": "stderr",
     "output_type": "stream",
     "text": [
      "\n",
      "  1%|          | 297/30802 [25:58<44:42:24,  5.28s/it]\u001b[A\n",
      "  1%|          | 298/30802 [26:03<44:34:51,  5.26s/it]\u001b[A\n",
      "  1%|          | 299/30802 [26:08<43:40:24,  5.15s/it]\u001b[A\n",
      "  1%|          | 300/30802 [26:13<43:29:11,  5.13s/it]\u001b[A\n",
      "  1%|          | 301/30802 [26:18<43:40:08,  5.15s/it]\u001b[A"
     ]
    },
    {
     "name": "stdout",
     "output_type": "stream",
     "text": [
      "Epoch 0, Batch 300, loss 652254528.0\n"
     ]
    },
    {
     "name": "stderr",
     "output_type": "stream",
     "text": [
      "\n",
      "  1%|          | 302/30802 [26:24<44:04:31,  5.20s/it]\u001b[A\n",
      "  1%|          | 303/30802 [26:29<44:11:26,  5.22s/it]\u001b[A\n",
      "  1%|          | 304/30802 [26:34<44:10:22,  5.21s/it]\u001b[A\n",
      "  1%|          | 305/30802 [26:40<45:52:53,  5.42s/it]\u001b[A\n",
      "  1%|          | 306/30802 [26:46<46:15:24,  5.46s/it]\u001b[A"
     ]
    },
    {
     "name": "stdout",
     "output_type": "stream",
     "text": [
      "Epoch 0, Batch 305, loss 355545216.0\n"
     ]
    },
    {
     "name": "stderr",
     "output_type": "stream",
     "text": [
      "\n",
      "  1%|          | 307/30802 [26:51<45:18:12,  5.35s/it]\u001b[A\n",
      "  1%|          | 308/30802 [26:56<45:04:29,  5.32s/it]\u001b[A\n",
      "  1%|          | 309/30802 [27:01<45:14:42,  5.34s/it]\u001b[A\n",
      "  1%|          | 310/30802 [27:07<45:02:24,  5.32s/it]\u001b[A\n",
      "  1%|          | 311/30802 [27:12<45:30:53,  5.37s/it]\u001b[A"
     ]
    },
    {
     "name": "stdout",
     "output_type": "stream",
     "text": [
      "Epoch 0, Batch 310, loss 370339008.0\n"
     ]
    },
    {
     "name": "stderr",
     "output_type": "stream",
     "text": [
      "\n",
      "  1%|          | 312/30802 [27:17<44:36:52,  5.27s/it]\u001b[A\n",
      "  1%|          | 313/30802 [27:22<43:52:08,  5.18s/it]\u001b[A\n",
      "  1%|          | 314/30802 [27:27<43:39:11,  5.15s/it]\u001b[A\n",
      "  1%|          | 315/30802 [27:32<43:54:47,  5.19s/it]\u001b[A\n",
      "  1%|          | 316/30802 [27:38<44:02:10,  5.20s/it]\u001b[A"
     ]
    },
    {
     "name": "stdout",
     "output_type": "stream",
     "text": [
      "Epoch 0, Batch 315, loss 313193440.0\n"
     ]
    },
    {
     "name": "stderr",
     "output_type": "stream",
     "text": [
      "\n",
      "  1%|          | 317/30802 [27:43<43:51:13,  5.18s/it]\u001b[A\n",
      "  1%|          | 318/30802 [27:48<43:25:23,  5.13s/it]\u001b[A\n",
      "  1%|          | 319/30802 [27:53<44:18:35,  5.23s/it]\u001b[A\n",
      "  1%|          | 320/30802 [27:59<44:32:15,  5.26s/it]\u001b[A\n",
      "  1%|          | 321/30802 [28:04<44:05:09,  5.21s/it]\u001b[A"
     ]
    },
    {
     "name": "stdout",
     "output_type": "stream",
     "text": [
      "Epoch 0, Batch 320, loss 534350464.0\n"
     ]
    },
    {
     "name": "stderr",
     "output_type": "stream",
     "text": [
      "\n",
      "  1%|          | 322/30802 [28:09<43:54:40,  5.19s/it]\u001b[A\n",
      "  1%|          | 323/30802 [28:14<43:54:23,  5.19s/it]\u001b[A\n",
      "  1%|          | 324/30802 [28:19<43:50:47,  5.18s/it]\u001b[A\n",
      "  1%|          | 325/30802 [28:25<44:18:33,  5.23s/it]\u001b[A\n",
      "  1%|          | 326/30802 [28:30<44:31:08,  5.26s/it]\u001b[A"
     ]
    },
    {
     "name": "stdout",
     "output_type": "stream",
     "text": [
      "Epoch 0, Batch 325, loss 686888192.0\n"
     ]
    },
    {
     "name": "stderr",
     "output_type": "stream",
     "text": [
      "\n",
      "  1%|          | 327/30802 [28:36<46:02:02,  5.44s/it]\u001b[A\n",
      "  1%|          | 328/30802 [28:41<45:30:19,  5.38s/it]\u001b[A\n",
      "  1%|          | 329/30802 [28:46<44:46:26,  5.29s/it]\u001b[A\n",
      "  1%|          | 330/30802 [28:51<44:33:55,  5.26s/it]\u001b[A\n",
      "  1%|          | 331/30802 [28:57<45:03:32,  5.32s/it]\u001b[A"
     ]
    },
    {
     "name": "stdout",
     "output_type": "stream",
     "text": [
      "Epoch 0, Batch 330, loss 254935008.0\n"
     ]
    },
    {
     "name": "stderr",
     "output_type": "stream",
     "text": [
      "\n",
      "  1%|          | 332/30802 [29:02<45:28:00,  5.37s/it]\u001b[A\n",
      "  1%|          | 333/30802 [29:08<45:58:38,  5.43s/it]\u001b[A\n",
      "  1%|          | 334/30802 [29:13<45:01:33,  5.32s/it]\u001b[A\n",
      "  1%|          | 335/30802 [29:18<44:46:24,  5.29s/it]\u001b[A\n",
      "  1%|          | 336/30802 [29:23<44:09:19,  5.22s/it]\u001b[A"
     ]
    },
    {
     "name": "stdout",
     "output_type": "stream",
     "text": [
      "Epoch 0, Batch 335, loss 608006016.0\n"
     ]
    },
    {
     "name": "stderr",
     "output_type": "stream",
     "text": [
      "\n",
      "  1%|          | 337/30802 [29:28<44:32:08,  5.26s/it]\u001b[A\n",
      "  1%|          | 338/30802 [29:34<45:22:54,  5.36s/it]\u001b[A\n",
      "  1%|          | 339/30802 [29:40<45:51:09,  5.42s/it]\u001b[A\n",
      "  1%|          | 340/30802 [29:45<45:37:31,  5.39s/it]\u001b[A\n",
      "  1%|          | 341/30802 [29:50<44:49:09,  5.30s/it]\u001b[A"
     ]
    },
    {
     "name": "stdout",
     "output_type": "stream",
     "text": [
      "Epoch 0, Batch 340, loss 462432192.0\n"
     ]
    },
    {
     "name": "stderr",
     "output_type": "stream",
     "text": [
      "\n",
      "  1%|          | 342/30802 [29:55<44:27:13,  5.25s/it]\u001b[A\n",
      "  1%|          | 343/30802 [30:01<44:58:26,  5.32s/it]\u001b[A\n",
      "  1%|          | 344/30802 [30:06<45:56:13,  5.43s/it]\u001b[A\n",
      "  1%|          | 345/30802 [30:12<46:27:58,  5.49s/it]\u001b[A\n",
      "  1%|          | 346/30802 [30:17<46:14:46,  5.47s/it]\u001b[A"
     ]
    },
    {
     "name": "stdout",
     "output_type": "stream",
     "text": [
      "Epoch 0, Batch 345, loss 339304672.0\n"
     ]
    },
    {
     "name": "stderr",
     "output_type": "stream",
     "text": [
      "\n",
      "  1%|          | 347/30802 [30:23<46:10:08,  5.46s/it]\u001b[A\n",
      "  1%|          | 348/30802 [30:28<45:32:16,  5.38s/it]\u001b[A\n",
      "  1%|          | 349/30802 [30:33<45:17:04,  5.35s/it]\u001b[A\n",
      "  1%|          | 350/30802 [30:38<44:51:50,  5.30s/it]\u001b[A\n",
      "  1%|          | 351/30802 [30:44<44:48:51,  5.30s/it]\u001b[A"
     ]
    },
    {
     "name": "stdout",
     "output_type": "stream",
     "text": [
      "Epoch 0, Batch 350, loss 856408320.0\n"
     ]
    },
    {
     "name": "stderr",
     "output_type": "stream",
     "text": [
      "\n",
      "  1%|          | 352/30802 [30:49<44:44:22,  5.29s/it]\u001b[A\n",
      "  1%|          | 353/30802 [30:54<44:56:48,  5.31s/it]\u001b[A\n",
      "  1%|          | 354/30802 [31:00<44:54:25,  5.31s/it]\u001b[A\n",
      "  1%|          | 355/30802 [31:05<44:17:43,  5.24s/it]\u001b[A\n",
      "  1%|          | 356/30802 [31:10<45:03:44,  5.33s/it]\u001b[A"
     ]
    },
    {
     "name": "stdout",
     "output_type": "stream",
     "text": [
      "Epoch 0, Batch 355, loss 245379616.0\n"
     ]
    },
    {
     "name": "stderr",
     "output_type": "stream",
     "text": [
      "\n",
      "  1%|          | 357/30802 [31:16<44:43:48,  5.29s/it]\u001b[A\n",
      "  1%|          | 358/30802 [31:21<44:45:03,  5.29s/it]\u001b[A\n",
      "  1%|          | 359/30802 [31:26<44:58:57,  5.32s/it]\u001b[A\n",
      "  1%|          | 360/30802 [31:32<45:04:17,  5.33s/it]\u001b[A\n",
      "  1%|          | 361/30802 [31:37<45:13:08,  5.35s/it]\u001b[A"
     ]
    },
    {
     "name": "stdout",
     "output_type": "stream",
     "text": [
      "Epoch 0, Batch 360, loss 621125376.0\n"
     ]
    },
    {
     "name": "stderr",
     "output_type": "stream",
     "text": [
      "\n",
      "  1%|          | 362/30802 [31:43<46:21:33,  5.48s/it]\u001b[A\n",
      "  1%|          | 363/30802 [31:48<45:46:57,  5.41s/it]\u001b[A\n",
      "  1%|          | 364/30802 [31:53<44:47:07,  5.30s/it]\u001b[A\n",
      "  1%|          | 365/30802 [31:58<44:19:02,  5.24s/it]\u001b[A\n",
      "  1%|          | 366/30802 [32:04<45:36:40,  5.39s/it]\u001b[A"
     ]
    },
    {
     "name": "stdout",
     "output_type": "stream",
     "text": [
      "Epoch 0, Batch 365, loss 501030048.0\n"
     ]
    },
    {
     "name": "stderr",
     "output_type": "stream",
     "text": [
      "\n",
      "  1%|          | 367/30802 [32:10<46:47:21,  5.53s/it]\u001b[A\n",
      "  1%|          | 368/30802 [32:15<46:20:24,  5.48s/it]\u001b[A\n",
      "  1%|          | 369/30802 [32:21<46:20:53,  5.48s/it]\u001b[A\n",
      "  1%|          | 370/30802 [32:26<45:41:43,  5.41s/it]\u001b[A\n",
      "  1%|          | 371/30802 [32:31<44:35:05,  5.27s/it]\u001b[A"
     ]
    },
    {
     "name": "stdout",
     "output_type": "stream",
     "text": [
      "Epoch 0, Batch 370, loss 572023808.0\n"
     ]
    },
    {
     "name": "stderr",
     "output_type": "stream",
     "text": [
      "\n",
      "  1%|          | 372/30802 [32:36<44:33:21,  5.27s/it]\u001b[A\n",
      "  1%|          | 373/30802 [32:41<44:42:28,  5.29s/it]\u001b[A\n",
      "  1%|          | 374/30802 [32:47<44:54:47,  5.31s/it]\u001b[A\n",
      "  1%|          | 375/30802 [32:52<45:29:10,  5.38s/it]\u001b[A\n",
      "  1%|          | 376/30802 [32:58<45:35:00,  5.39s/it]\u001b[A"
     ]
    },
    {
     "name": "stdout",
     "output_type": "stream",
     "text": [
      "Epoch 0, Batch 375, loss 629134080.0\n"
     ]
    },
    {
     "name": "stderr",
     "output_type": "stream",
     "text": [
      "\n",
      "  1%|          | 377/30802 [33:03<44:30:37,  5.27s/it]\u001b[A\n",
      "  1%|          | 378/30802 [33:08<43:46:53,  5.18s/it]\u001b[A\n",
      "  1%|          | 379/30802 [33:13<43:09:16,  5.11s/it]\u001b[A\n",
      "  1%|          | 380/30802 [33:18<43:10:08,  5.11s/it]\u001b[A\n",
      "  1%|          | 381/30802 [33:23<43:14:36,  5.12s/it]\u001b[A"
     ]
    },
    {
     "name": "stdout",
     "output_type": "stream",
     "text": [
      "Epoch 0, Batch 380, loss 1119133312.0\n"
     ]
    },
    {
     "name": "stderr",
     "output_type": "stream",
     "text": [
      "\n",
      "  1%|          | 382/30802 [33:28<44:32:53,  5.27s/it]\u001b[A\n",
      "  1%|          | 383/30802 [33:34<44:35:18,  5.28s/it]\u001b[A\n",
      "  1%|          | 384/30802 [33:39<44:05:10,  5.22s/it]\u001b[A\n",
      "  1%|          | 385/30802 [33:44<44:26:41,  5.26s/it]\u001b[A\n",
      "  1%|▏         | 386/30802 [33:50<44:41:12,  5.29s/it]\u001b[A"
     ]
    },
    {
     "name": "stdout",
     "output_type": "stream",
     "text": [
      "Epoch 0, Batch 385, loss 580592000.0\n"
     ]
    },
    {
     "name": "stderr",
     "output_type": "stream",
     "text": [
      "\n",
      "  1%|▏         | 387/30802 [33:55<44:19:47,  5.25s/it]\u001b[A\n",
      "  1%|▏         | 388/30802 [34:00<44:12:37,  5.23s/it]\u001b[A\n",
      "  1%|▏         | 389/30802 [34:05<43:37:34,  5.16s/it]\u001b[A\n",
      "  1%|▏         | 390/30802 [34:10<43:57:28,  5.20s/it]\u001b[A\n",
      "  1%|▏         | 391/30802 [34:16<44:14:13,  5.24s/it]\u001b[A"
     ]
    },
    {
     "name": "stdout",
     "output_type": "stream",
     "text": [
      "Epoch 0, Batch 390, loss 520049280.0\n"
     ]
    },
    {
     "name": "stderr",
     "output_type": "stream",
     "text": [
      "\n",
      "  1%|▏         | 392/30802 [34:22<46:25:09,  5.50s/it]\u001b[A\n",
      "  1%|▏         | 393/30802 [34:27<46:24:02,  5.49s/it]\u001b[A\n",
      "  1%|▏         | 394/30802 [34:32<45:53:48,  5.43s/it]\u001b[A\n",
      "  1%|▏         | 395/30802 [34:38<45:24:34,  5.38s/it]\u001b[A\n",
      "  1%|▏         | 396/30802 [34:43<45:17:25,  5.36s/it]\u001b[A"
     ]
    },
    {
     "name": "stdout",
     "output_type": "stream",
     "text": [
      "Epoch 0, Batch 395, loss 395345408.0\n"
     ]
    },
    {
     "name": "stderr",
     "output_type": "stream",
     "text": [
      "\n",
      "  1%|▏         | 397/30802 [34:48<45:01:52,  5.33s/it]\u001b[A\n",
      "  1%|▏         | 398/30802 [34:54<44:55:14,  5.32s/it]\u001b[A\n",
      "  1%|▏         | 399/30802 [34:59<44:52:09,  5.31s/it]\u001b[A\n",
      "  1%|▏         | 400/30802 [35:04<44:52:58,  5.31s/it]\u001b[A\n",
      "  1%|▏         | 401/30802 [35:09<44:10:22,  5.23s/it]\u001b[A"
     ]
    },
    {
     "name": "stdout",
     "output_type": "stream",
     "text": [
      "Epoch 0, Batch 400, loss 685470208.0\n"
     ]
    },
    {
     "name": "stderr",
     "output_type": "stream",
     "text": [
      "\n",
      "  1%|▏         | 402/30802 [35:14<43:30:15,  5.15s/it]\u001b[A\n",
      "  1%|▏         | 403/30802 [35:19<43:25:08,  5.14s/it]\u001b[A\n",
      "  1%|▏         | 404/30802 [35:25<43:39:12,  5.17s/it]\u001b[A\n",
      "  1%|▏         | 405/30802 [35:30<44:12:12,  5.24s/it]\u001b[A\n",
      "  1%|▏         | 406/30802 [35:35<43:49:03,  5.19s/it]\u001b[A"
     ]
    },
    {
     "name": "stdout",
     "output_type": "stream",
     "text": [
      "Epoch 0, Batch 405, loss 571838912.0\n"
     ]
    },
    {
     "name": "stderr",
     "output_type": "stream",
     "text": [
      "\n",
      "  1%|▏         | 407/30802 [35:40<43:31:24,  5.15s/it]\u001b[A\n",
      "  1%|▏         | 408/30802 [35:45<43:25:05,  5.14s/it]\u001b[A\n",
      "  1%|▏         | 409/30802 [35:50<43:34:51,  5.16s/it]\u001b[A\n",
      "  1%|▏         | 410/30802 [35:56<43:34:30,  5.16s/it]\u001b[A\n",
      "  1%|▏         | 411/30802 [36:00<42:51:33,  5.08s/it]\u001b[A"
     ]
    },
    {
     "name": "stdout",
     "output_type": "stream",
     "text": [
      "Epoch 0, Batch 410, loss 627562560.0\n"
     ]
    },
    {
     "name": "stderr",
     "output_type": "stream",
     "text": [
      "\n",
      "  1%|▏         | 412/30802 [36:06<43:26:00,  5.15s/it]\u001b[A\n",
      "  1%|▏         | 413/30802 [36:11<43:28:50,  5.15s/it]\u001b[A\n",
      "  1%|▏         | 414/30802 [36:16<44:10:35,  5.23s/it]\u001b[A\n",
      "  1%|▏         | 415/30802 [36:22<44:07:19,  5.23s/it]\u001b[A\n",
      "  1%|▏         | 416/30802 [36:27<44:11:26,  5.24s/it]\u001b[A"
     ]
    },
    {
     "name": "stdout",
     "output_type": "stream",
     "text": [
      "Epoch 0, Batch 415, loss 664273664.0\n"
     ]
    },
    {
     "name": "stderr",
     "output_type": "stream",
     "text": [
      "\n",
      "  1%|▏         | 417/30802 [36:32<44:30:25,  5.27s/it]\u001b[A\n",
      "  1%|▏         | 418/30802 [36:37<44:18:13,  5.25s/it]\u001b[A\n",
      "  1%|▏         | 419/30802 [36:42<43:47:18,  5.19s/it]\u001b[A\n",
      "  1%|▏         | 420/30802 [36:47<43:35:33,  5.17s/it]\u001b[A\n",
      "  1%|▏         | 421/30802 [36:53<43:45:41,  5.19s/it]\u001b[A"
     ]
    },
    {
     "name": "stdout",
     "output_type": "stream",
     "text": [
      "Epoch 0, Batch 420, loss 525164544.0\n"
     ]
    },
    {
     "name": "stderr",
     "output_type": "stream",
     "text": [
      "\n",
      "  1%|▏         | 422/30802 [36:58<44:49:26,  5.31s/it]\u001b[A\n",
      "  1%|▏         | 423/30802 [37:04<45:46:04,  5.42s/it]\u001b[A\n",
      "  1%|▏         | 424/30802 [37:09<45:49:10,  5.43s/it]\u001b[A\n",
      "  1%|▏         | 425/30802 [37:15<45:36:16,  5.40s/it]\u001b[A\n",
      "  1%|▏         | 426/30802 [37:20<45:43:28,  5.42s/it]\u001b[A"
     ]
    },
    {
     "name": "stdout",
     "output_type": "stream",
     "text": [
      "Epoch 0, Batch 425, loss 424483904.0\n"
     ]
    },
    {
     "name": "stderr",
     "output_type": "stream",
     "text": [
      "\n",
      "  1%|▏         | 427/30802 [37:25<45:13:44,  5.36s/it]\u001b[A\n",
      "  1%|▏         | 428/30802 [37:31<45:32:23,  5.40s/it]\u001b[A\n",
      "  1%|▏         | 429/30802 [37:36<45:35:35,  5.40s/it]\u001b[A\n",
      "  1%|▏         | 430/30802 [37:42<45:17:27,  5.37s/it]\u001b[A\n",
      "  1%|▏         | 431/30802 [37:47<45:32:51,  5.40s/it]\u001b[A"
     ]
    },
    {
     "name": "stdout",
     "output_type": "stream",
     "text": [
      "Epoch 0, Batch 430, loss 363114400.0\n"
     ]
    },
    {
     "name": "stderr",
     "output_type": "stream",
     "text": [
      "\n",
      "  1%|▏         | 432/30802 [37:53<45:47:17,  5.43s/it]\u001b[A\n",
      "  1%|▏         | 433/30802 [37:58<45:32:14,  5.40s/it]\u001b[A\n",
      "  1%|▏         | 434/30802 [38:03<44:27:56,  5.27s/it]\u001b[A\n",
      "  1%|▏         | 435/30802 [38:08<44:34:12,  5.28s/it]\u001b[A\n",
      "  1%|▏         | 436/30802 [38:14<44:44:13,  5.30s/it]\u001b[A"
     ]
    },
    {
     "name": "stdout",
     "output_type": "stream",
     "text": [
      "Epoch 0, Batch 435, loss 504679008.0\n"
     ]
    },
    {
     "name": "stderr",
     "output_type": "stream",
     "text": [
      "\n",
      "  1%|▏         | 437/30802 [38:19<45:04:58,  5.34s/it]\u001b[A\n",
      "  1%|▏         | 438/30802 [38:24<45:04:44,  5.34s/it]\u001b[A\n",
      "  1%|▏         | 439/30802 [38:30<44:36:58,  5.29s/it]\u001b[A\n",
      "  1%|▏         | 440/30802 [38:35<44:32:28,  5.28s/it]\u001b[A\n",
      "  1%|▏         | 441/30802 [38:40<44:05:53,  5.23s/it]\u001b[A"
     ]
    },
    {
     "name": "stdout",
     "output_type": "stream",
     "text": [
      "Epoch 0, Batch 440, loss 616942656.0\n"
     ]
    },
    {
     "name": "stderr",
     "output_type": "stream",
     "text": [
      "\n",
      "  1%|▏         | 442/30802 [38:45<43:57:49,  5.21s/it]\u001b[A\n",
      "  1%|▏         | 443/30802 [38:51<44:35:09,  5.29s/it]\u001b[A\n",
      "  1%|▏         | 444/30802 [38:57<47:16:46,  5.61s/it]\u001b[A\n",
      "  1%|▏         | 445/30802 [39:03<48:03:58,  5.70s/it]\u001b[A\n",
      "  1%|▏         | 446/30802 [39:08<46:58:55,  5.57s/it]\u001b[A"
     ]
    },
    {
     "name": "stdout",
     "output_type": "stream",
     "text": [
      "Epoch 0, Batch 445, loss 285782912.0\n"
     ]
    },
    {
     "name": "stderr",
     "output_type": "stream",
     "text": [
      "\n",
      "  1%|▏         | 447/30802 [39:13<46:05:55,  5.47s/it]\u001b[A\n",
      "  1%|▏         | 448/30802 [39:18<44:55:03,  5.33s/it]\u001b[A\n",
      "  1%|▏         | 449/30802 [39:23<44:03:01,  5.22s/it]\u001b[A\n",
      "  1%|▏         | 450/30802 [39:28<43:55:06,  5.21s/it]\u001b[A\n",
      "  1%|▏         | 451/30802 [39:34<44:03:21,  5.23s/it]\u001b[A"
     ]
    },
    {
     "name": "stdout",
     "output_type": "stream",
     "text": [
      "Epoch 0, Batch 450, loss 557092544.0\n"
     ]
    },
    {
     "name": "stderr",
     "output_type": "stream",
     "text": [
      "\n",
      "  1%|▏         | 452/30802 [39:39<43:47:15,  5.19s/it]\u001b[A\n",
      "  1%|▏         | 453/30802 [39:44<43:46:50,  5.19s/it]\u001b[A\n",
      "  1%|▏         | 454/30802 [39:49<43:53:05,  5.21s/it]\u001b[A\n",
      "  1%|▏         | 455/30802 [39:55<43:54:42,  5.21s/it]\u001b[A\n",
      "  1%|▏         | 456/30802 [40:00<43:52:02,  5.20s/it]\u001b[A"
     ]
    },
    {
     "name": "stdout",
     "output_type": "stream",
     "text": [
      "Epoch 0, Batch 455, loss 242921856.0\n"
     ]
    },
    {
     "name": "stderr",
     "output_type": "stream",
     "text": [
      "\n",
      "  1%|▏         | 457/30802 [40:05<44:14:18,  5.25s/it]\u001b[A\n",
      "  1%|▏         | 458/30802 [40:10<43:53:35,  5.21s/it]\u001b[A\n",
      "  1%|▏         | 459/30802 [40:16<44:18:29,  5.26s/it]\u001b[A\n",
      "  1%|▏         | 460/30802 [40:21<44:18:41,  5.26s/it]\u001b[A\n",
      "  1%|▏         | 461/30802 [40:26<44:31:55,  5.28s/it]\u001b[A"
     ]
    },
    {
     "name": "stdout",
     "output_type": "stream",
     "text": [
      "Epoch 0, Batch 460, loss 239313248.0\n"
     ]
    },
    {
     "name": "stderr",
     "output_type": "stream",
     "text": [
      "\n",
      "  1%|▏         | 462/30802 [40:31<44:27:23,  5.28s/it]\u001b[A\n",
      "  2%|▏         | 463/30802 [40:37<45:00:46,  5.34s/it]\u001b[A\n",
      "  2%|▏         | 464/30802 [40:43<46:47:06,  5.55s/it]\u001b[A\n",
      "  2%|▏         | 465/30802 [40:48<45:48:34,  5.44s/it]\u001b[A\n",
      "  2%|▏         | 466/30802 [40:53<45:07:31,  5.36s/it]\u001b[A"
     ]
    },
    {
     "name": "stdout",
     "output_type": "stream",
     "text": [
      "Epoch 0, Batch 465, loss 620393344.0\n"
     ]
    },
    {
     "name": "stderr",
     "output_type": "stream",
     "text": [
      "\n",
      "  2%|▏         | 467/30802 [40:58<44:39:52,  5.30s/it]\u001b[A\n",
      "  2%|▏         | 468/30802 [41:06<50:26:11,  5.99s/it]\u001b[A\n",
      "  2%|▏         | 469/30802 [41:11<48:35:47,  5.77s/it]\u001b[A\n",
      "  2%|▏         | 470/30802 [41:17<48:41:07,  5.78s/it]\u001b[A\n",
      "  2%|▏         | 471/30802 [41:22<46:47:33,  5.55s/it]\u001b[A"
     ]
    },
    {
     "name": "stdout",
     "output_type": "stream",
     "text": [
      "Epoch 0, Batch 470, loss 458717216.0\n"
     ]
    },
    {
     "name": "stderr",
     "output_type": "stream",
     "text": [
      "\n",
      "  2%|▏         | 472/30802 [41:27<46:11:36,  5.48s/it]\u001b[A\n",
      "  2%|▏         | 473/30802 [41:32<45:07:12,  5.36s/it]\u001b[A\n",
      "  2%|▏         | 474/30802 [41:38<44:21:52,  5.27s/it]\u001b[A\n",
      "  2%|▏         | 475/30802 [41:43<44:34:53,  5.29s/it]\u001b[A\n",
      "  2%|▏         | 476/30802 [41:48<44:15:35,  5.25s/it]\u001b[A"
     ]
    },
    {
     "name": "stdout",
     "output_type": "stream",
     "text": [
      "Epoch 0, Batch 475, loss 430545248.0\n"
     ]
    },
    {
     "name": "stderr",
     "output_type": "stream",
     "text": [
      "\n",
      "  2%|▏         | 477/30802 [41:53<43:58:00,  5.22s/it]\u001b[A\n",
      "  2%|▏         | 478/30802 [41:58<43:42:04,  5.19s/it]\u001b[A\n",
      "  2%|▏         | 479/30802 [42:03<43:28:56,  5.16s/it]\u001b[A\n",
      "  2%|▏         | 480/30802 [42:09<43:57:23,  5.22s/it]\u001b[A\n",
      "  2%|▏         | 481/30802 [42:14<44:14:17,  5.25s/it]\u001b[A"
     ]
    },
    {
     "name": "stdout",
     "output_type": "stream",
     "text": [
      "Epoch 0, Batch 480, loss 418368352.0\n"
     ]
    },
    {
     "name": "stderr",
     "output_type": "stream",
     "text": [
      "\n",
      "  2%|▏         | 482/30802 [42:20<44:44:43,  5.31s/it]\u001b[A\n",
      "  2%|▏         | 483/30802 [42:25<45:10:20,  5.36s/it]\u001b[A\n",
      "  2%|▏         | 484/30802 [42:30<45:05:39,  5.35s/it]\u001b[A\n",
      "  2%|▏         | 485/30802 [42:36<44:55:14,  5.33s/it]\u001b[A\n",
      "  2%|▏         | 486/30802 [42:41<45:57:30,  5.46s/it]\u001b[A"
     ]
    },
    {
     "name": "stdout",
     "output_type": "stream",
     "text": [
      "Epoch 0, Batch 485, loss 261150528.0\n"
     ]
    },
    {
     "name": "stderr",
     "output_type": "stream",
     "text": [
      "\n",
      "  2%|▏         | 487/30802 [42:47<45:11:32,  5.37s/it]\u001b[A\n",
      "  2%|▏         | 488/30802 [42:52<44:14:45,  5.25s/it]\u001b[A\n",
      "  2%|▏         | 489/30802 [42:57<43:40:43,  5.19s/it]\u001b[A\n",
      "  2%|▏         | 490/30802 [43:02<43:53:08,  5.21s/it]\u001b[A\n",
      "  2%|▏         | 491/30802 [43:07<43:42:32,  5.19s/it]\u001b[A"
     ]
    },
    {
     "name": "stdout",
     "output_type": "stream",
     "text": [
      "Epoch 0, Batch 490, loss 258930336.0\n"
     ]
    },
    {
     "name": "stderr",
     "output_type": "stream",
     "text": [
      "\n",
      "  2%|▏         | 492/30802 [43:12<43:27:48,  5.16s/it]\u001b[A\n",
      "  2%|▏         | 493/30802 [43:18<45:14:39,  5.37s/it]\u001b[A\n",
      "  2%|▏         | 494/30802 [43:23<44:58:18,  5.34s/it]\u001b[A\n",
      "  2%|▏         | 495/30802 [43:29<44:52:43,  5.33s/it]\u001b[A\n",
      "  2%|▏         | 496/30802 [43:34<44:19:22,  5.27s/it]\u001b[A"
     ]
    },
    {
     "name": "stdout",
     "output_type": "stream",
     "text": [
      "Epoch 0, Batch 495, loss 219031648.0\n"
     ]
    },
    {
     "name": "stderr",
     "output_type": "stream",
     "text": [
      "\n",
      "  2%|▏         | 497/30802 [43:39<43:59:03,  5.23s/it]\u001b[A\n",
      "  2%|▏         | 498/30802 [43:44<44:00:52,  5.23s/it]\u001b[A\n",
      "  2%|▏         | 499/30802 [43:49<43:38:46,  5.19s/it]\u001b[A\n",
      "  2%|▏         | 500/30802 [43:54<43:43:56,  5.20s/it]\u001b[A\n",
      "  2%|▏         | 501/30802 [43:59<43:39:11,  5.19s/it]\u001b[A"
     ]
    },
    {
     "name": "stdout",
     "output_type": "stream",
     "text": [
      "Epoch 0, Batch 500, loss 571576768.0\n"
     ]
    },
    {
     "name": "stderr",
     "output_type": "stream",
     "text": [
      "\n",
      "  2%|▏         | 502/30802 [44:05<44:01:08,  5.23s/it]\u001b[A\n",
      "  2%|▏         | 503/30802 [44:10<44:14:41,  5.26s/it]\u001b[A\n",
      "  2%|▏         | 504/30802 [44:16<44:39:50,  5.31s/it]\u001b[A\n",
      "  2%|▏         | 505/30802 [44:21<44:26:19,  5.28s/it]\u001b[A\n",
      "  2%|▏         | 506/30802 [44:26<44:16:59,  5.26s/it]\u001b[A"
     ]
    },
    {
     "name": "stdout",
     "output_type": "stream",
     "text": [
      "Epoch 0, Batch 505, loss 629869440.0\n"
     ]
    },
    {
     "name": "stderr",
     "output_type": "stream",
     "text": [
      "\n",
      "  2%|▏         | 507/30802 [44:31<44:12:50,  5.25s/it]\u001b[A\n",
      "  2%|▏         | 508/30802 [44:36<44:02:20,  5.23s/it]\u001b[A\n",
      "  2%|▏         | 509/30802 [44:42<44:04:48,  5.24s/it]\u001b[A\n",
      "  2%|▏         | 510/30802 [44:48<45:45:20,  5.44s/it]\u001b[A\n",
      "  2%|▏         | 511/30802 [44:53<45:23:01,  5.39s/it]\u001b[A"
     ]
    },
    {
     "name": "stdout",
     "output_type": "stream",
     "text": [
      "Epoch 0, Batch 510, loss 477963648.0\n"
     ]
    },
    {
     "name": "stderr",
     "output_type": "stream",
     "text": [
      "\n",
      "  2%|▏         | 512/30802 [44:58<44:08:06,  5.25s/it]\u001b[A\n",
      "  2%|▏         | 513/30802 [45:03<44:01:31,  5.23s/it]\u001b[A\n",
      "  2%|▏         | 514/30802 [45:08<43:44:45,  5.20s/it]\u001b[A\n",
      "  2%|▏         | 515/30802 [45:14<45:43:48,  5.44s/it]\u001b[A\n",
      "  2%|▏         | 516/30802 [45:19<44:57:53,  5.34s/it]\u001b[A"
     ]
    },
    {
     "name": "stdout",
     "output_type": "stream",
     "text": [
      "Epoch 0, Batch 515, loss 730140544.0\n"
     ]
    },
    {
     "name": "stderr",
     "output_type": "stream",
     "text": [
      "\n",
      "  2%|▏         | 517/30802 [45:24<44:27:45,  5.29s/it]\u001b[A\n",
      "  2%|▏         | 518/30802 [45:30<44:24:50,  5.28s/it]\u001b[A\n",
      "  2%|▏         | 519/30802 [45:35<44:22:40,  5.28s/it]\u001b[A\n",
      "  2%|▏         | 520/30802 [45:40<44:03:18,  5.24s/it]\u001b[A\n",
      "  2%|▏         | 521/30802 [45:45<44:06:10,  5.24s/it]\u001b[A"
     ]
    },
    {
     "name": "stdout",
     "output_type": "stream",
     "text": [
      "Epoch 0, Batch 520, loss 349266080.0\n"
     ]
    },
    {
     "name": "stderr",
     "output_type": "stream",
     "text": [
      "\n",
      "  2%|▏         | 522/30802 [45:50<43:50:58,  5.21s/it]\u001b[A\n",
      "  2%|▏         | 523/30802 [45:56<44:04:16,  5.24s/it]\u001b[A\n",
      "  2%|▏         | 524/30802 [46:01<44:44:48,  5.32s/it]\u001b[A\n",
      "  2%|▏         | 525/30802 [46:07<45:37:52,  5.43s/it]\u001b[A\n",
      "  2%|▏         | 526/30802 [46:12<44:59:56,  5.35s/it]\u001b[A"
     ]
    },
    {
     "name": "stdout",
     "output_type": "stream",
     "text": [
      "Epoch 0, Batch 525, loss 658383552.0\n"
     ]
    },
    {
     "name": "stderr",
     "output_type": "stream",
     "text": [
      "\n",
      "  2%|▏         | 527/30802 [46:17<44:07:08,  5.25s/it]\u001b[A\n",
      "  2%|▏         | 528/30802 [46:22<43:59:40,  5.23s/it]\u001b[A\n",
      "  2%|▏         | 529/30802 [46:28<44:35:45,  5.30s/it]\u001b[A\n",
      "  2%|▏         | 530/30802 [46:33<45:04:05,  5.36s/it]\u001b[A\n",
      "  2%|▏         | 531/30802 [46:39<45:13:59,  5.38s/it]\u001b[A"
     ]
    },
    {
     "name": "stdout",
     "output_type": "stream",
     "text": [
      "Epoch 0, Batch 530, loss 245629408.0\n"
     ]
    },
    {
     "name": "stderr",
     "output_type": "stream",
     "text": [
      "\n",
      "  2%|▏         | 532/30802 [46:45<46:23:12,  5.52s/it]\u001b[A\n",
      "  2%|▏         | 533/30802 [46:50<46:23:59,  5.52s/it]\u001b[A\n",
      "  2%|▏         | 534/30802 [46:56<46:39:55,  5.55s/it]\u001b[A\n",
      "  2%|▏         | 535/30802 [47:01<46:54:42,  5.58s/it]\u001b[A\n",
      "  2%|▏         | 536/30802 [47:07<47:02:11,  5.59s/it]\u001b[A"
     ]
    },
    {
     "name": "stdout",
     "output_type": "stream",
     "text": [
      "Epoch 0, Batch 535, loss 204752576.0\n"
     ]
    },
    {
     "name": "stderr",
     "output_type": "stream",
     "text": [
      "\n",
      "  2%|▏         | 537/30802 [47:12<46:41:15,  5.55s/it]\u001b[A\n",
      "  2%|▏         | 538/30802 [47:18<45:55:14,  5.46s/it]\u001b[A\n",
      "  2%|▏         | 539/30802 [47:23<44:37:44,  5.31s/it]\u001b[A\n",
      "  2%|▏         | 540/30802 [47:28<44:26:29,  5.29s/it]\u001b[A\n",
      "  2%|▏         | 541/30802 [47:33<44:00:34,  5.24s/it]\u001b[A"
     ]
    },
    {
     "name": "stdout",
     "output_type": "stream",
     "text": [
      "Epoch 0, Batch 540, loss 512370592.0\n"
     ]
    },
    {
     "name": "stderr",
     "output_type": "stream",
     "text": [
      "\n",
      "  2%|▏         | 542/30802 [47:38<43:47:50,  5.21s/it]\u001b[A\n",
      "  2%|▏         | 543/30802 [47:43<43:48:40,  5.21s/it]\u001b[A\n",
      "  2%|▏         | 544/30802 [47:49<43:56:29,  5.23s/it]\u001b[A\n",
      "  2%|▏         | 545/30802 [47:54<44:06:41,  5.25s/it]\u001b[A\n",
      "  2%|▏         | 546/30802 [47:59<43:49:05,  5.21s/it]\u001b[A"
     ]
    },
    {
     "name": "stdout",
     "output_type": "stream",
     "text": [
      "Epoch 0, Batch 545, loss 521449536.0\n"
     ]
    },
    {
     "name": "stderr",
     "output_type": "stream",
     "text": [
      "\n",
      "  2%|▏         | 547/30802 [48:04<44:19:38,  5.27s/it]\u001b[A\n",
      "  2%|▏         | 548/30802 [48:10<44:30:07,  5.30s/it]\u001b[A\n",
      "  2%|▏         | 549/30802 [48:15<44:48:00,  5.33s/it]\u001b[A\n",
      "  2%|▏         | 550/30802 [48:20<44:37:24,  5.31s/it]\u001b[A\n",
      "  2%|▏         | 551/30802 [48:26<44:14:28,  5.26s/it]\u001b[A"
     ]
    },
    {
     "name": "stdout",
     "output_type": "stream",
     "text": [
      "Epoch 0, Batch 550, loss 501388544.0\n"
     ]
    },
    {
     "name": "stderr",
     "output_type": "stream",
     "text": [
      "\n",
      "  2%|▏         | 552/30802 [48:31<44:11:21,  5.26s/it]\u001b[A\n",
      "  2%|▏         | 553/30802 [48:36<44:33:26,  5.30s/it]\u001b[A\n",
      "  2%|▏         | 554/30802 [48:41<44:19:45,  5.28s/it]\u001b[A\n",
      "  2%|▏         | 555/30802 [48:47<43:54:44,  5.23s/it]\u001b[A\n",
      "  2%|▏         | 556/30802 [48:52<43:33:37,  5.18s/it]\u001b[A"
     ]
    },
    {
     "name": "stdout",
     "output_type": "stream",
     "text": [
      "Epoch 0, Batch 555, loss 404926816.0\n"
     ]
    },
    {
     "name": "stderr",
     "output_type": "stream",
     "text": [
      "\n",
      "  2%|▏         | 557/30802 [48:57<43:04:23,  5.13s/it]\u001b[A\n",
      "  2%|▏         | 558/30802 [49:03<45:33:11,  5.42s/it]\u001b[A\n",
      "  2%|▏         | 559/30802 [49:08<45:04:45,  5.37s/it]\u001b[A\n",
      "  2%|▏         | 560/30802 [49:13<44:36:58,  5.31s/it]\u001b[A\n",
      "  2%|▏         | 561/30802 [49:18<43:46:19,  5.21s/it]\u001b[A"
     ]
    },
    {
     "name": "stdout",
     "output_type": "stream",
     "text": [
      "Epoch 0, Batch 560, loss 397197216.0\n"
     ]
    },
    {
     "name": "stderr",
     "output_type": "stream",
     "text": [
      "\n",
      "  2%|▏         | 562/30802 [49:23<43:36:46,  5.19s/it]\u001b[A\n",
      "  2%|▏         | 563/30802 [49:29<44:11:02,  5.26s/it]\u001b[A\n",
      "  2%|▏         | 564/30802 [49:34<44:18:31,  5.28s/it]\u001b[A\n",
      "  2%|▏         | 565/30802 [49:39<43:52:58,  5.22s/it]\u001b[A\n",
      "  2%|▏         | 566/30802 [49:44<43:56:32,  5.23s/it]\u001b[A"
     ]
    },
    {
     "name": "stdout",
     "output_type": "stream",
     "text": [
      "Epoch 0, Batch 565, loss 604162496.0\n"
     ]
    },
    {
     "name": "stderr",
     "output_type": "stream",
     "text": [
      "\n",
      "  2%|▏         | 567/30802 [49:50<44:13:25,  5.27s/it]\u001b[A\n",
      "  2%|▏         | 568/30802 [49:55<43:48:36,  5.22s/it]\u001b[A\n",
      "  2%|▏         | 569/30802 [50:00<44:00:29,  5.24s/it]\u001b[A\n",
      "  2%|▏         | 570/30802 [50:05<44:19:31,  5.28s/it]\u001b[A\n",
      "  2%|▏         | 571/30802 [50:11<44:24:05,  5.29s/it]\u001b[A"
     ]
    },
    {
     "name": "stdout",
     "output_type": "stream",
     "text": [
      "Epoch 0, Batch 570, loss 434874432.0\n"
     ]
    },
    {
     "name": "stderr",
     "output_type": "stream",
     "text": [
      "\n",
      "  2%|▏         | 572/30802 [50:16<44:35:20,  5.31s/it]\u001b[A\n",
      "  2%|▏         | 573/30802 [50:21<44:27:04,  5.29s/it]\u001b[A\n",
      "  2%|▏         | 574/30802 [50:27<44:29:42,  5.30s/it]\u001b[A\n",
      "  2%|▏         | 575/30802 [50:32<44:23:43,  5.29s/it]\u001b[A\n",
      "  2%|▏         | 576/30802 [50:37<44:42:23,  5.32s/it]\u001b[A"
     ]
    },
    {
     "name": "stdout",
     "output_type": "stream",
     "text": [
      "Epoch 0, Batch 575, loss 216865424.0\n"
     ]
    },
    {
     "name": "stderr",
     "output_type": "stream",
     "text": [
      "\n",
      "  2%|▏         | 577/30802 [50:43<44:32:58,  5.31s/it]\u001b[A\n",
      "  2%|▏         | 578/30802 [50:48<44:12:30,  5.27s/it]\u001b[A\n",
      "  2%|▏         | 579/30802 [50:53<44:13:41,  5.27s/it]\u001b[A\n",
      "  2%|▏         | 580/30802 [50:58<44:26:41,  5.29s/it]\u001b[A\n",
      "  2%|▏         | 581/30802 [51:04<43:49:23,  5.22s/it]\u001b[A"
     ]
    },
    {
     "name": "stdout",
     "output_type": "stream",
     "text": [
      "Epoch 0, Batch 580, loss 313133088.0\n"
     ]
    },
    {
     "name": "stderr",
     "output_type": "stream",
     "text": [
      "\n",
      "  2%|▏         | 582/30802 [51:09<43:36:03,  5.19s/it]\u001b[A\n",
      "  2%|▏         | 583/30802 [51:14<43:55:58,  5.23s/it]\u001b[A\n",
      "  2%|▏         | 584/30802 [51:19<43:40:58,  5.20s/it]\u001b[A\n",
      "  2%|▏         | 585/30802 [51:24<43:21:36,  5.17s/it]\u001b[A\n",
      "  2%|▏         | 586/30802 [51:30<44:21:37,  5.29s/it]\u001b[A"
     ]
    },
    {
     "name": "stdout",
     "output_type": "stream",
     "text": [
      "Epoch 0, Batch 585, loss 410021760.0\n"
     ]
    },
    {
     "name": "stderr",
     "output_type": "stream",
     "text": [
      "\n",
      "  2%|▏         | 587/30802 [51:35<44:50:46,  5.34s/it]\u001b[A\n",
      "  2%|▏         | 588/30802 [51:40<44:04:25,  5.25s/it]\u001b[A\n",
      "  2%|▏         | 589/30802 [51:46<44:13:25,  5.27s/it]\u001b[A\n",
      "  2%|▏         | 590/30802 [51:51<44:59:02,  5.36s/it]\u001b[A\n",
      "  2%|▏         | 591/30802 [51:56<44:49:53,  5.34s/it]\u001b[A"
     ]
    },
    {
     "name": "stdout",
     "output_type": "stream",
     "text": [
      "Epoch 0, Batch 590, loss 681424256.0\n"
     ]
    },
    {
     "name": "stderr",
     "output_type": "stream",
     "text": [
      "\n",
      "  2%|▏         | 592/30802 [52:02<44:57:11,  5.36s/it]\u001b[A\n",
      "  2%|▏         | 593/30802 [52:07<45:11:42,  5.39s/it]\u001b[A\n",
      "  2%|▏         | 594/30802 [52:13<45:26:00,  5.41s/it]\u001b[A\n",
      "  2%|▏         | 595/30802 [52:18<45:30:29,  5.42s/it]\u001b[A\n",
      "  2%|▏         | 596/30802 [52:24<45:10:36,  5.38s/it]\u001b[A"
     ]
    },
    {
     "name": "stdout",
     "output_type": "stream",
     "text": [
      "Epoch 0, Batch 595, loss 149789888.0\n"
     ]
    },
    {
     "name": "stderr",
     "output_type": "stream",
     "text": [
      "\n",
      "  2%|▏         | 597/30802 [52:29<45:08:21,  5.38s/it]\u001b[A\n",
      "  2%|▏         | 598/30802 [52:34<45:05:25,  5.37s/it]\u001b[A\n",
      "  2%|▏         | 599/30802 [52:39<44:12:09,  5.27s/it]\u001b[A\n",
      "  2%|▏         | 600/30802 [52:45<44:21:18,  5.29s/it]\u001b[A\n",
      "  2%|▏         | 601/30802 [52:50<43:26:06,  5.18s/it]\u001b[A"
     ]
    },
    {
     "name": "stdout",
     "output_type": "stream",
     "text": [
      "Epoch 0, Batch 600, loss 586336832.0\n"
     ]
    },
    {
     "name": "stderr",
     "output_type": "stream",
     "text": [
      "\n",
      "  2%|▏         | 602/30802 [52:55<43:09:43,  5.15s/it]\u001b[A\n",
      "  2%|▏         | 603/30802 [53:00<43:14:08,  5.15s/it]\u001b[A\n",
      "  2%|▏         | 604/30802 [53:05<43:02:51,  5.13s/it]\u001b[A\n",
      "  2%|▏         | 605/30802 [53:10<42:43:53,  5.09s/it]\u001b[A\n",
      "  2%|▏         | 606/30802 [53:15<43:21:01,  5.17s/it]\u001b[A"
     ]
    },
    {
     "name": "stdout",
     "output_type": "stream",
     "text": [
      "Epoch 0, Batch 605, loss 450744288.0\n"
     ]
    },
    {
     "name": "stderr",
     "output_type": "stream",
     "text": [
      "\n",
      "  2%|▏         | 607/30802 [53:21<43:44:37,  5.22s/it]\u001b[A\n",
      "  2%|▏         | 608/30802 [53:26<43:59:18,  5.24s/it]\u001b[A\n",
      "  2%|▏         | 609/30802 [53:31<44:35:56,  5.32s/it]\u001b[A\n",
      "  2%|▏         | 610/30802 [53:37<45:36:48,  5.44s/it]\u001b[A\n",
      "  2%|▏         | 611/30802 [53:43<46:02:48,  5.49s/it]\u001b[A"
     ]
    },
    {
     "name": "stdout",
     "output_type": "stream",
     "text": [
      "Epoch 0, Batch 610, loss 405668256.0\n"
     ]
    },
    {
     "name": "stderr",
     "output_type": "stream",
     "text": [
      "\n",
      "  2%|▏         | 612/30802 [53:48<46:06:07,  5.50s/it]\u001b[A\n",
      "  2%|▏         | 613/30802 [53:53<45:29:27,  5.42s/it]\u001b[A\n",
      "  2%|▏         | 614/30802 [53:59<44:47:13,  5.34s/it]\u001b[A\n",
      "  2%|▏         | 615/30802 [54:04<44:03:52,  5.26s/it]\u001b[A\n",
      "  2%|▏         | 616/30802 [54:09<44:02:01,  5.25s/it]\u001b[A"
     ]
    },
    {
     "name": "stdout",
     "output_type": "stream",
     "text": [
      "Epoch 0, Batch 615, loss 465070048.0\n"
     ]
    },
    {
     "name": "stderr",
     "output_type": "stream",
     "text": [
      "\n",
      "  2%|▏         | 617/30802 [54:14<43:50:39,  5.23s/it]\u001b[A\n",
      "  2%|▏         | 618/30802 [54:20<44:54:24,  5.36s/it]\u001b[A\n",
      "  2%|▏         | 619/30802 [54:25<43:51:56,  5.23s/it]\u001b[A\n",
      "  2%|▏         | 620/30802 [54:30<43:24:27,  5.18s/it]\u001b[A\n",
      "  2%|▏         | 621/30802 [54:35<43:29:50,  5.19s/it]\u001b[A"
     ]
    },
    {
     "name": "stdout",
     "output_type": "stream",
     "text": [
      "Epoch 0, Batch 620, loss 230310656.0\n"
     ]
    },
    {
     "name": "stderr",
     "output_type": "stream",
     "text": [
      "\n",
      "  2%|▏         | 622/30802 [54:40<43:28:41,  5.19s/it]\u001b[A\n",
      "  2%|▏         | 623/30802 [54:45<43:21:15,  5.17s/it]\u001b[A\n",
      "  2%|▏         | 624/30802 [54:50<43:20:30,  5.17s/it]\u001b[A\n",
      "  2%|▏         | 625/30802 [54:56<43:48:33,  5.23s/it]\u001b[A\n",
      "  2%|▏         | 626/30802 [55:01<43:50:14,  5.23s/it]\u001b[A"
     ]
    },
    {
     "name": "stdout",
     "output_type": "stream",
     "text": [
      "Epoch 0, Batch 625, loss 573032384.0\n"
     ]
    },
    {
     "name": "stderr",
     "output_type": "stream",
     "text": [
      "\n",
      "  2%|▏         | 627/30802 [55:06<43:57:29,  5.24s/it]\u001b[A\n",
      "  2%|▏         | 628/30802 [55:11<43:52:35,  5.23s/it]\u001b[A\n",
      "  2%|▏         | 629/30802 [55:17<44:55:48,  5.36s/it]\u001b[A\n",
      "  2%|▏         | 630/30802 [55:23<45:13:47,  5.40s/it]\u001b[A\n",
      "  2%|▏         | 631/30802 [55:28<44:35:31,  5.32s/it]\u001b[A"
     ]
    },
    {
     "name": "stdout",
     "output_type": "stream",
     "text": [
      "Epoch 0, Batch 630, loss 588564224.0\n"
     ]
    },
    {
     "name": "stderr",
     "output_type": "stream",
     "text": [
      "\n",
      "  2%|▏         | 632/30802 [55:33<43:50:51,  5.23s/it]\u001b[A\n",
      "  2%|▏         | 633/30802 [55:38<43:41:49,  5.21s/it]\u001b[A\n",
      "  2%|▏         | 634/30802 [55:43<43:38:14,  5.21s/it]\u001b[A\n",
      "  2%|▏         | 635/30802 [55:49<44:04:28,  5.26s/it]\u001b[A\n",
      "  2%|▏         | 636/30802 [55:54<43:58:49,  5.25s/it]\u001b[A"
     ]
    },
    {
     "name": "stdout",
     "output_type": "stream",
     "text": [
      "Epoch 0, Batch 635, loss 579667584.0\n"
     ]
    },
    {
     "name": "stderr",
     "output_type": "stream",
     "text": [
      "\n",
      "  2%|▏         | 637/30802 [55:59<44:09:54,  5.27s/it]\u001b[A\n",
      "  2%|▏         | 638/30802 [56:04<44:04:36,  5.26s/it]\u001b[A\n",
      "  2%|▏         | 639/30802 [56:10<44:37:28,  5.33s/it]\u001b[A\n",
      "  2%|▏         | 640/30802 [56:15<44:45:28,  5.34s/it]\u001b[A\n",
      "  2%|▏         | 641/30802 [56:21<45:15:32,  5.40s/it]\u001b[A"
     ]
    },
    {
     "name": "stdout",
     "output_type": "stream",
     "text": [
      "Epoch 0, Batch 640, loss 305237792.0\n"
     ]
    },
    {
     "name": "stderr",
     "output_type": "stream",
     "text": [
      "\n",
      "  2%|▏         | 642/30802 [56:26<44:26:19,  5.30s/it]\u001b[A\n",
      "  2%|▏         | 643/30802 [56:31<43:55:58,  5.24s/it]\u001b[A\n",
      "  2%|▏         | 644/30802 [56:36<43:11:00,  5.15s/it]\u001b[A\n",
      "  2%|▏         | 645/30802 [56:41<44:11:01,  5.27s/it]\u001b[A\n",
      "  2%|▏         | 646/30802 [56:47<45:05:51,  5.38s/it]\u001b[A"
     ]
    },
    {
     "name": "stdout",
     "output_type": "stream",
     "text": [
      "Epoch 0, Batch 645, loss 644057728.0\n"
     ]
    },
    {
     "name": "stderr",
     "output_type": "stream",
     "text": [
      "\n",
      "  2%|▏         | 647/30802 [56:52<44:26:42,  5.31s/it]\u001b[A\n",
      "  2%|▏         | 648/30802 [56:57<43:33:56,  5.20s/it]\u001b[A\n",
      "  2%|▏         | 649/30802 [57:02<43:13:51,  5.16s/it]\u001b[A\n",
      "  2%|▏         | 650/30802 [57:07<43:11:46,  5.16s/it]\u001b[A\n",
      "  2%|▏         | 651/30802 [57:13<43:25:38,  5.19s/it]\u001b[A"
     ]
    },
    {
     "name": "stdout",
     "output_type": "stream",
     "text": [
      "Epoch 0, Batch 650, loss 690283712.0\n"
     ]
    },
    {
     "name": "stderr",
     "output_type": "stream",
     "text": [
      "\n",
      "  2%|▏         | 652/30802 [57:18<43:32:26,  5.20s/it]\u001b[A\n",
      "  2%|▏         | 653/30802 [57:23<43:24:46,  5.18s/it]\u001b[A\n",
      "  2%|▏         | 654/30802 [57:28<43:59:10,  5.25s/it]\u001b[A\n",
      "  2%|▏         | 655/30802 [57:34<44:19:32,  5.29s/it]\u001b[A\n",
      "  2%|▏         | 656/30802 [57:39<44:27:54,  5.31s/it]\u001b[A"
     ]
    },
    {
     "name": "stdout",
     "output_type": "stream",
     "text": [
      "Epoch 0, Batch 655, loss 683444928.0\n"
     ]
    },
    {
     "name": "stderr",
     "output_type": "stream",
     "text": [
      "\n",
      "  2%|▏         | 657/30802 [57:44<44:26:20,  5.31s/it]\u001b[A\n",
      "  2%|▏         | 658/30802 [57:50<44:37:30,  5.33s/it]\u001b[A\n",
      "  2%|▏         | 659/30802 [57:55<45:02:16,  5.38s/it]\u001b[A\n",
      "  2%|▏         | 660/30802 [58:01<44:58:46,  5.37s/it]\u001b[A\n",
      "  2%|▏         | 661/30802 [58:06<44:20:53,  5.30s/it]\u001b[A"
     ]
    },
    {
     "name": "stdout",
     "output_type": "stream",
     "text": [
      "Epoch 0, Batch 660, loss 593033280.0\n"
     ]
    },
    {
     "name": "stderr",
     "output_type": "stream",
     "text": [
      "\n",
      "  2%|▏         | 662/30802 [58:11<44:34:14,  5.32s/it]\u001b[A\n",
      "  2%|▏         | 663/30802 [58:17<44:45:47,  5.35s/it]\u001b[A\n",
      "  2%|▏         | 664/30802 [58:22<44:30:16,  5.32s/it]\u001b[A\n",
      "  2%|▏         | 665/30802 [58:27<44:22:48,  5.30s/it]\u001b[A\n",
      "  2%|▏         | 666/30802 [58:32<44:02:47,  5.26s/it]\u001b[A"
     ]
    },
    {
     "name": "stdout",
     "output_type": "stream",
     "text": [
      "Epoch 0, Batch 665, loss 610257792.0\n"
     ]
    },
    {
     "name": "stderr",
     "output_type": "stream",
     "text": [
      "\n",
      "  2%|▏         | 667/30802 [58:37<43:46:13,  5.23s/it]\u001b[A\n",
      "  2%|▏         | 668/30802 [58:43<43:41:22,  5.22s/it]\u001b[A\n",
      "  2%|▏         | 669/30802 [58:49<47:02:33,  5.62s/it]\u001b[A\n",
      "  2%|▏         | 670/30802 [58:56<50:21:43,  6.02s/it]\u001b[A\n",
      "  2%|▏         | 671/30802 [59:02<51:10:09,  6.11s/it]\u001b[A"
     ]
    },
    {
     "name": "stdout",
     "output_type": "stream",
     "text": [
      "Epoch 0, Batch 670, loss 609869760.0\n"
     ]
    },
    {
     "name": "stderr",
     "output_type": "stream",
     "text": [
      "\n",
      "  2%|▏         | 672/30802 [59:08<50:35:02,  6.04s/it]\u001b[A\n",
      "  2%|▏         | 673/30802 [59:15<51:28:11,  6.15s/it]\u001b[A\n",
      "  2%|▏         | 674/30802 [59:21<51:34:05,  6.16s/it]\u001b[A\n",
      "  2%|▏         | 675/30802 [59:28<53:58:40,  6.45s/it]\u001b[A\n",
      "  2%|▏         | 676/30802 [59:34<53:55:51,  6.44s/it]\u001b[A"
     ]
    },
    {
     "name": "stdout",
     "output_type": "stream",
     "text": [
      "Epoch 0, Batch 675, loss 641147456.0\n"
     ]
    },
    {
     "name": "stderr",
     "output_type": "stream",
     "text": [
      "\n",
      "  2%|▏         | 677/30802 [59:41<55:20:05,  6.61s/it]\u001b[A\n",
      "  2%|▏         | 678/30802 [59:48<54:52:26,  6.56s/it]\u001b[A\n",
      "  2%|▏         | 679/30802 [59:54<54:39:14,  6.53s/it]\u001b[A\n",
      "  2%|▏         | 680/30802 [1:00:01<54:13:13,  6.48s/it]\u001b[A\n",
      "  2%|▏         | 681/30802 [1:00:07<53:20:04,  6.37s/it]\u001b[A"
     ]
    },
    {
     "name": "stdout",
     "output_type": "stream",
     "text": [
      "Epoch 0, Batch 680, loss 363055840.0\n"
     ]
    },
    {
     "name": "stderr",
     "output_type": "stream",
     "text": [
      "\n",
      "  2%|▏         | 682/30802 [1:00:13<53:56:01,  6.45s/it]\u001b[A\n",
      "  2%|▏         | 683/30802 [1:00:20<54:02:31,  6.46s/it]\u001b[A\n",
      "  2%|▏         | 684/30802 [1:00:26<53:56:11,  6.45s/it]\u001b[A\n",
      "  2%|▏         | 685/30802 [1:00:33<53:31:55,  6.40s/it]\u001b[A\n",
      "  2%|▏         | 686/30802 [1:00:39<54:16:02,  6.49s/it]\u001b[A"
     ]
    },
    {
     "name": "stdout",
     "output_type": "stream",
     "text": [
      "Epoch 0, Batch 685, loss 494661376.0\n"
     ]
    },
    {
     "name": "stderr",
     "output_type": "stream",
     "text": [
      "\n",
      "  2%|▏         | 687/30802 [1:00:46<54:41:43,  6.54s/it]\u001b[A\n",
      "  2%|▏         | 688/30802 [1:00:53<56:15:00,  6.72s/it]\u001b[A\n",
      "  2%|▏         | 689/30802 [1:01:00<55:47:59,  6.67s/it]\u001b[A\n",
      "  2%|▏         | 690/30802 [1:01:06<54:02:18,  6.46s/it]\u001b[A\n",
      "  2%|▏         | 691/30802 [1:01:12<53:19:42,  6.38s/it]\u001b[A"
     ]
    },
    {
     "name": "stdout",
     "output_type": "stream",
     "text": [
      "Epoch 0, Batch 690, loss 642024832.0\n"
     ]
    },
    {
     "name": "stderr",
     "output_type": "stream",
     "text": [
      "\n",
      "  2%|▏         | 692/30802 [1:01:19<54:10:04,  6.48s/it]\u001b[A\n",
      "  2%|▏         | 693/30802 [1:01:25<53:29:47,  6.40s/it]\u001b[A\n",
      "  2%|▏         | 694/30802 [1:01:31<53:25:22,  6.39s/it]\u001b[A\n",
      "  2%|▏         | 695/30802 [1:01:37<51:31:32,  6.16s/it]\u001b[A\n",
      "  2%|▏         | 696/30802 [1:01:42<49:21:34,  5.90s/it]\u001b[A"
     ]
    },
    {
     "name": "stdout",
     "output_type": "stream",
     "text": [
      "Epoch 0, Batch 695, loss 110278752.0\n"
     ]
    },
    {
     "name": "stderr",
     "output_type": "stream",
     "text": [
      "\n",
      "  2%|▏         | 697/30802 [1:01:48<49:34:01,  5.93s/it]\u001b[A\n",
      "  2%|▏         | 698/30802 [1:01:53<48:16:57,  5.77s/it]\u001b[A\n",
      "  2%|▏         | 699/30802 [1:01:59<46:45:31,  5.59s/it]\u001b[A\n",
      "  2%|▏         | 700/30802 [1:02:04<45:44:50,  5.47s/it]\u001b[A\n",
      "  2%|▏         | 701/30802 [1:02:09<44:35:42,  5.33s/it]\u001b[A"
     ]
    },
    {
     "name": "stdout",
     "output_type": "stream",
     "text": [
      "Epoch 0, Batch 700, loss 554037952.0\n"
     ]
    },
    {
     "name": "stderr",
     "output_type": "stream",
     "text": [
      "\n",
      "  2%|▏         | 702/30802 [1:02:14<44:16:36,  5.30s/it]\u001b[A\n",
      "  2%|▏         | 703/30802 [1:02:19<44:31:19,  5.33s/it]\u001b[A\n",
      "  2%|▏         | 704/30802 [1:02:25<44:03:30,  5.27s/it]\u001b[A\n",
      "  2%|▏         | 705/30802 [1:02:30<43:47:23,  5.24s/it]\u001b[A\n",
      "  2%|▏         | 706/30802 [1:02:35<43:53:55,  5.25s/it]\u001b[A"
     ]
    },
    {
     "name": "stdout",
     "output_type": "stream",
     "text": [
      "Epoch 0, Batch 705, loss 624094080.0\n"
     ]
    },
    {
     "name": "stderr",
     "output_type": "stream",
     "text": [
      "\n",
      "  2%|▏         | 707/30802 [1:02:40<43:58:43,  5.26s/it]\u001b[A\n",
      "  2%|▏         | 708/30802 [1:02:46<44:08:54,  5.28s/it]\u001b[A\n",
      "  2%|▏         | 709/30802 [1:02:51<44:12:10,  5.29s/it]\u001b[A\n",
      "  2%|▏         | 710/30802 [1:02:56<44:21:57,  5.31s/it]\u001b[A\n",
      "  2%|▏         | 711/30802 [1:03:02<44:42:35,  5.35s/it]\u001b[A"
     ]
    },
    {
     "name": "stdout",
     "output_type": "stream",
     "text": [
      "Epoch 0, Batch 710, loss 312063136.0\n"
     ]
    },
    {
     "name": "stderr",
     "output_type": "stream",
     "text": [
      "\n",
      "  2%|▏         | 712/30802 [1:03:07<44:27:26,  5.32s/it]\u001b[A\n",
      "  2%|▏         | 713/30802 [1:03:12<44:04:21,  5.27s/it]\u001b[A\n",
      "  2%|▏         | 714/30802 [1:03:17<43:26:44,  5.20s/it]\u001b[A\n",
      "  2%|▏         | 715/30802 [1:03:23<44:28:20,  5.32s/it]\u001b[A\n",
      "  2%|▏         | 716/30802 [1:03:28<44:03:00,  5.27s/it]\u001b[A"
     ]
    },
    {
     "name": "stdout",
     "output_type": "stream",
     "text": [
      "Epoch 0, Batch 715, loss 408466432.0\n"
     ]
    },
    {
     "name": "stderr",
     "output_type": "stream",
     "text": [
      "\n",
      "  2%|▏         | 717/30802 [1:03:33<44:10:04,  5.29s/it]\u001b[A\n",
      "  2%|▏         | 718/30802 [1:03:38<43:32:33,  5.21s/it]\u001b[A\n",
      "  2%|▏         | 719/30802 [1:03:43<43:03:05,  5.15s/it]\u001b[A\n",
      "  2%|▏         | 720/30802 [1:03:49<43:15:51,  5.18s/it]\u001b[A\n",
      "  2%|▏         | 721/30802 [1:03:54<43:08:43,  5.16s/it]\u001b[A"
     ]
    },
    {
     "name": "stdout",
     "output_type": "stream",
     "text": [
      "Epoch 0, Batch 720, loss 396039648.0\n"
     ]
    },
    {
     "name": "stderr",
     "output_type": "stream",
     "text": [
      "\n",
      "  2%|▏         | 722/30802 [1:03:59<43:20:26,  5.19s/it]\u001b[A\n",
      "  2%|▏         | 723/30802 [1:04:04<43:10:22,  5.17s/it]\u001b[A\n",
      "  2%|▏         | 724/30802 [1:04:12<51:17:58,  6.14s/it]\u001b[A\n",
      "  2%|▏         | 725/30802 [1:04:18<49:18:49,  5.90s/it]\u001b[A\n",
      "  2%|▏         | 726/30802 [1:04:23<47:33:49,  5.69s/it]\u001b[A"
     ]
    },
    {
     "name": "stdout",
     "output_type": "stream",
     "text": [
      "Epoch 0, Batch 725, loss 936625024.0\n"
     ]
    },
    {
     "name": "stderr",
     "output_type": "stream",
     "text": [
      "\n",
      "  2%|▏         | 727/30802 [1:04:28<46:30:46,  5.57s/it]\u001b[A\n",
      "  2%|▏         | 728/30802 [1:04:34<47:10:51,  5.65s/it]\u001b[A\n",
      "  2%|▏         | 729/30802 [1:04:40<47:12:28,  5.65s/it]\u001b[A\n",
      "  2%|▏         | 730/30802 [1:04:45<45:57:23,  5.50s/it]\u001b[A\n",
      "  2%|▏         | 731/30802 [1:04:50<45:15:51,  5.42s/it]\u001b[A"
     ]
    },
    {
     "name": "stdout",
     "output_type": "stream",
     "text": [
      "Epoch 0, Batch 730, loss 573741632.0\n"
     ]
    },
    {
     "name": "stderr",
     "output_type": "stream",
     "text": [
      "\n",
      "  2%|▏         | 732/30802 [1:04:55<44:44:30,  5.36s/it]\u001b[A\n",
      "  2%|▏         | 733/30802 [1:05:01<44:22:23,  5.31s/it]\u001b[A\n",
      "  2%|▏         | 734/30802 [1:05:06<44:01:08,  5.27s/it]\u001b[A\n",
      "  2%|▏         | 735/30802 [1:05:12<45:44:50,  5.48s/it]\u001b[A\n",
      "  2%|▏         | 736/30802 [1:05:18<47:07:50,  5.64s/it]\u001b[A"
     ]
    },
    {
     "name": "stdout",
     "output_type": "stream",
     "text": [
      "Epoch 0, Batch 735, loss 53728992.0\n"
     ]
    },
    {
     "name": "stderr",
     "output_type": "stream",
     "text": [
      "\n",
      "  2%|▏         | 737/30802 [1:05:23<45:36:38,  5.46s/it]\u001b[A\n",
      "  2%|▏         | 738/30802 [1:05:28<45:10:03,  5.41s/it]\u001b[A\n",
      "  2%|▏         | 739/30802 [1:05:33<44:40:13,  5.35s/it]\u001b[A\n",
      "  2%|▏         | 740/30802 [1:05:38<43:40:47,  5.23s/it]\u001b[A\n",
      "  2%|▏         | 741/30802 [1:05:43<43:13:42,  5.18s/it]\u001b[A"
     ]
    },
    {
     "name": "stdout",
     "output_type": "stream",
     "text": [
      "Epoch 0, Batch 740, loss 856541056.0\n"
     ]
    },
    {
     "name": "stderr",
     "output_type": "stream",
     "text": [
      "\n",
      "  2%|▏         | 742/30802 [1:05:48<42:59:58,  5.15s/it]\u001b[A\n",
      "  2%|▏         | 743/30802 [1:05:54<43:09:07,  5.17s/it]\u001b[A\n",
      "  2%|▏         | 744/30802 [1:05:59<43:07:53,  5.17s/it]\u001b[A\n",
      "  2%|▏         | 745/30802 [1:06:04<43:18:37,  5.19s/it]\u001b[A\n",
      "  2%|▏         | 746/30802 [1:06:09<43:16:22,  5.18s/it]\u001b[A"
     ]
    },
    {
     "name": "stdout",
     "output_type": "stream",
     "text": [
      "Epoch 0, Batch 745, loss 429081920.0\n"
     ]
    },
    {
     "name": "stderr",
     "output_type": "stream",
     "text": [
      "\n",
      "  2%|▏         | 747/30802 [1:06:15<43:45:54,  5.24s/it]\u001b[A\n",
      "  2%|▏         | 748/30802 [1:06:20<43:44:21,  5.24s/it]\u001b[A\n",
      "  2%|▏         | 749/30802 [1:06:25<44:22:49,  5.32s/it]\u001b[A\n",
      "  2%|▏         | 750/30802 [1:06:31<44:53:39,  5.38s/it]\u001b[A\n",
      "  2%|▏         | 751/30802 [1:06:36<44:50:33,  5.37s/it]\u001b[A"
     ]
    },
    {
     "name": "stdout",
     "output_type": "stream",
     "text": [
      "Epoch 0, Batch 750, loss 356937184.0\n"
     ]
    },
    {
     "name": "stderr",
     "output_type": "stream",
     "text": [
      "\n",
      "  2%|▏         | 752/30802 [1:06:41<44:12:16,  5.30s/it]\u001b[A\n",
      "  2%|▏         | 753/30802 [1:06:47<44:07:59,  5.29s/it]\u001b[A\n",
      "  2%|▏         | 754/30802 [1:06:51<43:21:36,  5.19s/it]\u001b[A\n",
      "  2%|▏         | 755/30802 [1:06:57<43:41:02,  5.23s/it]\u001b[A\n",
      "  2%|▏         | 756/30802 [1:07:02<43:30:48,  5.21s/it]\u001b[A"
     ]
    },
    {
     "name": "stdout",
     "output_type": "stream",
     "text": [
      "Epoch 0, Batch 755, loss 494516640.0\n"
     ]
    },
    {
     "name": "stderr",
     "output_type": "stream",
     "text": [
      "\n",
      "  2%|▏         | 757/30802 [1:07:07<43:18:58,  5.19s/it]\u001b[A\n",
      "  2%|▏         | 758/30802 [1:07:12<43:03:52,  5.16s/it]\u001b[A\n",
      "  2%|▏         | 759/30802 [1:07:17<43:04:03,  5.16s/it]\u001b[A\n",
      "  2%|▏         | 760/30802 [1:07:23<43:36:51,  5.23s/it]\u001b[A\n",
      "  2%|▏         | 761/30802 [1:07:28<44:05:02,  5.28s/it]\u001b[A"
     ]
    },
    {
     "name": "stdout",
     "output_type": "stream",
     "text": [
      "Epoch 0, Batch 760, loss 502547648.0\n"
     ]
    },
    {
     "name": "stderr",
     "output_type": "stream",
     "text": [
      "\n",
      "  2%|▏         | 762/30802 [1:07:34<45:05:27,  5.40s/it]\u001b[A\n",
      "  2%|▏         | 763/30802 [1:07:40<45:57:58,  5.51s/it]\u001b[A\n",
      "  2%|▏         | 764/30802 [1:07:45<46:04:17,  5.52s/it]\u001b[A\n",
      "  2%|▏         | 765/30802 [1:07:51<46:19:39,  5.55s/it]\u001b[A\n",
      "  2%|▏         | 766/30802 [1:07:56<45:55:48,  5.51s/it]\u001b[A"
     ]
    },
    {
     "name": "stdout",
     "output_type": "stream",
     "text": [
      "Epoch 0, Batch 765, loss 690652928.0\n"
     ]
    },
    {
     "name": "stderr",
     "output_type": "stream",
     "text": [
      "\n",
      "  2%|▏         | 767/30802 [1:08:02<45:55:22,  5.50s/it]\u001b[A\n",
      "  2%|▏         | 768/30802 [1:08:07<46:03:26,  5.52s/it]\u001b[A\n",
      "  2%|▏         | 769/30802 [1:08:13<45:49:37,  5.49s/it]\u001b[A\n",
      "  2%|▏         | 770/30802 [1:08:18<45:21:06,  5.44s/it]\u001b[A\n",
      "  3%|▎         | 771/30802 [1:08:23<44:52:05,  5.38s/it]\u001b[A"
     ]
    },
    {
     "name": "stdout",
     "output_type": "stream",
     "text": [
      "Epoch 0, Batch 770, loss 714929664.0\n"
     ]
    },
    {
     "name": "stderr",
     "output_type": "stream",
     "text": [
      "\n",
      "  3%|▎         | 772/30802 [1:08:29<44:46:50,  5.37s/it]\u001b[A\n",
      "  3%|▎         | 773/30802 [1:08:34<44:51:31,  5.38s/it]\u001b[A\n",
      "  3%|▎         | 774/30802 [1:08:39<45:08:46,  5.41s/it]\u001b[A\n",
      "  3%|▎         | 775/30802 [1:08:45<44:57:19,  5.39s/it]\u001b[A\n",
      "  3%|▎         | 776/30802 [1:08:50<44:24:28,  5.32s/it]\u001b[A"
     ]
    },
    {
     "name": "stdout",
     "output_type": "stream",
     "text": [
      "Epoch 0, Batch 775, loss 648113792.0\n"
     ]
    },
    {
     "name": "stderr",
     "output_type": "stream",
     "text": [
      "\n",
      "  3%|▎         | 777/30802 [1:08:55<43:47:51,  5.25s/it]\u001b[A\n",
      "  3%|▎         | 778/30802 [1:09:00<43:30:36,  5.22s/it]\u001b[A\n",
      "  3%|▎         | 779/30802 [1:09:06<43:50:41,  5.26s/it]\u001b[A\n",
      "  3%|▎         | 780/30802 [1:09:11<44:17:41,  5.31s/it]\u001b[A\n",
      "  3%|▎         | 781/30802 [1:09:18<48:58:57,  5.87s/it]\u001b[A"
     ]
    },
    {
     "name": "stdout",
     "output_type": "stream",
     "text": [
      "Epoch 0, Batch 780, loss 609817792.0\n"
     ]
    },
    {
     "name": "stderr",
     "output_type": "stream",
     "text": [
      "\n",
      "  3%|▎         | 782/30802 [1:09:25<51:09:19,  6.13s/it]\u001b[A\n",
      "  3%|▎         | 783/30802 [1:09:32<52:34:52,  6.31s/it]\u001b[A\n",
      "  3%|▎         | 784/30802 [1:09:38<52:25:35,  6.29s/it]\u001b[A\n",
      "  3%|▎         | 785/30802 [1:09:44<51:26:19,  6.17s/it]\u001b[A\n",
      "  3%|▎         | 786/30802 [1:09:50<51:00:42,  6.12s/it]\u001b[A"
     ]
    },
    {
     "name": "stdout",
     "output_type": "stream",
     "text": [
      "Epoch 0, Batch 785, loss 519039968.0\n"
     ]
    },
    {
     "name": "stderr",
     "output_type": "stream",
     "text": [
      "\n",
      "  3%|▎         | 787/30802 [1:09:56<51:06:38,  6.13s/it]\u001b[A\n",
      "  3%|▎         | 788/30802 [1:10:03<52:42:44,  6.32s/it]\u001b[A\n",
      "  3%|▎         | 789/30802 [1:10:09<52:41:07,  6.32s/it]\u001b[A\n",
      "  3%|▎         | 790/30802 [1:10:15<52:42:24,  6.32s/it]\u001b[A\n",
      "  3%|▎         | 791/30802 [1:10:22<53:06:20,  6.37s/it]\u001b[A"
     ]
    },
    {
     "name": "stdout",
     "output_type": "stream",
     "text": [
      "Epoch 0, Batch 790, loss 459204992.0\n"
     ]
    },
    {
     "name": "stderr",
     "output_type": "stream",
     "text": [
      "\n",
      "  3%|▎         | 792/30802 [1:10:28<53:26:13,  6.41s/it]\u001b[A\n",
      "  3%|▎         | 793/30802 [1:10:35<53:23:57,  6.41s/it]\u001b[A\n",
      "  3%|▎         | 794/30802 [1:10:41<52:47:57,  6.33s/it]\u001b[A\n",
      "  3%|▎         | 795/30802 [1:10:48<53:54:39,  6.47s/it]\u001b[A\n",
      "  3%|▎         | 796/30802 [1:10:54<54:31:22,  6.54s/it]\u001b[A"
     ]
    },
    {
     "name": "stdout",
     "output_type": "stream",
     "text": [
      "Epoch 0, Batch 795, loss 381028864.0\n"
     ]
    },
    {
     "name": "stderr",
     "output_type": "stream",
     "text": [
      "\n",
      "  3%|▎         | 797/30802 [1:11:01<54:23:23,  6.53s/it]\u001b[A\n",
      "  3%|▎         | 798/30802 [1:11:07<54:32:35,  6.54s/it]\u001b[A\n",
      "  3%|▎         | 799/30802 [1:11:15<56:12:53,  6.75s/it]\u001b[A\n",
      "  3%|▎         | 800/30802 [1:11:21<55:38:50,  6.68s/it]\u001b[A\n",
      "  3%|▎         | 801/30802 [1:11:28<56:24:19,  6.77s/it]\u001b[A"
     ]
    },
    {
     "name": "stdout",
     "output_type": "stream",
     "text": [
      "Epoch 0, Batch 800, loss 96536576.0\n"
     ]
    },
    {
     "name": "stderr",
     "output_type": "stream",
     "text": [
      "\n",
      "  3%|▎         | 802/30802 [1:11:35<55:28:34,  6.66s/it]\u001b[A\n",
      "  3%|▎         | 803/30802 [1:11:42<56:21:49,  6.76s/it]\u001b[A\n",
      "  3%|▎         | 804/30802 [1:11:48<55:51:10,  6.70s/it]\u001b[A\n",
      "  3%|▎         | 805/30802 [1:11:55<56:13:02,  6.75s/it]\u001b[A\n",
      "  3%|▎         | 806/30802 [1:12:02<56:30:08,  6.78s/it]\u001b[A"
     ]
    },
    {
     "name": "stdout",
     "output_type": "stream",
     "text": [
      "Epoch 0, Batch 805, loss 429444992.0\n"
     ]
    },
    {
     "name": "stderr",
     "output_type": "stream",
     "text": [
      "\n",
      "  3%|▎         | 807/30802 [1:12:09<56:30:57,  6.78s/it]\u001b[A\n",
      "  3%|▎         | 808/30802 [1:12:15<56:01:39,  6.72s/it]\u001b[A\n",
      "  3%|▎         | 809/30802 [1:12:21<54:53:52,  6.59s/it]\u001b[A\n",
      "  3%|▎         | 810/30802 [1:12:28<55:34:32,  6.67s/it]\u001b[A\n",
      "  3%|▎         | 811/30802 [1:12:35<55:53:57,  6.71s/it]\u001b[A"
     ]
    },
    {
     "name": "stdout",
     "output_type": "stream",
     "text": [
      "Epoch 0, Batch 810, loss 125569760.0\n"
     ]
    },
    {
     "name": "stderr",
     "output_type": "stream",
     "text": [
      "\n",
      "  3%|▎         | 812/30802 [1:12:42<55:36:02,  6.67s/it]\u001b[A\n",
      "  3%|▎         | 813/30802 [1:12:48<54:56:16,  6.59s/it]\u001b[A\n",
      "  3%|▎         | 814/30802 [1:12:55<55:45:09,  6.69s/it]\u001b[A\n",
      "  3%|▎         | 815/30802 [1:13:02<56:14:15,  6.75s/it]\u001b[A\n",
      "  3%|▎         | 816/30802 [1:13:09<55:57:54,  6.72s/it]\u001b[A"
     ]
    },
    {
     "name": "stdout",
     "output_type": "stream",
     "text": [
      "Epoch 0, Batch 815, loss 420485664.0\n"
     ]
    },
    {
     "name": "stderr",
     "output_type": "stream",
     "text": [
      "\n",
      "  3%|▎         | 817/30802 [1:13:15<55:47:28,  6.70s/it]\u001b[A\n",
      "  3%|▎         | 818/30802 [1:13:22<55:23:32,  6.65s/it]\u001b[A\n",
      "  3%|▎         | 819/30802 [1:13:29<56:03:38,  6.73s/it]\u001b[A\n",
      "  3%|▎         | 820/30802 [1:13:35<56:15:05,  6.75s/it]\u001b[A\n",
      "  3%|▎         | 821/30802 [1:13:42<56:18:05,  6.76s/it]\u001b[A"
     ]
    },
    {
     "name": "stdout",
     "output_type": "stream",
     "text": [
      "Epoch 0, Batch 820, loss 743937152.0\n"
     ]
    },
    {
     "name": "stderr",
     "output_type": "stream",
     "text": [
      "\n",
      "  3%|▎         | 822/30802 [1:13:49<56:00:46,  6.73s/it]\u001b[A\n",
      "  3%|▎         | 823/30802 [1:13:56<56:13:34,  6.75s/it]\u001b[A\n",
      "  3%|▎         | 824/30802 [1:14:03<56:38:25,  6.80s/it]\u001b[A\n",
      "  3%|▎         | 825/30802 [1:14:10<57:48:06,  6.94s/it]\u001b[A\n",
      "  3%|▎         | 826/30802 [1:14:17<57:03:10,  6.85s/it]\u001b[A"
     ]
    },
    {
     "name": "stdout",
     "output_type": "stream",
     "text": [
      "Epoch 0, Batch 825, loss 529878784.0\n"
     ]
    },
    {
     "name": "stderr",
     "output_type": "stream",
     "text": [
      "\n",
      "  3%|▎         | 827/30802 [1:14:23<56:20:35,  6.77s/it]\u001b[A\n",
      "  3%|▎         | 828/30802 [1:14:29<55:16:34,  6.64s/it]\u001b[A\n",
      "  3%|▎         | 829/30802 [1:14:36<55:11:26,  6.63s/it]\u001b[A\n",
      "  3%|▎         | 830/30802 [1:14:43<56:34:31,  6.80s/it]\u001b[A\n",
      "  3%|▎         | 831/30802 [1:14:51<57:47:32,  6.94s/it]\u001b[A"
     ]
    },
    {
     "name": "stdout",
     "output_type": "stream",
     "text": [
      "Epoch 0, Batch 830, loss 126969856.0\n"
     ]
    },
    {
     "name": "stderr",
     "output_type": "stream",
     "text": [
      "\n",
      "  3%|▎         | 832/30802 [1:14:57<56:57:03,  6.84s/it]\u001b[A\n",
      "  3%|▎         | 833/30802 [1:15:03<55:30:12,  6.67s/it]\u001b[A\n",
      "  3%|▎         | 834/30802 [1:15:10<55:14:06,  6.64s/it]\u001b[A\n",
      "  3%|▎         | 835/30802 [1:15:17<55:10:07,  6.63s/it]\u001b[A\n",
      "  3%|▎         | 836/30802 [1:15:23<55:17:34,  6.64s/it]\u001b[A"
     ]
    },
    {
     "name": "stdout",
     "output_type": "stream",
     "text": [
      "Epoch 0, Batch 835, loss 649710720.0\n"
     ]
    },
    {
     "name": "stderr",
     "output_type": "stream",
     "text": [
      "\n",
      "  3%|▎         | 837/30802 [1:15:30<54:48:25,  6.58s/it]\u001b[A\n",
      "  3%|▎         | 838/30802 [1:15:36<53:37:45,  6.44s/it]\u001b[A\n",
      "  3%|▎         | 839/30802 [1:15:42<53:59:18,  6.49s/it]\u001b[A\n",
      "  3%|▎         | 840/30802 [1:15:49<53:51:10,  6.47s/it]\u001b[A\n",
      "  3%|▎         | 841/30802 [1:15:55<54:14:33,  6.52s/it]\u001b[A"
     ]
    },
    {
     "name": "stdout",
     "output_type": "stream",
     "text": [
      "Epoch 0, Batch 840, loss 717655296.0\n"
     ]
    },
    {
     "name": "stderr",
     "output_type": "stream",
     "text": [
      "\n",
      "  3%|▎         | 842/30802 [1:16:02<53:10:07,  6.39s/it]\u001b[A\n",
      "  3%|▎         | 843/30802 [1:16:08<53:28:08,  6.43s/it]\u001b[A\n",
      "  3%|▎         | 844/30802 [1:16:15<54:11:33,  6.51s/it]\u001b[A\n",
      "  3%|▎         | 845/30802 [1:16:21<53:48:42,  6.47s/it]\u001b[A\n",
      "  3%|▎         | 846/30802 [1:16:29<56:19:10,  6.77s/it]\u001b[A"
     ]
    },
    {
     "name": "stdout",
     "output_type": "stream",
     "text": [
      "Epoch 0, Batch 845, loss 163870096.0\n"
     ]
    },
    {
     "name": "stderr",
     "output_type": "stream",
     "text": [
      "\n",
      "  3%|▎         | 847/30802 [1:16:36<56:55:01,  6.84s/it]\u001b[A\n",
      "  3%|▎         | 848/30802 [1:16:43<57:04:25,  6.86s/it]\u001b[A\n",
      "  3%|▎         | 849/30802 [1:16:49<56:14:39,  6.76s/it]\u001b[A\n",
      "  3%|▎         | 850/30802 [1:16:56<56:16:37,  6.76s/it]\u001b[A\n",
      "  3%|▎         | 851/30802 [1:17:03<56:23:56,  6.78s/it]\u001b[A"
     ]
    },
    {
     "name": "stdout",
     "output_type": "stream",
     "text": [
      "Epoch 0, Batch 850, loss 614467584.0\n"
     ]
    },
    {
     "name": "stderr",
     "output_type": "stream",
     "text": [
      "\n",
      "  3%|▎         | 852/30802 [1:17:09<55:07:10,  6.63s/it]\u001b[A\n",
      "  3%|▎         | 853/30802 [1:17:16<55:21:40,  6.65s/it]\u001b[A\n",
      "  3%|▎         | 854/30802 [1:17:22<55:22:36,  6.66s/it]\u001b[A\n",
      "  3%|▎         | 855/30802 [1:17:29<56:04:28,  6.74s/it]\u001b[A\n",
      "  3%|▎         | 856/30802 [1:17:36<56:51:29,  6.84s/it]\u001b[A"
     ]
    },
    {
     "name": "stdout",
     "output_type": "stream",
     "text": [
      "Epoch 0, Batch 855, loss 196083904.0\n"
     ]
    },
    {
     "name": "stderr",
     "output_type": "stream",
     "text": [
      "\n",
      "  3%|▎         | 857/30802 [1:17:42<55:16:41,  6.65s/it]\u001b[A\n",
      "  3%|▎         | 858/30802 [1:17:49<55:43:49,  6.70s/it]\u001b[A\n",
      "  3%|▎         | 859/30802 [1:17:56<54:49:45,  6.59s/it]\u001b[A\n",
      "  3%|▎         | 860/30802 [1:18:02<55:22:08,  6.66s/it]\u001b[A\n",
      "  3%|▎         | 861/30802 [1:18:09<55:12:03,  6.64s/it]\u001b[A"
     ]
    },
    {
     "name": "stdout",
     "output_type": "stream",
     "text": [
      "Epoch 0, Batch 860, loss 390890464.0\n"
     ]
    },
    {
     "name": "stderr",
     "output_type": "stream",
     "text": [
      "\n",
      "  3%|▎         | 862/30802 [1:18:16<55:13:26,  6.64s/it]\u001b[A\n",
      "  3%|▎         | 863/30802 [1:18:23<55:46:50,  6.71s/it]\u001b[A\n",
      "  3%|▎         | 864/30802 [1:18:29<56:12:02,  6.76s/it]\u001b[A\n",
      "  3%|▎         | 865/30802 [1:18:37<58:12:55,  7.00s/it]\u001b[A\n",
      "  3%|▎         | 866/30802 [1:18:44<58:12:56,  7.00s/it]\u001b[A"
     ]
    },
    {
     "name": "stdout",
     "output_type": "stream",
     "text": [
      "Epoch 0, Batch 865, loss 351156192.0\n"
     ]
    },
    {
     "name": "stderr",
     "output_type": "stream",
     "text": [
      "\n",
      "  3%|▎         | 867/30802 [1:18:51<57:39:05,  6.93s/it]\u001b[A\n",
      "  3%|▎         | 868/30802 [1:18:57<56:43:59,  6.82s/it]\u001b[A\n",
      "  3%|▎         | 869/30802 [1:19:04<56:37:44,  6.81s/it]\u001b[A\n",
      "  3%|▎         | 870/30802 [1:19:11<55:54:09,  6.72s/it]\u001b[A\n",
      "  3%|▎         | 871/30802 [1:19:17<55:12:48,  6.64s/it]\u001b[A"
     ]
    },
    {
     "name": "stdout",
     "output_type": "stream",
     "text": [
      "Epoch 0, Batch 870, loss 673037760.0\n"
     ]
    },
    {
     "name": "stderr",
     "output_type": "stream",
     "text": [
      "\n",
      "  3%|▎         | 872/30802 [1:19:23<54:32:42,  6.56s/it]\u001b[A\n",
      "  3%|▎         | 873/30802 [1:19:30<53:58:50,  6.49s/it]\u001b[A\n",
      "  3%|▎         | 874/30802 [1:19:38<57:29:52,  6.92s/it]\u001b[A\n",
      "  3%|▎         | 875/30802 [1:19:44<56:54:07,  6.84s/it]\u001b[A\n",
      "  3%|▎         | 876/30802 [1:19:51<57:00:03,  6.86s/it]\u001b[A"
     ]
    },
    {
     "name": "stdout",
     "output_type": "stream",
     "text": [
      "Epoch 0, Batch 875, loss 227176272.0\n"
     ]
    },
    {
     "name": "stderr",
     "output_type": "stream",
     "text": [
      "\n",
      "  3%|▎         | 877/30802 [1:19:58<55:55:21,  6.73s/it]\u001b[A\n",
      "  3%|▎         | 878/30802 [1:20:05<56:09:40,  6.76s/it]\u001b[A\n",
      "  3%|▎         | 879/30802 [1:20:11<56:22:48,  6.78s/it]\u001b[A\n",
      "  3%|▎         | 880/30802 [1:20:18<57:09:55,  6.88s/it]\u001b[A\n",
      "  3%|▎         | 881/30802 [1:20:26<57:58:49,  6.98s/it]\u001b[A"
     ]
    },
    {
     "name": "stdout",
     "output_type": "stream",
     "text": [
      "Epoch 0, Batch 880, loss 162949104.0\n"
     ]
    },
    {
     "name": "stderr",
     "output_type": "stream",
     "text": [
      "\n",
      "  3%|▎         | 882/30802 [1:20:32<57:17:58,  6.89s/it]\u001b[A\n",
      "  3%|▎         | 883/30802 [1:20:39<57:05:33,  6.87s/it]\u001b[A\n",
      "  3%|▎         | 884/30802 [1:20:46<56:44:13,  6.83s/it]\u001b[A\n",
      "  3%|▎         | 885/30802 [1:20:52<55:30:37,  6.68s/it]\u001b[A\n",
      "  3%|▎         | 886/30802 [1:20:59<54:38:03,  6.57s/it]\u001b[A"
     ]
    },
    {
     "name": "stdout",
     "output_type": "stream",
     "text": [
      "Epoch 0, Batch 885, loss 589083392.0\n"
     ]
    },
    {
     "name": "stderr",
     "output_type": "stream",
     "text": [
      "\n",
      "  3%|▎         | 887/30802 [1:21:05<54:32:46,  6.56s/it]\u001b[A\n",
      "  3%|▎         | 888/30802 [1:21:12<54:11:04,  6.52s/it]\u001b[A\n",
      "  3%|▎         | 889/30802 [1:21:18<54:46:25,  6.59s/it]\u001b[A\n",
      "  3%|▎         | 890/30802 [1:21:25<55:11:24,  6.64s/it]\u001b[A\n",
      "  3%|▎         | 891/30802 [1:21:32<55:41:29,  6.70s/it]\u001b[A"
     ]
    },
    {
     "name": "stdout",
     "output_type": "stream",
     "text": [
      "Epoch 0, Batch 890, loss 90425320.0\n"
     ]
    },
    {
     "name": "stderr",
     "output_type": "stream",
     "text": [
      "\n",
      "  3%|▎         | 892/30802 [1:21:38<55:19:13,  6.66s/it]\u001b[A\n",
      "  3%|▎         | 893/30802 [1:21:45<55:07:01,  6.63s/it]\u001b[A\n",
      "  3%|▎         | 894/30802 [1:21:52<55:51:28,  6.72s/it]\u001b[A\n",
      "  3%|▎         | 895/30802 [1:21:59<55:26:20,  6.67s/it]\u001b[A\n",
      "  3%|▎         | 896/30802 [1:22:05<55:02:20,  6.63s/it]\u001b[A"
     ]
    },
    {
     "name": "stdout",
     "output_type": "stream",
     "text": [
      "Epoch 0, Batch 895, loss 552265344.0\n"
     ]
    },
    {
     "name": "stderr",
     "output_type": "stream",
     "text": [
      "\n",
      "  3%|▎         | 897/30802 [1:22:12<54:54:32,  6.61s/it]\u001b[A\n",
      "  3%|▎         | 898/30802 [1:22:18<54:44:52,  6.59s/it]\u001b[A\n",
      "  3%|▎         | 899/30802 [1:22:25<54:51:56,  6.61s/it]\u001b[A\n",
      "  3%|▎         | 900/30802 [1:22:31<54:25:42,  6.55s/it]\u001b[A\n",
      "  3%|▎         | 901/30802 [1:22:38<54:01:34,  6.50s/it]\u001b[A"
     ]
    },
    {
     "name": "stdout",
     "output_type": "stream",
     "text": [
      "Epoch 0, Batch 900, loss 584995904.0\n"
     ]
    },
    {
     "name": "stderr",
     "output_type": "stream",
     "text": [
      "\n",
      "  3%|▎         | 902/30802 [1:22:44<53:33:25,  6.45s/it]\u001b[A\n",
      "  3%|▎         | 903/30802 [1:22:50<53:46:56,  6.48s/it]\u001b[A\n",
      "  3%|▎         | 904/30802 [1:22:58<56:59:32,  6.86s/it]\u001b[A\n",
      "  3%|▎         | 905/30802 [1:23:05<55:59:07,  6.74s/it]\u001b[A\n",
      "  3%|▎         | 906/30802 [1:23:11<55:18:40,  6.66s/it]\u001b[A"
     ]
    },
    {
     "name": "stdout",
     "output_type": "stream",
     "text": [
      "Epoch 0, Batch 905, loss 649878144.0\n"
     ]
    },
    {
     "name": "stderr",
     "output_type": "stream",
     "text": [
      "\n",
      "  3%|▎         | 907/30802 [1:23:18<54:35:21,  6.57s/it]\u001b[A\n",
      "  3%|▎         | 908/30802 [1:23:24<54:50:41,  6.60s/it]\u001b[A\n",
      "  3%|▎         | 909/30802 [1:23:31<54:38:33,  6.58s/it]\u001b[A\n",
      "  3%|▎         | 910/30802 [1:23:37<54:55:33,  6.61s/it]\u001b[A\n",
      "  3%|▎         | 911/30802 [1:23:44<54:54:34,  6.61s/it]\u001b[A"
     ]
    },
    {
     "name": "stdout",
     "output_type": "stream",
     "text": [
      "Epoch 0, Batch 910, loss 581576704.0\n"
     ]
    },
    {
     "name": "stderr",
     "output_type": "stream",
     "text": [
      "\n",
      "  3%|▎         | 912/30802 [1:23:51<54:55:13,  6.61s/it]\u001b[A\n",
      "  3%|▎         | 913/30802 [1:23:57<54:14:00,  6.53s/it]\u001b[A\n",
      "  3%|▎         | 914/30802 [1:24:04<54:24:24,  6.55s/it]\u001b[A\n",
      "  3%|▎         | 915/30802 [1:24:10<54:31:17,  6.57s/it]\u001b[A\n",
      "  3%|▎         | 916/30802 [1:24:17<55:17:36,  6.66s/it]\u001b[A"
     ]
    },
    {
     "name": "stdout",
     "output_type": "stream",
     "text": [
      "Epoch 0, Batch 915, loss 326670592.0\n"
     ]
    },
    {
     "name": "stderr",
     "output_type": "stream",
     "text": [
      "\n",
      "  3%|▎         | 917/30802 [1:24:24<55:15:07,  6.66s/it]\u001b[A\n",
      "  3%|▎         | 918/30802 [1:24:31<55:41:28,  6.71s/it]\u001b[A\n",
      "  3%|▎         | 919/30802 [1:24:37<54:42:49,  6.59s/it]\u001b[A\n",
      "  3%|▎         | 920/30802 [1:24:43<54:22:59,  6.55s/it]\u001b[A\n",
      "  3%|▎         | 921/30802 [1:24:49<53:14:27,  6.41s/it]\u001b[A"
     ]
    },
    {
     "name": "stdout",
     "output_type": "stream",
     "text": [
      "Epoch 0, Batch 920, loss 594078208.0\n"
     ]
    },
    {
     "name": "stderr",
     "output_type": "stream",
     "text": [
      "\n",
      "  3%|▎         | 922/30802 [1:24:56<52:28:13,  6.32s/it]\u001b[A\n",
      "  3%|▎         | 923/30802 [1:25:02<53:09:02,  6.40s/it]\u001b[A\n",
      "  3%|▎         | 924/30802 [1:25:09<53:05:26,  6.40s/it]\u001b[A\n",
      "  3%|▎         | 925/30802 [1:25:15<52:44:47,  6.36s/it]\u001b[A\n",
      "  3%|▎         | 926/30802 [1:25:21<53:26:20,  6.44s/it]\u001b[A"
     ]
    },
    {
     "name": "stdout",
     "output_type": "stream",
     "text": [
      "Epoch 0, Batch 925, loss 183043472.0\n"
     ]
    },
    {
     "name": "stderr",
     "output_type": "stream",
     "text": [
      "\n",
      "  3%|▎         | 927/30802 [1:25:28<54:22:06,  6.55s/it]\u001b[A\n",
      "  3%|▎         | 928/30802 [1:25:35<55:07:37,  6.64s/it]\u001b[A\n",
      "  3%|▎         | 929/30802 [1:25:42<55:02:19,  6.63s/it]\u001b[A\n",
      "  3%|▎         | 930/30802 [1:25:48<54:35:45,  6.58s/it]\u001b[A\n",
      "  3%|▎         | 931/30802 [1:25:55<54:34:47,  6.58s/it]\u001b[A"
     ]
    },
    {
     "name": "stdout",
     "output_type": "stream",
     "text": [
      "Epoch 0, Batch 930, loss 671747008.0\n"
     ]
    },
    {
     "name": "stderr",
     "output_type": "stream",
     "text": [
      "\n",
      "  3%|▎         | 932/30802 [1:26:01<54:37:30,  6.58s/it]\u001b[A\n",
      "  3%|▎         | 933/30802 [1:26:08<55:41:19,  6.71s/it]\u001b[A\n",
      "  3%|▎         | 934/30802 [1:26:15<54:32:16,  6.57s/it]\u001b[A\n",
      "  3%|▎         | 935/30802 [1:26:22<55:42:47,  6.72s/it]\u001b[A\n",
      "  3%|▎         | 936/30802 [1:26:28<55:08:04,  6.65s/it]\u001b[A"
     ]
    },
    {
     "name": "stdout",
     "output_type": "stream",
     "text": [
      "Epoch 0, Batch 935, loss 533680512.0\n"
     ]
    },
    {
     "name": "stderr",
     "output_type": "stream",
     "text": [
      "\n",
      "  3%|▎         | 937/30802 [1:26:35<54:54:58,  6.62s/it]\u001b[A\n",
      "  3%|▎         | 938/30802 [1:26:41<54:35:42,  6.58s/it]\u001b[A\n",
      "  3%|▎         | 939/30802 [1:26:48<54:29:19,  6.57s/it]\u001b[A\n",
      "  3%|▎         | 940/30802 [1:26:55<56:43:57,  6.84s/it]\u001b[A\n",
      "  3%|▎         | 941/30802 [1:27:02<56:29:08,  6.81s/it]\u001b[A"
     ]
    },
    {
     "name": "stdout",
     "output_type": "stream",
     "text": [
      "Epoch 0, Batch 940, loss 524352384.0\n"
     ]
    },
    {
     "name": "stderr",
     "output_type": "stream",
     "text": [
      "\n",
      "  3%|▎         | 942/30802 [1:27:08<55:32:20,  6.70s/it]\u001b[A\n",
      "  3%|▎         | 943/30802 [1:27:15<54:52:15,  6.62s/it]\u001b[A\n",
      "  3%|▎         | 944/30802 [1:27:21<54:10:19,  6.53s/it]\u001b[A\n",
      "  3%|▎         | 945/30802 [1:27:28<54:14:27,  6.54s/it]\u001b[A\n",
      "  3%|▎         | 946/30802 [1:27:35<56:09:53,  6.77s/it]\u001b[A"
     ]
    },
    {
     "name": "stdout",
     "output_type": "stream",
     "text": [
      "Epoch 0, Batch 945, loss 38164740.0\n"
     ]
    },
    {
     "name": "stderr",
     "output_type": "stream",
     "text": [
      "\n",
      "  3%|▎         | 947/30802 [1:27:42<56:18:46,  6.79s/it]\u001b[A\n",
      "  3%|▎         | 948/30802 [1:27:48<55:34:18,  6.70s/it]\u001b[A\n",
      "  3%|▎         | 949/30802 [1:27:55<54:23:24,  6.56s/it]\u001b[A\n",
      "  3%|▎         | 950/30802 [1:28:01<53:57:03,  6.51s/it]\u001b[A\n",
      "  3%|▎         | 951/30802 [1:28:08<54:17:58,  6.55s/it]\u001b[A"
     ]
    },
    {
     "name": "stdout",
     "output_type": "stream",
     "text": [
      "Epoch 0, Batch 950, loss 421185792.0\n"
     ]
    },
    {
     "name": "stderr",
     "output_type": "stream",
     "text": [
      "\n",
      "  3%|▎         | 952/30802 [1:28:15<55:19:45,  6.67s/it]\u001b[A\n",
      "  3%|▎         | 953/30802 [1:28:21<55:56:20,  6.75s/it]\u001b[A\n",
      "  3%|▎         | 954/30802 [1:28:28<55:48:26,  6.73s/it]\u001b[A\n",
      "  3%|▎         | 955/30802 [1:28:35<55:48:26,  6.73s/it]\u001b[A\n",
      "  3%|▎         | 956/30802 [1:28:42<56:17:40,  6.79s/it]\u001b[A"
     ]
    },
    {
     "name": "stdout",
     "output_type": "stream",
     "text": [
      "Epoch 0, Batch 955, loss 504331456.0\n"
     ]
    },
    {
     "name": "stderr",
     "output_type": "stream",
     "text": [
      "\n",
      "  3%|▎         | 957/30802 [1:28:48<55:26:03,  6.69s/it]\u001b[A\n",
      "  3%|▎         | 958/30802 [1:28:55<55:09:32,  6.65s/it]\u001b[A\n",
      "  3%|▎         | 959/30802 [1:29:02<56:00:58,  6.76s/it]\u001b[A\n",
      "  3%|▎         | 960/30802 [1:29:08<55:41:11,  6.72s/it]\u001b[A\n",
      "  3%|▎         | 961/30802 [1:29:15<55:31:26,  6.70s/it]\u001b[A"
     ]
    },
    {
     "name": "stdout",
     "output_type": "stream",
     "text": [
      "Epoch 0, Batch 960, loss 205563488.0\n"
     ]
    },
    {
     "name": "stderr",
     "output_type": "stream",
     "text": [
      "\n",
      "  3%|▎         | 962/30802 [1:29:22<56:11:11,  6.78s/it]\u001b[A\n",
      "  3%|▎         | 963/30802 [1:29:29<55:35:29,  6.71s/it]\u001b[A\n",
      "  3%|▎         | 964/30802 [1:29:36<56:09:55,  6.78s/it]\u001b[A\n",
      "  3%|▎         | 965/30802 [1:29:43<57:11:17,  6.90s/it]\u001b[A\n",
      "  3%|▎         | 966/30802 [1:29:48<53:05:07,  6.41s/it]\u001b[A"
     ]
    },
    {
     "name": "stdout",
     "output_type": "stream",
     "text": [
      "Epoch 0, Batch 965, loss 396521024.0\n"
     ]
    },
    {
     "name": "stderr",
     "output_type": "stream",
     "text": [
      "\n",
      "  3%|▎         | 967/30802 [1:29:53<49:35:56,  5.98s/it]\u001b[A\n",
      "  3%|▎         | 968/30802 [1:29:58<47:58:10,  5.79s/it]\u001b[A\n",
      "  3%|▎         | 969/30802 [1:30:04<46:41:51,  5.64s/it]\u001b[A\n",
      "  3%|▎         | 970/30802 [1:30:09<46:27:03,  5.61s/it]\u001b[A\n",
      "  3%|▎         | 971/30802 [1:30:15<46:13:00,  5.58s/it]\u001b[A"
     ]
    },
    {
     "name": "stdout",
     "output_type": "stream",
     "text": [
      "Epoch 0, Batch 970, loss 513130720.0\n"
     ]
    },
    {
     "name": "stderr",
     "output_type": "stream",
     "text": [
      "\n",
      "  3%|▎         | 972/30802 [1:30:20<46:17:52,  5.59s/it]\u001b[A\n",
      "  3%|▎         | 973/30802 [1:30:26<45:39:39,  5.51s/it]\u001b[A\n",
      "  3%|▎         | 974/30802 [1:30:31<45:38:14,  5.51s/it]\u001b[A\n",
      "  3%|▎         | 975/30802 [1:30:37<46:34:44,  5.62s/it]\u001b[A\n",
      "  3%|▎         | 976/30802 [1:30:45<51:22:25,  6.20s/it]\u001b[A"
     ]
    },
    {
     "name": "stdout",
     "output_type": "stream",
     "text": [
      "Epoch 0, Batch 975, loss 69475504.0\n"
     ]
    },
    {
     "name": "stderr",
     "output_type": "stream",
     "text": [
      "\n",
      "  3%|▎         | 977/30802 [1:30:51<53:12:51,  6.42s/it]\u001b[A\n",
      "  3%|▎         | 978/30802 [1:30:58<53:16:17,  6.43s/it]\u001b[A\n",
      "  3%|▎         | 979/30802 [1:31:05<54:14:50,  6.55s/it]\u001b[A\n",
      "  3%|▎         | 980/30802 [1:31:11<54:10:07,  6.54s/it]\u001b[A\n",
      "  3%|▎         | 981/30802 [1:31:18<53:54:25,  6.51s/it]\u001b[A"
     ]
    },
    {
     "name": "stdout",
     "output_type": "stream",
     "text": [
      "Epoch 0, Batch 980, loss 439004416.0\n"
     ]
    },
    {
     "name": "stderr",
     "output_type": "stream",
     "text": [
      "\n",
      "  3%|▎         | 982/30802 [1:31:24<53:39:30,  6.48s/it]\u001b[A\n",
      "  3%|▎         | 983/30802 [1:31:30<53:02:54,  6.40s/it]\u001b[A\n",
      "  3%|▎         | 984/30802 [1:31:37<53:20:08,  6.44s/it]\u001b[A\n",
      "  3%|▎         | 985/30802 [1:31:43<52:48:58,  6.38s/it]\u001b[A\n",
      "  3%|▎         | 986/30802 [1:31:50<53:30:03,  6.46s/it]\u001b[A"
     ]
    },
    {
     "name": "stdout",
     "output_type": "stream",
     "text": [
      "Epoch 0, Batch 985, loss 305488448.0\n"
     ]
    },
    {
     "name": "stderr",
     "output_type": "stream",
     "text": [
      "\n",
      "  3%|▎         | 987/30802 [1:31:56<53:30:40,  6.46s/it]\u001b[A\n",
      "  3%|▎         | 988/30802 [1:32:02<52:46:55,  6.37s/it]\u001b[A\n",
      "  3%|▎         | 989/30802 [1:32:09<53:37:02,  6.47s/it]\u001b[A\n",
      "  3%|▎         | 990/30802 [1:32:16<53:51:00,  6.50s/it]\u001b[A\n",
      "  3%|▎         | 991/30802 [1:32:23<55:31:36,  6.71s/it]\u001b[A"
     ]
    },
    {
     "name": "stdout",
     "output_type": "stream",
     "text": [
      "Epoch 0, Batch 990, loss 122754976.0\n"
     ]
    },
    {
     "name": "stderr",
     "output_type": "stream",
     "text": [
      "\n",
      "  3%|▎         | 992/30802 [1:32:30<55:40:41,  6.72s/it]\u001b[A\n",
      "  3%|▎         | 993/30802 [1:32:36<54:37:18,  6.60s/it]\u001b[A\n",
      "  3%|▎         | 994/30802 [1:32:41<51:09:27,  6.18s/it]\u001b[A\n",
      "  3%|▎         | 995/30802 [1:32:46<47:53:10,  5.78s/it]\u001b[A\n",
      "  3%|▎         | 996/30802 [1:32:51<46:38:05,  5.63s/it]\u001b[A"
     ]
    },
    {
     "name": "stdout",
     "output_type": "stream",
     "text": [
      "Epoch 0, Batch 995, loss 136344528.0\n"
     ]
    },
    {
     "name": "stderr",
     "output_type": "stream",
     "text": [
      "\n",
      "  3%|▎         | 997/30802 [1:32:57<46:01:08,  5.56s/it]\u001b[A\n",
      "  3%|▎         | 998/30802 [1:33:02<44:23:34,  5.36s/it]\u001b[A\n",
      "  3%|▎         | 999/30802 [1:33:07<43:35:51,  5.27s/it]\u001b[A\n",
      "  3%|▎         | 1000/30802 [1:33:12<43:29:01,  5.25s/it]\u001b[A\n",
      "  3%|▎         | 1001/30802 [1:33:17<43:38:39,  5.27s/it]\u001b[A"
     ]
    },
    {
     "name": "stdout",
     "output_type": "stream",
     "text": [
      "Epoch 0, Batch 1000, loss 660655552.0\n"
     ]
    },
    {
     "name": "stderr",
     "output_type": "stream",
     "text": [
      "\n",
      "  3%|▎         | 1002/30802 [1:33:23<44:04:17,  5.32s/it]\u001b[A\n",
      "  3%|▎         | 1003/30802 [1:33:28<44:56:58,  5.43s/it]\u001b[A\n",
      "  3%|▎         | 1004/30802 [1:33:34<44:59:01,  5.43s/it]\u001b[A\n",
      "  3%|▎         | 1005/30802 [1:33:39<45:41:41,  5.52s/it]\u001b[A\n",
      "  3%|▎         | 1006/30802 [1:33:45<46:43:25,  5.65s/it]\u001b[A"
     ]
    },
    {
     "name": "stdout",
     "output_type": "stream",
     "text": [
      "Epoch 0, Batch 1005, loss 292087648.0\n"
     ]
    },
    {
     "name": "stderr",
     "output_type": "stream",
     "text": [
      "\n",
      "  3%|▎         | 1007/30802 [1:33:51<45:50:56,  5.54s/it]\u001b[A\n",
      "  3%|▎         | 1008/30802 [1:33:56<45:30:50,  5.50s/it]\u001b[A\n",
      "  3%|▎         | 1009/30802 [1:34:01<45:01:32,  5.44s/it]\u001b[A\n",
      "  3%|▎         | 1010/30802 [1:34:07<45:17:03,  5.47s/it]\u001b[A\n",
      "  3%|▎         | 1011/30802 [1:34:12<44:33:55,  5.39s/it]\u001b[A"
     ]
    },
    {
     "name": "stdout",
     "output_type": "stream",
     "text": [
      "Epoch 0, Batch 1010, loss 699850048.0\n"
     ]
    },
    {
     "name": "stderr",
     "output_type": "stream",
     "text": [
      "\n",
      "  3%|▎         | 1012/30802 [1:34:17<44:19:18,  5.36s/it]\u001b[A\n",
      "  3%|▎         | 1013/30802 [1:34:22<43:44:28,  5.29s/it]\u001b[A\n",
      "  3%|▎         | 1014/30802 [1:34:27<42:55:58,  5.19s/it]\u001b[A\n",
      "  3%|▎         | 1015/30802 [1:34:32<42:32:30,  5.14s/it]\u001b[A\n",
      "  3%|▎         | 1016/30802 [1:34:38<42:18:32,  5.11s/it]\u001b[A"
     ]
    },
    {
     "name": "stdout",
     "output_type": "stream",
     "text": [
      "Epoch 0, Batch 1015, loss 297631424.0\n"
     ]
    },
    {
     "name": "stderr",
     "output_type": "stream",
     "text": [
      "\n",
      "  3%|▎         | 1017/30802 [1:34:43<42:37:01,  5.15s/it]\u001b[A\n",
      "  3%|▎         | 1018/30802 [1:34:48<42:54:41,  5.19s/it]\u001b[A\n",
      "  3%|▎         | 1019/30802 [1:34:53<42:49:19,  5.18s/it]\u001b[A\n",
      "  3%|▎         | 1020/30802 [1:34:59<43:13:51,  5.23s/it]\u001b[A\n",
      "  3%|▎         | 1021/30802 [1:35:04<43:51:03,  5.30s/it]\u001b[A"
     ]
    },
    {
     "name": "stdout",
     "output_type": "stream",
     "text": [
      "Epoch 0, Batch 1020, loss 70375664.0\n"
     ]
    },
    {
     "name": "stderr",
     "output_type": "stream",
     "text": [
      "\n",
      "  3%|▎         | 1022/30802 [1:35:09<43:53:52,  5.31s/it]\u001b[A\n",
      "  3%|▎         | 1023/30802 [1:35:14<43:35:01,  5.27s/it]\u001b[A\n",
      "  3%|▎         | 1024/30802 [1:35:19<42:46:56,  5.17s/it]\u001b[A\n",
      "  3%|▎         | 1025/30802 [1:35:25<42:40:46,  5.16s/it]\u001b[A\n",
      "  3%|▎         | 1026/30802 [1:35:30<42:45:41,  5.17s/it]\u001b[A"
     ]
    },
    {
     "name": "stdout",
     "output_type": "stream",
     "text": [
      "Epoch 0, Batch 1025, loss 472614048.0\n"
     ]
    },
    {
     "name": "stderr",
     "output_type": "stream",
     "text": [
      "\n",
      "  3%|▎         | 1027/30802 [1:35:35<43:06:22,  5.21s/it]\u001b[A\n",
      "  3%|▎         | 1028/30802 [1:35:40<42:54:39,  5.19s/it]\u001b[A\n",
      "  3%|▎         | 1029/30802 [1:35:45<42:44:49,  5.17s/it]\u001b[A\n",
      "  3%|▎         | 1030/30802 [1:35:51<43:08:29,  5.22s/it]\u001b[A\n",
      "  3%|▎         | 1031/30802 [1:35:56<43:18:37,  5.24s/it]\u001b[A"
     ]
    },
    {
     "name": "stdout",
     "output_type": "stream",
     "text": [
      "Epoch 0, Batch 1030, loss 104534480.0\n"
     ]
    },
    {
     "name": "stderr",
     "output_type": "stream",
     "text": [
      "\n",
      "  3%|▎         | 1032/30802 [1:36:01<43:11:33,  5.22s/it]\u001b[A\n",
      "  3%|▎         | 1033/30802 [1:36:06<43:31:09,  5.26s/it]\u001b[A\n",
      "  3%|▎         | 1034/30802 [1:36:12<42:59:18,  5.20s/it]\u001b[A\n",
      "  3%|▎         | 1035/30802 [1:36:17<42:44:31,  5.17s/it]\u001b[A\n",
      "  3%|▎         | 1036/30802 [1:36:21<41:58:09,  5.08s/it]\u001b[A"
     ]
    },
    {
     "name": "stdout",
     "output_type": "stream",
     "text": [
      "Epoch 0, Batch 1035, loss 396227584.0\n"
     ]
    },
    {
     "name": "stderr",
     "output_type": "stream",
     "text": [
      "\n",
      "  3%|▎         | 1037/30802 [1:36:26<41:27:49,  5.01s/it]\u001b[A\n",
      "  3%|▎         | 1038/30802 [1:36:31<41:38:40,  5.04s/it]\u001b[A\n",
      "  3%|▎         | 1039/30802 [1:36:37<42:00:37,  5.08s/it]\u001b[A\n",
      "  3%|▎         | 1040/30802 [1:36:42<42:27:53,  5.14s/it]\u001b[A\n",
      "  3%|▎         | 1041/30802 [1:36:47<42:35:11,  5.15s/it]\u001b[A"
     ]
    },
    {
     "name": "stdout",
     "output_type": "stream",
     "text": [
      "Epoch 0, Batch 1040, loss 396707168.0\n"
     ]
    },
    {
     "name": "stderr",
     "output_type": "stream",
     "text": [
      "\n",
      "  3%|▎         | 1042/30802 [1:36:53<43:49:00,  5.30s/it]\u001b[A\n",
      "  3%|▎         | 1043/30802 [1:36:59<47:09:54,  5.71s/it]\u001b[A\n",
      "  3%|▎         | 1044/30802 [1:37:06<49:41:21,  6.01s/it]\u001b[A\n",
      "  3%|▎         | 1045/30802 [1:37:13<50:36:26,  6.12s/it]\u001b[A\n",
      "  3%|▎         | 1046/30802 [1:37:19<51:04:14,  6.18s/it]\u001b[A"
     ]
    },
    {
     "name": "stdout",
     "output_type": "stream",
     "text": [
      "Epoch 0, Batch 1045, loss 290548896.0\n"
     ]
    },
    {
     "name": "stderr",
     "output_type": "stream",
     "text": [
      "\n",
      "  3%|▎         | 1047/30802 [1:37:26<52:32:13,  6.36s/it]\u001b[A\n",
      "  3%|▎         | 1048/30802 [1:37:32<53:00:29,  6.41s/it]\u001b[A\n",
      "  3%|▎         | 1049/30802 [1:37:38<52:02:11,  6.30s/it]\u001b[A\n",
      "  3%|▎         | 1050/30802 [1:37:44<51:12:11,  6.20s/it]\u001b[A\n",
      "  3%|▎         | 1051/30802 [1:37:51<52:12:34,  6.32s/it]\u001b[A"
     ]
    },
    {
     "name": "stdout",
     "output_type": "stream",
     "text": [
      "Epoch 0, Batch 1050, loss 194119760.0\n"
     ]
    },
    {
     "name": "stderr",
     "output_type": "stream",
     "text": [
      "\n",
      "  3%|▎         | 1052/30802 [1:37:58<53:45:44,  6.51s/it]\u001b[A\n",
      "  3%|▎         | 1053/30802 [1:38:04<54:32:39,  6.60s/it]\u001b[A\n",
      "  3%|▎         | 1054/30802 [1:38:11<55:28:19,  6.71s/it]\u001b[A\n",
      "  3%|▎         | 1055/30802 [1:38:18<56:10:46,  6.80s/it]\u001b[A\n",
      "  3%|▎         | 1056/30802 [1:38:25<55:34:02,  6.73s/it]\u001b[A"
     ]
    },
    {
     "name": "stdout",
     "output_type": "stream",
     "text": [
      "Epoch 0, Batch 1055, loss 648126784.0\n"
     ]
    },
    {
     "name": "stderr",
     "output_type": "stream",
     "text": [
      "\n",
      "  3%|▎         | 1057/30802 [1:38:32<56:09:25,  6.80s/it]\u001b[A\n",
      "  3%|▎         | 1058/30802 [1:38:39<55:52:19,  6.76s/it]\u001b[A\n",
      "  3%|▎         | 1059/30802 [1:38:45<54:58:44,  6.65s/it]\u001b[A\n",
      "  3%|▎         | 1060/30802 [1:38:52<54:59:01,  6.66s/it]\u001b[A\n",
      "  3%|▎         | 1061/30802 [1:38:59<55:33:24,  6.72s/it]\u001b[A"
     ]
    },
    {
     "name": "stdout",
     "output_type": "stream",
     "text": [
      "Epoch 0, Batch 1060, loss 285915200.0\n"
     ]
    },
    {
     "name": "stderr",
     "output_type": "stream",
     "text": [
      "\n",
      "  3%|▎         | 1062/30802 [1:39:05<54:55:33,  6.65s/it]\u001b[A\n",
      "  3%|▎         | 1063/30802 [1:39:12<54:41:16,  6.62s/it]\u001b[A\n",
      "  3%|▎         | 1064/30802 [1:39:18<54:52:18,  6.64s/it]\u001b[A\n",
      "  3%|▎         | 1065/30802 [1:39:25<53:57:48,  6.53s/it]\u001b[A\n",
      "  3%|▎         | 1066/30802 [1:39:32<54:57:58,  6.65s/it]\u001b[A"
     ]
    },
    {
     "name": "stdout",
     "output_type": "stream",
     "text": [
      "Epoch 0, Batch 1065, loss 233514496.0\n"
     ]
    },
    {
     "name": "stderr",
     "output_type": "stream",
     "text": [
      "\n",
      "  3%|▎         | 1067/30802 [1:39:38<54:54:37,  6.65s/it]\u001b[A\n",
      "  3%|▎         | 1068/30802 [1:39:45<54:50:38,  6.64s/it]\u001b[A\n",
      "  3%|▎         | 1069/30802 [1:39:51<54:15:27,  6.57s/it]\u001b[A\n",
      "  3%|▎         | 1070/30802 [1:39:57<53:07:48,  6.43s/it]\u001b[A\n",
      "  3%|▎         | 1071/30802 [1:40:04<52:50:54,  6.40s/it]\u001b[A"
     ]
    },
    {
     "name": "stdout",
     "output_type": "stream",
     "text": [
      "Epoch 0, Batch 1070, loss 687816768.0\n"
     ]
    },
    {
     "name": "stderr",
     "output_type": "stream",
     "text": [
      "\n",
      "  3%|▎         | 1072/30802 [1:40:10<53:13:42,  6.45s/it]\u001b[A\n",
      "  3%|▎         | 1073/30802 [1:40:16<52:43:39,  6.39s/it]\u001b[A\n",
      "  3%|▎         | 1074/30802 [1:40:23<52:10:42,  6.32s/it]\u001b[A\n",
      "  3%|▎         | 1075/30802 [1:40:29<52:36:09,  6.37s/it]\u001b[A\n",
      "  3%|▎         | 1076/30802 [1:40:36<53:53:02,  6.53s/it]\u001b[A"
     ]
    },
    {
     "name": "stdout",
     "output_type": "stream",
     "text": [
      "Epoch 0, Batch 1075, loss 33466788.0\n"
     ]
    },
    {
     "name": "stderr",
     "output_type": "stream",
     "text": [
      "\n",
      "  3%|▎         | 1077/30802 [1:40:43<55:40:03,  6.74s/it]\u001b[A\n",
      "  3%|▎         | 1078/30802 [1:40:49<54:00:47,  6.54s/it]\u001b[A\n",
      "  4%|▎         | 1079/30802 [1:40:56<53:56:00,  6.53s/it]\u001b[A\n",
      "  4%|▎         | 1080/30802 [1:41:02<53:19:32,  6.46s/it]\u001b[A\n",
      "  4%|▎         | 1081/30802 [1:41:08<52:48:24,  6.40s/it]\u001b[A"
     ]
    },
    {
     "name": "stdout",
     "output_type": "stream",
     "text": [
      "Epoch 0, Batch 1080, loss 492297056.0\n"
     ]
    },
    {
     "name": "stderr",
     "output_type": "stream",
     "text": [
      "\n",
      "  4%|▎         | 1082/30802 [1:41:15<53:20:27,  6.46s/it]\u001b[A\n",
      "  4%|▎         | 1083/30802 [1:41:21<52:52:35,  6.41s/it]\u001b[A\n",
      "  4%|▎         | 1084/30802 [1:41:28<53:50:32,  6.52s/it]\u001b[A\n",
      "  4%|▎         | 1085/30802 [1:41:35<54:06:34,  6.55s/it]\u001b[A\n",
      "  4%|▎         | 1086/30802 [1:41:41<53:29:43,  6.48s/it]\u001b[A"
     ]
    },
    {
     "name": "stdout",
     "output_type": "stream",
     "text": [
      "Epoch 0, Batch 1085, loss 520010656.0\n"
     ]
    },
    {
     "name": "stderr",
     "output_type": "stream",
     "text": [
      "\n",
      "  4%|▎         | 1087/30802 [1:41:48<53:53:46,  6.53s/it]\u001b[A\n",
      "  4%|▎         | 1088/30802 [1:41:54<54:29:54,  6.60s/it]\u001b[A\n",
      "  4%|▎         | 1089/30802 [1:42:01<53:47:59,  6.52s/it]\u001b[A\n",
      "  4%|▎         | 1090/30802 [1:42:07<53:55:16,  6.53s/it]\u001b[A\n",
      "  4%|▎         | 1091/30802 [1:42:14<54:07:46,  6.56s/it]\u001b[A"
     ]
    },
    {
     "name": "stdout",
     "output_type": "stream",
     "text": [
      "Epoch 0, Batch 1090, loss 607415680.0\n"
     ]
    },
    {
     "name": "stderr",
     "output_type": "stream",
     "text": [
      "\n",
      "  4%|▎         | 1092/30802 [1:42:21<54:25:09,  6.59s/it]\u001b[A\n",
      "  4%|▎         | 1093/30802 [1:42:27<53:10:35,  6.44s/it]\u001b[A\n",
      "  4%|▎         | 1094/30802 [1:42:33<53:41:54,  6.51s/it]\u001b[A\n",
      "  4%|▎         | 1095/30802 [1:42:39<52:43:06,  6.39s/it]\u001b[A\n",
      "  4%|▎         | 1096/30802 [1:42:46<52:30:05,  6.36s/it]\u001b[A"
     ]
    },
    {
     "name": "stdout",
     "output_type": "stream",
     "text": [
      "Epoch 0, Batch 1095, loss 455145728.0\n"
     ]
    },
    {
     "name": "stderr",
     "output_type": "stream",
     "text": [
      "\n",
      "  4%|▎         | 1097/30802 [1:42:52<52:43:14,  6.39s/it]\u001b[A\n",
      "  4%|▎         | 1098/30802 [1:42:59<53:32:17,  6.49s/it]\u001b[A\n",
      "  4%|▎         | 1099/30802 [1:43:05<53:35:39,  6.50s/it]\u001b[A\n",
      "  4%|▎         | 1100/30802 [1:43:12<54:51:20,  6.65s/it]\u001b[A\n",
      "  4%|▎         | 1101/30802 [1:43:19<55:03:28,  6.67s/it]\u001b[A"
     ]
    },
    {
     "name": "stdout",
     "output_type": "stream",
     "text": [
      "Epoch 0, Batch 1100, loss 315406144.0\n"
     ]
    },
    {
     "name": "stderr",
     "output_type": "stream",
     "text": [
      "\n",
      "  4%|▎         | 1102/30802 [1:43:26<55:14:38,  6.70s/it]\u001b[A\n",
      "  4%|▎         | 1103/30802 [1:43:33<55:30:33,  6.73s/it]\u001b[A\n",
      "  4%|▎         | 1104/30802 [1:43:39<55:14:53,  6.70s/it]\u001b[A\n",
      "  4%|▎         | 1105/30802 [1:43:46<55:10:41,  6.69s/it]\u001b[A\n",
      "  4%|▎         | 1106/30802 [1:43:53<54:54:23,  6.66s/it]\u001b[A"
     ]
    },
    {
     "name": "stdout",
     "output_type": "stream",
     "text": [
      "Epoch 0, Batch 1105, loss 631123840.0\n"
     ]
    },
    {
     "name": "stderr",
     "output_type": "stream",
     "text": [
      "\n",
      "  4%|▎         | 1107/30802 [1:43:59<53:53:24,  6.53s/it]\u001b[A\n",
      "  4%|▎         | 1108/30802 [1:44:05<53:39:55,  6.51s/it]\u001b[A\n",
      "  4%|▎         | 1109/30802 [1:44:12<53:28:29,  6.48s/it]\u001b[A\n",
      "  4%|▎         | 1110/30802 [1:44:18<53:52:09,  6.53s/it]\u001b[A\n",
      "  4%|▎         | 1111/30802 [1:44:25<54:45:48,  6.64s/it]\u001b[A"
     ]
    },
    {
     "name": "stdout",
     "output_type": "stream",
     "text": [
      "Epoch 0, Batch 1110, loss 404383296.0\n"
     ]
    },
    {
     "name": "stderr",
     "output_type": "stream",
     "text": [
      "\n",
      "  4%|▎         | 1112/30802 [1:44:32<54:20:54,  6.59s/it]\u001b[A\n",
      "  4%|▎         | 1113/30802 [1:44:38<53:35:26,  6.50s/it]\u001b[A\n",
      "  4%|▎         | 1114/30802 [1:44:45<53:50:52,  6.53s/it]\u001b[A\n",
      "  4%|▎         | 1115/30802 [1:44:51<54:04:11,  6.56s/it]\u001b[A\n",
      "  4%|▎         | 1116/30802 [1:44:58<54:10:10,  6.57s/it]\u001b[A"
     ]
    },
    {
     "name": "stdout",
     "output_type": "stream",
     "text": [
      "Epoch 0, Batch 1115, loss 485156384.0\n"
     ]
    },
    {
     "name": "stderr",
     "output_type": "stream",
     "text": [
      "\n",
      "  4%|▎         | 1117/30802 [1:45:04<54:06:58,  6.56s/it]\u001b[A\n",
      "  4%|▎         | 1118/30802 [1:45:11<54:47:46,  6.65s/it]\u001b[A\n",
      "  4%|▎         | 1119/30802 [1:45:18<54:21:08,  6.59s/it]\u001b[A\n",
      "  4%|▎         | 1120/30802 [1:45:25<56:33:46,  6.86s/it]\u001b[A\n",
      "  4%|▎         | 1121/30802 [1:45:32<56:10:19,  6.81s/it]\u001b[A"
     ]
    },
    {
     "name": "stdout",
     "output_type": "stream",
     "text": [
      "Epoch 0, Batch 1120, loss 67308264.0\n"
     ]
    },
    {
     "name": "stderr",
     "output_type": "stream",
     "text": [
      "\n",
      "  4%|▎         | 1122/30802 [1:45:39<56:59:12,  6.91s/it]\u001b[A\n",
      "  4%|▎         | 1123/30802 [1:45:46<56:13:10,  6.82s/it]\u001b[A\n",
      "  4%|▎         | 1124/30802 [1:45:52<56:24:02,  6.84s/it]\u001b[A\n",
      "  4%|▎         | 1125/30802 [1:45:59<55:43:10,  6.76s/it]\u001b[A\n",
      "  4%|▎         | 1126/30802 [1:46:06<56:17:15,  6.83s/it]\u001b[A"
     ]
    },
    {
     "name": "stdout",
     "output_type": "stream",
     "text": [
      "Epoch 0, Batch 1125, loss 322016736.0\n"
     ]
    },
    {
     "name": "stderr",
     "output_type": "stream",
     "text": [
      "\n",
      "  4%|▎         | 1127/30802 [1:46:12<55:18:56,  6.71s/it]\u001b[A\n",
      "  4%|▎         | 1128/30802 [1:46:19<55:01:07,  6.67s/it]\u001b[A\n",
      "  4%|▎         | 1129/30802 [1:46:25<54:05:09,  6.56s/it]\u001b[A\n",
      "  4%|▎         | 1130/30802 [1:46:32<55:14:10,  6.70s/it]\u001b[A\n",
      "  4%|▎         | 1131/30802 [1:46:39<55:38:19,  6.75s/it]\u001b[A"
     ]
    },
    {
     "name": "stdout",
     "output_type": "stream",
     "text": [
      "Epoch 0, Batch 1130, loss 171268416.0\n"
     ]
    },
    {
     "name": "stderr",
     "output_type": "stream",
     "text": [
      "\n",
      "  4%|▎         | 1132/30802 [1:46:46<55:20:28,  6.71s/it]\u001b[A\n",
      "  4%|▎         | 1133/30802 [1:46:53<55:06:01,  6.69s/it]\u001b[A\n",
      "  4%|▎         | 1134/30802 [1:46:59<55:31:00,  6.74s/it]\u001b[A\n",
      "  4%|▎         | 1135/30802 [1:47:06<54:48:00,  6.65s/it]\u001b[A\n",
      "  4%|▎         | 1136/30802 [1:47:12<54:44:16,  6.64s/it]\u001b[A"
     ]
    },
    {
     "name": "stdout",
     "output_type": "stream",
     "text": [
      "Epoch 0, Batch 1135, loss 745912576.0\n"
     ]
    },
    {
     "name": "stderr",
     "output_type": "stream",
     "text": [
      "\n",
      "  4%|▎         | 1137/30802 [1:47:19<55:26:51,  6.73s/it]\u001b[A\n",
      "  4%|▎         | 1138/30802 [1:47:26<54:50:02,  6.65s/it]\u001b[A\n",
      "  4%|▎         | 1139/30802 [1:47:32<54:44:44,  6.64s/it]\u001b[A\n",
      "  4%|▎         | 1140/30802 [1:47:39<54:06:56,  6.57s/it]\u001b[A\n",
      "  4%|▎         | 1141/30802 [1:47:45<53:36:50,  6.51s/it]\u001b[A"
     ]
    },
    {
     "name": "stdout",
     "output_type": "stream",
     "text": [
      "Epoch 0, Batch 1140, loss 347901856.0\n"
     ]
    },
    {
     "name": "stderr",
     "output_type": "stream",
     "text": [
      "\n",
      "  4%|▎         | 1142/30802 [1:47:52<54:10:24,  6.58s/it]\u001b[A\n",
      "  4%|▎         | 1143/30802 [1:47:59<54:21:32,  6.60s/it]\u001b[A\n",
      "  4%|▎         | 1144/30802 [1:48:05<53:55:24,  6.55s/it]\u001b[A\n",
      "  4%|▎         | 1145/30802 [1:48:11<53:42:09,  6.52s/it]\u001b[A\n",
      "  4%|▎         | 1146/30802 [1:48:18<54:35:08,  6.63s/it]\u001b[A"
     ]
    },
    {
     "name": "stdout",
     "output_type": "stream",
     "text": [
      "Epoch 0, Batch 1145, loss 653103424.0\n"
     ]
    },
    {
     "name": "stderr",
     "output_type": "stream",
     "text": [
      "\n",
      "  4%|▎         | 1147/30802 [1:48:25<54:17:54,  6.59s/it]\u001b[A\n",
      "  4%|▎         | 1148/30802 [1:48:32<54:27:50,  6.61s/it]\u001b[A\n",
      "  4%|▎         | 1149/30802 [1:48:39<55:30:07,  6.74s/it]\u001b[A\n",
      "  4%|▎         | 1150/30802 [1:48:46<57:14:40,  6.95s/it]\u001b[A\n",
      "  4%|▎         | 1151/30802 [1:48:53<56:25:41,  6.85s/it]\u001b[A"
     ]
    },
    {
     "name": "stdout",
     "output_type": "stream",
     "text": [
      "Epoch 0, Batch 1150, loss 139735136.0\n"
     ]
    },
    {
     "name": "stderr",
     "output_type": "stream",
     "text": [
      "\n",
      "  4%|▎         | 1152/30802 [1:48:59<55:07:50,  6.69s/it]\u001b[A\n",
      "  4%|▎         | 1153/30802 [1:49:05<53:48:23,  6.53s/it]\u001b[A\n",
      "  4%|▎         | 1154/30802 [1:49:12<54:29:25,  6.62s/it]\u001b[A\n",
      "  4%|▎         | 1155/30802 [1:49:19<55:10:08,  6.70s/it]\u001b[A\n",
      "  4%|▍         | 1156/30802 [1:49:25<52:39:48,  6.40s/it]\u001b[A"
     ]
    },
    {
     "name": "stdout",
     "output_type": "stream",
     "text": [
      "Epoch 0, Batch 1155, loss 828244992.0\n"
     ]
    },
    {
     "name": "stderr",
     "output_type": "stream",
     "text": [
      "\n",
      "  4%|▍         | 1157/30802 [1:49:31<52:29:25,  6.37s/it]\u001b[A\n",
      "  4%|▍         | 1158/30802 [1:49:37<52:47:50,  6.41s/it]\u001b[A\n",
      "  4%|▍         | 1159/30802 [1:49:44<53:11:42,  6.46s/it]\u001b[A\n",
      "  4%|▍         | 1160/30802 [1:49:50<53:10:24,  6.46s/it]\u001b[A\n",
      "  4%|▍         | 1161/30802 [1:49:57<53:43:30,  6.53s/it]\u001b[A"
     ]
    },
    {
     "name": "stdout",
     "output_type": "stream",
     "text": [
      "Epoch 0, Batch 1160, loss 359498624.0\n"
     ]
    },
    {
     "name": "stderr",
     "output_type": "stream",
     "text": [
      "\n",
      "  4%|▍         | 1162/30802 [1:50:03<52:27:10,  6.37s/it]\u001b[A\n",
      "  4%|▍         | 1163/30802 [1:50:10<53:18:19,  6.47s/it]\u001b[A\n",
      "  4%|▍         | 1164/30802 [1:50:16<53:14:18,  6.47s/it]\u001b[A\n",
      "  4%|▍         | 1165/30802 [1:50:22<52:11:25,  6.34s/it]\u001b[A\n",
      "  4%|▍         | 1166/30802 [1:50:29<52:51:53,  6.42s/it]\u001b[A"
     ]
    },
    {
     "name": "stdout",
     "output_type": "stream",
     "text": [
      "Epoch 0, Batch 1165, loss 444566240.0\n"
     ]
    },
    {
     "name": "stderr",
     "output_type": "stream",
     "text": [
      "\n",
      "  4%|▍         | 1167/30802 [1:50:35<53:12:13,  6.46s/it]\u001b[A\n",
      "  4%|▍         | 1168/30802 [1:50:42<53:10:49,  6.46s/it]\u001b[A\n",
      "  4%|▍         | 1169/30802 [1:50:48<52:59:33,  6.44s/it]\u001b[A\n",
      "  4%|▍         | 1170/30802 [1:50:55<52:40:09,  6.40s/it]\u001b[A\n",
      "  4%|▍         | 1171/30802 [1:51:01<52:48:18,  6.42s/it]\u001b[A"
     ]
    },
    {
     "name": "stdout",
     "output_type": "stream",
     "text": [
      "Epoch 0, Batch 1170, loss 501938816.0\n"
     ]
    },
    {
     "name": "stderr",
     "output_type": "stream",
     "text": [
      "\n",
      "  4%|▍         | 1172/30802 [1:51:07<52:39:43,  6.40s/it]\u001b[A\n",
      "  4%|▍         | 1173/30802 [1:51:14<52:37:25,  6.39s/it]\u001b[A\n",
      "  4%|▍         | 1174/30802 [1:51:21<54:02:36,  6.57s/it]\u001b[A\n",
      "  4%|▍         | 1175/30802 [1:51:28<56:23:00,  6.85s/it]\u001b[A\n",
      "  4%|▍         | 1176/30802 [1:51:35<55:48:39,  6.78s/it]\u001b[A"
     ]
    },
    {
     "name": "stdout",
     "output_type": "stream",
     "text": [
      "Epoch 0, Batch 1175, loss 758049408.0\n"
     ]
    },
    {
     "name": "stderr",
     "output_type": "stream",
     "text": [
      "\n",
      "  4%|▍         | 1177/30802 [1:51:41<54:33:10,  6.63s/it]\u001b[A\n",
      "  4%|▍         | 1178/30802 [1:51:48<54:45:01,  6.65s/it]\u001b[A\n",
      "  4%|▍         | 1179/30802 [1:51:54<54:39:23,  6.64s/it]\u001b[A\n",
      "  4%|▍         | 1180/30802 [1:52:01<54:28:36,  6.62s/it]\u001b[A\n",
      "  4%|▍         | 1181/30802 [1:52:07<53:08:42,  6.46s/it]\u001b[A"
     ]
    },
    {
     "name": "stdout",
     "output_type": "stream",
     "text": [
      "Epoch 0, Batch 1180, loss 538199616.0\n"
     ]
    },
    {
     "name": "stderr",
     "output_type": "stream",
     "text": [
      "\n",
      "  4%|▍         | 1182/30802 [1:52:13<52:48:04,  6.42s/it]\u001b[A\n",
      "  4%|▍         | 1183/30802 [1:52:20<53:13:42,  6.47s/it]\u001b[A\n",
      "  4%|▍         | 1184/30802 [1:52:26<52:57:05,  6.44s/it]\u001b[A\n",
      "  4%|▍         | 1185/30802 [1:52:33<53:39:56,  6.52s/it]\u001b[A\n",
      "  4%|▍         | 1186/30802 [1:52:39<53:15:33,  6.47s/it]\u001b[A"
     ]
    },
    {
     "name": "stdout",
     "output_type": "stream",
     "text": [
      "Epoch 0, Batch 1185, loss 563362368.0\n"
     ]
    },
    {
     "name": "stderr",
     "output_type": "stream",
     "text": [
      "\n",
      "  4%|▍         | 1187/30802 [1:52:46<53:38:40,  6.52s/it]\u001b[A\n",
      "  4%|▍         | 1188/30802 [1:52:53<53:55:40,  6.56s/it]\u001b[A\n",
      "  4%|▍         | 1189/30802 [1:52:59<53:54:03,  6.55s/it]\u001b[A\n",
      "  4%|▍         | 1190/30802 [1:53:05<52:57:49,  6.44s/it]\u001b[A\n",
      "  4%|▍         | 1191/30802 [1:53:12<52:15:00,  6.35s/it]\u001b[A"
     ]
    },
    {
     "name": "stdout",
     "output_type": "stream",
     "text": [
      "Epoch 0, Batch 1190, loss 523982528.0\n"
     ]
    },
    {
     "name": "stderr",
     "output_type": "stream",
     "text": [
      "\n",
      "  4%|▍         | 1192/30802 [1:53:18<53:04:10,  6.45s/it]\u001b[A\n",
      "  4%|▍         | 1193/30802 [1:53:25<52:54:20,  6.43s/it]\u001b[A\n",
      "  4%|▍         | 1194/30802 [1:53:31<53:31:53,  6.51s/it]\u001b[A\n",
      "  4%|▍         | 1195/30802 [1:53:38<52:57:20,  6.44s/it]\u001b[A\n",
      "  4%|▍         | 1196/30802 [1:53:44<52:45:18,  6.41s/it]\u001b[A"
     ]
    },
    {
     "name": "stdout",
     "output_type": "stream",
     "text": [
      "Epoch 0, Batch 1195, loss 592658880.0\n"
     ]
    },
    {
     "name": "stderr",
     "output_type": "stream",
     "text": [
      "\n",
      "  4%|▍         | 1197/30802 [1:53:51<54:11:25,  6.59s/it]\u001b[A\n",
      "  4%|▍         | 1198/30802 [1:53:58<54:49:23,  6.67s/it]\u001b[A\n",
      "  4%|▍         | 1199/30802 [1:54:05<54:56:20,  6.68s/it]\u001b[A\n",
      "  4%|▍         | 1200/30802 [1:54:11<54:04:50,  6.58s/it]\u001b[A\n",
      "  4%|▍         | 1201/30802 [1:54:17<52:48:06,  6.42s/it]\u001b[A"
     ]
    },
    {
     "name": "stdout",
     "output_type": "stream",
     "text": [
      "Epoch 0, Batch 1200, loss 634877376.0\n"
     ]
    },
    {
     "name": "stderr",
     "output_type": "stream",
     "text": [
      "\n",
      "  4%|▍         | 1202/30802 [1:54:23<52:43:54,  6.41s/it]\u001b[A\n",
      "  4%|▍         | 1203/30802 [1:54:30<52:33:56,  6.39s/it]\u001b[A\n",
      "  4%|▍         | 1204/30802 [1:54:36<52:14:58,  6.36s/it]\u001b[A\n",
      "  4%|▍         | 1205/30802 [1:54:42<52:07:32,  6.34s/it]\u001b[A\n",
      "  4%|▍         | 1206/30802 [1:54:49<52:48:46,  6.42s/it]\u001b[A"
     ]
    },
    {
     "name": "stdout",
     "output_type": "stream",
     "text": [
      "Epoch 0, Batch 1205, loss 169396464.0\n"
     ]
    },
    {
     "name": "stderr",
     "output_type": "stream",
     "text": [
      "\n",
      "  4%|▍         | 1207/30802 [1:54:55<52:43:24,  6.41s/it]\u001b[A\n",
      "  4%|▍         | 1208/30802 [1:55:02<52:57:54,  6.44s/it]\u001b[A\n",
      "  4%|▍         | 1209/30802 [1:55:08<52:31:39,  6.39s/it]\u001b[A\n",
      "  4%|▍         | 1210/30802 [1:55:14<51:57:04,  6.32s/it]\u001b[A\n",
      "  4%|▍         | 1211/30802 [1:55:21<52:46:10,  6.42s/it]\u001b[A"
     ]
    },
    {
     "name": "stdout",
     "output_type": "stream",
     "text": [
      "Epoch 0, Batch 1210, loss 70683368.0\n"
     ]
    },
    {
     "name": "stderr",
     "output_type": "stream",
     "text": [
      "\n",
      "  4%|▍         | 1212/30802 [1:55:28<53:28:28,  6.51s/it]\u001b[A\n",
      "  4%|▍         | 1213/30802 [1:55:33<51:59:48,  6.33s/it]\u001b[A\n",
      "  4%|▍         | 1214/30802 [1:55:40<51:40:26,  6.29s/it]\u001b[A\n",
      "  4%|▍         | 1215/30802 [1:55:46<51:50:30,  6.31s/it]\u001b[A\n",
      "  4%|▍         | 1216/30802 [1:55:52<51:32:14,  6.27s/it]\u001b[A"
     ]
    },
    {
     "name": "stdout",
     "output_type": "stream",
     "text": [
      "Epoch 0, Batch 1215, loss 177281056.0\n"
     ]
    },
    {
     "name": "stderr",
     "output_type": "stream",
     "text": [
      "\n",
      "  4%|▍         | 1217/30802 [1:55:58<51:24:14,  6.25s/it]\u001b[A\n",
      "  4%|▍         | 1218/30802 [1:56:05<52:41:10,  6.41s/it]\u001b[A\n",
      "  4%|▍         | 1219/30802 [1:56:12<53:26:33,  6.50s/it]\u001b[A\n",
      "  4%|▍         | 1220/30802 [1:56:18<52:47:06,  6.42s/it]\u001b[A\n",
      "  4%|▍         | 1221/30802 [1:56:24<51:52:47,  6.31s/it]\u001b[A"
     ]
    },
    {
     "name": "stdout",
     "output_type": "stream",
     "text": [
      "Epoch 0, Batch 1220, loss 466279616.0\n"
     ]
    },
    {
     "name": "stderr",
     "output_type": "stream",
     "text": [
      "\n",
      "  4%|▍         | 1222/30802 [1:56:31<52:12:19,  6.35s/it]\u001b[A\n",
      "  4%|▍         | 1223/30802 [1:56:38<53:21:27,  6.49s/it]\u001b[A\n",
      "  4%|▍         | 1224/30802 [1:56:45<55:59:18,  6.81s/it]\u001b[A\n",
      "  4%|▍         | 1225/30802 [1:56:52<57:26:48,  6.99s/it]\u001b[A\n",
      "  4%|▍         | 1226/30802 [1:56:59<56:21:35,  6.86s/it]\u001b[A"
     ]
    },
    {
     "name": "stdout",
     "output_type": "stream",
     "text": [
      "Epoch 0, Batch 1225, loss 583917056.0\n"
     ]
    },
    {
     "name": "stderr",
     "output_type": "stream",
     "text": [
      "\n",
      "  4%|▍         | 1227/30802 [1:57:06<55:30:54,  6.76s/it]\u001b[A\n",
      "  4%|▍         | 1228/30802 [1:57:12<54:46:14,  6.67s/it]\u001b[A\n",
      "  4%|▍         | 1229/30802 [1:57:19<54:48:01,  6.67s/it]\u001b[A\n",
      "  4%|▍         | 1230/30802 [1:57:25<54:48:50,  6.67s/it]\u001b[A\n",
      "  4%|▍         | 1231/30802 [1:57:32<54:41:57,  6.66s/it]\u001b[A"
     ]
    },
    {
     "name": "stdout",
     "output_type": "stream",
     "text": [
      "Epoch 0, Batch 1230, loss 434527520.0\n"
     ]
    },
    {
     "name": "stderr",
     "output_type": "stream",
     "text": [
      "\n",
      "  4%|▍         | 1232/30802 [1:57:39<54:27:58,  6.63s/it]\u001b[A\n",
      "  4%|▍         | 1233/30802 [1:57:45<54:09:53,  6.59s/it]\u001b[A\n",
      "  4%|▍         | 1234/30802 [1:57:51<53:13:12,  6.48s/it]\u001b[A\n",
      "  4%|▍         | 1235/30802 [1:57:58<54:12:12,  6.60s/it]\u001b[A\n",
      "  4%|▍         | 1236/30802 [1:58:05<54:16:02,  6.61s/it]\u001b[A"
     ]
    },
    {
     "name": "stdout",
     "output_type": "stream",
     "text": [
      "Epoch 0, Batch 1235, loss 676486912.0\n"
     ]
    },
    {
     "name": "stderr",
     "output_type": "stream",
     "text": [
      "\n",
      "  4%|▍         | 1237/30802 [1:58:11<54:06:30,  6.59s/it]\u001b[A\n",
      "  4%|▍         | 1238/30802 [1:58:18<54:32:11,  6.64s/it]\u001b[A\n",
      "  4%|▍         | 1239/30802 [1:58:25<54:25:08,  6.63s/it]\u001b[A\n",
      "  4%|▍         | 1240/30802 [1:58:31<54:31:05,  6.64s/it]\u001b[A\n",
      "  4%|▍         | 1241/30802 [1:58:38<54:02:04,  6.58s/it]\u001b[A"
     ]
    },
    {
     "name": "stdout",
     "output_type": "stream",
     "text": [
      "Epoch 0, Batch 1240, loss 419888096.0\n"
     ]
    },
    {
     "name": "stderr",
     "output_type": "stream",
     "text": [
      "\n",
      "  4%|▍         | 1242/30802 [1:58:44<54:14:57,  6.61s/it]\u001b[A\n",
      "  4%|▍         | 1243/30802 [1:58:51<53:49:23,  6.56s/it]\u001b[A\n",
      "  4%|▍         | 1244/30802 [1:58:58<53:59:35,  6.58s/it]\u001b[A\n",
      "  4%|▍         | 1245/30802 [1:59:04<53:29:06,  6.51s/it]\u001b[A\n",
      "  4%|▍         | 1246/30802 [1:59:10<53:19:50,  6.50s/it]\u001b[A"
     ]
    },
    {
     "name": "stdout",
     "output_type": "stream",
     "text": [
      "Epoch 0, Batch 1245, loss 447891360.0\n"
     ]
    },
    {
     "name": "stderr",
     "output_type": "stream",
     "text": [
      "\n",
      "  4%|▍         | 1247/30802 [1:59:17<53:23:57,  6.50s/it]\u001b[A\n",
      "  4%|▍         | 1248/30802 [1:59:24<54:11:07,  6.60s/it]\u001b[A\n",
      "  4%|▍         | 1249/30802 [1:59:30<54:37:03,  6.65s/it]\u001b[A\n",
      "  4%|▍         | 1250/30802 [1:59:37<54:47:54,  6.68s/it]\u001b[A\n",
      "  4%|▍         | 1251/30802 [1:59:43<53:01:18,  6.46s/it]\u001b[A"
     ]
    },
    {
     "name": "stdout",
     "output_type": "stream",
     "text": [
      "Epoch 0, Batch 1250, loss 644655360.0\n"
     ]
    },
    {
     "name": "stderr",
     "output_type": "stream",
     "text": [
      "\n",
      "  4%|▍         | 1252/30802 [1:59:49<52:27:38,  6.39s/it]\u001b[A\n",
      "  4%|▍         | 1253/30802 [1:59:56<53:44:05,  6.55s/it]\u001b[A\n",
      "  4%|▍         | 1254/30802 [2:00:03<54:23:56,  6.63s/it]\u001b[A\n",
      "  4%|▍         | 1255/30802 [2:00:09<53:48:18,  6.56s/it]\u001b[A\n",
      "  4%|▍         | 1256/30802 [2:00:16<53:09:51,  6.48s/it]\u001b[A"
     ]
    },
    {
     "name": "stdout",
     "output_type": "stream",
     "text": [
      "Epoch 0, Batch 1255, loss 619577088.0\n"
     ]
    },
    {
     "name": "stderr",
     "output_type": "stream",
     "text": [
      "\n",
      "  4%|▍         | 1257/30802 [2:00:22<52:21:06,  6.38s/it]\u001b[A\n",
      "  4%|▍         | 1258/30802 [2:00:28<52:44:25,  6.43s/it]\u001b[A\n",
      "  4%|▍         | 1259/30802 [2:00:35<52:42:41,  6.42s/it]\u001b[A\n",
      "  4%|▍         | 1260/30802 [2:00:41<52:40:26,  6.42s/it]\u001b[A\n",
      "  4%|▍         | 1261/30802 [2:00:48<53:02:36,  6.46s/it]\u001b[A"
     ]
    },
    {
     "name": "stdout",
     "output_type": "stream",
     "text": [
      "Epoch 0, Batch 1260, loss 414728896.0\n"
     ]
    },
    {
     "name": "stderr",
     "output_type": "stream",
     "text": [
      "\n",
      "  4%|▍         | 1262/30802 [2:00:54<52:40:23,  6.42s/it]\u001b[A\n",
      "  4%|▍         | 1263/30802 [2:01:00<51:09:57,  6.24s/it]\u001b[A\n",
      "  4%|▍         | 1264/30802 [2:01:06<51:25:40,  6.27s/it]\u001b[A\n",
      "  4%|▍         | 1265/30802 [2:01:13<51:45:42,  6.31s/it]\u001b[A\n",
      "  4%|▍         | 1266/30802 [2:01:19<51:57:39,  6.33s/it]\u001b[A"
     ]
    },
    {
     "name": "stdout",
     "output_type": "stream",
     "text": [
      "Epoch 0, Batch 1265, loss 732366784.0\n"
     ]
    },
    {
     "name": "stderr",
     "output_type": "stream",
     "text": [
      "\n",
      "  4%|▍         | 1267/30802 [2:01:26<52:05:44,  6.35s/it]\u001b[A\n",
      "  4%|▍         | 1268/30802 [2:01:32<53:23:20,  6.51s/it]\u001b[A\n",
      "  4%|▍         | 1269/30802 [2:01:39<52:35:08,  6.41s/it]\u001b[A\n",
      "  4%|▍         | 1270/30802 [2:01:45<51:56:59,  6.33s/it]\u001b[A\n",
      "  4%|▍         | 1271/30802 [2:01:51<52:10:45,  6.36s/it]\u001b[A"
     ]
    },
    {
     "name": "stdout",
     "output_type": "stream",
     "text": [
      "Epoch 0, Batch 1270, loss 339411840.0\n"
     ]
    },
    {
     "name": "stderr",
     "output_type": "stream",
     "text": [
      "\n",
      "  4%|▍         | 1272/30802 [2:01:57<51:57:12,  6.33s/it]\u001b[A\n",
      "  4%|▍         | 1273/30802 [2:02:04<51:29:14,  6.28s/it]\u001b[A\n",
      "  4%|▍         | 1274/30802 [2:02:10<51:42:53,  6.30s/it]\u001b[A\n",
      "  4%|▍         | 1275/30802 [2:02:16<52:08:04,  6.36s/it]\u001b[A\n",
      "  4%|▍         | 1276/30802 [2:02:22<51:02:00,  6.22s/it]\u001b[A"
     ]
    },
    {
     "name": "stdout",
     "output_type": "stream",
     "text": [
      "Epoch 0, Batch 1275, loss 486490112.0\n"
     ]
    },
    {
     "name": "stderr",
     "output_type": "stream",
     "text": [
      "\n",
      "  4%|▍         | 1277/30802 [2:02:28<50:36:07,  6.17s/it]\u001b[A\n",
      "  4%|▍         | 1278/30802 [2:02:35<51:20:52,  6.26s/it]\u001b[A\n",
      "  4%|▍         | 1279/30802 [2:02:41<52:16:11,  6.37s/it]\u001b[A\n",
      "  4%|▍         | 1280/30802 [2:02:47<51:20:01,  6.26s/it]\u001b[A\n",
      "  4%|▍         | 1281/30802 [2:02:52<47:59:11,  5.85s/it]\u001b[A"
     ]
    },
    {
     "name": "stdout",
     "output_type": "stream",
     "text": [
      "Epoch 0, Batch 1280, loss 538658880.0\n"
     ]
    },
    {
     "name": "stderr",
     "output_type": "stream",
     "text": [
      "\n",
      "  4%|▍         | 1282/30802 [2:02:57<45:59:08,  5.61s/it]\u001b[A\n",
      "  4%|▍         | 1283/30802 [2:03:03<44:42:21,  5.45s/it]\u001b[A\n",
      "  4%|▍         | 1284/30802 [2:03:07<43:29:58,  5.31s/it]\u001b[A\n",
      "  4%|▍         | 1285/30802 [2:03:13<43:02:41,  5.25s/it]\u001b[A\n",
      "  4%|▍         | 1286/30802 [2:03:18<42:40:31,  5.21s/it]\u001b[A"
     ]
    },
    {
     "name": "stdout",
     "output_type": "stream",
     "text": [
      "Epoch 0, Batch 1285, loss 565794176.0\n"
     ]
    },
    {
     "name": "stderr",
     "output_type": "stream",
     "text": [
      "\n",
      "  4%|▍         | 1287/30802 [2:03:23<42:41:11,  5.21s/it]\u001b[A\n",
      "  4%|▍         | 1288/30802 [2:03:28<43:17:22,  5.28s/it]\u001b[A\n",
      "  4%|▍         | 1289/30802 [2:03:34<44:01:13,  5.37s/it]\u001b[A\n",
      "  4%|▍         | 1290/30802 [2:03:39<43:58:20,  5.36s/it]\u001b[A\n",
      "  4%|▍         | 1291/30802 [2:03:45<43:56:15,  5.36s/it]\u001b[A"
     ]
    },
    {
     "name": "stdout",
     "output_type": "stream",
     "text": [
      "Epoch 0, Batch 1290, loss 452766944.0\n"
     ]
    },
    {
     "name": "stderr",
     "output_type": "stream",
     "text": [
      "\n",
      "  4%|▍         | 1292/30802 [2:03:50<43:44:25,  5.34s/it]\u001b[A\n",
      "  4%|▍         | 1293/30802 [2:03:55<42:56:59,  5.24s/it]\u001b[A\n",
      "  4%|▍         | 1294/30802 [2:04:00<42:46:53,  5.22s/it]\u001b[A\n",
      "  4%|▍         | 1295/30802 [2:04:05<42:49:16,  5.22s/it]\u001b[A\n",
      "  4%|▍         | 1296/30802 [2:04:10<42:26:33,  5.18s/it]\u001b[A"
     ]
    },
    {
     "name": "stdout",
     "output_type": "stream",
     "text": [
      "Epoch 0, Batch 1295, loss 360499648.0\n"
     ]
    },
    {
     "name": "stderr",
     "output_type": "stream",
     "text": [
      "\n",
      "  4%|▍         | 1297/30802 [2:04:15<41:55:20,  5.12s/it]\u001b[A\n",
      "  4%|▍         | 1298/30802 [2:04:20<41:53:11,  5.11s/it]\u001b[A\n",
      "  4%|▍         | 1299/30802 [2:04:26<42:10:52,  5.15s/it]\u001b[A\n",
      "  4%|▍         | 1300/30802 [2:04:31<42:12:03,  5.15s/it]\u001b[A\n",
      "  4%|▍         | 1301/30802 [2:04:36<42:18:42,  5.16s/it]\u001b[A"
     ]
    },
    {
     "name": "stdout",
     "output_type": "stream",
     "text": [
      "Epoch 0, Batch 1300, loss 463301344.0\n"
     ]
    },
    {
     "name": "stderr",
     "output_type": "stream",
     "text": [
      "\n",
      "  4%|▍         | 1302/30802 [2:04:41<42:10:29,  5.15s/it]\u001b[A\n",
      "  4%|▍         | 1303/30802 [2:04:46<42:08:30,  5.14s/it]\u001b[A\n",
      "  4%|▍         | 1304/30802 [2:04:52<42:29:11,  5.19s/it]\u001b[A\n",
      "  4%|▍         | 1305/30802 [2:04:57<43:10:46,  5.27s/it]\u001b[A\n",
      "  4%|▍         | 1306/30802 [2:05:03<44:22:43,  5.42s/it]\u001b[A"
     ]
    },
    {
     "name": "stdout",
     "output_type": "stream",
     "text": [
      "Epoch 0, Batch 1305, loss 110985936.0\n"
     ]
    },
    {
     "name": "stderr",
     "output_type": "stream",
     "text": [
      "\n",
      "  4%|▍         | 1307/30802 [2:05:08<44:02:20,  5.38s/it]\u001b[A\n",
      "  4%|▍         | 1308/30802 [2:05:14<45:53:46,  5.60s/it]\u001b[A\n",
      "  4%|▍         | 1309/30802 [2:05:20<45:20:57,  5.54s/it]\u001b[A\n",
      "  4%|▍         | 1310/30802 [2:05:25<45:05:02,  5.50s/it]\u001b[A\n",
      "  4%|▍         | 1311/30802 [2:05:31<45:14:56,  5.52s/it]\u001b[A"
     ]
    },
    {
     "name": "stdout",
     "output_type": "stream",
     "text": [
      "Epoch 0, Batch 1310, loss 406104576.0\n"
     ]
    },
    {
     "name": "stderr",
     "output_type": "stream",
     "text": [
      "\n",
      "  4%|▍         | 1312/30802 [2:05:36<44:16:13,  5.40s/it]\u001b[A\n",
      "  4%|▍         | 1313/30802 [2:05:41<43:52:03,  5.36s/it]\u001b[A\n",
      "  4%|▍         | 1314/30802 [2:05:46<43:15:08,  5.28s/it]\u001b[A\n",
      "  4%|▍         | 1315/30802 [2:05:51<43:02:40,  5.26s/it]\u001b[A\n",
      "  4%|▍         | 1316/30802 [2:05:56<42:09:29,  5.15s/it]\u001b[A"
     ]
    },
    {
     "name": "stdout",
     "output_type": "stream",
     "text": [
      "Epoch 0, Batch 1315, loss 512982624.0\n"
     ]
    },
    {
     "name": "stderr",
     "output_type": "stream",
     "text": [
      "\n",
      "  4%|▍         | 1317/30802 [2:06:01<41:43:09,  5.09s/it]\u001b[A\n",
      "  4%|▍         | 1318/30802 [2:06:06<41:52:01,  5.11s/it]\u001b[A\n",
      "  4%|▍         | 1319/30802 [2:06:11<41:49:24,  5.11s/it]\u001b[A\n",
      "  4%|▍         | 1320/30802 [2:06:16<41:49:47,  5.11s/it]\u001b[A\n",
      "  4%|▍         | 1321/30802 [2:06:22<42:08:50,  5.15s/it]\u001b[A"
     ]
    },
    {
     "name": "stdout",
     "output_type": "stream",
     "text": [
      "Epoch 0, Batch 1320, loss 60619104.0\n"
     ]
    },
    {
     "name": "stderr",
     "output_type": "stream",
     "text": [
      "\n",
      "  4%|▍         | 1322/30802 [2:06:27<42:09:30,  5.15s/it]\u001b[A\n",
      "  4%|▍         | 1323/30802 [2:06:32<42:40:01,  5.21s/it]\u001b[A\n",
      "  4%|▍         | 1324/30802 [2:06:38<42:48:32,  5.23s/it]\u001b[A\n",
      "  4%|▍         | 1325/30802 [2:06:43<43:37:33,  5.33s/it]\u001b[A\n",
      "  4%|▍         | 1326/30802 [2:06:49<44:27:55,  5.43s/it]\u001b[A"
     ]
    },
    {
     "name": "stdout",
     "output_type": "stream",
     "text": [
      "Epoch 0, Batch 1325, loss 52656004.0\n"
     ]
    },
    {
     "name": "stderr",
     "output_type": "stream",
     "text": [
      "\n",
      "  4%|▍         | 1327/30802 [2:06:54<44:11:09,  5.40s/it]\u001b[A\n",
      "  4%|▍         | 1328/30802 [2:06:59<44:11:13,  5.40s/it]\u001b[A\n",
      "  4%|▍         | 1329/30802 [2:07:05<44:15:13,  5.41s/it]\u001b[A\n",
      "  4%|▍         | 1330/30802 [2:07:10<43:10:37,  5.27s/it]\u001b[A\n",
      "  4%|▍         | 1331/30802 [2:07:15<42:46:41,  5.23s/it]\u001b[A"
     ]
    },
    {
     "name": "stdout",
     "output_type": "stream",
     "text": [
      "Epoch 0, Batch 1330, loss 253441088.0\n"
     ]
    },
    {
     "name": "stderr",
     "output_type": "stream",
     "text": [
      "\n",
      "  4%|▍         | 1332/30802 [2:07:20<42:24:29,  5.18s/it]\u001b[A\n",
      "  4%|▍         | 1333/30802 [2:07:26<43:53:19,  5.36s/it]\u001b[A\n",
      "  4%|▍         | 1334/30802 [2:07:31<43:03:19,  5.26s/it]\u001b[A\n",
      "  4%|▍         | 1335/30802 [2:07:36<43:06:24,  5.27s/it]\u001b[A\n",
      "  4%|▍         | 1336/30802 [2:07:41<42:41:13,  5.22s/it]\u001b[A"
     ]
    },
    {
     "name": "stdout",
     "output_type": "stream",
     "text": [
      "Epoch 0, Batch 1335, loss 661810176.0\n"
     ]
    },
    {
     "name": "stderr",
     "output_type": "stream",
     "text": [
      "\n",
      "  4%|▍         | 1337/30802 [2:07:46<42:31:06,  5.19s/it]\u001b[A\n",
      "  4%|▍         | 1338/30802 [2:07:52<42:32:01,  5.20s/it]\u001b[A\n",
      "  4%|▍         | 1339/30802 [2:07:57<42:27:52,  5.19s/it]\u001b[A\n",
      "  4%|▍         | 1340/30802 [2:08:02<42:08:09,  5.15s/it]\u001b[A\n",
      "  4%|▍         | 1341/30802 [2:08:07<42:05:08,  5.14s/it]\u001b[A"
     ]
    },
    {
     "name": "stdout",
     "output_type": "stream",
     "text": [
      "Epoch 0, Batch 1340, loss 656622208.0\n"
     ]
    },
    {
     "name": "stderr",
     "output_type": "stream",
     "text": [
      "\n",
      "  4%|▍         | 1342/30802 [2:08:12<41:57:59,  5.13s/it]\u001b[A\n",
      "  4%|▍         | 1343/30802 [2:08:17<42:12:46,  5.16s/it]\u001b[A\n",
      "  4%|▍         | 1344/30802 [2:08:22<42:16:43,  5.17s/it]\u001b[A\n",
      "  4%|▍         | 1345/30802 [2:08:28<42:48:47,  5.23s/it]\u001b[A\n",
      "  4%|▍         | 1346/30802 [2:08:33<43:25:02,  5.31s/it]\u001b[A"
     ]
    },
    {
     "name": "stdout",
     "output_type": "stream",
     "text": [
      "Epoch 0, Batch 1345, loss 61799636.0\n"
     ]
    },
    {
     "name": "stderr",
     "output_type": "stream",
     "text": [
      "\n",
      "  4%|▍         | 1347/30802 [2:08:39<43:55:09,  5.37s/it]\u001b[A\n",
      "  4%|▍         | 1348/30802 [2:08:44<44:20:29,  5.42s/it]\u001b[A\n",
      "  4%|▍         | 1349/30802 [2:08:50<44:14:11,  5.41s/it]\u001b[A\n",
      "  4%|▍         | 1350/30802 [2:08:55<43:52:09,  5.36s/it]\u001b[A\n",
      "  4%|▍         | 1351/30802 [2:09:01<44:36:21,  5.45s/it]\u001b[A"
     ]
    },
    {
     "name": "stdout",
     "output_type": "stream",
     "text": [
      "Epoch 0, Batch 1350, loss 100483248.0\n"
     ]
    },
    {
     "name": "stderr",
     "output_type": "stream",
     "text": [
      "\n",
      "  4%|▍         | 1352/30802 [2:09:06<44:02:28,  5.38s/it]\u001b[A\n",
      "  4%|▍         | 1353/30802 [2:09:11<43:25:56,  5.31s/it]\u001b[A\n",
      "  4%|▍         | 1354/30802 [2:09:16<42:43:33,  5.22s/it]\u001b[A\n",
      "  4%|▍         | 1355/30802 [2:09:21<41:59:41,  5.13s/it]\u001b[A\n",
      "  4%|▍         | 1356/30802 [2:09:26<42:17:56,  5.17s/it]\u001b[A"
     ]
    },
    {
     "name": "stdout",
     "output_type": "stream",
     "text": [
      "Epoch 0, Batch 1355, loss 343317888.0\n"
     ]
    },
    {
     "name": "stderr",
     "output_type": "stream",
     "text": [
      "\n",
      "  4%|▍         | 1357/30802 [2:09:32<43:18:16,  5.29s/it]\u001b[A\n",
      "  4%|▍         | 1358/30802 [2:09:37<42:52:58,  5.24s/it]\u001b[A\n",
      "  4%|▍         | 1359/30802 [2:09:42<42:55:34,  5.25s/it]\u001b[A\n",
      "  4%|▍         | 1360/30802 [2:09:47<42:48:54,  5.24s/it]\u001b[A\n",
      "  4%|▍         | 1361/30802 [2:09:53<42:55:23,  5.25s/it]\u001b[A"
     ]
    },
    {
     "name": "stdout",
     "output_type": "stream",
     "text": [
      "Epoch 0, Batch 1360, loss 352573536.0\n"
     ]
    },
    {
     "name": "stderr",
     "output_type": "stream",
     "text": [
      "\n",
      "  4%|▍         | 1362/30802 [2:09:58<42:59:42,  5.26s/it]\u001b[A\n",
      "  4%|▍         | 1363/30802 [2:10:03<43:39:48,  5.34s/it]\u001b[A\n",
      "  4%|▍         | 1364/30802 [2:10:09<43:21:01,  5.30s/it]\u001b[A\n",
      "  4%|▍         | 1365/30802 [2:10:14<43:18:30,  5.30s/it]\u001b[A\n",
      "  4%|▍         | 1366/30802 [2:10:19<43:37:21,  5.34s/it]\u001b[A"
     ]
    },
    {
     "name": "stdout",
     "output_type": "stream",
     "text": [
      "Epoch 0, Batch 1365, loss 190078944.0\n"
     ]
    },
    {
     "name": "stderr",
     "output_type": "stream",
     "text": [
      "\n",
      "  4%|▍         | 1367/30802 [2:10:25<43:35:55,  5.33s/it]\u001b[A\n",
      "  4%|▍         | 1368/30802 [2:10:30<44:07:56,  5.40s/it]\u001b[A\n",
      "  4%|▍         | 1369/30802 [2:10:36<44:42:17,  5.47s/it]\u001b[A\n",
      "  4%|▍         | 1370/30802 [2:10:41<44:30:23,  5.44s/it]\u001b[A\n",
      "  4%|▍         | 1371/30802 [2:10:47<44:16:15,  5.42s/it]\u001b[A"
     ]
    },
    {
     "name": "stdout",
     "output_type": "stream",
     "text": [
      "Epoch 0, Batch 1370, loss 378673152.0\n"
     ]
    },
    {
     "name": "stderr",
     "output_type": "stream",
     "text": [
      "\n",
      "  4%|▍         | 1372/30802 [2:10:52<44:04:05,  5.39s/it]\u001b[A\n",
      "  4%|▍         | 1373/30802 [2:10:57<43:54:54,  5.37s/it]\u001b[A\n",
      "  4%|▍         | 1374/30802 [2:11:03<43:48:50,  5.36s/it]\u001b[A\n",
      "  4%|▍         | 1375/30802 [2:11:08<42:45:11,  5.23s/it]\u001b[A\n",
      "  4%|▍         | 1376/30802 [2:11:13<42:24:27,  5.19s/it]\u001b[A"
     ]
    },
    {
     "name": "stdout",
     "output_type": "stream",
     "text": [
      "Epoch 0, Batch 1375, loss 95165792.0\n"
     ]
    },
    {
     "name": "stderr",
     "output_type": "stream",
     "text": [
      "\n",
      "  4%|▍         | 1377/30802 [2:11:18<42:15:57,  5.17s/it]\u001b[A\n",
      "  4%|▍         | 1378/30802 [2:11:23<42:57:56,  5.26s/it]\u001b[A\n",
      "  4%|▍         | 1379/30802 [2:11:29<44:40:39,  5.47s/it]\u001b[A\n",
      "  4%|▍         | 1380/30802 [2:11:34<44:00:18,  5.38s/it]\u001b[A\n",
      "  4%|▍         | 1381/30802 [2:11:40<44:06:59,  5.40s/it]\u001b[A"
     ]
    },
    {
     "name": "stdout",
     "output_type": "stream",
     "text": [
      "Epoch 0, Batch 1380, loss 98458624.0\n"
     ]
    },
    {
     "name": "stderr",
     "output_type": "stream",
     "text": [
      "\n",
      "  4%|▍         | 1382/30802 [2:11:45<43:38:22,  5.34s/it]\u001b[A\n",
      "  4%|▍         | 1383/30802 [2:11:50<43:51:57,  5.37s/it]\u001b[A\n",
      "  4%|▍         | 1384/30802 [2:11:56<44:14:40,  5.41s/it]\u001b[A\n",
      "  4%|▍         | 1385/30802 [2:12:01<43:06:02,  5.27s/it]\u001b[A\n",
      "  4%|▍         | 1386/30802 [2:12:06<43:13:27,  5.29s/it]\u001b[A"
     ]
    },
    {
     "name": "stdout",
     "output_type": "stream",
     "text": [
      "Epoch 0, Batch 1385, loss 350043968.0\n"
     ]
    },
    {
     "name": "stderr",
     "output_type": "stream",
     "text": [
      "\n",
      "  5%|▍         | 1387/30802 [2:12:12<43:12:22,  5.29s/it]\u001b[A\n",
      "  5%|▍         | 1388/30802 [2:12:17<43:10:01,  5.28s/it]\u001b[A\n",
      "  5%|▍         | 1389/30802 [2:12:22<42:53:03,  5.25s/it]\u001b[A\n",
      "  5%|▍         | 1390/30802 [2:12:27<42:30:21,  5.20s/it]\u001b[A\n",
      "  5%|▍         | 1391/30802 [2:12:32<42:26:00,  5.19s/it]\u001b[A"
     ]
    },
    {
     "name": "stdout",
     "output_type": "stream",
     "text": [
      "Epoch 0, Batch 1390, loss 59264604.0\n"
     ]
    },
    {
     "name": "stderr",
     "output_type": "stream",
     "text": [
      "\n",
      "  5%|▍         | 1392/30802 [2:12:37<42:16:00,  5.17s/it]\u001b[A\n",
      "  5%|▍         | 1393/30802 [2:12:42<41:58:10,  5.14s/it]\u001b[A\n",
      "  5%|▍         | 1394/30802 [2:12:48<41:57:55,  5.14s/it]\u001b[A\n",
      "  5%|▍         | 1395/30802 [2:12:53<42:26:42,  5.20s/it]\u001b[A\n",
      "  5%|▍         | 1396/30802 [2:12:58<42:31:34,  5.21s/it]\u001b[A"
     ]
    },
    {
     "name": "stdout",
     "output_type": "stream",
     "text": [
      "Epoch 0, Batch 1395, loss 345506496.0\n"
     ]
    },
    {
     "name": "stderr",
     "output_type": "stream",
     "text": [
      "\n",
      "  5%|▍         | 1397/30802 [2:13:03<42:55:04,  5.25s/it]\u001b[A\n",
      "  5%|▍         | 1398/30802 [2:13:09<42:58:51,  5.26s/it]\u001b[A\n",
      "  5%|▍         | 1399/30802 [2:13:14<43:11:25,  5.29s/it]\u001b[A\n",
      "  5%|▍         | 1400/30802 [2:13:20<43:28:27,  5.32s/it]\u001b[A\n",
      "  5%|▍         | 1401/30802 [2:13:25<43:49:32,  5.37s/it]\u001b[A"
     ]
    },
    {
     "name": "stdout",
     "output_type": "stream",
     "text": [
      "Epoch 0, Batch 1400, loss 152195648.0\n"
     ]
    },
    {
     "name": "stderr",
     "output_type": "stream",
     "text": [
      "\n",
      "  5%|▍         | 1402/30802 [2:13:30<43:45:30,  5.36s/it]\u001b[A\n",
      "  5%|▍         | 1403/30802 [2:13:36<44:12:22,  5.41s/it]\u001b[A\n",
      "  5%|▍         | 1404/30802 [2:13:41<44:16:49,  5.42s/it]\u001b[A\n",
      "  5%|▍         | 1405/30802 [2:13:47<45:10:02,  5.53s/it]\u001b[A\n",
      "  5%|▍         | 1406/30802 [2:13:52<43:49:38,  5.37s/it]\u001b[A"
     ]
    },
    {
     "name": "stdout",
     "output_type": "stream",
     "text": [
      "Epoch 0, Batch 1405, loss 203310240.0\n"
     ]
    },
    {
     "name": "stderr",
     "output_type": "stream",
     "text": [
      "\n",
      "  5%|▍         | 1407/30802 [2:13:57<42:38:25,  5.22s/it]\u001b[A\n",
      "  5%|▍         | 1408/30802 [2:14:02<42:18:28,  5.18s/it]\u001b[A\n",
      "  5%|▍         | 1409/30802 [2:14:07<41:47:14,  5.12s/it]\u001b[A\n",
      "  5%|▍         | 1410/30802 [2:14:12<41:40:39,  5.10s/it]\u001b[A\n",
      "  5%|▍         | 1411/30802 [2:14:17<41:32:28,  5.09s/it]\u001b[A"
     ]
    },
    {
     "name": "stdout",
     "output_type": "stream",
     "text": [
      "Epoch 0, Batch 1410, loss 60799404.0\n"
     ]
    },
    {
     "name": "stderr",
     "output_type": "stream",
     "text": [
      "\n",
      "  5%|▍         | 1412/30802 [2:14:22<41:32:54,  5.09s/it]\u001b[A\n",
      "  5%|▍         | 1413/30802 [2:14:27<41:23:30,  5.07s/it]\u001b[A\n",
      "  5%|▍         | 1414/30802 [2:14:33<42:03:37,  5.15s/it]\u001b[A\n",
      "  5%|▍         | 1415/30802 [2:14:38<42:34:59,  5.22s/it]\u001b[A\n",
      "  5%|▍         | 1416/30802 [2:14:43<42:54:31,  5.26s/it]\u001b[A"
     ]
    },
    {
     "name": "stdout",
     "output_type": "stream",
     "text": [
      "Epoch 0, Batch 1415, loss 642581696.0\n"
     ]
    },
    {
     "name": "stderr",
     "output_type": "stream",
     "text": [
      "\n",
      "  5%|▍         | 1417/30802 [2:14:49<43:07:01,  5.28s/it]\u001b[A\n",
      "  5%|▍         | 1418/30802 [2:14:54<42:44:02,  5.24s/it]\u001b[A\n",
      "  5%|▍         | 1419/30802 [2:14:59<42:17:26,  5.18s/it]\u001b[A\n",
      "  5%|▍         | 1420/30802 [2:15:04<42:06:31,  5.16s/it]\u001b[A\n",
      "  5%|▍         | 1421/30802 [2:15:09<42:14:45,  5.18s/it]\u001b[A"
     ]
    },
    {
     "name": "stdout",
     "output_type": "stream",
     "text": [
      "Epoch 0, Batch 1420, loss 239298544.0\n"
     ]
    },
    {
     "name": "stderr",
     "output_type": "stream",
     "text": [
      "\n",
      "  5%|▍         | 1422/30802 [2:15:14<41:42:47,  5.11s/it]\u001b[A\n",
      "  5%|▍         | 1423/30802 [2:15:19<41:35:14,  5.10s/it]\u001b[A\n",
      "  5%|▍         | 1424/30802 [2:15:25<42:27:01,  5.20s/it]\u001b[A\n",
      "  5%|▍         | 1425/30802 [2:15:30<41:56:49,  5.14s/it]\u001b[A\n",
      "  5%|▍         | 1426/30802 [2:15:35<41:34:04,  5.09s/it]\u001b[A"
     ]
    },
    {
     "name": "stdout",
     "output_type": "stream",
     "text": [
      "Epoch 0, Batch 1425, loss 523718528.0\n"
     ]
    },
    {
     "name": "stderr",
     "output_type": "stream",
     "text": [
      "\n",
      "  5%|▍         | 1427/30802 [2:15:40<41:36:25,  5.10s/it]\u001b[A\n",
      "  5%|▍         | 1428/30802 [2:15:45<41:31:35,  5.09s/it]\u001b[A\n",
      "  5%|▍         | 1429/30802 [2:15:50<41:39:25,  5.11s/it]\u001b[A\n",
      "  5%|▍         | 1430/30802 [2:15:55<41:44:53,  5.12s/it]\u001b[A\n",
      "  5%|▍         | 1431/30802 [2:16:00<42:04:48,  5.16s/it]\u001b[A"
     ]
    },
    {
     "name": "stdout",
     "output_type": "stream",
     "text": [
      "Epoch 0, Batch 1430, loss 426015232.0\n"
     ]
    },
    {
     "name": "stderr",
     "output_type": "stream",
     "text": [
      "\n",
      "  5%|▍         | 1432/30802 [2:16:06<42:59:33,  5.27s/it]\u001b[A\n",
      "  5%|▍         | 1433/30802 [2:16:11<43:30:53,  5.33s/it]\u001b[A\n",
      "  5%|▍         | 1434/30802 [2:16:17<43:24:07,  5.32s/it]\u001b[A\n",
      "  5%|▍         | 1435/30802 [2:16:22<42:45:19,  5.24s/it]\u001b[A\n",
      "  5%|▍         | 1436/30802 [2:16:27<42:55:21,  5.26s/it]\u001b[A"
     ]
    },
    {
     "name": "stdout",
     "output_type": "stream",
     "text": [
      "Epoch 0, Batch 1435, loss 241327088.0\n"
     ]
    },
    {
     "name": "stderr",
     "output_type": "stream",
     "text": [
      "\n",
      "  5%|▍         | 1437/30802 [2:16:33<44:26:33,  5.45s/it]\u001b[A\n",
      "  5%|▍         | 1438/30802 [2:16:38<44:03:56,  5.40s/it]\u001b[A\n",
      "  5%|▍         | 1439/30802 [2:16:43<43:48:52,  5.37s/it]\u001b[A\n",
      "  5%|▍         | 1440/30802 [2:16:49<43:13:13,  5.30s/it]\u001b[A\n",
      "  5%|▍         | 1441/30802 [2:16:54<42:30:08,  5.21s/it]\u001b[A"
     ]
    },
    {
     "name": "stdout",
     "output_type": "stream",
     "text": [
      "Epoch 0, Batch 1440, loss 503579264.0\n"
     ]
    },
    {
     "name": "stderr",
     "output_type": "stream",
     "text": [
      "\n",
      "  5%|▍         | 1442/30802 [2:16:59<42:16:07,  5.18s/it]\u001b[A\n",
      "  5%|▍         | 1443/30802 [2:17:04<42:20:42,  5.19s/it]\u001b[A\n",
      "  5%|▍         | 1444/30802 [2:17:09<42:24:42,  5.20s/it]\u001b[A\n",
      "  5%|▍         | 1445/30802 [2:17:14<42:22:13,  5.20s/it]\u001b[A\n",
      "  5%|▍         | 1446/30802 [2:17:19<42:01:30,  5.15s/it]\u001b[A"
     ]
    },
    {
     "name": "stdout",
     "output_type": "stream",
     "text": [
      "Epoch 0, Batch 1445, loss 419842400.0\n"
     ]
    },
    {
     "name": "stderr",
     "output_type": "stream",
     "text": [
      "\n",
      "  5%|▍         | 1447/30802 [2:17:25<42:08:34,  5.17s/it]\u001b[A\n",
      "  5%|▍         | 1448/30802 [2:17:30<42:32:06,  5.22s/it]\u001b[A\n",
      "  5%|▍         | 1449/30802 [2:17:35<42:05:52,  5.16s/it]\u001b[A\n",
      "  5%|▍         | 1450/30802 [2:17:40<42:04:44,  5.16s/it]\u001b[A\n",
      "  5%|▍         | 1451/30802 [2:17:45<42:10:18,  5.17s/it]\u001b[A"
     ]
    },
    {
     "name": "stdout",
     "output_type": "stream",
     "text": [
      "Epoch 0, Batch 1450, loss 667380416.0\n"
     ]
    },
    {
     "name": "stderr",
     "output_type": "stream",
     "text": [
      "\n",
      "  5%|▍         | 1452/30802 [2:17:51<42:18:30,  5.19s/it]\u001b[A\n",
      "  5%|▍         | 1453/30802 [2:17:56<42:49:26,  5.25s/it]\u001b[A\n",
      "  5%|▍         | 1454/30802 [2:18:02<43:47:35,  5.37s/it]\u001b[A\n",
      "  5%|▍         | 1455/30802 [2:18:07<43:29:51,  5.34s/it]\u001b[A\n",
      "  5%|▍         | 1456/30802 [2:18:12<42:42:25,  5.24s/it]\u001b[A"
     ]
    },
    {
     "name": "stdout",
     "output_type": "stream",
     "text": [
      "Epoch 0, Batch 1455, loss 331561728.0\n"
     ]
    },
    {
     "name": "stderr",
     "output_type": "stream",
     "text": [
      "\n",
      "  5%|▍         | 1457/30802 [2:18:17<42:04:55,  5.16s/it]\u001b[A\n",
      "  5%|▍         | 1458/30802 [2:18:22<41:58:19,  5.15s/it]\u001b[A\n",
      "  5%|▍         | 1459/30802 [2:18:27<41:52:52,  5.14s/it]\u001b[A\n",
      "  5%|▍         | 1460/30802 [2:18:33<42:32:06,  5.22s/it]\u001b[A\n",
      "  5%|▍         | 1461/30802 [2:18:38<42:48:58,  5.25s/it]\u001b[A"
     ]
    },
    {
     "name": "stdout",
     "output_type": "stream",
     "text": [
      "Epoch 0, Batch 1460, loss 115213808.0\n"
     ]
    },
    {
     "name": "stderr",
     "output_type": "stream",
     "text": [
      "\n",
      "  5%|▍         | 1462/30802 [2:18:43<42:40:04,  5.24s/it]\u001b[A\n",
      "  5%|▍         | 1463/30802 [2:18:48<42:44:58,  5.25s/it]\u001b[A\n",
      "  5%|▍         | 1464/30802 [2:18:54<42:43:34,  5.24s/it]\u001b[A\n",
      "  5%|▍         | 1465/30802 [2:18:59<42:30:17,  5.22s/it]\u001b[A\n",
      "  5%|▍         | 1466/30802 [2:19:04<42:52:31,  5.26s/it]\u001b[A"
     ]
    },
    {
     "name": "stdout",
     "output_type": "stream",
     "text": [
      "Epoch 0, Batch 1465, loss 449802848.0\n"
     ]
    },
    {
     "name": "stderr",
     "output_type": "stream",
     "text": [
      "\n",
      "  5%|▍         | 1467/30802 [2:19:10<43:18:11,  5.31s/it]\u001b[A\n",
      "  5%|▍         | 1468/30802 [2:19:15<43:05:55,  5.29s/it]\u001b[A\n",
      "  5%|▍         | 1469/30802 [2:19:20<43:09:16,  5.30s/it]\u001b[A\n",
      "  5%|▍         | 1470/30802 [2:19:25<42:54:08,  5.27s/it]\u001b[A\n",
      "  5%|▍         | 1471/30802 [2:19:30<42:52:43,  5.26s/it]\u001b[A"
     ]
    },
    {
     "name": "stdout",
     "output_type": "stream",
     "text": [
      "Epoch 0, Batch 1470, loss 383792224.0\n"
     ]
    },
    {
     "name": "stderr",
     "output_type": "stream",
     "text": [
      "\n",
      "  5%|▍         | 1472/30802 [2:19:35<42:04:51,  5.17s/it]\u001b[A\n",
      "  5%|▍         | 1473/30802 [2:19:40<41:36:53,  5.11s/it]\u001b[A\n",
      "  5%|▍         | 1474/30802 [2:19:46<41:45:16,  5.13s/it]\u001b[A\n",
      "  5%|▍         | 1475/30802 [2:19:51<41:41:59,  5.12s/it]\u001b[A\n",
      "  5%|▍         | 1476/30802 [2:19:56<41:42:43,  5.12s/it]\u001b[A"
     ]
    },
    {
     "name": "stdout",
     "output_type": "stream",
     "text": [
      "Epoch 0, Batch 1475, loss 927951872.0\n"
     ]
    },
    {
     "name": "stderr",
     "output_type": "stream",
     "text": [
      "\n",
      "  5%|▍         | 1477/30802 [2:20:01<41:51:37,  5.14s/it]\u001b[A\n",
      "  5%|▍         | 1478/30802 [2:20:06<41:56:38,  5.15s/it]\u001b[A\n",
      "  5%|▍         | 1479/30802 [2:20:11<42:17:45,  5.19s/it]\u001b[A\n",
      "  5%|▍         | 1480/30802 [2:20:17<42:20:09,  5.20s/it]\u001b[A\n",
      "  5%|▍         | 1481/30802 [2:20:22<42:55:03,  5.27s/it]\u001b[A"
     ]
    },
    {
     "name": "stdout",
     "output_type": "stream",
     "text": [
      "Epoch 0, Batch 1480, loss 487029536.0\n"
     ]
    },
    {
     "name": "stderr",
     "output_type": "stream",
     "text": [
      "\n",
      "  5%|▍         | 1482/30802 [2:20:28<43:25:38,  5.33s/it]\u001b[A\n",
      "  5%|▍         | 1483/30802 [2:20:33<43:46:28,  5.37s/it]\u001b[A\n",
      "  5%|▍         | 1484/30802 [2:20:38<43:23:45,  5.33s/it]\u001b[A\n",
      "  5%|▍         | 1485/30802 [2:20:43<42:57:17,  5.27s/it]\u001b[A\n",
      "  5%|▍         | 1486/30802 [2:20:49<43:19:47,  5.32s/it]\u001b[A"
     ]
    },
    {
     "name": "stdout",
     "output_type": "stream",
     "text": [
      "Epoch 0, Batch 1485, loss 197212960.0\n"
     ]
    },
    {
     "name": "stderr",
     "output_type": "stream",
     "text": [
      "\n",
      "  5%|▍         | 1487/30802 [2:20:54<42:45:55,  5.25s/it]\u001b[A\n",
      "  5%|▍         | 1488/30802 [2:20:59<42:13:05,  5.18s/it]\u001b[A\n",
      "  5%|▍         | 1489/30802 [2:21:04<41:51:29,  5.14s/it]\u001b[A\n",
      "  5%|▍         | 1490/30802 [2:21:09<42:28:24,  5.22s/it]\u001b[A\n",
      "  5%|▍         | 1491/30802 [2:21:15<42:46:07,  5.25s/it]\u001b[A"
     ]
    },
    {
     "name": "stdout",
     "output_type": "stream",
     "text": [
      "Epoch 0, Batch 1490, loss 317140768.0\n"
     ]
    },
    {
     "name": "stderr",
     "output_type": "stream",
     "text": [
      "\n",
      "  5%|▍         | 1492/30802 [2:21:20<42:26:06,  5.21s/it]\u001b[A\n",
      "  5%|▍         | 1493/30802 [2:21:25<42:03:12,  5.17s/it]\u001b[A\n",
      "  5%|▍         | 1494/30802 [2:21:30<42:21:48,  5.20s/it]\u001b[A\n",
      "  5%|▍         | 1495/30802 [2:21:35<42:18:08,  5.20s/it]\u001b[A\n",
      "  5%|▍         | 1496/30802 [2:21:40<42:06:41,  5.17s/it]\u001b[A"
     ]
    },
    {
     "name": "stdout",
     "output_type": "stream",
     "text": [
      "Epoch 0, Batch 1495, loss 308957024.0\n"
     ]
    },
    {
     "name": "stderr",
     "output_type": "stream",
     "text": [
      "\n",
      "  5%|▍         | 1497/30802 [2:21:46<41:57:56,  5.16s/it]\u001b[A\n",
      "  5%|▍         | 1498/30802 [2:21:51<42:11:26,  5.18s/it]\u001b[A\n",
      "  5%|▍         | 1499/30802 [2:21:56<42:35:54,  5.23s/it]\u001b[A\n",
      "  5%|▍         | 1500/30802 [2:22:01<42:40:01,  5.24s/it]\u001b[A\n",
      "  5%|▍         | 1501/30802 [2:22:07<43:19:10,  5.32s/it]\u001b[A"
     ]
    },
    {
     "name": "stdout",
     "output_type": "stream",
     "text": [
      "Epoch 0, Batch 1500, loss 518453472.0\n"
     ]
    },
    {
     "name": "stderr",
     "output_type": "stream",
     "text": [
      "\n",
      "  5%|▍         | 1502/30802 [2:22:13<43:53:04,  5.39s/it]\u001b[A\n",
      "  5%|▍         | 1503/30802 [2:22:18<42:53:31,  5.27s/it]\u001b[A\n",
      "  5%|▍         | 1504/30802 [2:22:23<42:14:53,  5.19s/it]\u001b[A\n",
      "  5%|▍         | 1505/30802 [2:22:28<41:47:33,  5.14s/it]\u001b[A\n",
      "  5%|▍         | 1506/30802 [2:22:33<41:32:15,  5.10s/it]\u001b[A"
     ]
    },
    {
     "name": "stdout",
     "output_type": "stream",
     "text": [
      "Epoch 0, Batch 1505, loss 526361472.0\n"
     ]
    },
    {
     "name": "stderr",
     "output_type": "stream",
     "text": [
      "\n",
      "  5%|▍         | 1507/30802 [2:22:38<41:22:23,  5.08s/it]\u001b[A\n",
      "  5%|▍         | 1508/30802 [2:22:43<41:42:43,  5.13s/it]\u001b[A\n",
      "  5%|▍         | 1509/30802 [2:22:48<41:44:12,  5.13s/it]\u001b[A\n",
      "  5%|▍         | 1510/30802 [2:22:53<41:49:47,  5.14s/it]\u001b[A\n",
      "  5%|▍         | 1511/30802 [2:22:58<42:01:17,  5.16s/it]\u001b[A"
     ]
    },
    {
     "name": "stdout",
     "output_type": "stream",
     "text": [
      "Epoch 0, Batch 1510, loss 573753984.0\n"
     ]
    },
    {
     "name": "stderr",
     "output_type": "stream",
     "text": [
      "\n",
      "  5%|▍         | 1512/30802 [2:23:04<42:06:08,  5.17s/it]\u001b[A\n",
      "  5%|▍         | 1513/30802 [2:23:09<42:31:35,  5.23s/it]\u001b[A\n",
      "  5%|▍         | 1514/30802 [2:23:14<43:09:08,  5.30s/it]\u001b[A\n",
      "  5%|▍         | 1515/30802 [2:23:20<43:03:47,  5.29s/it]\u001b[A\n",
      "  5%|▍         | 1516/30802 [2:23:25<42:45:34,  5.26s/it]\u001b[A"
     ]
    },
    {
     "name": "stdout",
     "output_type": "stream",
     "text": [
      "Epoch 0, Batch 1515, loss 504025440.0\n"
     ]
    },
    {
     "name": "stderr",
     "output_type": "stream",
     "text": [
      "\n",
      "  5%|▍         | 1517/30802 [2:23:30<42:44:28,  5.25s/it]\u001b[A\n",
      "  5%|▍         | 1518/30802 [2:23:35<41:55:53,  5.15s/it]\u001b[A\n",
      "  5%|▍         | 1519/30802 [2:23:43<48:18:59,  5.94s/it]\u001b[A\n",
      "  5%|▍         | 1520/30802 [2:23:48<46:41:57,  5.74s/it]\u001b[A\n",
      "  5%|▍         | 1521/30802 [2:23:53<45:44:29,  5.62s/it]\u001b[A"
     ]
    },
    {
     "name": "stdout",
     "output_type": "stream",
     "text": [
      "Epoch 0, Batch 1520, loss 64874324.0\n"
     ]
    },
    {
     "name": "stderr",
     "output_type": "stream",
     "text": [
      "\n",
      "  5%|▍         | 1522/30802 [2:23:59<46:18:35,  5.69s/it]\u001b[A\n",
      "  5%|▍         | 1523/30802 [2:24:04<44:48:52,  5.51s/it]\u001b[A\n",
      "  5%|▍         | 1524/30802 [2:24:09<43:08:43,  5.31s/it]\u001b[A\n",
      "  5%|▍         | 1525/30802 [2:24:14<42:25:08,  5.22s/it]\u001b[A\n",
      "  5%|▍         | 1526/30802 [2:24:19<41:57:14,  5.16s/it]\u001b[A"
     ]
    },
    {
     "name": "stdout",
     "output_type": "stream",
     "text": [
      "Epoch 0, Batch 1525, loss 396800320.0\n"
     ]
    },
    {
     "name": "stderr",
     "output_type": "stream",
     "text": [
      "\n",
      "  5%|▍         | 1527/30802 [2:24:24<41:54:48,  5.15s/it]\u001b[A\n",
      "  5%|▍         | 1528/30802 [2:24:29<41:48:13,  5.14s/it]\u001b[A\n",
      "  5%|▍         | 1529/30802 [2:24:35<41:54:32,  5.15s/it]\u001b[A\n",
      "  5%|▍         | 1530/30802 [2:24:40<42:07:09,  5.18s/it]\u001b[A\n",
      "  5%|▍         | 1531/30802 [2:24:45<42:25:16,  5.22s/it]\u001b[A"
     ]
    },
    {
     "name": "stdout",
     "output_type": "stream",
     "text": [
      "Epoch 0, Batch 1530, loss 411328960.0\n"
     ]
    },
    {
     "name": "stderr",
     "output_type": "stream",
     "text": [
      "\n",
      "  5%|▍         | 1532/30802 [2:24:50<42:26:30,  5.22s/it]\u001b[A\n",
      "  5%|▍         | 1533/30802 [2:24:56<42:39:07,  5.25s/it]\u001b[A\n",
      "  5%|▍         | 1534/30802 [2:25:01<43:04:53,  5.30s/it]\u001b[A\n",
      "  5%|▍         | 1535/30802 [2:25:07<43:21:41,  5.33s/it]\u001b[A\n",
      "  5%|▍         | 1536/30802 [2:25:12<43:10:12,  5.31s/it]\u001b[A"
     ]
    },
    {
     "name": "stdout",
     "output_type": "stream",
     "text": [
      "Epoch 0, Batch 1535, loss 469853984.0\n"
     ]
    },
    {
     "name": "stderr",
     "output_type": "stream",
     "text": [
      "\n",
      "  5%|▍         | 1537/30802 [2:25:17<43:26:18,  5.34s/it]\u001b[A\n",
      "  5%|▍         | 1538/30802 [2:25:22<43:04:13,  5.30s/it]\u001b[A\n",
      "  5%|▍         | 1539/30802 [2:25:28<42:43:51,  5.26s/it]\u001b[A\n",
      "  5%|▍         | 1540/30802 [2:25:33<42:03:39,  5.17s/it]\u001b[A\n",
      "  5%|▌         | 1541/30802 [2:25:37<41:25:44,  5.10s/it]\u001b[A"
     ]
    },
    {
     "name": "stdout",
     "output_type": "stream",
     "text": [
      "Epoch 0, Batch 1540, loss 375099840.0\n"
     ]
    },
    {
     "name": "stderr",
     "output_type": "stream",
     "text": [
      "\n",
      "  5%|▌         | 1542/30802 [2:25:43<41:34:10,  5.11s/it]\u001b[A\n",
      "  5%|▌         | 1543/30802 [2:25:48<41:32:56,  5.11s/it]\u001b[A\n",
      "  5%|▌         | 1544/30802 [2:25:53<41:53:58,  5.16s/it]\u001b[A\n",
      "  5%|▌         | 1545/30802 [2:25:58<41:54:18,  5.16s/it]\u001b[A\n",
      "  5%|▌         | 1546/30802 [2:26:03<41:59:47,  5.17s/it]\u001b[A"
     ]
    },
    {
     "name": "stdout",
     "output_type": "stream",
     "text": [
      "Epoch 0, Batch 1545, loss 863983296.0\n"
     ]
    },
    {
     "name": "stderr",
     "output_type": "stream",
     "text": [
      "\n",
      "  5%|▌         | 1547/30802 [2:26:08<41:57:14,  5.16s/it]\u001b[A\n",
      "  5%|▌         | 1548/30802 [2:26:14<41:35:52,  5.12s/it]\u001b[A\n",
      "  5%|▌         | 1549/30802 [2:26:19<43:03:39,  5.30s/it]\u001b[A\n",
      "  5%|▌         | 1550/30802 [2:26:24<42:16:55,  5.20s/it]\u001b[A\n",
      "  5%|▌         | 1551/30802 [2:26:29<42:25:26,  5.22s/it]\u001b[A"
     ]
    },
    {
     "name": "stdout",
     "output_type": "stream",
     "text": [
      "Epoch 0, Batch 1550, loss 63410608.0\n"
     ]
    },
    {
     "name": "stderr",
     "output_type": "stream",
     "text": [
      "\n",
      "  5%|▌         | 1552/30802 [2:26:35<42:30:41,  5.23s/it]\u001b[A\n",
      "  5%|▌         | 1553/30802 [2:26:40<42:12:19,  5.19s/it]\u001b[A\n",
      "  5%|▌         | 1554/30802 [2:26:45<41:56:32,  5.16s/it]\u001b[A\n",
      "  5%|▌         | 1555/30802 [2:26:50<41:33:56,  5.12s/it]\u001b[A\n",
      "  5%|▌         | 1556/30802 [2:26:55<41:43:47,  5.14s/it]\u001b[A"
     ]
    },
    {
     "name": "stdout",
     "output_type": "stream",
     "text": [
      "Epoch 0, Batch 1555, loss 66580724.0\n"
     ]
    },
    {
     "name": "stderr",
     "output_type": "stream",
     "text": [
      "\n",
      "  5%|▌         | 1557/30802 [2:27:00<42:00:49,  5.17s/it]\u001b[A\n",
      "  5%|▌         | 1558/30802 [2:27:06<42:12:59,  5.20s/it]\u001b[A\n",
      "  5%|▌         | 1559/30802 [2:27:11<43:03:05,  5.30s/it]\u001b[A\n",
      "  5%|▌         | 1560/30802 [2:27:16<42:51:11,  5.28s/it]\u001b[A\n",
      "  5%|▌         | 1561/30802 [2:27:22<42:36:46,  5.25s/it]\u001b[A"
     ]
    },
    {
     "name": "stdout",
     "output_type": "stream",
     "text": [
      "Epoch 0, Batch 1560, loss 405943072.0\n"
     ]
    },
    {
     "name": "stderr",
     "output_type": "stream",
     "text": [
      "\n",
      "  5%|▌         | 1562/30802 [2:27:27<43:13:13,  5.32s/it]\u001b[A\n",
      "  5%|▌         | 1563/30802 [2:27:33<43:43:33,  5.38s/it]\u001b[A\n",
      "  5%|▌         | 1564/30802 [2:27:38<43:41:30,  5.38s/it]\u001b[A\n",
      "  5%|▌         | 1565/30802 [2:27:43<43:44:37,  5.39s/it]\u001b[A\n",
      "  5%|▌         | 1566/30802 [2:27:49<43:41:30,  5.38s/it]\u001b[A"
     ]
    },
    {
     "name": "stdout",
     "output_type": "stream",
     "text": [
      "Epoch 0, Batch 1565, loss 58103504.0\n"
     ]
    },
    {
     "name": "stderr",
     "output_type": "stream",
     "text": [
      "\n",
      "  5%|▌         | 1567/30802 [2:27:54<43:53:17,  5.40s/it]\u001b[A\n",
      "  5%|▌         | 1568/30802 [2:27:59<43:13:14,  5.32s/it]\u001b[A\n",
      "  5%|▌         | 1569/30802 [2:28:05<43:27:08,  5.35s/it]\u001b[A\n",
      "  5%|▌         | 1570/30802 [2:28:10<43:07:47,  5.31s/it]\u001b[A\n",
      "  5%|▌         | 1571/30802 [2:28:15<42:49:08,  5.27s/it]\u001b[A"
     ]
    },
    {
     "name": "stdout",
     "output_type": "stream",
     "text": [
      "Epoch 0, Batch 1570, loss 143490976.0\n"
     ]
    },
    {
     "name": "stderr",
     "output_type": "stream",
     "text": [
      "\n",
      "  5%|▌         | 1572/30802 [2:28:20<42:17:55,  5.21s/it]\u001b[A\n",
      "  5%|▌         | 1573/30802 [2:28:25<42:04:32,  5.18s/it]\u001b[A\n",
      "  5%|▌         | 1574/30802 [2:28:30<41:40:47,  5.13s/it]\u001b[A\n",
      "  5%|▌         | 1575/30802 [2:28:36<42:10:15,  5.19s/it]\u001b[A\n",
      "  5%|▌         | 1576/30802 [2:28:41<42:15:58,  5.21s/it]\u001b[A"
     ]
    },
    {
     "name": "stdout",
     "output_type": "stream",
     "text": [
      "Epoch 0, Batch 1575, loss 1116161792.0\n"
     ]
    },
    {
     "name": "stderr",
     "output_type": "stream",
     "text": [
      "\n",
      "  5%|▌         | 1577/30802 [2:28:46<42:51:46,  5.28s/it]\u001b[A\n",
      "  5%|▌         | 1578/30802 [2:28:52<43:25:54,  5.35s/it]\u001b[A\n",
      "  5%|▌         | 1579/30802 [2:28:57<43:20:47,  5.34s/it]\u001b[A\n",
      "  5%|▌         | 1580/30802 [2:29:02<42:52:50,  5.28s/it]\u001b[A\n",
      "  5%|▌         | 1581/30802 [2:29:07<42:15:37,  5.21s/it]\u001b[A"
     ]
    },
    {
     "name": "stdout",
     "output_type": "stream",
     "text": [
      "Epoch 0, Batch 1580, loss 531353856.0\n"
     ]
    },
    {
     "name": "stderr",
     "output_type": "stream",
     "text": [
      "\n",
      "  5%|▌         | 1582/30802 [2:29:12<41:44:28,  5.14s/it]\u001b[A\n",
      "  5%|▌         | 1583/30802 [2:29:17<41:31:52,  5.12s/it]\u001b[A\n",
      "  5%|▌         | 1584/30802 [2:29:22<41:24:06,  5.10s/it]\u001b[A\n",
      "  5%|▌         | 1585/30802 [2:29:28<42:20:24,  5.22s/it]\u001b[A\n",
      "  5%|▌         | 1586/30802 [2:29:34<43:08:03,  5.32s/it]\u001b[A"
     ]
    },
    {
     "name": "stdout",
     "output_type": "stream",
     "text": [
      "Epoch 0, Batch 1585, loss 276685376.0\n"
     ]
    },
    {
     "name": "stderr",
     "output_type": "stream",
     "text": [
      "\n",
      "  5%|▌         | 1587/30802 [2:29:39<43:55:47,  5.41s/it]\u001b[A\n",
      "  5%|▌         | 1588/30802 [2:29:45<45:06:17,  5.56s/it]\u001b[A\n",
      "  5%|▌         | 1589/30802 [2:29:51<45:26:26,  5.60s/it]\u001b[A\n",
      "  5%|▌         | 1590/30802 [2:29:56<45:24:49,  5.60s/it]\u001b[A\n",
      "  5%|▌         | 1591/30802 [2:30:02<45:21:10,  5.59s/it]\u001b[A"
     ]
    },
    {
     "name": "stdout",
     "output_type": "stream",
     "text": [
      "Epoch 0, Batch 1590, loss 256174624.0\n"
     ]
    },
    {
     "name": "stderr",
     "output_type": "stream",
     "text": [
      "\n",
      "  5%|▌         | 1592/30802 [2:30:07<45:15:45,  5.58s/it]\u001b[A\n",
      "  5%|▌         | 1593/30802 [2:30:14<46:47:10,  5.77s/it]\u001b[A\n",
      "  5%|▌         | 1594/30802 [2:30:19<45:56:41,  5.66s/it]\u001b[A\n",
      "  5%|▌         | 1595/30802 [2:30:24<44:23:27,  5.47s/it]\u001b[A\n",
      "  5%|▌         | 1596/30802 [2:30:29<43:35:27,  5.37s/it]\u001b[A"
     ]
    },
    {
     "name": "stdout",
     "output_type": "stream",
     "text": [
      "Epoch 0, Batch 1595, loss 426925088.0\n"
     ]
    },
    {
     "name": "stderr",
     "output_type": "stream",
     "text": [
      "\n",
      "  5%|▌         | 1597/30802 [2:30:34<42:36:21,  5.25s/it]\u001b[A\n",
      "  5%|▌         | 1598/30802 [2:30:39<42:26:39,  5.23s/it]\u001b[A\n",
      "  5%|▌         | 1599/30802 [2:30:44<41:55:30,  5.17s/it]\u001b[A\n",
      "  5%|▌         | 1600/30802 [2:30:50<41:55:26,  5.17s/it]\u001b[A\n",
      "  5%|▌         | 1601/30802 [2:30:55<42:00:53,  5.18s/it]\u001b[A"
     ]
    },
    {
     "name": "stdout",
     "output_type": "stream",
     "text": [
      "Epoch 0, Batch 1600, loss 57044508.0\n"
     ]
    },
    {
     "name": "stderr",
     "output_type": "stream",
     "text": [
      "\n",
      "  5%|▌         | 1602/30802 [2:31:00<42:40:48,  5.26s/it]\u001b[A\n",
      "  5%|▌         | 1603/30802 [2:31:05<42:05:53,  5.19s/it]\u001b[A\n",
      "  5%|▌         | 1604/30802 [2:31:10<41:36:09,  5.13s/it]\u001b[A\n",
      "  5%|▌         | 1605/30802 [2:31:15<41:38:10,  5.13s/it]\u001b[A\n",
      "  5%|▌         | 1606/30802 [2:31:21<41:39:36,  5.14s/it]\u001b[A"
     ]
    },
    {
     "name": "stdout",
     "output_type": "stream",
     "text": [
      "Epoch 0, Batch 1605, loss 423814560.0\n"
     ]
    },
    {
     "name": "stderr",
     "output_type": "stream",
     "text": [
      "\n",
      "  5%|▌         | 1607/30802 [2:31:26<42:13:53,  5.21s/it]\u001b[A\n",
      "  5%|▌         | 1608/30802 [2:31:31<42:47:03,  5.28s/it]\u001b[A\n",
      "  5%|▌         | 1609/30802 [2:31:37<42:45:02,  5.27s/it]\u001b[A\n",
      "  5%|▌         | 1610/30802 [2:31:42<42:51:18,  5.28s/it]\u001b[A\n",
      "  5%|▌         | 1611/30802 [2:31:47<42:29:55,  5.24s/it]\u001b[A"
     ]
    },
    {
     "name": "stdout",
     "output_type": "stream",
     "text": [
      "Epoch 0, Batch 1610, loss 465563264.0\n"
     ]
    },
    {
     "name": "stderr",
     "output_type": "stream",
     "text": [
      "\n",
      "  5%|▌         | 1612/30802 [2:31:52<42:42:48,  5.27s/it]\u001b[A\n",
      "  5%|▌         | 1613/30802 [2:31:58<42:54:25,  5.29s/it]\u001b[A\n",
      "  5%|▌         | 1614/30802 [2:32:03<41:56:50,  5.17s/it]\u001b[A\n",
      "  5%|▌         | 1615/30802 [2:32:08<41:39:58,  5.14s/it]\u001b[A\n",
      "  5%|▌         | 1616/30802 [2:32:13<42:29:15,  5.24s/it]\u001b[A"
     ]
    },
    {
     "name": "stdout",
     "output_type": "stream",
     "text": [
      "Epoch 0, Batch 1615, loss 539420032.0\n"
     ]
    },
    {
     "name": "stderr",
     "output_type": "stream",
     "text": [
      "\n",
      "  5%|▌         | 1617/30802 [2:32:19<43:06:21,  5.32s/it]\u001b[A\n",
      "  5%|▌         | 1618/30802 [2:32:24<42:59:04,  5.30s/it]\u001b[A\n",
      "  5%|▌         | 1619/30802 [2:32:29<42:24:22,  5.23s/it]\u001b[A\n",
      "  5%|▌         | 1620/30802 [2:32:34<41:48:14,  5.16s/it]\u001b[A\n",
      "  5%|▌         | 1621/30802 [2:32:39<42:19:49,  5.22s/it]\u001b[A"
     ]
    },
    {
     "name": "stdout",
     "output_type": "stream",
     "text": [
      "Epoch 0, Batch 1620, loss 263168160.0\n"
     ]
    },
    {
     "name": "stderr",
     "output_type": "stream",
     "text": [
      "\n",
      "  5%|▌         | 1622/30802 [2:32:45<43:05:56,  5.32s/it]\u001b[A\n",
      "  5%|▌         | 1623/30802 [2:32:50<42:54:02,  5.29s/it]\u001b[A\n",
      "  5%|▌         | 1624/30802 [2:32:55<42:23:53,  5.23s/it]\u001b[A\n",
      "  5%|▌         | 1625/30802 [2:33:01<42:36:32,  5.26s/it]\u001b[A\n",
      "  5%|▌         | 1626/30802 [2:33:06<42:15:36,  5.21s/it]\u001b[A"
     ]
    },
    {
     "name": "stdout",
     "output_type": "stream",
     "text": [
      "Epoch 0, Batch 1625, loss 465893376.0\n"
     ]
    },
    {
     "name": "stderr",
     "output_type": "stream",
     "text": [
      "\n",
      "  5%|▌         | 1627/30802 [2:33:11<42:10:25,  5.20s/it]\u001b[A\n",
      "  5%|▌         | 1628/30802 [2:33:16<42:01:56,  5.19s/it]\u001b[A\n",
      "  5%|▌         | 1629/30802 [2:33:21<42:08:35,  5.20s/it]\u001b[A\n",
      "  5%|▌         | 1630/30802 [2:33:27<42:53:10,  5.29s/it]\u001b[A\n",
      "  5%|▌         | 1631/30802 [2:33:32<42:54:18,  5.29s/it]\u001b[A"
     ]
    },
    {
     "name": "stdout",
     "output_type": "stream",
     "text": [
      "Epoch 0, Batch 1630, loss 443388192.0\n"
     ]
    },
    {
     "name": "stderr",
     "output_type": "stream",
     "text": [
      "\n",
      "  5%|▌         | 1632/30802 [2:33:37<43:10:23,  5.33s/it]\u001b[A\n",
      "  5%|▌         | 1633/30802 [2:33:43<43:47:43,  5.41s/it]\u001b[A\n",
      "  5%|▌         | 1634/30802 [2:33:48<43:04:02,  5.32s/it]\u001b[A\n",
      "  5%|▌         | 1635/30802 [2:33:53<42:37:42,  5.26s/it]\u001b[A\n",
      "  5%|▌         | 1636/30802 [2:33:58<41:58:09,  5.18s/it]\u001b[A"
     ]
    },
    {
     "name": "stdout",
     "output_type": "stream",
     "text": [
      "Epoch 0, Batch 1635, loss 289217344.0\n"
     ]
    },
    {
     "name": "stderr",
     "output_type": "stream",
     "text": [
      "\n",
      "  5%|▌         | 1637/30802 [2:34:04<42:44:23,  5.28s/it]\u001b[A\n",
      "  5%|▌         | 1638/30802 [2:34:10<44:40:22,  5.51s/it]\u001b[A\n",
      "  5%|▌         | 1639/30802 [2:34:16<45:39:22,  5.64s/it]\u001b[A\n",
      "  5%|▌         | 1640/30802 [2:34:21<44:15:57,  5.46s/it]\u001b[A\n",
      "  5%|▌         | 1641/30802 [2:34:26<44:06:36,  5.45s/it]\u001b[A"
     ]
    },
    {
     "name": "stdout",
     "output_type": "stream",
     "text": [
      "Epoch 0, Batch 1640, loss 454059648.0\n"
     ]
    },
    {
     "name": "stderr",
     "output_type": "stream",
     "text": [
      "\n",
      "  5%|▌         | 1642/30802 [2:34:31<43:33:11,  5.38s/it]\u001b[A\n",
      "  5%|▌         | 1643/30802 [2:34:37<43:19:25,  5.35s/it]\u001b[A\n",
      "  5%|▌         | 1644/30802 [2:34:42<42:34:40,  5.26s/it]\u001b[A\n",
      "  5%|▌         | 1645/30802 [2:34:47<42:16:05,  5.22s/it]\u001b[A\n",
      "  5%|▌         | 1646/30802 [2:34:52<42:24:38,  5.24s/it]\u001b[A"
     ]
    },
    {
     "name": "stdout",
     "output_type": "stream",
     "text": [
      "Epoch 0, Batch 1645, loss 348586848.0\n"
     ]
    },
    {
     "name": "stderr",
     "output_type": "stream",
     "text": [
      "\n",
      "  5%|▌         | 1647/30802 [2:34:57<42:31:22,  5.25s/it]\u001b[A\n",
      "  5%|▌         | 1648/30802 [2:35:03<42:15:24,  5.22s/it]\u001b[A\n",
      "  5%|▌         | 1649/30802 [2:35:08<42:05:31,  5.20s/it]\u001b[A\n",
      "  5%|▌         | 1650/30802 [2:35:13<42:04:43,  5.20s/it]\u001b[A\n",
      "  5%|▌         | 1651/30802 [2:35:18<42:15:25,  5.22s/it]\u001b[A"
     ]
    },
    {
     "name": "stdout",
     "output_type": "stream",
     "text": [
      "Epoch 0, Batch 1650, loss 126955736.0\n"
     ]
    },
    {
     "name": "stderr",
     "output_type": "stream",
     "text": [
      "\n",
      "  5%|▌         | 1652/30802 [2:35:24<42:43:55,  5.28s/it]\u001b[A\n",
      "  5%|▌         | 1653/30802 [2:35:29<42:38:22,  5.27s/it]\u001b[A\n",
      "  5%|▌         | 1654/30802 [2:35:34<42:32:47,  5.25s/it]\u001b[A\n",
      "  5%|▌         | 1655/30802 [2:35:40<42:56:11,  5.30s/it]\u001b[A\n",
      "  5%|▌         | 1656/30802 [2:35:45<42:51:39,  5.29s/it]\u001b[A"
     ]
    },
    {
     "name": "stdout",
     "output_type": "stream",
     "text": [
      "Epoch 0, Batch 1655, loss 312730592.0\n"
     ]
    },
    {
     "name": "stderr",
     "output_type": "stream",
     "text": [
      "\n",
      "  5%|▌         | 1657/30802 [2:35:50<42:57:41,  5.31s/it]\u001b[A\n",
      "  5%|▌         | 1658/30802 [2:35:56<43:42:09,  5.40s/it]\u001b[A\n",
      "  5%|▌         | 1659/30802 [2:36:01<43:40:23,  5.39s/it]\u001b[A\n",
      "  5%|▌         | 1660/30802 [2:36:06<42:57:55,  5.31s/it]\u001b[A\n",
      "  5%|▌         | 1661/30802 [2:36:11<42:51:43,  5.30s/it]\u001b[A"
     ]
    },
    {
     "name": "stdout",
     "output_type": "stream",
     "text": [
      "Epoch 0, Batch 1660, loss 103400600.0\n"
     ]
    },
    {
     "name": "stderr",
     "output_type": "stream",
     "text": [
      "\n",
      "  5%|▌         | 1662/30802 [2:36:16<42:07:39,  5.20s/it]\u001b[A\n",
      "  5%|▌         | 1663/30802 [2:36:22<41:51:50,  5.17s/it]\u001b[A\n",
      "  5%|▌         | 1664/30802 [2:36:27<41:36:14,  5.14s/it]\u001b[A\n",
      "  5%|▌         | 1665/30802 [2:36:32<41:45:04,  5.16s/it]\u001b[A\n",
      "  5%|▌         | 1666/30802 [2:36:37<41:54:10,  5.18s/it]\u001b[A"
     ]
    },
    {
     "name": "stdout",
     "output_type": "stream",
     "text": [
      "Epoch 0, Batch 1665, loss 277815072.0\n"
     ]
    },
    {
     "name": "stderr",
     "output_type": "stream",
     "text": [
      "\n",
      "  5%|▌         | 1667/30802 [2:36:42<41:45:33,  5.16s/it]\u001b[A\n",
      "  5%|▌         | 1668/30802 [2:36:47<41:30:29,  5.13s/it]\u001b[A\n",
      "  5%|▌         | 1669/30802 [2:36:53<41:55:51,  5.18s/it]\u001b[A\n",
      "  5%|▌         | 1670/30802 [2:36:58<42:44:04,  5.28s/it]\u001b[A\n",
      "  5%|▌         | 1671/30802 [2:37:03<42:54:29,  5.30s/it]\u001b[A"
     ]
    },
    {
     "name": "stdout",
     "output_type": "stream",
     "text": [
      "Epoch 0, Batch 1670, loss 214841088.0\n"
     ]
    },
    {
     "name": "stderr",
     "output_type": "stream",
     "text": [
      "\n",
      "  5%|▌         | 1672/30802 [2:37:09<43:36:18,  5.39s/it]\u001b[A\n",
      "  5%|▌         | 1673/30802 [2:37:14<43:37:36,  5.39s/it]\u001b[A\n",
      "  5%|▌         | 1674/30802 [2:37:19<42:29:25,  5.25s/it]\u001b[A\n",
      "  5%|▌         | 1675/30802 [2:37:24<41:30:31,  5.13s/it]\u001b[A\n",
      "  5%|▌         | 1676/30802 [2:37:29<41:50:52,  5.17s/it]\u001b[A"
     ]
    },
    {
     "name": "stdout",
     "output_type": "stream",
     "text": [
      "Epoch 0, Batch 1675, loss 881374720.0\n"
     ]
    },
    {
     "name": "stderr",
     "output_type": "stream",
     "text": [
      "\n",
      "  5%|▌         | 1677/30802 [2:37:35<41:34:46,  5.14s/it]\u001b[A\n",
      "  5%|▌         | 1678/30802 [2:37:40<41:45:08,  5.16s/it]\u001b[A\n",
      "  5%|▌         | 1679/30802 [2:37:45<41:48:27,  5.17s/it]\u001b[A\n",
      "  5%|▌         | 1680/30802 [2:37:50<41:45:42,  5.16s/it]\u001b[A\n",
      "  5%|▌         | 1681/30802 [2:37:55<41:39:44,  5.15s/it]\u001b[A"
     ]
    },
    {
     "name": "stdout",
     "output_type": "stream",
     "text": [
      "Epoch 0, Batch 1680, loss 423233696.0\n"
     ]
    },
    {
     "name": "stderr",
     "output_type": "stream",
     "text": [
      "\n",
      "  5%|▌         | 1682/30802 [2:38:00<41:30:46,  5.13s/it]\u001b[A\n",
      "  5%|▌         | 1683/30802 [2:38:05<41:33:36,  5.14s/it]\u001b[A\n",
      "  5%|▌         | 1684/30802 [2:38:11<41:47:31,  5.17s/it]\u001b[A\n",
      "  5%|▌         | 1685/30802 [2:38:16<42:25:37,  5.25s/it]\u001b[A\n",
      "  5%|▌         | 1686/30802 [2:38:21<42:26:48,  5.25s/it]\u001b[A"
     ]
    },
    {
     "name": "stdout",
     "output_type": "stream",
     "text": [
      "Epoch 0, Batch 1685, loss 598764288.0\n"
     ]
    },
    {
     "name": "stderr",
     "output_type": "stream",
     "text": [
      "\n",
      "  5%|▌         | 1687/30802 [2:38:27<42:28:13,  5.25s/it]\u001b[A\n",
      "  5%|▌         | 1688/30802 [2:38:32<42:42:36,  5.28s/it]\u001b[A\n",
      "  5%|▌         | 1689/30802 [2:38:37<42:30:41,  5.26s/it]\u001b[A\n",
      "  5%|▌         | 1690/30802 [2:38:42<41:59:39,  5.19s/it]\u001b[A\n",
      "  5%|▌         | 1691/30802 [2:38:47<41:50:53,  5.18s/it]\u001b[A"
     ]
    },
    {
     "name": "stdout",
     "output_type": "stream",
     "text": [
      "Epoch 0, Batch 1690, loss 353523072.0\n"
     ]
    },
    {
     "name": "stderr",
     "output_type": "stream",
     "text": [
      "\n",
      "  5%|▌         | 1692/30802 [2:38:53<41:51:06,  5.18s/it]\u001b[A\n",
      "  5%|▌         | 1693/30802 [2:38:58<41:48:19,  5.17s/it]\u001b[A\n",
      "  5%|▌         | 1694/30802 [2:39:03<41:23:15,  5.12s/it]\u001b[A\n",
      "  6%|▌         | 1695/30802 [2:39:08<41:14:17,  5.10s/it]\u001b[A\n",
      "  6%|▌         | 1696/30802 [2:39:13<41:17:56,  5.11s/it]\u001b[A"
     ]
    },
    {
     "name": "stdout",
     "output_type": "stream",
     "text": [
      "Epoch 0, Batch 1695, loss 211169440.0\n"
     ]
    },
    {
     "name": "stderr",
     "output_type": "stream",
     "text": [
      "\n",
      "  6%|▌         | 1697/30802 [2:39:18<41:34:26,  5.14s/it]\u001b[A\n",
      "  6%|▌         | 1698/30802 [2:39:23<41:42:41,  5.16s/it]\u001b[A\n",
      "  6%|▌         | 1699/30802 [2:39:29<42:18:29,  5.23s/it]\u001b[A\n",
      "  6%|▌         | 1700/30802 [2:39:34<42:18:34,  5.23s/it]\u001b[A\n",
      "  6%|▌         | 1701/30802 [2:39:40<43:15:07,  5.35s/it]\u001b[A"
     ]
    },
    {
     "name": "stdout",
     "output_type": "stream",
     "text": [
      "Epoch 0, Batch 1700, loss 229057952.0\n"
     ]
    },
    {
     "name": "stderr",
     "output_type": "stream",
     "text": [
      "\n",
      "  6%|▌         | 1702/30802 [2:39:45<43:58:49,  5.44s/it]\u001b[A\n",
      "  6%|▌         | 1703/30802 [2:39:51<43:46:11,  5.42s/it]\u001b[A\n",
      "  6%|▌         | 1704/30802 [2:39:56<43:19:57,  5.36s/it]\u001b[A\n",
      "  6%|▌         | 1705/30802 [2:40:01<43:53:35,  5.43s/it]\u001b[A\n",
      "  6%|▌         | 1706/30802 [2:40:07<43:29:45,  5.38s/it]\u001b[A"
     ]
    },
    {
     "name": "stdout",
     "output_type": "stream",
     "text": [
      "Epoch 0, Batch 1705, loss 516733984.0\n"
     ]
    },
    {
     "name": "stderr",
     "output_type": "stream",
     "text": [
      "\n",
      "  6%|▌         | 1707/30802 [2:40:12<43:48:03,  5.42s/it]\u001b[A\n",
      "  6%|▌         | 1708/30802 [2:40:17<43:30:58,  5.38s/it]\u001b[A\n",
      "  6%|▌         | 1709/30802 [2:40:24<45:10:44,  5.59s/it]\u001b[A\n",
      "  6%|▌         | 1710/30802 [2:40:29<43:56:22,  5.44s/it]\u001b[A\n",
      "  6%|▌         | 1711/30802 [2:40:34<42:44:55,  5.29s/it]\u001b[A"
     ]
    },
    {
     "name": "stdout",
     "output_type": "stream",
     "text": [
      "Epoch 0, Batch 1710, loss 524462784.0\n"
     ]
    },
    {
     "name": "stderr",
     "output_type": "stream",
     "text": [
      "\n",
      "  6%|▌         | 1712/30802 [2:40:39<42:23:11,  5.25s/it]\u001b[A\n",
      "  6%|▌         | 1713/30802 [2:40:44<42:12:32,  5.22s/it]\u001b[A\n",
      "  6%|▌         | 1714/30802 [2:40:49<42:43:29,  5.29s/it]\u001b[A\n",
      "  6%|▌         | 1715/30802 [2:40:54<42:15:32,  5.23s/it]\u001b[A\n",
      "  6%|▌         | 1716/30802 [2:41:00<42:16:37,  5.23s/it]\u001b[A"
     ]
    },
    {
     "name": "stdout",
     "output_type": "stream",
     "text": [
      "Epoch 0, Batch 1715, loss 530197408.0\n"
     ]
    },
    {
     "name": "stderr",
     "output_type": "stream",
     "text": [
      "\n",
      "  6%|▌         | 1717/30802 [2:41:05<41:49:29,  5.18s/it]\u001b[A\n",
      "  6%|▌         | 1718/30802 [2:41:10<41:37:17,  5.15s/it]\u001b[A\n",
      "  6%|▌         | 1719/30802 [2:41:15<42:22:00,  5.24s/it]\u001b[A\n",
      "  6%|▌         | 1720/30802 [2:41:21<42:39:37,  5.28s/it]\u001b[A\n",
      "  6%|▌         | 1721/30802 [2:41:26<43:20:40,  5.37s/it]\u001b[A"
     ]
    },
    {
     "name": "stdout",
     "output_type": "stream",
     "text": [
      "Epoch 0, Batch 1720, loss 120059312.0\n"
     ]
    },
    {
     "name": "stderr",
     "output_type": "stream",
     "text": [
      "\n",
      "  6%|▌         | 1722/30802 [2:41:32<43:40:18,  5.41s/it]\u001b[A\n",
      "  6%|▌         | 1723/30802 [2:41:37<43:41:29,  5.41s/it]\u001b[A\n",
      "  6%|▌         | 1724/30802 [2:41:43<44:06:00,  5.46s/it]\u001b[A\n",
      "  6%|▌         | 1725/30802 [2:41:48<43:35:50,  5.40s/it]\u001b[A\n",
      "  6%|▌         | 1726/30802 [2:41:53<42:43:29,  5.29s/it]\u001b[A"
     ]
    },
    {
     "name": "stdout",
     "output_type": "stream",
     "text": [
      "Epoch 0, Batch 1725, loss 535359040.0\n"
     ]
    },
    {
     "name": "stderr",
     "output_type": "stream",
     "text": [
      "\n",
      "  6%|▌         | 1727/30802 [2:41:58<42:07:54,  5.22s/it]\u001b[A\n",
      "  6%|▌         | 1728/30802 [2:42:03<41:42:48,  5.17s/it]\u001b[A\n",
      "  6%|▌         | 1729/30802 [2:42:08<40:58:51,  5.07s/it]\u001b[A\n",
      "  6%|▌         | 1730/30802 [2:42:13<41:12:11,  5.10s/it]\u001b[A\n",
      "  6%|▌         | 1731/30802 [2:42:18<40:57:09,  5.07s/it]\u001b[A"
     ]
    },
    {
     "name": "stdout",
     "output_type": "stream",
     "text": [
      "Epoch 0, Batch 1730, loss 423791008.0\n"
     ]
    },
    {
     "name": "stderr",
     "output_type": "stream",
     "text": [
      "\n",
      "  6%|▌         | 1732/30802 [2:42:23<41:17:37,  5.11s/it]\u001b[A\n",
      "  6%|▌         | 1733/30802 [2:42:29<41:53:30,  5.19s/it]\u001b[A\n",
      "  6%|▌         | 1734/30802 [2:42:34<42:13:19,  5.23s/it]\u001b[A\n",
      "  6%|▌         | 1735/30802 [2:42:39<42:26:58,  5.26s/it]\u001b[A\n",
      "  6%|▌         | 1736/30802 [2:42:45<43:13:14,  5.35s/it]\u001b[A"
     ]
    },
    {
     "name": "stdout",
     "output_type": "stream",
     "text": [
      "Epoch 0, Batch 1735, loss 258064384.0\n"
     ]
    },
    {
     "name": "stderr",
     "output_type": "stream",
     "text": [
      "\n",
      "  6%|▌         | 1737/30802 [2:42:50<43:20:44,  5.37s/it]\u001b[A\n",
      "  6%|▌         | 1738/30802 [2:42:56<43:22:04,  5.37s/it]\u001b[A\n",
      "  6%|▌         | 1739/30802 [2:43:01<42:56:36,  5.32s/it]\u001b[A\n",
      "  6%|▌         | 1740/30802 [2:43:06<43:16:56,  5.36s/it]\u001b[A\n",
      "  6%|▌         | 1741/30802 [2:43:11<42:46:40,  5.30s/it]\u001b[A"
     ]
    },
    {
     "name": "stdout",
     "output_type": "stream",
     "text": [
      "Epoch 0, Batch 1740, loss 391430944.0\n"
     ]
    },
    {
     "name": "stderr",
     "output_type": "stream",
     "text": [
      "\n",
      "  6%|▌         | 1742/30802 [2:43:16<42:03:34,  5.21s/it]\u001b[A\n",
      "  6%|▌         | 1743/30802 [2:43:22<42:22:51,  5.25s/it]\u001b[A\n",
      "  6%|▌         | 1744/30802 [2:43:27<42:47:23,  5.30s/it]\u001b[A\n",
      "  6%|▌         | 1745/30802 [2:43:32<42:13:15,  5.23s/it]\u001b[A\n",
      "  6%|▌         | 1746/30802 [2:43:37<42:01:07,  5.21s/it]\u001b[A"
     ]
    },
    {
     "name": "stdout",
     "output_type": "stream",
     "text": [
      "Epoch 0, Batch 1745, loss 593519360.0\n"
     ]
    },
    {
     "name": "stderr",
     "output_type": "stream",
     "text": [
      "\n",
      "  6%|▌         | 1747/30802 [2:43:43<41:50:38,  5.18s/it]\u001b[A\n",
      "  6%|▌         | 1748/30802 [2:43:48<41:22:26,  5.13s/it]\u001b[A\n",
      "  6%|▌         | 1749/30802 [2:43:53<41:40:12,  5.16s/it]\u001b[A\n",
      "  6%|▌         | 1750/30802 [2:43:58<41:17:35,  5.12s/it]\u001b[A\n",
      "  6%|▌         | 1751/30802 [2:44:03<41:16:39,  5.12s/it]\u001b[A"
     ]
    },
    {
     "name": "stdout",
     "output_type": "stream",
     "text": [
      "Epoch 0, Batch 1750, loss 154025152.0\n"
     ]
    },
    {
     "name": "stderr",
     "output_type": "stream",
     "text": [
      "\n",
      "  6%|▌         | 1752/30802 [2:44:08<41:28:05,  5.14s/it]\u001b[A\n",
      "  6%|▌         | 1753/30802 [2:44:13<41:38:19,  5.16s/it]\u001b[A\n",
      "  6%|▌         | 1754/30802 [2:44:19<41:43:22,  5.17s/it]\u001b[A\n",
      "  6%|▌         | 1755/30802 [2:44:24<41:59:34,  5.20s/it]\u001b[A\n",
      "  6%|▌         | 1756/30802 [2:44:29<42:10:48,  5.23s/it]\u001b[A"
     ]
    },
    {
     "name": "stdout",
     "output_type": "stream",
     "text": [
      "Epoch 0, Batch 1755, loss 111579576.0\n"
     ]
    },
    {
     "name": "stderr",
     "output_type": "stream",
     "text": [
      "\n",
      "  6%|▌         | 1757/30802 [2:44:34<41:25:48,  5.14s/it]\u001b[A\n",
      "  6%|▌         | 1758/30802 [2:44:39<41:23:31,  5.13s/it]\u001b[A\n",
      "  6%|▌         | 1759/30802 [2:44:44<41:49:13,  5.18s/it]\u001b[A\n",
      "  6%|▌         | 1760/30802 [2:44:50<42:26:17,  5.26s/it]\u001b[A\n",
      "  6%|▌         | 1761/30802 [2:44:55<42:12:21,  5.23s/it]\u001b[A"
     ]
    },
    {
     "name": "stdout",
     "output_type": "stream",
     "text": [
      "Epoch 0, Batch 1760, loss 52302684.0\n"
     ]
    },
    {
     "name": "stderr",
     "output_type": "stream",
     "text": [
      "\n",
      "  6%|▌         | 1762/30802 [2:45:00<42:15:05,  5.24s/it]\u001b[A\n",
      "  6%|▌         | 1763/30802 [2:45:06<44:05:05,  5.47s/it]\u001b[A\n",
      "  6%|▌         | 1764/30802 [2:45:11<43:22:04,  5.38s/it]\u001b[A\n",
      "  6%|▌         | 1765/30802 [2:45:17<42:42:41,  5.30s/it]\u001b[A\n",
      "  6%|▌         | 1766/30802 [2:45:22<42:14:21,  5.24s/it]\u001b[A"
     ]
    },
    {
     "name": "stdout",
     "output_type": "stream",
     "text": [
      "Epoch 0, Batch 1765, loss 454458400.0\n"
     ]
    },
    {
     "name": "stderr",
     "output_type": "stream",
     "text": [
      "\n",
      "  6%|▌         | 1767/30802 [2:45:27<42:32:31,  5.27s/it]\u001b[A\n",
      "  6%|▌         | 1768/30802 [2:45:32<42:17:33,  5.24s/it]\u001b[A\n",
      "  6%|▌         | 1769/30802 [2:45:38<42:24:05,  5.26s/it]\u001b[A\n",
      "  6%|▌         | 1770/30802 [2:45:43<42:24:04,  5.26s/it]\u001b[A\n",
      "  6%|▌         | 1771/30802 [2:45:48<42:17:14,  5.24s/it]\u001b[A"
     ]
    },
    {
     "name": "stdout",
     "output_type": "stream",
     "text": [
      "Epoch 0, Batch 1770, loss 603722624.0\n"
     ]
    },
    {
     "name": "stderr",
     "output_type": "stream",
     "text": [
      "\n",
      "  6%|▌         | 1772/30802 [2:45:53<42:21:51,  5.25s/it]\u001b[A\n",
      "  6%|▌         | 1773/30802 [2:45:58<41:57:28,  5.20s/it]\u001b[A\n",
      "  6%|▌         | 1774/30802 [2:46:03<41:48:56,  5.19s/it]\u001b[A\n",
      "  6%|▌         | 1775/30802 [2:46:09<41:31:35,  5.15s/it]\u001b[A\n",
      "  6%|▌         | 1776/30802 [2:46:14<41:38:51,  5.17s/it]\u001b[A"
     ]
    },
    {
     "name": "stdout",
     "output_type": "stream",
     "text": [
      "Epoch 0, Batch 1775, loss 515263040.0\n"
     ]
    },
    {
     "name": "stderr",
     "output_type": "stream",
     "text": [
      "\n",
      "  6%|▌         | 1777/30802 [2:46:19<41:16:27,  5.12s/it]\u001b[A\n",
      "  6%|▌         | 1778/30802 [2:46:24<40:56:40,  5.08s/it]\u001b[A\n",
      "  6%|▌         | 1779/30802 [2:46:29<41:37:12,  5.16s/it]\u001b[A\n",
      "  6%|▌         | 1780/30802 [2:46:35<42:16:42,  5.24s/it]\u001b[A\n",
      "  6%|▌         | 1781/30802 [2:46:40<42:21:27,  5.25s/it]\u001b[A"
     ]
    },
    {
     "name": "stdout",
     "output_type": "stream",
     "text": [
      "Epoch 0, Batch 1780, loss 449580608.0\n"
     ]
    },
    {
     "name": "stderr",
     "output_type": "stream",
     "text": [
      "\n",
      "  6%|▌         | 1782/30802 [2:46:45<42:15:19,  5.24s/it]\u001b[A\n",
      "  6%|▌         | 1783/30802 [2:46:50<42:40:01,  5.29s/it]\u001b[A\n",
      "  6%|▌         | 1784/30802 [2:46:56<42:56:13,  5.33s/it]\u001b[A\n",
      "  6%|▌         | 1785/30802 [2:47:01<43:19:02,  5.37s/it]\u001b[A\n",
      "  6%|▌         | 1786/30802 [2:47:07<42:57:08,  5.33s/it]\u001b[A"
     ]
    },
    {
     "name": "stdout",
     "output_type": "stream",
     "text": [
      "Epoch 0, Batch 1785, loss 365591008.0\n"
     ]
    },
    {
     "name": "stderr",
     "output_type": "stream",
     "text": [
      "\n",
      "  6%|▌         | 1787/30802 [2:47:12<43:16:10,  5.37s/it]\u001b[A\n",
      "  6%|▌         | 1788/30802 [2:47:17<42:38:00,  5.29s/it]\u001b[A\n",
      "  6%|▌         | 1789/30802 [2:47:22<42:11:23,  5.24s/it]\u001b[A\n",
      "  6%|▌         | 1790/30802 [2:47:27<42:13:49,  5.24s/it]\u001b[A\n",
      "  6%|▌         | 1791/30802 [2:47:33<42:16:57,  5.25s/it]\u001b[A"
     ]
    },
    {
     "name": "stdout",
     "output_type": "stream",
     "text": [
      "Epoch 0, Batch 1790, loss 509118464.0\n"
     ]
    },
    {
     "name": "stderr",
     "output_type": "stream",
     "text": [
      "\n",
      "  6%|▌         | 1792/30802 [2:47:38<42:21:52,  5.26s/it]\u001b[A\n",
      "  6%|▌         | 1793/30802 [2:47:43<42:08:26,  5.23s/it]\u001b[A\n",
      "  6%|▌         | 1794/30802 [2:47:48<41:59:22,  5.21s/it]\u001b[A\n",
      "  6%|▌         | 1795/30802 [2:47:53<41:47:27,  5.19s/it]\u001b[A\n",
      "  6%|▌         | 1796/30802 [2:47:59<41:36:36,  5.16s/it]\u001b[A"
     ]
    },
    {
     "name": "stdout",
     "output_type": "stream",
     "text": [
      "Epoch 0, Batch 1795, loss 525579680.0\n"
     ]
    },
    {
     "name": "stderr",
     "output_type": "stream",
     "text": [
      "\n",
      "  6%|▌         | 1797/30802 [2:48:04<41:35:02,  5.16s/it]\u001b[A\n",
      "  6%|▌         | 1798/30802 [2:48:09<41:48:28,  5.19s/it]\u001b[A\n",
      "  6%|▌         | 1799/30802 [2:48:14<42:16:06,  5.25s/it]\u001b[A\n",
      "  6%|▌         | 1800/30802 [2:48:20<42:11:50,  5.24s/it]\u001b[A\n",
      "  6%|▌         | 1801/30802 [2:48:25<41:46:30,  5.19s/it]\u001b[A"
     ]
    },
    {
     "name": "stdout",
     "output_type": "stream",
     "text": [
      "Epoch 0, Batch 1800, loss 374899680.0\n"
     ]
    },
    {
     "name": "stderr",
     "output_type": "stream",
     "text": [
      "\n",
      "  6%|▌         | 1802/30802 [2:48:30<41:14:11,  5.12s/it]\u001b[A\n",
      "  6%|▌         | 1803/30802 [2:48:35<40:57:35,  5.08s/it]\u001b[A\n",
      "  6%|▌         | 1804/30802 [2:48:40<40:49:21,  5.07s/it]\u001b[A\n",
      "  6%|▌         | 1805/30802 [2:48:45<41:33:27,  5.16s/it]\u001b[A\n",
      "  6%|▌         | 1806/30802 [2:48:50<41:54:30,  5.20s/it]\u001b[A"
     ]
    },
    {
     "name": "stdout",
     "output_type": "stream",
     "text": [
      "Epoch 0, Batch 1805, loss 605420032.0\n"
     ]
    },
    {
     "name": "stderr",
     "output_type": "stream",
     "text": [
      "\n",
      "  6%|▌         | 1807/30802 [2:48:56<42:46:45,  5.31s/it]\u001b[A\n",
      "  6%|▌         | 1808/30802 [2:49:02<44:05:43,  5.48s/it]\u001b[A\n",
      "  6%|▌         | 1809/30802 [2:49:07<44:14:04,  5.49s/it]\u001b[A\n",
      "  6%|▌         | 1810/30802 [2:49:13<44:15:50,  5.50s/it]\u001b[A\n",
      "  6%|▌         | 1811/30802 [2:49:18<44:33:22,  5.53s/it]\u001b[A"
     ]
    },
    {
     "name": "stdout",
     "output_type": "stream",
     "text": [
      "Epoch 0, Batch 1810, loss 326284064.0\n"
     ]
    },
    {
     "name": "stderr",
     "output_type": "stream",
     "text": [
      "\n",
      "  6%|▌         | 1812/30802 [2:49:24<43:43:41,  5.43s/it]\u001b[A\n",
      "  6%|▌         | 1813/30802 [2:49:29<43:10:03,  5.36s/it]\u001b[A\n",
      "  6%|▌         | 1814/30802 [2:49:34<42:34:20,  5.29s/it]\u001b[A\n",
      "  6%|▌         | 1815/30802 [2:49:39<42:02:34,  5.22s/it]\u001b[A\n",
      "  6%|▌         | 1816/30802 [2:49:44<41:32:41,  5.16s/it]\u001b[A"
     ]
    },
    {
     "name": "stdout",
     "output_type": "stream",
     "text": [
      "Epoch 0, Batch 1815, loss 453057664.0\n"
     ]
    },
    {
     "name": "stderr",
     "output_type": "stream",
     "text": [
      "\n",
      "  6%|▌         | 1817/30802 [2:49:49<41:47:19,  5.19s/it]\u001b[A\n",
      "  6%|▌         | 1818/30802 [2:49:54<41:29:00,  5.15s/it]\u001b[A\n",
      "  6%|▌         | 1819/30802 [2:49:59<41:26:51,  5.15s/it]\u001b[A\n",
      "  6%|▌         | 1820/30802 [2:50:05<41:09:35,  5.11s/it]\u001b[A\n",
      "  6%|▌         | 1821/30802 [2:50:10<41:18:46,  5.13s/it]\u001b[A"
     ]
    },
    {
     "name": "stdout",
     "output_type": "stream",
     "text": [
      "Epoch 0, Batch 1820, loss 73585864.0\n"
     ]
    },
    {
     "name": "stderr",
     "output_type": "stream",
     "text": [
      "\n",
      "  6%|▌         | 1822/30802 [2:50:15<41:18:23,  5.13s/it]\u001b[A\n",
      "  6%|▌         | 1823/30802 [2:50:20<41:49:24,  5.20s/it]\u001b[A\n",
      "  6%|▌         | 1824/30802 [2:50:25<41:57:47,  5.21s/it]\u001b[A\n",
      "  6%|▌         | 1825/30802 [2:50:31<42:30:41,  5.28s/it]\u001b[A\n",
      "  6%|▌         | 1826/30802 [2:50:36<42:56:18,  5.33s/it]\u001b[A"
     ]
    },
    {
     "name": "stdout",
     "output_type": "stream",
     "text": [
      "Epoch 0, Batch 1825, loss 621034496.0\n"
     ]
    },
    {
     "name": "stderr",
     "output_type": "stream",
     "text": [
      "\n",
      "  6%|▌         | 1827/30802 [2:50:42<43:23:00,  5.39s/it]\u001b[A\n",
      "  6%|▌         | 1828/30802 [2:50:48<45:24:59,  5.64s/it]\u001b[A\n",
      "  6%|▌         | 1829/30802 [2:50:53<44:24:14,  5.52s/it]\u001b[A\n",
      "  6%|▌         | 1830/30802 [2:50:58<43:30:59,  5.41s/it]\u001b[A\n",
      "  6%|▌         | 1831/30802 [2:51:04<43:22:13,  5.39s/it]\u001b[A"
     ]
    },
    {
     "name": "stdout",
     "output_type": "stream",
     "text": [
      "Epoch 0, Batch 1830, loss 168168656.0\n"
     ]
    },
    {
     "name": "stderr",
     "output_type": "stream",
     "text": [
      "\n",
      "  6%|▌         | 1832/30802 [2:51:09<42:52:42,  5.33s/it]\u001b[A\n",
      "  6%|▌         | 1833/30802 [2:51:14<42:21:54,  5.26s/it]\u001b[A\n",
      "  6%|▌         | 1834/30802 [2:51:19<41:31:58,  5.16s/it]\u001b[A\n",
      "  6%|▌         | 1835/30802 [2:51:24<41:33:21,  5.16s/it]\u001b[A\n",
      "  6%|▌         | 1836/30802 [2:51:30<42:01:06,  5.22s/it]\u001b[A"
     ]
    },
    {
     "name": "stdout",
     "output_type": "stream",
     "text": [
      "Epoch 0, Batch 1835, loss 293088128.0\n"
     ]
    },
    {
     "name": "stderr",
     "output_type": "stream",
     "text": [
      "\n",
      "  6%|▌         | 1837/30802 [2:51:35<42:07:32,  5.24s/it]\u001b[A\n",
      "  6%|▌         | 1838/30802 [2:51:40<41:50:39,  5.20s/it]\u001b[A\n",
      "  6%|▌         | 1839/30802 [2:51:45<41:47:17,  5.19s/it]\u001b[A\n",
      "  6%|▌         | 1840/30802 [2:51:51<42:26:54,  5.28s/it]\u001b[A\n",
      "  6%|▌         | 1841/30802 [2:51:56<42:12:48,  5.25s/it]\u001b[A"
     ]
    },
    {
     "name": "stdout",
     "output_type": "stream",
     "text": [
      "Epoch 0, Batch 1840, loss 518092576.0\n"
     ]
    },
    {
     "name": "stderr",
     "output_type": "stream",
     "text": [
      "\n",
      "  6%|▌         | 1842/30802 [2:52:01<42:21:19,  5.27s/it]\u001b[A\n",
      "  6%|▌         | 1843/30802 [2:52:06<42:30:30,  5.28s/it]\u001b[A\n",
      "  6%|▌         | 1844/30802 [2:52:12<44:18:50,  5.51s/it]\u001b[A\n",
      "  6%|▌         | 1845/30802 [2:52:18<43:52:41,  5.46s/it]\u001b[A\n",
      "  6%|▌         | 1846/30802 [2:52:23<43:53:35,  5.46s/it]\u001b[A"
     ]
    },
    {
     "name": "stdout",
     "output_type": "stream",
     "text": [
      "Epoch 0, Batch 1845, loss 482927360.0\n"
     ]
    },
    {
     "name": "stderr",
     "output_type": "stream",
     "text": [
      "\n",
      "  6%|▌         | 1847/30802 [2:52:29<45:15:29,  5.63s/it]\u001b[A\n",
      "  6%|▌         | 1848/30802 [2:52:34<43:54:52,  5.46s/it]\u001b[A\n",
      "  6%|▌         | 1849/30802 [2:52:39<43:06:38,  5.36s/it]\u001b[A\n",
      "  6%|▌         | 1850/30802 [2:52:45<42:45:48,  5.32s/it]\u001b[A\n",
      "  6%|▌         | 1851/30802 [2:52:50<42:03:13,  5.23s/it]\u001b[A"
     ]
    },
    {
     "name": "stdout",
     "output_type": "stream",
     "text": [
      "Epoch 0, Batch 1850, loss 273540288.0\n"
     ]
    },
    {
     "name": "stderr",
     "output_type": "stream",
     "text": [
      "\n",
      "  6%|▌         | 1852/30802 [2:52:55<41:21:31,  5.14s/it]\u001b[A\n",
      "  6%|▌         | 1853/30802 [2:53:00<41:32:26,  5.17s/it]\u001b[A\n",
      "  6%|▌         | 1854/30802 [2:53:05<41:44:25,  5.19s/it]\u001b[A\n",
      "  6%|▌         | 1855/30802 [2:53:10<41:57:47,  5.22s/it]\u001b[A\n",
      "  6%|▌         | 1856/30802 [2:53:16<42:12:42,  5.25s/it]\u001b[A"
     ]
    },
    {
     "name": "stdout",
     "output_type": "stream",
     "text": [
      "Epoch 0, Batch 1855, loss 384668864.0\n"
     ]
    },
    {
     "name": "stderr",
     "output_type": "stream",
     "text": [
      "\n",
      "  6%|▌         | 1857/30802 [2:53:21<41:50:02,  5.20s/it]\u001b[A\n",
      "  6%|▌         | 1858/30802 [2:53:26<42:22:45,  5.27s/it]\u001b[A\n",
      "  6%|▌         | 1859/30802 [2:53:31<42:10:38,  5.25s/it]\u001b[A\n",
      "  6%|▌         | 1860/30802 [2:53:37<42:09:45,  5.24s/it]\u001b[A\n",
      "  6%|▌         | 1861/30802 [2:53:42<42:15:09,  5.26s/it]\u001b[A"
     ]
    },
    {
     "name": "stdout",
     "output_type": "stream",
     "text": [
      "Epoch 0, Batch 1860, loss 405226944.0\n"
     ]
    },
    {
     "name": "stderr",
     "output_type": "stream",
     "text": [
      "\n",
      "  6%|▌         | 1862/30802 [2:53:47<42:15:14,  5.26s/it]\u001b[A\n",
      "  6%|▌         | 1863/30802 [2:53:53<42:32:09,  5.29s/it]\u001b[A\n",
      "  6%|▌         | 1864/30802 [2:53:58<42:25:02,  5.28s/it]\u001b[A\n",
      "  6%|▌         | 1865/30802 [2:54:03<42:30:27,  5.29s/it]\u001b[A\n",
      "  6%|▌         | 1866/30802 [2:54:08<42:01:24,  5.23s/it]\u001b[A"
     ]
    },
    {
     "name": "stdout",
     "output_type": "stream",
     "text": [
      "Epoch 0, Batch 1865, loss 556024960.0\n"
     ]
    },
    {
     "name": "stderr",
     "output_type": "stream",
     "text": [
      "\n",
      "  6%|▌         | 1867/30802 [2:54:13<41:32:39,  5.17s/it]\u001b[A\n",
      "  6%|▌         | 1868/30802 [2:54:19<42:39:04,  5.31s/it]\u001b[A\n",
      "  6%|▌         | 1869/30802 [2:54:24<42:20:55,  5.27s/it]\u001b[A\n",
      "  6%|▌         | 1870/30802 [2:54:29<41:44:07,  5.19s/it]\u001b[A\n",
      "  6%|▌         | 1871/30802 [2:54:34<41:19:22,  5.14s/it]\u001b[A"
     ]
    },
    {
     "name": "stdout",
     "output_type": "stream",
     "text": [
      "Epoch 0, Batch 1870, loss 546859072.0\n"
     ]
    },
    {
     "name": "stderr",
     "output_type": "stream",
     "text": [
      "\n",
      "  6%|▌         | 1872/30802 [2:54:39<41:02:04,  5.11s/it]\u001b[A\n",
      "  6%|▌         | 1873/30802 [2:54:44<41:27:26,  5.16s/it]\u001b[A\n",
      "  6%|▌         | 1874/30802 [2:54:49<41:16:00,  5.14s/it]\u001b[A\n",
      "  6%|▌         | 1875/30802 [2:54:55<41:16:03,  5.14s/it]\u001b[A\n",
      "  6%|▌         | 1876/30802 [2:55:00<41:34:34,  5.17s/it]\u001b[A"
     ]
    },
    {
     "name": "stdout",
     "output_type": "stream",
     "text": [
      "Epoch 0, Batch 1875, loss 48675900.0\n"
     ]
    },
    {
     "name": "stderr",
     "output_type": "stream",
     "text": [
      "\n",
      "  6%|▌         | 1877/30802 [2:55:05<41:52:41,  5.21s/it]\u001b[A\n",
      "  6%|▌         | 1878/30802 [2:55:10<42:01:13,  5.23s/it]\u001b[A\n",
      "  6%|▌         | 1879/30802 [2:55:16<42:23:48,  5.28s/it]\u001b[A\n",
      "  6%|▌         | 1880/30802 [2:55:21<42:24:40,  5.28s/it]\u001b[A\n",
      "  6%|▌         | 1881/30802 [2:55:27<42:47:53,  5.33s/it]\u001b[A"
     ]
    },
    {
     "name": "stdout",
     "output_type": "stream",
     "text": [
      "Epoch 0, Batch 1880, loss 644451968.0\n"
     ]
    },
    {
     "name": "stderr",
     "output_type": "stream",
     "text": [
      "\n",
      "  6%|▌         | 1882/30802 [2:55:32<43:02:01,  5.36s/it]\u001b[A\n",
      "  6%|▌         | 1883/30802 [2:55:38<44:07:10,  5.49s/it]\u001b[A\n",
      "  6%|▌         | 1884/30802 [2:55:45<47:19:29,  5.89s/it]\u001b[A\n",
      "  6%|▌         | 1885/30802 [2:55:51<48:25:39,  6.03s/it]\u001b[A\n",
      "  6%|▌         | 1886/30802 [2:55:58<49:44:19,  6.19s/it]\u001b[A"
     ]
    },
    {
     "name": "stdout",
     "output_type": "stream",
     "text": [
      "Epoch 0, Batch 1885, loss 567246592.0\n"
     ]
    },
    {
     "name": "stderr",
     "output_type": "stream",
     "text": [
      "\n",
      "  6%|▌         | 1887/30802 [2:56:04<49:57:55,  6.22s/it]\u001b[A\n",
      "  6%|▌         | 1888/30802 [2:56:10<50:55:57,  6.34s/it]\u001b[A\n",
      "  6%|▌         | 1889/30802 [2:56:17<51:57:25,  6.47s/it]\u001b[A\n",
      "  6%|▌         | 1890/30802 [2:56:23<51:19:41,  6.39s/it]\u001b[A\n",
      "  6%|▌         | 1891/30802 [2:56:30<51:42:17,  6.44s/it]\u001b[A"
     ]
    },
    {
     "name": "stdout",
     "output_type": "stream",
     "text": [
      "Epoch 0, Batch 1890, loss 630384128.0\n"
     ]
    },
    {
     "name": "stderr",
     "output_type": "stream",
     "text": [
      "\n",
      "  6%|▌         | 1892/30802 [2:56:37<53:12:28,  6.63s/it]\u001b[A\n",
      "  6%|▌         | 1893/30802 [2:56:44<54:04:21,  6.73s/it]\u001b[A\n",
      "  6%|▌         | 1894/30802 [2:56:51<53:43:59,  6.69s/it]\u001b[A\n",
      "  6%|▌         | 1895/30802 [2:56:57<53:32:47,  6.67s/it]\u001b[A\n",
      "  6%|▌         | 1896/30802 [2:57:04<53:18:16,  6.64s/it]\u001b[A"
     ]
    },
    {
     "name": "stdout",
     "output_type": "stream",
     "text": [
      "Epoch 0, Batch 1895, loss 388502656.0\n"
     ]
    },
    {
     "name": "stderr",
     "output_type": "stream",
     "text": [
      "\n",
      "  6%|▌         | 1897/30802 [2:57:10<53:19:48,  6.64s/it]\u001b[A\n",
      "  6%|▌         | 1898/30802 [2:57:17<52:46:09,  6.57s/it]\u001b[A\n",
      "  6%|▌         | 1899/30802 [2:57:23<52:49:11,  6.58s/it]\u001b[A\n",
      "  6%|▌         | 1900/30802 [2:57:30<53:30:30,  6.66s/it]\u001b[A\n",
      "  6%|▌         | 1901/30802 [2:57:36<51:56:48,  6.47s/it]\u001b[A"
     ]
    },
    {
     "name": "stdout",
     "output_type": "stream",
     "text": [
      "Epoch 0, Batch 1900, loss 451877024.0\n"
     ]
    },
    {
     "name": "stderr",
     "output_type": "stream",
     "text": [
      "\n",
      "  6%|▌         | 1902/30802 [2:57:43<51:59:47,  6.48s/it]\u001b[A\n",
      "  6%|▌         | 1903/30802 [2:57:50<52:47:19,  6.58s/it]\u001b[A\n",
      "  6%|▌         | 1904/30802 [2:57:56<53:17:06,  6.64s/it]\u001b[A\n",
      "  6%|▌         | 1905/30802 [2:58:04<54:27:02,  6.78s/it]\u001b[A\n",
      "  6%|▌         | 1906/30802 [2:58:10<53:13:42,  6.63s/it]\u001b[A"
     ]
    },
    {
     "name": "stdout",
     "output_type": "stream",
     "text": [
      "Epoch 0, Batch 1905, loss 454079168.0\n"
     ]
    },
    {
     "name": "stderr",
     "output_type": "stream",
     "text": [
      "\n",
      "  6%|▌         | 1907/30802 [2:58:17<53:39:48,  6.69s/it]\u001b[A\n",
      "  6%|▌         | 1908/30802 [2:58:23<53:20:32,  6.65s/it]\u001b[A\n",
      "  6%|▌         | 1909/30802 [2:58:30<53:05:08,  6.61s/it]\u001b[A\n",
      "  6%|▌         | 1910/30802 [2:58:36<51:40:32,  6.44s/it]\u001b[A\n",
      "  6%|▌         | 1911/30802 [2:58:42<51:14:52,  6.39s/it]\u001b[A"
     ]
    },
    {
     "name": "stdout",
     "output_type": "stream",
     "text": [
      "Epoch 0, Batch 1910, loss 392316672.0\n"
     ]
    },
    {
     "name": "stderr",
     "output_type": "stream",
     "text": [
      "\n",
      "  6%|▌         | 1912/30802 [2:58:49<52:36:00,  6.55s/it]\u001b[A\n",
      "  6%|▌         | 1913/30802 [2:58:55<52:29:55,  6.54s/it]\u001b[A\n",
      "  6%|▌         | 1914/30802 [2:59:03<54:02:10,  6.73s/it]\u001b[A\n",
      "  6%|▌         | 1915/30802 [2:59:09<53:30:20,  6.67s/it]\u001b[A\n",
      "  6%|▌         | 1916/30802 [2:59:15<52:32:32,  6.55s/it]\u001b[A"
     ]
    },
    {
     "name": "stdout",
     "output_type": "stream",
     "text": [
      "Epoch 0, Batch 1915, loss 227212112.0\n"
     ]
    },
    {
     "name": "stderr",
     "output_type": "stream",
     "text": [
      "\n",
      "  6%|▌         | 1917/30802 [2:59:22<52:30:51,  6.54s/it]\u001b[A\n",
      "  6%|▌         | 1918/30802 [2:59:28<52:19:28,  6.52s/it]\u001b[A\n",
      "  6%|▌         | 1919/30802 [2:59:36<53:51:36,  6.71s/it]\u001b[A\n",
      "  6%|▌         | 1920/30802 [2:59:42<53:58:26,  6.73s/it]\u001b[A\n",
      "  6%|▌         | 1921/30802 [2:59:48<51:50:43,  6.46s/it]\u001b[A"
     ]
    },
    {
     "name": "stdout",
     "output_type": "stream",
     "text": [
      "Epoch 0, Batch 1920, loss 398750816.0\n"
     ]
    },
    {
     "name": "stderr",
     "output_type": "stream",
     "text": [
      "\n",
      "  6%|▌         | 1922/30802 [2:59:55<52:00:21,  6.48s/it]\u001b[A\n",
      "  6%|▌         | 1923/30802 [3:00:01<51:02:15,  6.36s/it]\u001b[A\n",
      "  6%|▌         | 1924/30802 [3:00:07<51:24:32,  6.41s/it]\u001b[A\n",
      "  6%|▌         | 1925/30802 [3:00:14<51:12:40,  6.38s/it]\u001b[A\n",
      "  6%|▋         | 1926/30802 [3:00:20<50:44:35,  6.33s/it]\u001b[A"
     ]
    },
    {
     "name": "stdout",
     "output_type": "stream",
     "text": [
      "Epoch 0, Batch 1925, loss 371173056.0\n"
     ]
    },
    {
     "name": "stderr",
     "output_type": "stream",
     "text": [
      "\n",
      "  6%|▋         | 1927/30802 [3:00:26<50:55:44,  6.35s/it]\u001b[A\n",
      "  6%|▋         | 1928/30802 [3:00:33<51:16:16,  6.39s/it]\u001b[A\n",
      "  6%|▋         | 1929/30802 [3:00:39<51:52:05,  6.47s/it]\u001b[A\n",
      "  6%|▋         | 1930/30802 [3:00:46<53:17:38,  6.65s/it]\u001b[A\n",
      "  6%|▋         | 1931/30802 [3:00:53<52:53:37,  6.60s/it]\u001b[A"
     ]
    },
    {
     "name": "stdout",
     "output_type": "stream",
     "text": [
      "Epoch 0, Batch 1930, loss 646323264.0\n"
     ]
    },
    {
     "name": "stderr",
     "output_type": "stream",
     "text": [
      "\n",
      "  6%|▋         | 1932/30802 [3:00:59<52:37:57,  6.56s/it]\u001b[A\n",
      "  6%|▋         | 1933/30802 [3:01:06<51:53:14,  6.47s/it]\u001b[A\n",
      "  6%|▋         | 1934/30802 [3:01:12<52:29:26,  6.55s/it]\u001b[A\n",
      "  6%|▋         | 1935/30802 [3:01:19<53:29:36,  6.67s/it]\u001b[A\n",
      "  6%|▋         | 1936/30802 [3:01:26<53:29:26,  6.67s/it]\u001b[A"
     ]
    },
    {
     "name": "stdout",
     "output_type": "stream",
     "text": [
      "Epoch 0, Batch 1935, loss 393389888.0\n"
     ]
    },
    {
     "name": "stderr",
     "output_type": "stream",
     "text": [
      "\n",
      "  6%|▋         | 1937/30802 [3:01:32<52:46:40,  6.58s/it]\u001b[A\n",
      "  6%|▋         | 1938/30802 [3:01:39<52:31:19,  6.55s/it]\u001b[A\n",
      "  6%|▋         | 1939/30802 [3:01:46<53:25:06,  6.66s/it]\u001b[A\n",
      "  6%|▋         | 1940/30802 [3:01:52<52:23:41,  6.54s/it]\u001b[A\n",
      "  6%|▋         | 1941/30802 [3:01:58<51:52:03,  6.47s/it]\u001b[A"
     ]
    },
    {
     "name": "stdout",
     "output_type": "stream",
     "text": [
      "Epoch 0, Batch 1940, loss 330042368.0\n"
     ]
    },
    {
     "name": "stderr",
     "output_type": "stream",
     "text": [
      "\n",
      "  6%|▋         | 1942/30802 [3:02:04<50:37:08,  6.31s/it]\u001b[A\n",
      "  6%|▋         | 1943/30802 [3:02:11<50:59:52,  6.36s/it]\u001b[A\n",
      "  6%|▋         | 1944/30802 [3:02:17<51:40:39,  6.45s/it]\u001b[A\n",
      "  6%|▋         | 1945/30802 [3:02:23<50:44:47,  6.33s/it]\u001b[A\n",
      "  6%|▋         | 1946/30802 [3:02:30<50:43:50,  6.33s/it]\u001b[A"
     ]
    },
    {
     "name": "stdout",
     "output_type": "stream",
     "text": [
      "Epoch 0, Batch 1945, loss 223473408.0\n"
     ]
    },
    {
     "name": "stderr",
     "output_type": "stream",
     "text": [
      "\n",
      "  6%|▋         | 1947/30802 [3:02:36<50:10:03,  6.26s/it]\u001b[A\n",
      "  6%|▋         | 1948/30802 [3:02:42<50:11:36,  6.26s/it]\u001b[A\n",
      "  6%|▋         | 1949/30802 [3:02:48<49:54:36,  6.23s/it]\u001b[A\n",
      "  6%|▋         | 1950/30802 [3:02:55<50:14:32,  6.27s/it]\u001b[A\n",
      "  6%|▋         | 1951/30802 [3:03:01<51:10:48,  6.39s/it]\u001b[A"
     ]
    },
    {
     "name": "stdout",
     "output_type": "stream",
     "text": [
      "Epoch 0, Batch 1950, loss 133388272.0\n"
     ]
    },
    {
     "name": "stderr",
     "output_type": "stream",
     "text": [
      "\n",
      "  6%|▋         | 1952/30802 [3:03:08<51:22:21,  6.41s/it]\u001b[A\n",
      "  6%|▋         | 1953/30802 [3:03:15<52:19:58,  6.53s/it]\u001b[A\n",
      "  6%|▋         | 1954/30802 [3:03:21<51:40:30,  6.45s/it]\u001b[A\n",
      "  6%|▋         | 1955/30802 [3:03:28<52:42:45,  6.58s/it]\u001b[A\n",
      "  6%|▋         | 1956/30802 [3:03:35<53:08:34,  6.63s/it]\u001b[A"
     ]
    },
    {
     "name": "stdout",
     "output_type": "stream",
     "text": [
      "Epoch 0, Batch 1955, loss 134439392.0\n"
     ]
    },
    {
     "name": "stderr",
     "output_type": "stream",
     "text": [
      "\n",
      "  6%|▋         | 1957/30802 [3:03:41<52:57:29,  6.61s/it]\u001b[A\n",
      "  6%|▋         | 1958/30802 [3:03:47<51:36:52,  6.44s/it]\u001b[A\n",
      "  6%|▋         | 1959/30802 [3:03:53<50:33:37,  6.31s/it]\u001b[A\n",
      "  6%|▋         | 1960/30802 [3:03:59<50:26:24,  6.30s/it]\u001b[A\n",
      "  6%|▋         | 1961/30802 [3:04:06<51:01:24,  6.37s/it]\u001b[A"
     ]
    },
    {
     "name": "stdout",
     "output_type": "stream",
     "text": [
      "Epoch 0, Batch 1960, loss 280432736.0\n"
     ]
    },
    {
     "name": "stderr",
     "output_type": "stream",
     "text": [
      "\n",
      "  6%|▋         | 1962/30802 [3:04:13<51:46:14,  6.46s/it]\u001b[A\n",
      "  6%|▋         | 1963/30802 [3:04:19<52:13:32,  6.52s/it]\u001b[A\n",
      "  6%|▋         | 1964/30802 [3:04:26<52:15:55,  6.52s/it]\u001b[A\n",
      "  6%|▋         | 1965/30802 [3:04:32<52:32:35,  6.56s/it]\u001b[A\n",
      "  6%|▋         | 1966/30802 [3:04:39<52:56:37,  6.61s/it]\u001b[A"
     ]
    },
    {
     "name": "stdout",
     "output_type": "stream",
     "text": [
      "Epoch 0, Batch 1965, loss 522386304.0\n"
     ]
    },
    {
     "name": "stderr",
     "output_type": "stream",
     "text": [
      "\n",
      "  6%|▋         | 1967/30802 [3:04:46<53:03:13,  6.62s/it]\u001b[A\n",
      "  6%|▋         | 1968/30802 [3:04:52<52:35:17,  6.57s/it]\u001b[A\n",
      "  6%|▋         | 1969/30802 [3:04:58<51:12:37,  6.39s/it]\u001b[A\n",
      "  6%|▋         | 1970/30802 [3:05:05<51:30:45,  6.43s/it]\u001b[A\n",
      "  6%|▋         | 1971/30802 [3:05:11<51:41:15,  6.45s/it]\u001b[A"
     ]
    },
    {
     "name": "stdout",
     "output_type": "stream",
     "text": [
      "Epoch 0, Batch 1970, loss 239233568.0\n"
     ]
    },
    {
     "name": "stderr",
     "output_type": "stream",
     "text": [
      "\n",
      "  6%|▋         | 1972/30802 [3:05:17<50:57:14,  6.36s/it]\u001b[A\n",
      "  6%|▋         | 1973/30802 [3:05:24<50:53:10,  6.35s/it]\u001b[A\n",
      "  6%|▋         | 1974/30802 [3:05:30<51:41:30,  6.46s/it]\u001b[A\n",
      "  6%|▋         | 1975/30802 [3:05:37<51:39:27,  6.45s/it]\u001b[A\n",
      "  6%|▋         | 1976/30802 [3:05:43<51:20:00,  6.41s/it]\u001b[A"
     ]
    },
    {
     "name": "stdout",
     "output_type": "stream",
     "text": [
      "Epoch 0, Batch 1975, loss 531205952.0\n"
     ]
    },
    {
     "name": "stderr",
     "output_type": "stream",
     "text": [
      "\n",
      "  6%|▋         | 1977/30802 [3:05:50<51:29:21,  6.43s/it]\u001b[A\n",
      "  6%|▋         | 1978/30802 [3:05:57<52:24:50,  6.55s/it]\u001b[A\n",
      "  6%|▋         | 1979/30802 [3:06:03<51:14:32,  6.40s/it]\u001b[A\n",
      "  6%|▋         | 1980/30802 [3:06:10<53:52:31,  6.73s/it]\u001b[A\n",
      "  6%|▋         | 1981/30802 [3:06:16<52:59:52,  6.62s/it]\u001b[A"
     ]
    },
    {
     "name": "stdout",
     "output_type": "stream",
     "text": [
      "Epoch 0, Batch 1980, loss 297900608.0\n"
     ]
    },
    {
     "name": "stderr",
     "output_type": "stream",
     "text": [
      "\n",
      "  6%|▋         | 1982/30802 [3:06:23<52:46:11,  6.59s/it]\u001b[A\n",
      "  6%|▋         | 1983/30802 [3:06:30<53:42:35,  6.71s/it]\u001b[A\n",
      "  6%|▋         | 1984/30802 [3:06:37<54:48:57,  6.85s/it]\u001b[A\n",
      "  6%|▋         | 1985/30802 [3:06:43<53:42:54,  6.71s/it]\u001b[A\n",
      "  6%|▋         | 1986/30802 [3:06:50<53:10:10,  6.64s/it]\u001b[A"
     ]
    },
    {
     "name": "stdout",
     "output_type": "stream",
     "text": [
      "Epoch 0, Batch 1985, loss 484140928.0\n"
     ]
    },
    {
     "name": "stderr",
     "output_type": "stream",
     "text": [
      "\n",
      "  6%|▋         | 1987/30802 [3:06:57<52:55:23,  6.61s/it]\u001b[A\n",
      "  6%|▋         | 1988/30802 [3:07:03<51:41:24,  6.46s/it]\u001b[A\n",
      "  6%|▋         | 1989/30802 [3:07:09<52:12:42,  6.52s/it]\u001b[A\n",
      "  6%|▋         | 1990/30802 [3:07:16<52:24:32,  6.55s/it]\u001b[A\n",
      "  6%|▋         | 1991/30802 [3:07:22<52:30:28,  6.56s/it]\u001b[A"
     ]
    },
    {
     "name": "stdout",
     "output_type": "stream",
     "text": [
      "Epoch 0, Batch 1990, loss 399358048.0\n"
     ]
    },
    {
     "name": "stderr",
     "output_type": "stream",
     "text": [
      "\n",
      "  6%|▋         | 1992/30802 [3:07:29<52:31:59,  6.56s/it]\u001b[A\n",
      "  6%|▋         | 1993/30802 [3:07:35<51:24:08,  6.42s/it]\u001b[A\n",
      "  6%|▋         | 1994/30802 [3:07:42<51:38:53,  6.45s/it]\u001b[A\n",
      "  6%|▋         | 1995/30802 [3:07:48<51:59:04,  6.50s/it]\u001b[A\n",
      "  6%|▋         | 1996/30802 [3:07:54<50:41:01,  6.33s/it]\u001b[A"
     ]
    },
    {
     "name": "stdout",
     "output_type": "stream",
     "text": [
      "Epoch 0, Batch 1995, loss 217276048.0\n"
     ]
    },
    {
     "name": "stderr",
     "output_type": "stream",
     "text": [
      "\n",
      "  6%|▋         | 1997/30802 [3:08:00<49:49:14,  6.23s/it]\u001b[A\n",
      "  6%|▋         | 1998/30802 [3:08:06<49:50:03,  6.23s/it]\u001b[A\n",
      "  6%|▋         | 1999/30802 [3:08:13<49:59:58,  6.25s/it]\u001b[A\n",
      "  6%|▋         | 2000/30802 [3:08:19<50:20:05,  6.29s/it]\u001b[A\n",
      "  6%|▋         | 2001/30802 [3:08:25<49:45:25,  6.22s/it]\u001b[A"
     ]
    },
    {
     "name": "stdout",
     "output_type": "stream",
     "text": [
      "Epoch 0, Batch 2000, loss 656257984.0\n"
     ]
    },
    {
     "name": "stderr",
     "output_type": "stream",
     "text": [
      "\n",
      "  6%|▋         | 2002/30802 [3:08:32<50:44:35,  6.34s/it]\u001b[A\n",
      "  7%|▋         | 2003/30802 [3:08:38<51:27:35,  6.43s/it]\u001b[A\n",
      "  7%|▋         | 2004/30802 [3:08:46<53:02:26,  6.63s/it]\u001b[A\n",
      "  7%|▋         | 2005/30802 [3:08:52<52:28:34,  6.56s/it]\u001b[A\n",
      "  7%|▋         | 2006/30802 [3:08:58<52:10:31,  6.52s/it]\u001b[A"
     ]
    },
    {
     "name": "stdout",
     "output_type": "stream",
     "text": [
      "Epoch 0, Batch 2005, loss 719840128.0\n"
     ]
    },
    {
     "name": "stderr",
     "output_type": "stream",
     "text": [
      "\n",
      "  7%|▋         | 2007/30802 [3:09:04<51:03:23,  6.38s/it]\u001b[A\n",
      "  7%|▋         | 2008/30802 [3:09:11<51:06:05,  6.39s/it]\u001b[A\n",
      "  7%|▋         | 2009/30802 [3:09:17<51:15:18,  6.41s/it]\u001b[A\n",
      "  7%|▋         | 2010/30802 [3:09:24<51:48:30,  6.48s/it]\u001b[A\n",
      "  7%|▋         | 2011/30802 [3:09:31<52:37:15,  6.58s/it]\u001b[A"
     ]
    },
    {
     "name": "stdout",
     "output_type": "stream",
     "text": [
      "Epoch 0, Batch 2010, loss 472848160.0\n"
     ]
    },
    {
     "name": "stderr",
     "output_type": "stream",
     "text": [
      "\n",
      "  7%|▋         | 2012/30802 [3:09:38<53:05:18,  6.64s/it]\u001b[A\n",
      "  7%|▋         | 2013/30802 [3:09:44<52:32:14,  6.57s/it]\u001b[A\n",
      "  7%|▋         | 2014/30802 [3:09:51<53:16:01,  6.66s/it]\u001b[A\n",
      "  7%|▋         | 2015/30802 [3:09:57<52:45:10,  6.60s/it]\u001b[A\n",
      "  7%|▋         | 2016/30802 [3:10:04<52:43:21,  6.59s/it]\u001b[A"
     ]
    },
    {
     "name": "stdout",
     "output_type": "stream",
     "text": [
      "Epoch 0, Batch 2015, loss 582664768.0\n"
     ]
    },
    {
     "name": "stderr",
     "output_type": "stream",
     "text": [
      "\n",
      "  7%|▋         | 2017/30802 [3:10:10<52:27:42,  6.56s/it]\u001b[A\n",
      "  7%|▋         | 2018/30802 [3:10:17<53:23:48,  6.68s/it]\u001b[A\n",
      "  7%|▋         | 2019/30802 [3:10:24<53:06:29,  6.64s/it]\u001b[A\n",
      "  7%|▋         | 2020/30802 [3:10:30<53:02:33,  6.63s/it]\u001b[A\n",
      "  7%|▋         | 2021/30802 [3:10:37<53:49:08,  6.73s/it]\u001b[A"
     ]
    },
    {
     "name": "stdout",
     "output_type": "stream",
     "text": [
      "Epoch 0, Batch 2020, loss 293258560.0\n"
     ]
    },
    {
     "name": "stderr",
     "output_type": "stream",
     "text": [
      "\n",
      "  7%|▋         | 2022/30802 [3:10:44<53:31:20,  6.69s/it]\u001b[A\n",
      "  7%|▋         | 2023/30802 [3:10:50<52:33:40,  6.57s/it]\u001b[A\n",
      "  7%|▋         | 2024/30802 [3:10:57<51:48:44,  6.48s/it]\u001b[A\n",
      "  7%|▋         | 2025/30802 [3:11:03<51:18:12,  6.42s/it]\u001b[A\n",
      "  7%|▋         | 2026/30802 [3:11:09<51:03:51,  6.39s/it]\u001b[A"
     ]
    },
    {
     "name": "stdout",
     "output_type": "stream",
     "text": [
      "Epoch 0, Batch 2025, loss 204475344.0\n"
     ]
    },
    {
     "name": "stderr",
     "output_type": "stream",
     "text": [
      "\n",
      "  7%|▋         | 2027/30802 [3:11:16<52:44:59,  6.60s/it]\u001b[A\n",
      "  7%|▋         | 2028/30802 [3:11:23<53:10:42,  6.65s/it]\u001b[A\n",
      "  7%|▋         | 2029/30802 [3:11:29<52:01:20,  6.51s/it]\u001b[A\n",
      "  7%|▋         | 2030/30802 [3:11:36<52:08:47,  6.52s/it]\u001b[A\n",
      "  7%|▋         | 2031/30802 [3:11:43<52:49:42,  6.61s/it]\u001b[A"
     ]
    },
    {
     "name": "stdout",
     "output_type": "stream",
     "text": [
      "Epoch 0, Batch 2030, loss 593375360.0\n"
     ]
    },
    {
     "name": "stderr",
     "output_type": "stream",
     "text": [
      "\n",
      "  7%|▋         | 2032/30802 [3:11:49<53:04:13,  6.64s/it]\u001b[A\n",
      "  7%|▋         | 2033/30802 [3:11:56<53:17:51,  6.67s/it]\u001b[A\n",
      "  7%|▋         | 2034/30802 [3:12:03<54:03:48,  6.77s/it]\u001b[A\n",
      "  7%|▋         | 2035/30802 [3:12:09<53:13:01,  6.66s/it]\u001b[A\n",
      "  7%|▋         | 2036/30802 [3:12:16<53:36:21,  6.71s/it]\u001b[A"
     ]
    },
    {
     "name": "stdout",
     "output_type": "stream",
     "text": [
      "Epoch 0, Batch 2035, loss 484025280.0\n"
     ]
    },
    {
     "name": "stderr",
     "output_type": "stream",
     "text": [
      "\n",
      "  7%|▋         | 2037/30802 [3:12:23<53:02:53,  6.64s/it]\u001b[A\n",
      "  7%|▋         | 2038/30802 [3:12:29<52:28:23,  6.57s/it]\u001b[A\n",
      "  7%|▋         | 2039/30802 [3:12:36<52:26:05,  6.56s/it]\u001b[A\n",
      "  7%|▋         | 2040/30802 [3:12:42<52:33:56,  6.58s/it]\u001b[A\n",
      "  7%|▋         | 2041/30802 [3:12:48<51:01:10,  6.39s/it]\u001b[A"
     ]
    },
    {
     "name": "stdout",
     "output_type": "stream",
     "text": [
      "Epoch 0, Batch 2040, loss 461746816.0\n"
     ]
    },
    {
     "name": "stderr",
     "output_type": "stream",
     "text": [
      "\n",
      "  7%|▋         | 2042/30802 [3:12:55<51:44:03,  6.48s/it]\u001b[A\n",
      "  7%|▋         | 2043/30802 [3:13:01<51:17:19,  6.42s/it]\u001b[A\n",
      "  7%|▋         | 2044/30802 [3:13:08<51:30:28,  6.45s/it]\u001b[A\n",
      "  7%|▋         | 2045/30802 [3:13:14<50:55:36,  6.38s/it]\u001b[A\n",
      "  7%|▋         | 2046/30802 [3:13:21<53:01:50,  6.64s/it]\u001b[A"
     ]
    },
    {
     "name": "stdout",
     "output_type": "stream",
     "text": [
      "Epoch 0, Batch 2045, loss 186440576.0\n"
     ]
    },
    {
     "name": "stderr",
     "output_type": "stream",
     "text": [
      "\n",
      "  7%|▋         | 2047/30802 [3:13:28<53:32:46,  6.70s/it]\u001b[A\n",
      "  7%|▋         | 2048/30802 [3:13:34<52:19:48,  6.55s/it]\u001b[A\n",
      "  7%|▋         | 2049/30802 [3:13:41<51:44:11,  6.48s/it]\u001b[A\n",
      "  7%|▋         | 2050/30802 [3:13:47<51:15:11,  6.42s/it]\u001b[A\n",
      "  7%|▋         | 2051/30802 [3:13:53<50:57:55,  6.38s/it]\u001b[A"
     ]
    },
    {
     "name": "stdout",
     "output_type": "stream",
     "text": [
      "Epoch 0, Batch 2050, loss 436887808.0\n"
     ]
    },
    {
     "name": "stderr",
     "output_type": "stream",
     "text": [
      "\n",
      "  7%|▋         | 2052/30802 [3:13:59<50:52:33,  6.37s/it]\u001b[A\n",
      "  7%|▋         | 2053/30802 [3:14:06<51:42:57,  6.48s/it]\u001b[A\n",
      "  7%|▋         | 2054/30802 [3:14:13<52:58:33,  6.63s/it]\u001b[A\n",
      "  7%|▋         | 2055/30802 [3:14:20<52:39:45,  6.59s/it]\u001b[A\n",
      "  7%|▋         | 2056/30802 [3:14:26<53:05:33,  6.65s/it]\u001b[A"
     ]
    },
    {
     "name": "stdout",
     "output_type": "stream",
     "text": [
      "Epoch 0, Batch 2055, loss 114692360.0\n"
     ]
    },
    {
     "name": "stderr",
     "output_type": "stream",
     "text": [
      "\n",
      "  7%|▋         | 2057/30802 [3:14:33<52:55:58,  6.63s/it]\u001b[A\n",
      "  7%|▋         | 2058/30802 [3:14:40<52:45:59,  6.61s/it]\u001b[A\n",
      "  7%|▋         | 2059/30802 [3:14:46<51:48:17,  6.49s/it]\u001b[A\n",
      "  7%|▋         | 2060/30802 [3:14:52<51:33:30,  6.46s/it]\u001b[A\n",
      "  7%|▋         | 2061/30802 [3:14:58<50:30:22,  6.33s/it]\u001b[A"
     ]
    },
    {
     "name": "stdout",
     "output_type": "stream",
     "text": [
      "Epoch 0, Batch 2060, loss 483629792.0\n"
     ]
    },
    {
     "name": "stderr",
     "output_type": "stream",
     "text": [
      "\n",
      "  7%|▋         | 2062/30802 [3:15:05<50:47:00,  6.36s/it]\u001b[A\n",
      "  7%|▋         | 2063/30802 [3:15:11<51:11:30,  6.41s/it]\u001b[A\n",
      "  7%|▋         | 2064/30802 [3:15:18<51:19:51,  6.43s/it]\u001b[A\n",
      "  7%|▋         | 2065/30802 [3:15:24<51:25:54,  6.44s/it]\u001b[A\n",
      "  7%|▋         | 2066/30802 [3:15:31<53:31:10,  6.70s/it]\u001b[A"
     ]
    },
    {
     "name": "stdout",
     "output_type": "stream",
     "text": [
      "Epoch 0, Batch 2065, loss 305752640.0\n"
     ]
    },
    {
     "name": "stderr",
     "output_type": "stream",
     "text": [
      "\n",
      "  7%|▋         | 2067/30802 [3:15:38<53:41:11,  6.73s/it]\u001b[A\n",
      "  7%|▋         | 2068/30802 [3:15:45<53:08:53,  6.66s/it]\u001b[A\n",
      "  7%|▋         | 2069/30802 [3:15:51<51:24:31,  6.44s/it]\u001b[A\n",
      "  7%|▋         | 2070/30802 [3:15:57<51:27:04,  6.45s/it]\u001b[A\n",
      "  7%|▋         | 2071/30802 [3:16:03<50:54:09,  6.38s/it]\u001b[A"
     ]
    },
    {
     "name": "stdout",
     "output_type": "stream",
     "text": [
      "Epoch 0, Batch 2070, loss 326869440.0\n"
     ]
    },
    {
     "name": "stderr",
     "output_type": "stream",
     "text": [
      "\n",
      "  7%|▋         | 2072/30802 [3:16:09<50:17:36,  6.30s/it]\u001b[A\n",
      "  7%|▋         | 2073/30802 [3:16:16<51:14:14,  6.42s/it]\u001b[A\n",
      "  7%|▋         | 2074/30802 [3:16:23<51:49:43,  6.49s/it]\u001b[A\n",
      "  7%|▋         | 2075/30802 [3:16:29<51:45:09,  6.49s/it]\u001b[A\n",
      "  7%|▋         | 2076/30802 [3:16:36<51:39:24,  6.47s/it]\u001b[A"
     ]
    },
    {
     "name": "stdout",
     "output_type": "stream",
     "text": [
      "Epoch 0, Batch 2075, loss 351275840.0\n"
     ]
    },
    {
     "name": "stderr",
     "output_type": "stream",
     "text": [
      "\n",
      "  7%|▋         | 2077/30802 [3:16:42<51:17:32,  6.43s/it]\u001b[A\n",
      "  7%|▋         | 2078/30802 [3:16:48<51:00:19,  6.39s/it]\u001b[A\n",
      "  7%|▋         | 2079/30802 [3:16:54<50:15:12,  6.30s/it]\u001b[A\n",
      "  7%|▋         | 2080/30802 [3:17:01<49:48:07,  6.24s/it]\u001b[A\n",
      "  7%|▋         | 2081/30802 [3:17:07<51:09:07,  6.41s/it]\u001b[A"
     ]
    },
    {
     "name": "stdout",
     "output_type": "stream",
     "text": [
      "Epoch 0, Batch 2080, loss 416349024.0\n"
     ]
    },
    {
     "name": "stderr",
     "output_type": "stream",
     "text": [
      "\n",
      "  7%|▋         | 2082/30802 [3:17:14<50:47:00,  6.37s/it]\u001b[A\n",
      "  7%|▋         | 2083/30802 [3:17:20<51:52:25,  6.50s/it]\u001b[A\n",
      "  7%|▋         | 2084/30802 [3:17:27<51:19:26,  6.43s/it]\u001b[A\n",
      "  7%|▋         | 2085/30802 [3:17:33<50:50:51,  6.37s/it]\u001b[A\n",
      "  7%|▋         | 2086/30802 [3:17:40<51:33:54,  6.46s/it]\u001b[A"
     ]
    },
    {
     "name": "stdout",
     "output_type": "stream",
     "text": [
      "Epoch 0, Batch 2085, loss 887864896.0\n"
     ]
    },
    {
     "name": "stderr",
     "output_type": "stream",
     "text": [
      "\n",
      "  7%|▋         | 2087/30802 [3:17:46<51:30:40,  6.46s/it]\u001b[A\n",
      "  7%|▋         | 2088/30802 [3:17:52<51:18:37,  6.43s/it]\u001b[A\n",
      "  7%|▋         | 2089/30802 [3:17:59<51:53:42,  6.51s/it]\u001b[A\n",
      "  7%|▋         | 2090/30802 [3:18:05<51:12:03,  6.42s/it]\u001b[A\n",
      "  7%|▋         | 2091/30802 [3:18:13<53:01:49,  6.65s/it]\u001b[A"
     ]
    },
    {
     "name": "stdout",
     "output_type": "stream",
     "text": [
      "Epoch 0, Batch 2090, loss 251006816.0\n"
     ]
    },
    {
     "name": "stderr",
     "output_type": "stream",
     "text": [
      "\n",
      "  7%|▋         | 2092/30802 [3:18:20<56:05:31,  7.03s/it]\u001b[A\n",
      "  7%|▋         | 2093/30802 [3:18:27<55:05:19,  6.91s/it]\u001b[A\n",
      "  7%|▋         | 2094/30802 [3:18:34<54:42:12,  6.86s/it]\u001b[A\n",
      "  7%|▋         | 2095/30802 [3:18:41<54:21:00,  6.82s/it]\u001b[A\n",
      "  7%|▋         | 2096/30802 [3:18:47<52:52:26,  6.63s/it]\u001b[A"
     ]
    },
    {
     "name": "stdout",
     "output_type": "stream",
     "text": [
      "Epoch 0, Batch 2095, loss 647817728.0\n"
     ]
    },
    {
     "name": "stderr",
     "output_type": "stream",
     "text": [
      "\n",
      "  7%|▋         | 2097/30802 [3:18:53<52:43:37,  6.61s/it]\u001b[A\n",
      "  7%|▋         | 2098/30802 [3:19:00<52:48:31,  6.62s/it]\u001b[A\n",
      "  7%|▋         | 2099/30802 [3:19:06<52:23:03,  6.57s/it]\u001b[A\n",
      "  7%|▋         | 2100/30802 [3:19:13<53:10:59,  6.67s/it]\u001b[A\n",
      "  7%|▋         | 2101/30802 [3:19:20<54:02:17,  6.78s/it]\u001b[A"
     ]
    },
    {
     "name": "stdout",
     "output_type": "stream",
     "text": [
      "Epoch 0, Batch 2100, loss 39916604.0\n"
     ]
    },
    {
     "name": "stderr",
     "output_type": "stream",
     "text": [
      "\n",
      "  7%|▋         | 2102/30802 [3:19:27<54:03:24,  6.78s/it]\u001b[A\n",
      "  7%|▋         | 2103/30802 [3:19:34<53:34:03,  6.72s/it]\u001b[A\n",
      "  7%|▋         | 2104/30802 [3:19:40<52:59:21,  6.65s/it]\u001b[A\n",
      "  7%|▋         | 2105/30802 [3:19:47<52:30:25,  6.59s/it]\u001b[A\n",
      "  7%|▋         | 2106/30802 [3:19:53<52:01:56,  6.53s/it]\u001b[A"
     ]
    },
    {
     "name": "stdout",
     "output_type": "stream",
     "text": [
      "Epoch 0, Batch 2105, loss 59755780.0\n"
     ]
    },
    {
     "name": "stderr",
     "output_type": "stream",
     "text": [
      "\n",
      "  7%|▋         | 2107/30802 [3:20:00<51:55:34,  6.51s/it]\u001b[A\n",
      "  7%|▋         | 2108/30802 [3:20:06<51:59:34,  6.52s/it]\u001b[A\n",
      "  7%|▋         | 2109/30802 [3:20:12<51:22:51,  6.45s/it]\u001b[A\n",
      "  7%|▋         | 2110/30802 [3:20:19<51:39:35,  6.48s/it]\u001b[A\n",
      "  7%|▋         | 2111/30802 [3:20:25<51:26:58,  6.46s/it]\u001b[A"
     ]
    },
    {
     "name": "stdout",
     "output_type": "stream",
     "text": [
      "Epoch 0, Batch 2110, loss 42345160.0\n"
     ]
    },
    {
     "name": "stderr",
     "output_type": "stream",
     "text": [
      "\n",
      "  7%|▋         | 2112/30802 [3:20:32<51:16:49,  6.43s/it]\u001b[A\n",
      "  7%|▋         | 2113/30802 [3:20:38<51:54:52,  6.51s/it]\u001b[A\n",
      "  7%|▋         | 2114/30802 [3:20:45<52:11:44,  6.55s/it]\u001b[A\n",
      "  7%|▋         | 2115/30802 [3:20:52<53:03:20,  6.66s/it]\u001b[A\n",
      "  7%|▋         | 2116/30802 [3:20:59<54:08:51,  6.80s/it]\u001b[A"
     ]
    },
    {
     "name": "stdout",
     "output_type": "stream",
     "text": [
      "Epoch 0, Batch 2115, loss 223013888.0\n"
     ]
    },
    {
     "name": "stderr",
     "output_type": "stream",
     "text": [
      "\n",
      "  7%|▋         | 2117/30802 [3:21:06<53:28:21,  6.71s/it]\u001b[A\n",
      "  7%|▋         | 2118/30802 [3:21:12<53:15:06,  6.68s/it]\u001b[A\n",
      "  7%|▋         | 2119/30802 [3:21:19<52:37:19,  6.60s/it]\u001b[A\n",
      "  7%|▋         | 2120/30802 [3:21:25<53:12:02,  6.68s/it]\u001b[A\n",
      "  7%|▋         | 2121/30802 [3:21:32<53:11:07,  6.68s/it]\u001b[A"
     ]
    },
    {
     "name": "stdout",
     "output_type": "stream",
     "text": [
      "Epoch 0, Batch 2120, loss 748842688.0\n"
     ]
    },
    {
     "name": "stderr",
     "output_type": "stream",
     "text": [
      "\n",
      "  7%|▋         | 2122/30802 [3:21:39<52:38:02,  6.61s/it]\u001b[A\n",
      "  7%|▋         | 2123/30802 [3:21:45<52:51:06,  6.63s/it]\u001b[A\n",
      "  7%|▋         | 2124/30802 [3:21:51<51:45:15,  6.50s/it]\u001b[A\n",
      "  7%|▋         | 2125/30802 [3:21:58<50:58:38,  6.40s/it]\u001b[A\n",
      "  7%|▋         | 2126/30802 [3:22:04<51:11:54,  6.43s/it]\u001b[A"
     ]
    },
    {
     "name": "stdout",
     "output_type": "stream",
     "text": [
      "Epoch 0, Batch 2125, loss 297070304.0\n"
     ]
    },
    {
     "name": "stderr",
     "output_type": "stream",
     "text": [
      "\n",
      "  7%|▋         | 2127/30802 [3:22:11<51:48:01,  6.50s/it]\u001b[A\n",
      "  7%|▋         | 2128/30802 [3:22:17<51:25:47,  6.46s/it]\u001b[A\n",
      "  7%|▋         | 2129/30802 [3:22:23<50:57:56,  6.40s/it]\u001b[A\n",
      "  7%|▋         | 2130/30802 [3:22:29<50:09:24,  6.30s/it]\u001b[A\n",
      "  7%|▋         | 2131/30802 [3:22:36<50:35:58,  6.35s/it]\u001b[A"
     ]
    },
    {
     "name": "stdout",
     "output_type": "stream",
     "text": [
      "Epoch 0, Batch 2130, loss 562786496.0\n"
     ]
    },
    {
     "name": "stderr",
     "output_type": "stream",
     "text": [
      "\n",
      "  7%|▋         | 2132/30802 [3:22:42<50:40:20,  6.36s/it]\u001b[A\n",
      "  7%|▋         | 2133/30802 [3:22:49<50:45:54,  6.37s/it]\u001b[A\n",
      "  7%|▋         | 2134/30802 [3:22:55<50:32:53,  6.35s/it]\u001b[A\n",
      "  7%|▋         | 2135/30802 [3:23:01<50:16:26,  6.31s/it]\u001b[A\n",
      "  7%|▋         | 2136/30802 [3:23:08<51:28:43,  6.46s/it]\u001b[A"
     ]
    },
    {
     "name": "stdout",
     "output_type": "stream",
     "text": [
      "Epoch 0, Batch 2135, loss 123794472.0\n"
     ]
    },
    {
     "name": "stderr",
     "output_type": "stream",
     "text": [
      "\n",
      "  7%|▋         | 2137/30802 [3:23:14<50:55:51,  6.40s/it]\u001b[A\n",
      "  7%|▋         | 2138/30802 [3:23:21<51:12:30,  6.43s/it]\u001b[A\n",
      "  7%|▋         | 2139/30802 [3:23:28<53:33:39,  6.73s/it]\u001b[A\n",
      "  7%|▋         | 2140/30802 [3:23:35<54:43:55,  6.87s/it]\u001b[A\n",
      "  7%|▋         | 2141/30802 [3:23:42<54:52:00,  6.89s/it]\u001b[A"
     ]
    },
    {
     "name": "stdout",
     "output_type": "stream",
     "text": [
      "Epoch 0, Batch 2140, loss 117690776.0\n"
     ]
    },
    {
     "name": "stderr",
     "output_type": "stream",
     "text": [
      "\n",
      "  7%|▋         | 2142/30802 [3:23:48<52:23:17,  6.58s/it]\u001b[A\n",
      "  7%|▋         | 2143/30802 [3:23:54<49:20:13,  6.20s/it]\u001b[A\n",
      "  7%|▋         | 2144/30802 [3:24:00<49:43:19,  6.25s/it]\u001b[A\n",
      "  7%|▋         | 2145/30802 [3:24:06<49:02:03,  6.16s/it]\u001b[A\n",
      "  7%|▋         | 2146/30802 [3:24:11<47:00:07,  5.90s/it]\u001b[A"
     ]
    },
    {
     "name": "stdout",
     "output_type": "stream",
     "text": [
      "Epoch 0, Batch 2145, loss 376014400.0\n"
     ]
    },
    {
     "name": "stderr",
     "output_type": "stream",
     "text": [
      "\n",
      "  7%|▋         | 2147/30802 [3:24:17<45:58:11,  5.78s/it]\u001b[A\n",
      "  7%|▋         | 2148/30802 [3:24:22<45:09:55,  5.67s/it]\u001b[A\n",
      "  7%|▋         | 2149/30802 [3:24:27<44:14:30,  5.56s/it]\u001b[A\n",
      "  7%|▋         | 2150/30802 [3:24:33<43:46:54,  5.50s/it]\u001b[A\n",
      "  7%|▋         | 2151/30802 [3:24:38<43:05:45,  5.41s/it]\u001b[A"
     ]
    },
    {
     "name": "stdout",
     "output_type": "stream",
     "text": [
      "Epoch 0, Batch 2150, loss 132798704.0\n"
     ]
    },
    {
     "name": "stderr",
     "output_type": "stream",
     "text": [
      "\n",
      "  7%|▋         | 2152/30802 [3:24:43<42:20:47,  5.32s/it]\u001b[A\n",
      "  7%|▋         | 2153/30802 [3:24:48<42:04:44,  5.29s/it]\u001b[A\n",
      "  7%|▋         | 2154/30802 [3:24:54<42:23:08,  5.33s/it]\u001b[A\n",
      "  7%|▋         | 2155/30802 [3:24:59<42:12:31,  5.30s/it]\u001b[A\n",
      "  7%|▋         | 2156/30802 [3:25:04<41:37:35,  5.23s/it]\u001b[A"
     ]
    },
    {
     "name": "stdout",
     "output_type": "stream",
     "text": [
      "Epoch 0, Batch 2155, loss 575161408.0\n"
     ]
    },
    {
     "name": "stderr",
     "output_type": "stream",
     "text": [
      "\n",
      "  7%|▋         | 2157/30802 [3:25:09<41:09:38,  5.17s/it]\u001b[A\n",
      "  7%|▋         | 2158/30802 [3:25:14<41:10:25,  5.17s/it]\u001b[A\n",
      "  7%|▋         | 2159/30802 [3:25:19<41:15:05,  5.18s/it]\u001b[A\n",
      "  7%|▋         | 2160/30802 [3:25:25<41:31:16,  5.22s/it]\u001b[A\n",
      "  7%|▋         | 2161/30802 [3:25:30<42:09:34,  5.30s/it]\u001b[A"
     ]
    },
    {
     "name": "stdout",
     "output_type": "stream",
     "text": [
      "Epoch 0, Batch 2160, loss 270115968.0\n"
     ]
    },
    {
     "name": "stderr",
     "output_type": "stream",
     "text": [
      "\n",
      "  7%|▋         | 2162/30802 [3:25:36<42:17:33,  5.32s/it]\u001b[A\n",
      "  7%|▋         | 2163/30802 [3:25:41<42:10:15,  5.30s/it]\u001b[A\n",
      "  7%|▋         | 2164/30802 [3:25:46<41:55:28,  5.27s/it]\u001b[A\n",
      "  7%|▋         | 2165/30802 [3:25:51<41:45:58,  5.25s/it]\u001b[A\n",
      "  7%|▋         | 2166/30802 [3:25:56<41:50:06,  5.26s/it]\u001b[A"
     ]
    },
    {
     "name": "stdout",
     "output_type": "stream",
     "text": [
      "Epoch 0, Batch 2165, loss 478408864.0\n"
     ]
    },
    {
     "name": "stderr",
     "output_type": "stream",
     "text": [
      "\n",
      "  7%|▋         | 2167/30802 [3:26:02<41:59:44,  5.28s/it]\u001b[A\n",
      "  7%|▋         | 2168/30802 [3:26:07<42:15:43,  5.31s/it]\u001b[A\n",
      "  7%|▋         | 2169/30802 [3:26:13<42:26:14,  5.34s/it]\u001b[A\n",
      "  7%|▋         | 2170/30802 [3:26:18<42:26:32,  5.34s/it]\u001b[A\n",
      "  7%|▋         | 2171/30802 [3:26:23<41:48:14,  5.26s/it]\u001b[A"
     ]
    },
    {
     "name": "stdout",
     "output_type": "stream",
     "text": [
      "Epoch 0, Batch 2170, loss 124728496.0\n"
     ]
    },
    {
     "name": "stderr",
     "output_type": "stream",
     "text": [
      "\n",
      "  7%|▋         | 2172/30802 [3:26:28<41:34:11,  5.23s/it]\u001b[A\n",
      "  7%|▋         | 2173/30802 [3:26:33<41:36:42,  5.23s/it]\u001b[A\n",
      "  7%|▋         | 2174/30802 [3:26:39<41:19:18,  5.20s/it]\u001b[A\n",
      "  7%|▋         | 2175/30802 [3:26:44<41:09:01,  5.17s/it]\u001b[A\n",
      "  7%|▋         | 2176/30802 [3:26:49<41:13:19,  5.18s/it]\u001b[A"
     ]
    },
    {
     "name": "stdout",
     "output_type": "stream",
     "text": [
      "Epoch 0, Batch 2175, loss 296482496.0\n"
     ]
    },
    {
     "name": "stderr",
     "output_type": "stream",
     "text": [
      "\n",
      "  7%|▋         | 2177/30802 [3:26:54<41:56:29,  5.27s/it]\u001b[A\n",
      "  7%|▋         | 2178/30802 [3:27:00<41:49:50,  5.26s/it]\u001b[A\n",
      "  7%|▋         | 2179/30802 [3:27:05<42:15:54,  5.32s/it]\u001b[A\n",
      "  7%|▋         | 2180/30802 [3:27:11<43:16:58,  5.44s/it]\u001b[A\n",
      "  7%|▋         | 2181/30802 [3:27:16<43:14:01,  5.44s/it]\u001b[A"
     ]
    },
    {
     "name": "stdout",
     "output_type": "stream",
     "text": [
      "Epoch 0, Batch 2180, loss 225606704.0\n"
     ]
    },
    {
     "name": "stderr",
     "output_type": "stream",
     "text": [
      "\n",
      "  7%|▋         | 2182/30802 [3:27:22<43:14:47,  5.44s/it]\u001b[A\n",
      "  7%|▋         | 2183/30802 [3:27:27<43:31:05,  5.47s/it]\u001b[A\n",
      "  7%|▋         | 2184/30802 [3:27:33<43:15:15,  5.44s/it]\u001b[A\n",
      "  7%|▋         | 2185/30802 [3:27:38<42:21:00,  5.33s/it]\u001b[A\n",
      "  7%|▋         | 2186/30802 [3:27:43<41:53:29,  5.27s/it]\u001b[A"
     ]
    },
    {
     "name": "stdout",
     "output_type": "stream",
     "text": [
      "Epoch 0, Batch 2185, loss 132813600.0\n"
     ]
    },
    {
     "name": "stderr",
     "output_type": "stream",
     "text": [
      "\n",
      "  7%|▋         | 2187/30802 [3:27:48<42:00:39,  5.29s/it]\u001b[A\n",
      "  7%|▋         | 2188/30802 [3:27:55<45:43:14,  5.75s/it]\u001b[A\n",
      "  7%|▋         | 2189/30802 [3:28:00<44:28:26,  5.60s/it]\u001b[A\n",
      "  7%|▋         | 2190/30802 [3:28:05<43:21:42,  5.46s/it]\u001b[A\n",
      "  7%|▋         | 2191/30802 [3:28:10<42:09:27,  5.30s/it]\u001b[A"
     ]
    },
    {
     "name": "stdout",
     "output_type": "stream",
     "text": [
      "Epoch 0, Batch 2190, loss 392691328.0\n"
     ]
    },
    {
     "name": "stderr",
     "output_type": "stream",
     "text": [
      "\n",
      "  7%|▋         | 2192/30802 [3:28:15<41:55:40,  5.28s/it]\u001b[A\n",
      "  7%|▋         | 2193/30802 [3:28:20<41:20:55,  5.20s/it]\u001b[A\n",
      "  7%|▋         | 2194/30802 [3:28:26<41:24:00,  5.21s/it]\u001b[A\n",
      "  7%|▋         | 2195/30802 [3:28:31<41:26:56,  5.22s/it]\u001b[A\n",
      "  7%|▋         | 2196/30802 [3:28:36<41:06:59,  5.17s/it]\u001b[A"
     ]
    },
    {
     "name": "stdout",
     "output_type": "stream",
     "text": [
      "Epoch 0, Batch 2195, loss 302642080.0\n"
     ]
    },
    {
     "name": "stderr",
     "output_type": "stream",
     "text": [
      "\n",
      "  7%|▋         | 2197/30802 [3:28:41<40:51:33,  5.14s/it]\u001b[A\n",
      "  7%|▋         | 2198/30802 [3:28:46<41:26:38,  5.22s/it]\u001b[A\n",
      "  7%|▋         | 2199/30802 [3:28:52<41:27:00,  5.22s/it]\u001b[A\n",
      "  7%|▋         | 2200/30802 [3:28:57<41:33:34,  5.23s/it]\u001b[A\n",
      "  7%|▋         | 2201/30802 [3:29:02<41:59:18,  5.29s/it]\u001b[A"
     ]
    },
    {
     "name": "stdout",
     "output_type": "stream",
     "text": [
      "Epoch 0, Batch 2200, loss 486609568.0\n"
     ]
    },
    {
     "name": "stderr",
     "output_type": "stream",
     "text": [
      "\n",
      "  7%|▋         | 2202/30802 [3:29:08<42:16:23,  5.32s/it]\u001b[A\n",
      "  7%|▋         | 2203/30802 [3:29:13<42:50:08,  5.39s/it]\u001b[A\n",
      "  7%|▋         | 2204/30802 [3:29:19<42:45:44,  5.38s/it]\u001b[A\n",
      "  7%|▋         | 2205/30802 [3:29:24<42:48:05,  5.39s/it]\u001b[A\n",
      "  7%|▋         | 2206/30802 [3:29:29<42:43:53,  5.38s/it]\u001b[A"
     ]
    },
    {
     "name": "stdout",
     "output_type": "stream",
     "text": [
      "Epoch 0, Batch 2205, loss 301172160.0\n"
     ]
    },
    {
     "name": "stderr",
     "output_type": "stream",
     "text": [
      "\n",
      "  7%|▋         | 2207/30802 [3:29:35<42:16:26,  5.32s/it]\u001b[A\n",
      "  7%|▋         | 2208/30802 [3:29:40<41:42:09,  5.25s/it]\u001b[A\n",
      "  7%|▋         | 2209/30802 [3:29:45<42:20:06,  5.33s/it]\u001b[A\n",
      "  7%|▋         | 2210/30802 [3:29:51<43:06:06,  5.43s/it]\u001b[A\n",
      "  7%|▋         | 2211/30802 [3:29:56<42:44:03,  5.38s/it]\u001b[A"
     ]
    },
    {
     "name": "stdout",
     "output_type": "stream",
     "text": [
      "Epoch 0, Batch 2210, loss 37104244.0\n"
     ]
    },
    {
     "name": "stderr",
     "output_type": "stream",
     "text": [
      "\n",
      "  7%|▋         | 2212/30802 [3:30:01<42:15:47,  5.32s/it]\u001b[A\n",
      "  7%|▋         | 2213/30802 [3:30:07<42:29:32,  5.35s/it]\u001b[A\n",
      "  7%|▋         | 2214/30802 [3:30:12<42:19:54,  5.33s/it]\u001b[A\n",
      "  7%|▋         | 2215/30802 [3:30:17<41:59:32,  5.29s/it]\u001b[A\n",
      "  7%|▋         | 2216/30802 [3:30:22<41:37:08,  5.24s/it]\u001b[A"
     ]
    },
    {
     "name": "stdout",
     "output_type": "stream",
     "text": [
      "Epoch 0, Batch 2215, loss 368858656.0\n"
     ]
    },
    {
     "name": "stderr",
     "output_type": "stream",
     "text": [
      "\n",
      "  7%|▋         | 2217/30802 [3:30:28<41:27:32,  5.22s/it]\u001b[A\n",
      "  7%|▋         | 2218/30802 [3:30:33<41:22:27,  5.21s/it]\u001b[A\n",
      "  7%|▋         | 2219/30802 [3:30:39<42:51:58,  5.40s/it]\u001b[A\n",
      "  7%|▋         | 2220/30802 [3:30:44<42:55:06,  5.41s/it]\u001b[A\n",
      "  7%|▋         | 2221/30802 [3:30:49<42:52:06,  5.40s/it]\u001b[A"
     ]
    },
    {
     "name": "stdout",
     "output_type": "stream",
     "text": [
      "Epoch 0, Batch 2220, loss 40333448.0\n"
     ]
    },
    {
     "name": "stderr",
     "output_type": "stream",
     "text": [
      "\n",
      "  7%|▋         | 2222/30802 [3:30:55<42:23:04,  5.34s/it]\u001b[A\n",
      "  7%|▋         | 2223/30802 [3:31:00<41:48:47,  5.27s/it]\u001b[A\n",
      "  7%|▋         | 2224/30802 [3:31:05<41:42:30,  5.25s/it]\u001b[A\n",
      "  7%|▋         | 2225/30802 [3:31:10<41:50:25,  5.27s/it]\u001b[A\n",
      "  7%|▋         | 2226/30802 [3:31:16<42:15:35,  5.32s/it]\u001b[A"
     ]
    },
    {
     "name": "stdout",
     "output_type": "stream",
     "text": [
      "Epoch 0, Batch 2225, loss 260682352.0\n"
     ]
    },
    {
     "name": "stderr",
     "output_type": "stream",
     "text": [
      "\n",
      "  7%|▋         | 2227/30802 [3:31:21<42:12:27,  5.32s/it]\u001b[A\n",
      "  7%|▋         | 2228/30802 [3:31:27<42:56:30,  5.41s/it]\u001b[A\n",
      "  7%|▋         | 2229/30802 [3:31:32<42:30:34,  5.36s/it]\u001b[A\n",
      "  7%|▋         | 2230/30802 [3:31:37<42:33:52,  5.36s/it]\u001b[A\n",
      "  7%|▋         | 2231/30802 [3:31:43<42:39:08,  5.37s/it]\u001b[A"
     ]
    },
    {
     "name": "stdout",
     "output_type": "stream",
     "text": [
      "Epoch 0, Batch 2230, loss 195053696.0\n"
     ]
    },
    {
     "name": "stderr",
     "output_type": "stream",
     "text": [
      "\n",
      "  7%|▋         | 2232/30802 [3:31:48<42:11:52,  5.32s/it]\u001b[A\n",
      "  7%|▋         | 2233/30802 [3:31:53<42:14:20,  5.32s/it]\u001b[A\n",
      "  7%|▋         | 2234/30802 [3:31:58<41:31:47,  5.23s/it]\u001b[A\n",
      "  7%|▋         | 2235/30802 [3:32:03<41:26:33,  5.22s/it]\u001b[A\n",
      "  7%|▋         | 2236/30802 [3:32:08<41:05:00,  5.18s/it]\u001b[A"
     ]
    },
    {
     "name": "stdout",
     "output_type": "stream",
     "text": [
      "Epoch 0, Batch 2235, loss 427837600.0\n"
     ]
    },
    {
     "name": "stderr",
     "output_type": "stream",
     "text": [
      "\n",
      "  7%|▋         | 2237/30802 [3:32:13<40:51:59,  5.15s/it]\u001b[A\n",
      "  7%|▋         | 2238/30802 [3:32:19<40:38:41,  5.12s/it]\u001b[A\n",
      "  7%|▋         | 2239/30802 [3:32:24<41:07:17,  5.18s/it]\u001b[A\n",
      "  7%|▋         | 2240/30802 [3:32:29<40:45:41,  5.14s/it]\u001b[A\n",
      "  7%|▋         | 2241/30802 [3:32:34<40:40:37,  5.13s/it]\u001b[A"
     ]
    },
    {
     "name": "stdout",
     "output_type": "stream",
     "text": [
      "Epoch 0, Batch 2240, loss 389393056.0\n"
     ]
    },
    {
     "name": "stderr",
     "output_type": "stream",
     "text": [
      "\n",
      "  7%|▋         | 2242/30802 [3:32:39<41:11:14,  5.19s/it]\u001b[A\n",
      "  7%|▋         | 2243/30802 [3:32:45<42:13:52,  5.32s/it]\u001b[A\n",
      "  7%|▋         | 2244/30802 [3:32:50<42:35:18,  5.37s/it]\u001b[A\n",
      "  7%|▋         | 2245/30802 [3:32:56<42:57:43,  5.42s/it]\u001b[A\n",
      "  7%|▋         | 2246/30802 [3:33:01<42:34:42,  5.37s/it]\u001b[A"
     ]
    },
    {
     "name": "stdout",
     "output_type": "stream",
     "text": [
      "Epoch 0, Batch 2245, loss 437609344.0\n"
     ]
    },
    {
     "name": "stderr",
     "output_type": "stream",
     "text": [
      "\n",
      "  7%|▋         | 2247/30802 [3:33:06<42:22:18,  5.34s/it]\u001b[A\n",
      "  7%|▋         | 2248/30802 [3:33:12<41:51:58,  5.28s/it]\u001b[A\n",
      "  7%|▋         | 2249/30802 [3:33:17<41:22:31,  5.22s/it]\u001b[A\n",
      "  7%|▋         | 2250/30802 [3:33:22<40:33:21,  5.11s/it]\u001b[A\n",
      "  7%|▋         | 2251/30802 [3:33:27<40:55:16,  5.16s/it]\u001b[A"
     ]
    },
    {
     "name": "stdout",
     "output_type": "stream",
     "text": [
      "Epoch 0, Batch 2250, loss 478479424.0\n"
     ]
    },
    {
     "name": "stderr",
     "output_type": "stream",
     "text": [
      "\n",
      "  7%|▋         | 2252/30802 [3:33:32<40:57:23,  5.16s/it]\u001b[A\n",
      "  7%|▋         | 2253/30802 [3:33:37<41:23:22,  5.22s/it]\u001b[A\n",
      "  7%|▋         | 2254/30802 [3:33:43<41:59:38,  5.30s/it]\u001b[A\n",
      "  7%|▋         | 2255/30802 [3:33:48<41:48:02,  5.27s/it]\u001b[A\n",
      "  7%|▋         | 2256/30802 [3:33:53<41:39:39,  5.25s/it]\u001b[A"
     ]
    },
    {
     "name": "stdout",
     "output_type": "stream",
     "text": [
      "Epoch 0, Batch 2255, loss 245333184.0\n"
     ]
    },
    {
     "name": "stderr",
     "output_type": "stream",
     "text": [
      "\n",
      "  7%|▋         | 2257/30802 [3:33:59<41:58:04,  5.29s/it]\u001b[A\n",
      "  7%|▋         | 2258/30802 [3:34:04<41:54:10,  5.28s/it]\u001b[A\n",
      "  7%|▋         | 2259/30802 [3:34:09<41:51:02,  5.28s/it]\u001b[A\n",
      "  7%|▋         | 2260/30802 [3:34:14<41:42:38,  5.26s/it]\u001b[A\n",
      "  7%|▋         | 2261/30802 [3:34:20<41:37:27,  5.25s/it]\u001b[A"
     ]
    },
    {
     "name": "stdout",
     "output_type": "stream",
     "text": [
      "Epoch 0, Batch 2260, loss 399672320.0\n"
     ]
    },
    {
     "name": "stderr",
     "output_type": "stream",
     "text": [
      "\n",
      "  7%|▋         | 2262/30802 [3:34:25<42:05:40,  5.31s/it]\u001b[A\n",
      "  7%|▋         | 2263/30802 [3:34:30<41:54:40,  5.29s/it]\u001b[A\n",
      "  7%|▋         | 2264/30802 [3:34:35<41:28:18,  5.23s/it]\u001b[A\n",
      "  7%|▋         | 2265/30802 [3:34:41<41:27:08,  5.23s/it]\u001b[A\n",
      "  7%|▋         | 2266/30802 [3:34:46<42:33:51,  5.37s/it]\u001b[A"
     ]
    },
    {
     "name": "stdout",
     "output_type": "stream",
     "text": [
      "Epoch 0, Batch 2265, loss 115709640.0\n"
     ]
    },
    {
     "name": "stderr",
     "output_type": "stream",
     "text": [
      "\n",
      "  7%|▋         | 2267/30802 [3:34:51<41:41:08,  5.26s/it]\u001b[A\n",
      "  7%|▋         | 2268/30802 [3:34:57<41:51:36,  5.28s/it]\u001b[A\n",
      "  7%|▋         | 2269/30802 [3:35:02<42:06:00,  5.31s/it]\u001b[A\n",
      "  7%|▋         | 2270/30802 [3:35:07<41:46:29,  5.27s/it]\u001b[A\n",
      "  7%|▋         | 2271/30802 [3:35:12<41:32:46,  5.24s/it]\u001b[A"
     ]
    },
    {
     "name": "stdout",
     "output_type": "stream",
     "text": [
      "Epoch 0, Batch 2270, loss 407710976.0\n"
     ]
    },
    {
     "name": "stderr",
     "output_type": "stream",
     "text": [
      "\n",
      "  7%|▋         | 2272/30802 [3:35:18<41:27:36,  5.23s/it]\u001b[A\n",
      "  7%|▋         | 2273/30802 [3:35:23<41:12:48,  5.20s/it]\u001b[A\n",
      "  7%|▋         | 2274/30802 [3:35:28<42:08:53,  5.32s/it]\u001b[A\n",
      "  7%|▋         | 2275/30802 [3:35:33<41:41:19,  5.26s/it]\u001b[A\n",
      "  7%|▋         | 2276/30802 [3:35:39<41:36:49,  5.25s/it]\u001b[A"
     ]
    },
    {
     "name": "stdout",
     "output_type": "stream",
     "text": [
      "Epoch 0, Batch 2275, loss 267686208.0\n"
     ]
    },
    {
     "name": "stderr",
     "output_type": "stream",
     "text": [
      "\n",
      "  7%|▋         | 2277/30802 [3:35:44<41:34:15,  5.25s/it]\u001b[A\n",
      "  7%|▋         | 2278/30802 [3:35:49<41:34:49,  5.25s/it]\u001b[A\n",
      "  7%|▋         | 2279/30802 [3:35:55<41:54:37,  5.29s/it]\u001b[A\n",
      "  7%|▋         | 2280/30802 [3:36:00<42:12:00,  5.33s/it]\u001b[A\n",
      "  7%|▋         | 2281/30802 [3:36:05<42:26:06,  5.36s/it]\u001b[A"
     ]
    },
    {
     "name": "stdout",
     "output_type": "stream",
     "text": [
      "Epoch 0, Batch 2280, loss 401984832.0\n"
     ]
    },
    {
     "name": "stderr",
     "output_type": "stream",
     "text": [
      "\n",
      "  7%|▋         | 2282/30802 [3:36:11<43:43:03,  5.52s/it]\u001b[A\n",
      "  7%|▋         | 2283/30802 [3:36:17<43:27:12,  5.49s/it]\u001b[A\n",
      "  7%|▋         | 2284/30802 [3:36:22<43:05:25,  5.44s/it]\u001b[A\n",
      "  7%|▋         | 2285/30802 [3:36:27<42:33:31,  5.37s/it]\u001b[A\n",
      "  7%|▋         | 2286/30802 [3:36:33<42:54:09,  5.42s/it]\u001b[A"
     ]
    },
    {
     "name": "stdout",
     "output_type": "stream",
     "text": [
      "Epoch 0, Batch 2285, loss 89924760.0\n"
     ]
    },
    {
     "name": "stderr",
     "output_type": "stream",
     "text": [
      "\n",
      "  7%|▋         | 2287/30802 [3:36:39<43:49:27,  5.53s/it]\u001b[A\n",
      "  7%|▋         | 2288/30802 [3:36:44<43:00:23,  5.43s/it]\u001b[A\n",
      "  7%|▋         | 2289/30802 [3:36:49<41:59:20,  5.30s/it]\u001b[A\n",
      "  7%|▋         | 2290/30802 [3:36:54<41:40:22,  5.26s/it]\u001b[A\n",
      "  7%|▋         | 2291/30802 [3:36:59<41:16:43,  5.21s/it]\u001b[A"
     ]
    },
    {
     "name": "stdout",
     "output_type": "stream",
     "text": [
      "Epoch 0, Batch 2290, loss 367665344.0\n"
     ]
    },
    {
     "name": "stderr",
     "output_type": "stream",
     "text": [
      "\n",
      "  7%|▋         | 2292/30802 [3:37:04<41:01:13,  5.18s/it]\u001b[A\n",
      "  7%|▋         | 2293/30802 [3:37:09<41:04:46,  5.19s/it]\u001b[A\n",
      "  7%|▋         | 2294/30802 [3:37:14<40:56:08,  5.17s/it]\u001b[A\n",
      "  7%|▋         | 2295/30802 [3:37:20<40:46:32,  5.15s/it]\u001b[A\n",
      "  7%|▋         | 2296/30802 [3:37:25<41:23:37,  5.23s/it]\u001b[A"
     ]
    },
    {
     "name": "stdout",
     "output_type": "stream",
     "text": [
      "Epoch 0, Batch 2295, loss 425730816.0\n"
     ]
    },
    {
     "name": "stderr",
     "output_type": "stream",
     "text": [
      "\n",
      "  7%|▋         | 2297/30802 [3:37:30<41:26:59,  5.23s/it]\u001b[A\n",
      "  7%|▋         | 2298/30802 [3:37:35<41:24:19,  5.23s/it]\u001b[A\n",
      "  7%|▋         | 2299/30802 [3:37:41<41:40:28,  5.26s/it]\u001b[A\n",
      "  7%|▋         | 2300/30802 [3:37:46<41:25:10,  5.23s/it]\u001b[A\n",
      "  7%|▋         | 2301/30802 [3:37:51<41:26:04,  5.23s/it]\u001b[A"
     ]
    },
    {
     "name": "stdout",
     "output_type": "stream",
     "text": [
      "Epoch 0, Batch 2300, loss 431651392.0\n"
     ]
    },
    {
     "name": "stderr",
     "output_type": "stream",
     "text": [
      "\n",
      "  7%|▋         | 2302/30802 [3:37:57<42:24:06,  5.36s/it]\u001b[A\n",
      "  7%|▋         | 2303/30802 [3:38:02<42:05:47,  5.32s/it]\u001b[A\n",
      "  7%|▋         | 2304/30802 [3:38:07<41:34:57,  5.25s/it]\u001b[A\n",
      "  7%|▋         | 2305/30802 [3:38:12<40:50:03,  5.16s/it]\u001b[A\n",
      "  7%|▋         | 2306/30802 [3:38:17<40:37:03,  5.13s/it]\u001b[A"
     ]
    },
    {
     "name": "stdout",
     "output_type": "stream",
     "text": [
      "Epoch 0, Batch 2305, loss 334436864.0\n"
     ]
    },
    {
     "name": "stderr",
     "output_type": "stream",
     "text": [
      "\n",
      "  7%|▋         | 2307/30802 [3:38:23<41:27:46,  5.24s/it]\u001b[A\n",
      "  7%|▋         | 2308/30802 [3:38:28<41:13:11,  5.21s/it]\u001b[A\n",
      "  7%|▋         | 2309/30802 [3:38:33<41:11:22,  5.20s/it]\u001b[A\n",
      "  7%|▋         | 2310/30802 [3:38:38<41:05:04,  5.19s/it]\u001b[A\n",
      "  8%|▊         | 2311/30802 [3:38:43<41:08:58,  5.20s/it]\u001b[A"
     ]
    },
    {
     "name": "stdout",
     "output_type": "stream",
     "text": [
      "Epoch 0, Batch 2310, loss 687792576.0\n"
     ]
    },
    {
     "name": "stderr",
     "output_type": "stream",
     "text": [
      "\n",
      "  8%|▊         | 2312/30802 [3:38:49<41:32:26,  5.25s/it]\u001b[A\n",
      "  8%|▊         | 2313/30802 [3:38:54<41:47:22,  5.28s/it]\u001b[A\n",
      "  8%|▊         | 2314/30802 [3:38:59<41:51:23,  5.29s/it]\u001b[A\n",
      "  8%|▊         | 2315/30802 [3:39:05<42:19:48,  5.35s/it]\u001b[A\n",
      "  8%|▊         | 2316/30802 [3:39:11<43:14:19,  5.46s/it]\u001b[A"
     ]
    },
    {
     "name": "stdout",
     "output_type": "stream",
     "text": [
      "Epoch 0, Batch 2315, loss 403853120.0\n"
     ]
    },
    {
     "name": "stderr",
     "output_type": "stream",
     "text": [
      "\n",
      "  8%|▊         | 2317/30802 [3:39:16<42:56:38,  5.43s/it]\u001b[A\n",
      "  8%|▊         | 2318/30802 [3:39:21<42:35:58,  5.38s/it]\u001b[A\n",
      "  8%|▊         | 2319/30802 [3:39:27<42:35:25,  5.38s/it]\u001b[A\n",
      "  8%|▊         | 2320/30802 [3:39:32<43:10:50,  5.46s/it]\u001b[A\n",
      "  8%|▊         | 2321/30802 [3:39:38<43:54:27,  5.55s/it]\u001b[A"
     ]
    },
    {
     "name": "stdout",
     "output_type": "stream",
     "text": [
      "Epoch 0, Batch 2320, loss 114639864.0\n"
     ]
    },
    {
     "name": "stderr",
     "output_type": "stream",
     "text": [
      "\n",
      "  8%|▊         | 2322/30802 [3:39:43<43:18:06,  5.47s/it]\u001b[A\n",
      "  8%|▊         | 2323/30802 [3:39:48<42:03:18,  5.32s/it]\u001b[A\n",
      "  8%|▊         | 2324/30802 [3:39:53<41:23:58,  5.23s/it]\u001b[A\n",
      "  8%|▊         | 2325/30802 [3:39:58<40:51:27,  5.17s/it]\u001b[A\n",
      "  8%|▊         | 2326/30802 [3:40:03<40:44:54,  5.15s/it]\u001b[A"
     ]
    },
    {
     "name": "stdout",
     "output_type": "stream",
     "text": [
      "Epoch 0, Batch 2325, loss 475750528.0\n"
     ]
    },
    {
     "name": "stderr",
     "output_type": "stream",
     "text": [
      "\n",
      "  8%|▊         | 2327/30802 [3:40:09<40:41:10,  5.14s/it]\u001b[A\n",
      "  8%|▊         | 2328/30802 [3:40:14<40:47:54,  5.16s/it]\u001b[A\n",
      "  8%|▊         | 2329/30802 [3:40:19<40:47:30,  5.16s/it]\u001b[A\n",
      "  8%|▊         | 2330/30802 [3:40:25<42:13:44,  5.34s/it]\u001b[A\n",
      "  8%|▊         | 2331/30802 [3:40:30<41:26:23,  5.24s/it]\u001b[A"
     ]
    },
    {
     "name": "stdout",
     "output_type": "stream",
     "text": [
      "Epoch 0, Batch 2330, loss 274134848.0\n"
     ]
    },
    {
     "name": "stderr",
     "output_type": "stream",
     "text": [
      "\n",
      "  8%|▊         | 2332/30802 [3:40:35<41:37:06,  5.26s/it]\u001b[A\n",
      "  8%|▊         | 2333/30802 [3:40:40<41:37:03,  5.26s/it]\u001b[A\n",
      "  8%|▊         | 2334/30802 [3:40:46<41:46:38,  5.28s/it]\u001b[A\n",
      "  8%|▊         | 2335/30802 [3:40:51<41:51:43,  5.29s/it]\u001b[A\n",
      "  8%|▊         | 2336/30802 [3:40:56<41:20:50,  5.23s/it]\u001b[A"
     ]
    },
    {
     "name": "stdout",
     "output_type": "stream",
     "text": [
      "Epoch 0, Batch 2335, loss 382703776.0\n"
     ]
    },
    {
     "name": "stderr",
     "output_type": "stream",
     "text": [
      "\n",
      "  8%|▊         | 2337/30802 [3:41:01<40:44:23,  5.15s/it]\u001b[A\n",
      "  8%|▊         | 2338/30802 [3:41:06<40:14:58,  5.09s/it]\u001b[A\n",
      "  8%|▊         | 2339/30802 [3:41:11<40:14:48,  5.09s/it]\u001b[A\n",
      "  8%|▊         | 2340/30802 [3:41:16<40:27:50,  5.12s/it]\u001b[A\n",
      "  8%|▊         | 2341/30802 [3:41:21<40:44:17,  5.15s/it]\u001b[A"
     ]
    },
    {
     "name": "stdout",
     "output_type": "stream",
     "text": [
      "Epoch 0, Batch 2340, loss 499922016.0\n"
     ]
    },
    {
     "name": "stderr",
     "output_type": "stream",
     "text": [
      "\n",
      "  8%|▊         | 2342/30802 [3:41:27<41:14:03,  5.22s/it]\u001b[A\n",
      "  8%|▊         | 2343/30802 [3:41:32<42:18:53,  5.35s/it]\u001b[A\n",
      "  8%|▊         | 2344/30802 [3:41:38<41:55:02,  5.30s/it]\u001b[A\n",
      "  8%|▊         | 2345/30802 [3:41:43<41:52:15,  5.30s/it]\u001b[A\n",
      "  8%|▊         | 2346/30802 [3:41:49<44:01:03,  5.57s/it]\u001b[A"
     ]
    },
    {
     "name": "stdout",
     "output_type": "stream",
     "text": [
      "Epoch 0, Batch 2345, loss 129104576.0\n"
     ]
    },
    {
     "name": "stderr",
     "output_type": "stream",
     "text": [
      "\n",
      "  8%|▊         | 2347/30802 [3:41:55<44:19:58,  5.61s/it]\u001b[A\n",
      "  8%|▊         | 2348/30802 [3:42:00<43:43:34,  5.53s/it]\u001b[A\n",
      "  8%|▊         | 2349/30802 [3:42:05<43:14:46,  5.47s/it]\u001b[A\n",
      "  8%|▊         | 2350/30802 [3:42:11<42:52:27,  5.42s/it]\u001b[A\n",
      "  8%|▊         | 2351/30802 [3:42:16<42:48:27,  5.42s/it]\u001b[A"
     ]
    },
    {
     "name": "stdout",
     "output_type": "stream",
     "text": [
      "Epoch 0, Batch 2350, loss 807149312.0\n"
     ]
    },
    {
     "name": "stderr",
     "output_type": "stream",
     "text": [
      "\n",
      "  8%|▊         | 2352/30802 [3:42:22<43:13:49,  5.47s/it]\u001b[A\n",
      "  8%|▊         | 2353/30802 [3:42:27<43:23:54,  5.49s/it]\u001b[A\n",
      "  8%|▊         | 2354/30802 [3:42:32<42:34:10,  5.39s/it]\u001b[A\n",
      "  8%|▊         | 2355/30802 [3:42:38<42:08:50,  5.33s/it]\u001b[A\n",
      "  8%|▊         | 2356/30802 [3:42:43<42:49:01,  5.42s/it]\u001b[A"
     ]
    },
    {
     "name": "stdout",
     "output_type": "stream",
     "text": [
      "Epoch 0, Batch 2355, loss 67104228.0\n"
     ]
    },
    {
     "name": "stderr",
     "output_type": "stream",
     "text": [
      "\n",
      "  8%|▊         | 2357/30802 [3:42:48<42:14:32,  5.35s/it]\u001b[A\n",
      "  8%|▊         | 2358/30802 [3:42:53<41:28:02,  5.25s/it]\u001b[A\n",
      "  8%|▊         | 2359/30802 [3:42:59<41:22:53,  5.24s/it]\u001b[A\n",
      "  8%|▊         | 2360/30802 [3:43:04<41:07:36,  5.21s/it]\u001b[A\n",
      "  8%|▊         | 2361/30802 [3:43:09<41:12:33,  5.22s/it]\u001b[A"
     ]
    },
    {
     "name": "stdout",
     "output_type": "stream",
     "text": [
      "Epoch 0, Batch 2360, loss 257031296.0\n"
     ]
    },
    {
     "name": "stderr",
     "output_type": "stream",
     "text": [
      "\n",
      "  8%|▊         | 2362/30802 [3:43:14<40:38:09,  5.14s/it]\u001b[A\n",
      "  8%|▊         | 2363/30802 [3:43:19<40:54:23,  5.18s/it]\u001b[A\n",
      "  8%|▊         | 2364/30802 [3:43:25<41:07:42,  5.21s/it]\u001b[A\n",
      "  8%|▊         | 2365/30802 [3:43:30<41:36:21,  5.27s/it]\u001b[A\n",
      "  8%|▊         | 2366/30802 [3:43:35<41:51:08,  5.30s/it]\u001b[A"
     ]
    },
    {
     "name": "stdout",
     "output_type": "stream",
     "text": [
      "Epoch 0, Batch 2365, loss 134279136.0\n"
     ]
    },
    {
     "name": "stderr",
     "output_type": "stream",
     "text": [
      "\n",
      "  8%|▊         | 2367/30802 [3:43:40<41:24:50,  5.24s/it]\u001b[A\n",
      "  8%|▊         | 2368/30802 [3:43:46<41:24:17,  5.24s/it]\u001b[A\n",
      "  8%|▊         | 2369/30802 [3:43:51<41:21:39,  5.24s/it]\u001b[A\n",
      "  8%|▊         | 2370/30802 [3:43:56<41:20:32,  5.23s/it]\u001b[A\n",
      "  8%|▊         | 2371/30802 [3:44:01<41:10:22,  5.21s/it]\u001b[A"
     ]
    },
    {
     "name": "stdout",
     "output_type": "stream",
     "text": [
      "Epoch 0, Batch 2370, loss 536622784.0\n"
     ]
    },
    {
     "name": "stderr",
     "output_type": "stream",
     "text": [
      "\n",
      "  8%|▊         | 2372/30802 [3:44:07<43:01:56,  5.45s/it]\u001b[A\n",
      "  8%|▊         | 2373/30802 [3:44:13<43:06:43,  5.46s/it]\u001b[A\n",
      "  8%|▊         | 2374/30802 [3:44:18<42:48:02,  5.42s/it]\u001b[A\n",
      "  8%|▊         | 2375/30802 [3:44:24<42:47:38,  5.42s/it]\u001b[A\n",
      "  8%|▊         | 2376/30802 [3:44:29<42:16:55,  5.35s/it]\u001b[A"
     ]
    },
    {
     "name": "stdout",
     "output_type": "stream",
     "text": [
      "Epoch 0, Batch 2375, loss 425649536.0\n"
     ]
    },
    {
     "name": "stderr",
     "output_type": "stream",
     "text": [
      "\n",
      "  8%|▊         | 2377/30802 [3:44:34<41:54:39,  5.31s/it]\u001b[A\n",
      "  8%|▊         | 2378/30802 [3:44:39<41:34:02,  5.26s/it]\u001b[A\n",
      "  8%|▊         | 2379/30802 [3:44:44<40:57:17,  5.19s/it]\u001b[A\n",
      "  8%|▊         | 2380/30802 [3:44:49<40:48:19,  5.17s/it]\u001b[A\n",
      "  8%|▊         | 2381/30802 [3:44:54<40:38:14,  5.15s/it]\u001b[A"
     ]
    },
    {
     "name": "stdout",
     "output_type": "stream",
     "text": [
      "Epoch 0, Batch 2380, loss 359406048.0\n"
     ]
    },
    {
     "name": "stderr",
     "output_type": "stream",
     "text": [
      "\n",
      "  8%|▊         | 2382/30802 [3:44:59<40:27:14,  5.12s/it]\u001b[A\n",
      "  8%|▊         | 2383/30802 [3:45:05<40:44:28,  5.16s/it]\u001b[A\n",
      "  8%|▊         | 2384/30802 [3:45:10<40:26:38,  5.12s/it]\u001b[A\n",
      "  8%|▊         | 2385/30802 [3:45:15<40:48:34,  5.17s/it]\u001b[A\n",
      "  8%|▊         | 2386/30802 [3:45:20<41:21:18,  5.24s/it]\u001b[A"
     ]
    },
    {
     "name": "stdout",
     "output_type": "stream",
     "text": [
      "Epoch 0, Batch 2385, loss 417387648.0\n"
     ]
    },
    {
     "name": "stderr",
     "output_type": "stream",
     "text": [
      "\n",
      "  8%|▊         | 2387/30802 [3:45:26<42:23:11,  5.37s/it]\u001b[A\n",
      "  8%|▊         | 2388/30802 [3:45:31<41:45:16,  5.29s/it]\u001b[A\n",
      "  8%|▊         | 2389/30802 [3:45:36<41:38:06,  5.28s/it]\u001b[A\n",
      "  8%|▊         | 2390/30802 [3:45:42<41:24:34,  5.25s/it]\u001b[A\n",
      "  8%|▊         | 2391/30802 [3:45:47<40:55:43,  5.19s/it]\u001b[A"
     ]
    },
    {
     "name": "stdout",
     "output_type": "stream",
     "text": [
      "Epoch 0, Batch 2390, loss 253508416.0\n"
     ]
    },
    {
     "name": "stderr",
     "output_type": "stream",
     "text": [
      "\n",
      "  8%|▊         | 2392/30802 [3:45:52<40:34:18,  5.14s/it]\u001b[A\n",
      "  8%|▊         | 2393/30802 [3:45:57<40:16:55,  5.10s/it]\u001b[A\n",
      "  8%|▊         | 2394/30802 [3:46:02<40:16:30,  5.10s/it]\u001b[A\n",
      "  8%|▊         | 2395/30802 [3:46:07<40:43:55,  5.16s/it]\u001b[A\n",
      "  8%|▊         | 2396/30802 [3:46:12<40:41:30,  5.16s/it]\u001b[A"
     ]
    },
    {
     "name": "stdout",
     "output_type": "stream",
     "text": [
      "Epoch 0, Batch 2395, loss 521532704.0\n"
     ]
    },
    {
     "name": "stderr",
     "output_type": "stream",
     "text": [
      "\n",
      "  8%|▊         | 2397/30802 [3:46:17<40:38:49,  5.15s/it]\u001b[A\n",
      "  8%|▊         | 2398/30802 [3:46:23<40:53:11,  5.18s/it]\u001b[A\n",
      "  8%|▊         | 2399/30802 [3:46:28<41:15:37,  5.23s/it]\u001b[A\n",
      "  8%|▊         | 2400/30802 [3:46:33<41:38:37,  5.28s/it]\u001b[A\n",
      "  8%|▊         | 2401/30802 [3:46:39<41:48:38,  5.30s/it]\u001b[A"
     ]
    },
    {
     "name": "stdout",
     "output_type": "stream",
     "text": [
      "Epoch 0, Batch 2400, loss 247741504.0\n"
     ]
    },
    {
     "name": "stderr",
     "output_type": "stream",
     "text": [
      "\n",
      "  8%|▊         | 2402/30802 [3:46:44<42:11:04,  5.35s/it]\u001b[A\n",
      "  8%|▊         | 2403/30802 [3:46:49<41:27:26,  5.26s/it]\u001b[A\n",
      "  8%|▊         | 2404/30802 [3:46:54<41:11:31,  5.22s/it]\u001b[A\n",
      "  8%|▊         | 2405/30802 [3:46:59<40:52:54,  5.18s/it]\u001b[A\n",
      "  8%|▊         | 2406/30802 [3:47:04<40:22:01,  5.12s/it]\u001b[A"
     ]
    },
    {
     "name": "stdout",
     "output_type": "stream",
     "text": [
      "Epoch 0, Batch 2405, loss 285716320.0\n"
     ]
    },
    {
     "name": "stderr",
     "output_type": "stream",
     "text": [
      "\n",
      "  8%|▊         | 2407/30802 [3:47:10<40:35:38,  5.15s/it]\u001b[A\n",
      "  8%|▊         | 2408/30802 [3:47:15<40:24:14,  5.12s/it]\u001b[A\n",
      "  8%|▊         | 2409/30802 [3:47:20<40:26:56,  5.13s/it]\u001b[A\n",
      "  8%|▊         | 2410/30802 [3:47:25<41:07:59,  5.22s/it]\u001b[A\n",
      "  8%|▊         | 2411/30802 [3:47:30<40:59:28,  5.20s/it]\u001b[A"
     ]
    },
    {
     "name": "stdout",
     "output_type": "stream",
     "text": [
      "Epoch 0, Batch 2410, loss 516401280.0\n"
     ]
    },
    {
     "name": "stderr",
     "output_type": "stream",
     "text": [
      "\n",
      "  8%|▊         | 2412/30802 [3:47:36<40:54:51,  5.19s/it]\u001b[A\n",
      "  8%|▊         | 2413/30802 [3:47:41<41:09:26,  5.22s/it]\u001b[A\n",
      "  8%|▊         | 2414/30802 [3:47:46<41:26:23,  5.26s/it]\u001b[A\n",
      "  8%|▊         | 2415/30802 [3:47:52<41:56:44,  5.32s/it]\u001b[A\n",
      "  8%|▊         | 2416/30802 [3:47:57<42:10:53,  5.35s/it]\u001b[A"
     ]
    },
    {
     "name": "stdout",
     "output_type": "stream",
     "text": [
      "Epoch 0, Batch 2415, loss 404976640.0\n"
     ]
    },
    {
     "name": "stderr",
     "output_type": "stream",
     "text": [
      "\n",
      "  8%|▊         | 2417/30802 [3:48:02<42:10:29,  5.35s/it]\u001b[A\n",
      "  8%|▊         | 2418/30802 [3:48:08<42:23:58,  5.38s/it]\u001b[A\n",
      "  8%|▊         | 2419/30802 [3:48:13<42:37:43,  5.41s/it]\u001b[A\n",
      "  8%|▊         | 2420/30802 [3:48:19<42:24:50,  5.38s/it]\u001b[A\n",
      "  8%|▊         | 2421/30802 [3:48:24<41:36:57,  5.28s/it]\u001b[A"
     ]
    },
    {
     "name": "stdout",
     "output_type": "stream",
     "text": [
      "Epoch 0, Batch 2420, loss 393114208.0\n"
     ]
    },
    {
     "name": "stderr",
     "output_type": "stream",
     "text": [
      "\n",
      "  8%|▊         | 2422/30802 [3:48:43<74:03:45,  9.39s/it]\u001b[A\n",
      "  8%|▊         | 2423/30802 [3:48:50<68:12:22,  8.65s/it]\u001b[A\n",
      "  8%|▊         | 2424/30802 [3:48:54<58:50:49,  7.47s/it]\u001b[A\n",
      "  8%|▊         | 2425/30802 [3:49:02<60:05:43,  7.62s/it]\u001b[A\n",
      "  8%|▊         | 2426/30802 [3:49:07<54:02:35,  6.86s/it]\u001b[A"
     ]
    },
    {
     "name": "stdout",
     "output_type": "stream",
     "text": [
      "Epoch 0, Batch 2425, loss 372037312.0\n"
     ]
    },
    {
     "name": "stderr",
     "output_type": "stream",
     "text": [
      "\n",
      "  8%|▊         | 2427/30802 [3:49:13<51:14:13,  6.50s/it]\u001b[A\n",
      "  8%|▊         | 2428/30802 [3:49:18<48:19:03,  6.13s/it]\u001b[A\n",
      "  8%|▊         | 2429/30802 [3:49:23<45:37:24,  5.79s/it]\u001b[A\n",
      "  8%|▊         | 2430/30802 [3:49:29<44:12:43,  5.61s/it]\u001b[A\n",
      "  8%|▊         | 2431/30802 [3:49:33<42:34:12,  5.40s/it]\u001b[A"
     ]
    },
    {
     "name": "stdout",
     "output_type": "stream",
     "text": [
      "Epoch 0, Batch 2430, loss 540132672.0\n"
     ]
    },
    {
     "name": "stderr",
     "output_type": "stream",
     "text": [
      "\n",
      "  8%|▊         | 2432/30802 [3:49:38<41:34:22,  5.28s/it]\u001b[A\n",
      "  8%|▊         | 2433/30802 [3:49:43<41:05:11,  5.21s/it]\u001b[A\n",
      "  8%|▊         | 2434/30802 [3:49:49<41:43:16,  5.29s/it]\u001b[A\n",
      "  8%|▊         | 2435/30802 [3:49:54<42:01:05,  5.33s/it]\u001b[A\n",
      "  8%|▊         | 2436/30802 [3:50:00<41:32:50,  5.27s/it]\u001b[A"
     ]
    },
    {
     "name": "stdout",
     "output_type": "stream",
     "text": [
      "Epoch 0, Batch 2435, loss 159745664.0\n"
     ]
    },
    {
     "name": "stderr",
     "output_type": "stream",
     "text": [
      "\n",
      "  8%|▊         | 2437/30802 [3:50:05<41:16:27,  5.24s/it]\u001b[A\n",
      "  8%|▊         | 2438/30802 [3:50:10<41:17:29,  5.24s/it]\u001b[A\n",
      "  8%|▊         | 2439/30802 [3:50:15<41:43:29,  5.30s/it]\u001b[A\n",
      "  8%|▊         | 2440/30802 [3:50:21<42:38:49,  5.41s/it]\u001b[A\n",
      "  8%|▊         | 2441/30802 [3:50:26<41:53:45,  5.32s/it]\u001b[A"
     ]
    },
    {
     "name": "stdout",
     "output_type": "stream",
     "text": [
      "Epoch 0, Batch 2440, loss 347054560.0\n"
     ]
    },
    {
     "name": "stderr",
     "output_type": "stream",
     "text": [
      "\n",
      "  8%|▊         | 2442/30802 [3:50:31<41:26:03,  5.26s/it]\u001b[A\n",
      "  8%|▊         | 2443/30802 [3:50:36<40:59:34,  5.20s/it]\u001b[A\n",
      "  8%|▊         | 2444/30802 [3:50:41<40:46:11,  5.18s/it]\u001b[A\n",
      "  8%|▊         | 2445/30802 [3:50:46<40:29:13,  5.14s/it]\u001b[A\n",
      "  8%|▊         | 2446/30802 [3:50:52<41:02:21,  5.21s/it]\u001b[A"
     ]
    },
    {
     "name": "stdout",
     "output_type": "stream",
     "text": [
      "Epoch 0, Batch 2445, loss 190278256.0\n"
     ]
    },
    {
     "name": "stderr",
     "output_type": "stream",
     "text": [
      "\n",
      "  8%|▊         | 2447/30802 [3:50:57<41:22:53,  5.25s/it]\u001b[A\n",
      "  8%|▊         | 2448/30802 [3:51:02<41:15:20,  5.24s/it]\u001b[A\n",
      "  8%|▊         | 2449/30802 [3:51:08<41:48:13,  5.31s/it]\u001b[A\n",
      "  8%|▊         | 2450/30802 [3:51:14<43:38:22,  5.54s/it]\u001b[A\n",
      "  8%|▊         | 2451/30802 [3:51:20<43:37:27,  5.54s/it]\u001b[A"
     ]
    },
    {
     "name": "stdout",
     "output_type": "stream",
     "text": [
      "Epoch 0, Batch 2450, loss 227979120.0\n"
     ]
    },
    {
     "name": "stderr",
     "output_type": "stream",
     "text": [
      "\n",
      "  8%|▊         | 2452/30802 [3:51:25<43:22:37,  5.51s/it]\u001b[A\n",
      "  8%|▊         | 2453/30802 [3:51:30<43:08:12,  5.48s/it]\u001b[A\n",
      "  8%|▊         | 2454/30802 [3:51:36<43:11:48,  5.49s/it]\u001b[A\n",
      "  8%|▊         | 2455/30802 [3:51:42<44:03:38,  5.60s/it]\u001b[A\n",
      "  8%|▊         | 2456/30802 [3:51:47<43:34:27,  5.53s/it]\u001b[A"
     ]
    },
    {
     "name": "stdout",
     "output_type": "stream",
     "text": [
      "Epoch 0, Batch 2455, loss 1091191552.0\n"
     ]
    },
    {
     "name": "stderr",
     "output_type": "stream",
     "text": [
      "\n",
      "  8%|▊         | 2457/30802 [3:51:53<43:49:22,  5.57s/it]\u001b[A\n",
      "  8%|▊         | 2458/30802 [3:51:58<43:34:51,  5.54s/it]\u001b[A\n",
      "  8%|▊         | 2459/30802 [3:52:04<43:48:35,  5.56s/it]\u001b[A\n",
      "  8%|▊         | 2460/30802 [3:52:09<43:23:49,  5.51s/it]\u001b[A\n",
      "  8%|▊         | 2461/30802 [3:52:15<44:18:47,  5.63s/it]\u001b[A"
     ]
    },
    {
     "name": "stdout",
     "output_type": "stream",
     "text": [
      "Epoch 0, Batch 2460, loss 472497824.0\n"
     ]
    },
    {
     "name": "stderr",
     "output_type": "stream",
     "text": [
      "\n",
      "  8%|▊         | 2462/30802 [3:52:21<44:11:57,  5.61s/it]\u001b[A\n",
      "  8%|▊         | 2463/30802 [3:52:26<43:32:59,  5.53s/it]\u001b[A\n",
      "  8%|▊         | 2464/30802 [3:52:31<42:48:25,  5.44s/it]\u001b[A\n",
      "  8%|▊         | 2465/30802 [3:52:36<42:17:11,  5.37s/it]\u001b[A\n",
      "  8%|▊         | 2466/30802 [3:52:42<41:27:24,  5.27s/it]\u001b[A"
     ]
    },
    {
     "name": "stdout",
     "output_type": "stream",
     "text": [
      "Epoch 0, Batch 2465, loss 661854848.0\n"
     ]
    },
    {
     "name": "stderr",
     "output_type": "stream",
     "text": [
      "\n",
      "  8%|▊         | 2467/30802 [3:52:47<41:26:27,  5.27s/it]\u001b[A\n",
      "  8%|▊         | 2468/30802 [3:52:52<41:19:25,  5.25s/it]\u001b[A\n",
      "  8%|▊         | 2469/30802 [3:52:57<41:20:03,  5.25s/it]\u001b[A\n",
      "  8%|▊         | 2470/30802 [3:53:03<42:23:02,  5.39s/it]\u001b[A\n",
      "  8%|▊         | 2471/30802 [3:53:08<42:25:07,  5.39s/it]\u001b[A"
     ]
    },
    {
     "name": "stdout",
     "output_type": "stream",
     "text": [
      "Epoch 0, Batch 2470, loss 363423808.0\n"
     ]
    },
    {
     "name": "stderr",
     "output_type": "stream",
     "text": [
      "\n",
      "  8%|▊         | 2472/30802 [3:53:14<42:31:03,  5.40s/it]\u001b[A\n",
      "  8%|▊         | 2473/30802 [3:53:19<42:10:08,  5.36s/it]\u001b[A\n",
      "  8%|▊         | 2474/30802 [3:53:24<41:46:27,  5.31s/it]\u001b[A\n",
      "  8%|▊         | 2475/30802 [3:53:30<42:00:45,  5.34s/it]\u001b[A\n",
      "  8%|▊         | 2476/30802 [3:53:35<41:16:06,  5.24s/it]\u001b[A"
     ]
    },
    {
     "name": "stdout",
     "output_type": "stream",
     "text": [
      "Epoch 0, Batch 2475, loss 302126848.0\n"
     ]
    },
    {
     "name": "stderr",
     "output_type": "stream",
     "text": [
      "\n",
      "  8%|▊         | 2477/30802 [3:53:40<41:11:46,  5.24s/it]\u001b[A\n",
      "  8%|▊         | 2478/30802 [3:53:45<40:37:22,  5.16s/it]\u001b[A\n",
      "  8%|▊         | 2479/30802 [3:53:50<40:50:08,  5.19s/it]\u001b[A\n",
      "  8%|▊         | 2480/30802 [3:53:55<40:30:07,  5.15s/it]\u001b[A\n",
      "  8%|▊         | 2481/30802 [3:54:00<40:47:18,  5.18s/it]\u001b[A"
     ]
    },
    {
     "name": "stdout",
     "output_type": "stream",
     "text": [
      "Epoch 0, Batch 2480, loss 573254912.0\n"
     ]
    },
    {
     "name": "stderr",
     "output_type": "stream",
     "text": [
      "\n",
      "  8%|▊         | 2482/30802 [3:54:06<40:56:39,  5.20s/it]\u001b[A\n",
      "  8%|▊         | 2483/30802 [3:54:11<40:35:47,  5.16s/it]\u001b[A\n",
      "  8%|▊         | 2484/30802 [3:54:16<40:57:53,  5.21s/it]\u001b[A\n",
      "  8%|▊         | 2485/30802 [3:54:21<40:49:10,  5.19s/it]\u001b[A\n",
      "  8%|▊         | 2486/30802 [3:54:26<40:34:01,  5.16s/it]\u001b[A"
     ]
    },
    {
     "name": "stdout",
     "output_type": "stream",
     "text": [
      "Epoch 0, Batch 2485, loss 549295424.0\n"
     ]
    },
    {
     "name": "stderr",
     "output_type": "stream",
     "text": [
      "\n",
      "  8%|▊         | 2487/30802 [3:54:31<40:25:05,  5.14s/it]\u001b[A\n",
      "  8%|▊         | 2488/30802 [3:54:37<40:33:31,  5.16s/it]\u001b[A\n",
      "  8%|▊         | 2489/30802 [3:54:42<40:56:24,  5.21s/it]\u001b[A\n",
      "  8%|▊         | 2490/30802 [3:54:47<41:17:07,  5.25s/it]\u001b[A\n",
      "  8%|▊         | 2491/30802 [3:54:53<41:40:59,  5.30s/it]\u001b[A"
     ]
    },
    {
     "name": "stdout",
     "output_type": "stream",
     "text": [
      "Epoch 0, Batch 2490, loss 320908256.0\n"
     ]
    },
    {
     "name": "stderr",
     "output_type": "stream",
     "text": [
      "\n",
      "  8%|▊         | 2492/30802 [3:54:58<41:46:19,  5.31s/it]\u001b[A\n",
      "  8%|▊         | 2493/30802 [3:55:03<41:25:55,  5.27s/it]\u001b[A\n",
      "  8%|▊         | 2494/30802 [3:55:09<41:42:43,  5.30s/it]\u001b[A\n",
      "  8%|▊         | 2495/30802 [3:55:14<41:42:49,  5.31s/it]\u001b[A\n",
      "  8%|▊         | 2496/30802 [3:55:19<41:47:53,  5.32s/it]\u001b[A"
     ]
    },
    {
     "name": "stdout",
     "output_type": "stream",
     "text": [
      "Epoch 0, Batch 2495, loss 311657760.0\n"
     ]
    },
    {
     "name": "stderr",
     "output_type": "stream",
     "text": [
      "\n",
      "  8%|▊         | 2497/30802 [3:55:24<41:22:40,  5.26s/it]\u001b[A\n",
      "  8%|▊         | 2498/30802 [3:55:30<41:21:38,  5.26s/it]\u001b[A\n",
      "  8%|▊         | 2499/30802 [3:55:35<41:36:27,  5.29s/it]\u001b[A\n",
      "  8%|▊         | 2500/30802 [3:55:40<41:06:20,  5.23s/it]\u001b[A\n",
      "  8%|▊         | 2501/30802 [3:55:45<41:00:28,  5.22s/it]\u001b[A"
     ]
    },
    {
     "name": "stdout",
     "output_type": "stream",
     "text": [
      "Epoch 0, Batch 2500, loss 34869632.0\n"
     ]
    },
    {
     "name": "stderr",
     "output_type": "stream",
     "text": [
      "\n",
      "  8%|▊         | 2502/30802 [3:55:51<41:05:42,  5.23s/it]\u001b[A\n",
      "  8%|▊         | 2503/30802 [3:55:56<40:46:56,  5.19s/it]\u001b[A\n",
      "  8%|▊         | 2504/30802 [3:56:01<40:51:07,  5.20s/it]\u001b[A\n",
      "  8%|▊         | 2505/30802 [3:56:06<41:06:43,  5.23s/it]\u001b[A\n",
      "  8%|▊         | 2506/30802 [3:56:12<41:47:09,  5.32s/it]\u001b[A"
     ]
    },
    {
     "name": "stdout",
     "output_type": "stream",
     "text": [
      "Epoch 0, Batch 2505, loss 107193384.0\n"
     ]
    },
    {
     "name": "stderr",
     "output_type": "stream",
     "text": [
      "\n",
      "  8%|▊         | 2507/30802 [3:56:17<41:36:52,  5.29s/it]\u001b[A\n",
      "  8%|▊         | 2508/30802 [3:56:22<41:20:54,  5.26s/it]\u001b[A\n",
      "  8%|▊         | 2509/30802 [3:56:27<41:14:24,  5.25s/it]\u001b[A\n",
      "  8%|▊         | 2510/30802 [3:56:33<41:22:59,  5.27s/it]\u001b[A\n",
      "  8%|▊         | 2511/30802 [3:56:38<41:15:26,  5.25s/it]\u001b[A"
     ]
    },
    {
     "name": "stdout",
     "output_type": "stream",
     "text": [
      "Epoch 0, Batch 2510, loss 366515072.0\n"
     ]
    },
    {
     "name": "stderr",
     "output_type": "stream",
     "text": [
      "\n",
      "  8%|▊         | 2512/30802 [3:56:43<41:57:02,  5.34s/it]\u001b[A\n",
      "  8%|▊         | 2513/30802 [3:56:49<41:56:20,  5.34s/it]\u001b[A\n",
      "  8%|▊         | 2514/30802 [3:56:54<41:37:03,  5.30s/it]\u001b[A\n",
      "  8%|▊         | 2515/30802 [3:56:59<40:43:20,  5.18s/it]\u001b[A\n",
      "  8%|▊         | 2516/30802 [3:57:04<40:32:43,  5.16s/it]\u001b[A"
     ]
    },
    {
     "name": "stdout",
     "output_type": "stream",
     "text": [
      "Epoch 0, Batch 2515, loss 284629952.0\n"
     ]
    },
    {
     "name": "stderr",
     "output_type": "stream",
     "text": [
      "\n",
      "  8%|▊         | 2517/30802 [3:57:09<40:17:35,  5.13s/it]\u001b[A\n",
      "  8%|▊         | 2518/30802 [3:57:14<40:12:27,  5.12s/it]\u001b[A\n",
      "  8%|▊         | 2519/30802 [3:57:19<40:50:11,  5.20s/it]\u001b[A\n",
      "  8%|▊         | 2520/30802 [3:57:25<40:32:36,  5.16s/it]\u001b[A\n",
      "  8%|▊         | 2521/30802 [3:57:30<41:10:27,  5.24s/it]\u001b[A"
     ]
    },
    {
     "name": "stdout",
     "output_type": "stream",
     "text": [
      "Epoch 0, Batch 2520, loss 482102912.0\n"
     ]
    },
    {
     "name": "stderr",
     "output_type": "stream",
     "text": [
      "\n",
      "  8%|▊         | 2522/30802 [3:57:35<40:54:07,  5.21s/it]\u001b[A\n",
      "  8%|▊         | 2523/30802 [3:57:40<40:40:05,  5.18s/it]\u001b[A\n",
      "  8%|▊         | 2524/30802 [3:57:45<40:46:09,  5.19s/it]\u001b[A\n",
      "  8%|▊         | 2525/30802 [3:57:51<40:40:07,  5.18s/it]\u001b[A\n",
      "  8%|▊         | 2526/30802 [3:57:56<40:54:28,  5.21s/it]\u001b[A"
     ]
    },
    {
     "name": "stdout",
     "output_type": "stream",
     "text": [
      "Epoch 0, Batch 2525, loss 517846976.0\n"
     ]
    },
    {
     "name": "stderr",
     "output_type": "stream",
     "text": [
      "\n",
      "  8%|▊         | 2527/30802 [3:58:01<41:05:51,  5.23s/it]\u001b[A\n",
      "  8%|▊         | 2528/30802 [3:58:07<41:35:36,  5.30s/it]\u001b[A\n",
      "  8%|▊         | 2529/30802 [3:58:12<41:06:09,  5.23s/it]\u001b[A\n",
      "  8%|▊         | 2530/30802 [3:58:17<40:45:56,  5.19s/it]\u001b[A\n",
      "  8%|▊         | 2531/30802 [3:58:22<40:39:58,  5.18s/it]\u001b[A"
     ]
    },
    {
     "name": "stdout",
     "output_type": "stream",
     "text": [
      "Epoch 0, Batch 2530, loss 132765576.0\n"
     ]
    },
    {
     "name": "stderr",
     "output_type": "stream",
     "text": [
      "\n",
      "  8%|▊         | 2532/30802 [3:58:27<40:41:43,  5.18s/it]\u001b[A\n",
      "  8%|▊         | 2533/30802 [3:58:32<40:10:16,  5.12s/it]\u001b[A\n",
      "  8%|▊         | 2534/30802 [3:58:37<40:06:56,  5.11s/it]\u001b[A\n",
      "  8%|▊         | 2535/30802 [3:58:42<40:10:37,  5.12s/it]\u001b[A\n",
      "  8%|▊         | 2536/30802 [3:58:47<40:13:21,  5.12s/it]\u001b[A"
     ]
    },
    {
     "name": "stdout",
     "output_type": "stream",
     "text": [
      "Epoch 0, Batch 2535, loss 258797184.0\n"
     ]
    },
    {
     "name": "stderr",
     "output_type": "stream",
     "text": [
      "\n",
      "  8%|▊         | 2537/30802 [3:58:53<40:22:05,  5.14s/it]\u001b[A\n",
      "  8%|▊         | 2538/30802 [3:58:58<40:42:54,  5.19s/it]\u001b[A\n",
      "  8%|▊         | 2539/30802 [3:59:03<40:55:24,  5.21s/it]\u001b[A\n",
      "  8%|▊         | 2540/30802 [3:59:09<41:21:08,  5.27s/it]\u001b[A\n",
      "  8%|▊         | 2541/30802 [3:59:14<41:31:14,  5.29s/it]\u001b[A"
     ]
    },
    {
     "name": "stdout",
     "output_type": "stream",
     "text": [
      "Epoch 0, Batch 2540, loss 586854784.0\n"
     ]
    },
    {
     "name": "stderr",
     "output_type": "stream",
     "text": [
      "\n",
      "  8%|▊         | 2542/30802 [3:59:20<42:35:56,  5.43s/it]\u001b[A\n",
      "  8%|▊         | 2543/30802 [3:59:25<42:51:07,  5.46s/it]\u001b[A\n",
      "  8%|▊         | 2544/30802 [3:59:31<42:48:30,  5.45s/it]\u001b[A\n",
      "  8%|▊         | 2545/30802 [3:59:36<42:15:05,  5.38s/it]\u001b[A\n",
      "  8%|▊         | 2546/30802 [3:59:41<41:48:48,  5.33s/it]\u001b[A"
     ]
    },
    {
     "name": "stdout",
     "output_type": "stream",
     "text": [
      "Epoch 0, Batch 2545, loss 87704072.0\n"
     ]
    },
    {
     "name": "stderr",
     "output_type": "stream",
     "text": [
      "\n",
      "  8%|▊         | 2547/30802 [3:59:47<42:41:04,  5.44s/it]\u001b[A\n",
      "  8%|▊         | 2548/30802 [3:59:52<42:24:20,  5.40s/it]\u001b[A\n",
      "  8%|▊         | 2549/30802 [3:59:57<42:06:26,  5.37s/it]\u001b[A\n",
      "  8%|▊         | 2550/30802 [4:00:03<41:58:20,  5.35s/it]\u001b[A\n",
      "  8%|▊         | 2551/30802 [4:00:08<40:58:54,  5.22s/it]\u001b[A"
     ]
    },
    {
     "name": "stdout",
     "output_type": "stream",
     "text": [
      "Epoch 0, Batch 2550, loss 689520512.0\n"
     ]
    },
    {
     "name": "stderr",
     "output_type": "stream",
     "text": [
      "\n",
      "  8%|▊         | 2552/30802 [4:00:13<40:21:29,  5.14s/it]\u001b[A\n",
      "  8%|▊         | 2553/30802 [4:00:18<40:15:37,  5.13s/it]\u001b[A\n",
      "  8%|▊         | 2554/30802 [4:00:23<41:07:03,  5.24s/it]\u001b[A\n",
      "  8%|▊         | 2555/30802 [4:00:28<41:13:53,  5.25s/it]\u001b[A\n",
      "  8%|▊         | 2556/30802 [4:00:34<42:07:50,  5.37s/it]\u001b[A"
     ]
    },
    {
     "name": "stdout",
     "output_type": "stream",
     "text": [
      "Epoch 0, Batch 2555, loss 89841968.0\n"
     ]
    },
    {
     "name": "stderr",
     "output_type": "stream",
     "text": [
      "\n",
      "  8%|▊         | 2557/30802 [4:00:39<41:44:44,  5.32s/it]\u001b[A\n",
      "  8%|▊         | 2558/30802 [4:00:45<42:25:51,  5.41s/it]\u001b[A\n",
      "  8%|▊         | 2559/30802 [4:00:50<42:39:45,  5.44s/it]\u001b[A\n",
      "  8%|▊         | 2560/30802 [4:00:56<43:16:17,  5.52s/it]\u001b[A\n",
      "  8%|▊         | 2561/30802 [4:01:01<42:48:41,  5.46s/it]\u001b[A"
     ]
    },
    {
     "name": "stdout",
     "output_type": "stream",
     "text": [
      "Epoch 0, Batch 2560, loss 528573024.0\n"
     ]
    },
    {
     "name": "stderr",
     "output_type": "stream",
     "text": [
      "\n",
      "  8%|▊         | 2562/30802 [4:01:07<42:38:02,  5.43s/it]\u001b[A\n",
      "  8%|▊         | 2563/30802 [4:01:12<42:17:18,  5.39s/it]\u001b[A\n",
      "  8%|▊         | 2564/30802 [4:01:17<41:29:13,  5.29s/it]\u001b[A\n",
      "  8%|▊         | 2565/30802 [4:01:22<41:03:00,  5.23s/it]\u001b[A\n",
      "  8%|▊         | 2566/30802 [4:01:27<41:00:22,  5.23s/it]\u001b[A"
     ]
    },
    {
     "name": "stdout",
     "output_type": "stream",
     "text": [
      "Epoch 0, Batch 2565, loss 355728288.0\n"
     ]
    },
    {
     "name": "stderr",
     "output_type": "stream",
     "text": [
      "\n",
      "  8%|▊         | 2567/30802 [4:01:33<40:39:31,  5.18s/it]\u001b[A\n",
      "  8%|▊         | 2568/30802 [4:01:38<40:29:24,  5.16s/it]\u001b[A\n",
      "  8%|▊         | 2569/30802 [4:01:43<40:48:51,  5.20s/it]\u001b[A\n",
      "  8%|▊         | 2570/30802 [4:01:48<41:26:39,  5.28s/it]\u001b[A\n",
      "  8%|▊         | 2571/30802 [4:01:54<41:34:03,  5.30s/it]\u001b[A"
     ]
    },
    {
     "name": "stdout",
     "output_type": "stream",
     "text": [
      "Epoch 0, Batch 2570, loss 186813936.0\n"
     ]
    },
    {
     "name": "stderr",
     "output_type": "stream",
     "text": [
      "\n",
      "  8%|▊         | 2572/30802 [4:01:59<40:59:17,  5.23s/it]\u001b[A\n",
      "  8%|▊         | 2573/30802 [4:02:04<41:21:16,  5.27s/it]\u001b[A\n",
      "  8%|▊         | 2574/30802 [4:02:09<41:18:29,  5.27s/it]\u001b[A\n",
      "  8%|▊         | 2575/30802 [4:02:15<41:08:24,  5.25s/it]\u001b[A\n",
      "  8%|▊         | 2576/30802 [4:02:20<40:35:21,  5.18s/it]\u001b[A"
     ]
    },
    {
     "name": "stdout",
     "output_type": "stream",
     "text": [
      "Epoch 0, Batch 2575, loss 294646208.0\n"
     ]
    },
    {
     "name": "stderr",
     "output_type": "stream",
     "text": [
      "\n",
      "  8%|▊         | 2577/30802 [4:02:25<40:33:24,  5.17s/it]\u001b[A\n",
      "  8%|▊         | 2578/30802 [4:02:30<40:53:22,  5.22s/it]\u001b[A\n",
      "  8%|▊         | 2579/30802 [4:02:35<40:51:08,  5.21s/it]\u001b[A\n",
      "  8%|▊         | 2580/30802 [4:02:40<40:44:38,  5.20s/it]\u001b[A\n",
      "  8%|▊         | 2581/30802 [4:02:46<40:46:47,  5.20s/it]\u001b[A"
     ]
    },
    {
     "name": "stdout",
     "output_type": "stream",
     "text": [
      "Epoch 0, Batch 2580, loss 33652396.0\n"
     ]
    },
    {
     "name": "stderr",
     "output_type": "stream",
     "text": [
      "\n",
      "  8%|▊         | 2582/30802 [4:02:51<40:46:41,  5.20s/it]\u001b[A\n",
      "  8%|▊         | 2583/30802 [4:02:56<41:05:10,  5.24s/it]\u001b[A\n",
      "  8%|▊         | 2584/30802 [4:03:02<41:07:48,  5.25s/it]\u001b[A\n",
      "  8%|▊         | 2585/30802 [4:03:07<41:15:05,  5.26s/it]\u001b[A\n",
      "  8%|▊         | 2586/30802 [4:03:12<41:45:27,  5.33s/it]\u001b[A"
     ]
    },
    {
     "name": "stdout",
     "output_type": "stream",
     "text": [
      "Epoch 0, Batch 2585, loss 583019712.0\n"
     ]
    },
    {
     "name": "stderr",
     "output_type": "stream",
     "text": [
      "\n",
      "  8%|▊         | 2587/30802 [4:03:18<41:46:47,  5.33s/it]\u001b[A\n",
      "  8%|▊         | 2588/30802 [4:03:24<43:10:40,  5.51s/it]\u001b[A\n",
      "  8%|▊         | 2589/30802 [4:03:29<44:00:20,  5.62s/it]\u001b[A\n",
      "  8%|▊         | 2590/30802 [4:03:35<43:21:59,  5.53s/it]\u001b[A\n",
      "  8%|▊         | 2591/30802 [4:03:40<43:09:18,  5.51s/it]\u001b[A"
     ]
    },
    {
     "name": "stdout",
     "output_type": "stream",
     "text": [
      "Epoch 0, Batch 2590, loss 543622720.0\n"
     ]
    },
    {
     "name": "stderr",
     "output_type": "stream",
     "text": [
      "\n",
      "  8%|▊         | 2592/30802 [4:03:45<42:24:36,  5.41s/it]\u001b[A\n",
      "  8%|▊         | 2593/30802 [4:03:50<41:09:06,  5.25s/it]\u001b[A\n",
      "  8%|▊         | 2594/30802 [4:03:55<40:35:45,  5.18s/it]\u001b[A\n",
      "  8%|▊         | 2595/30802 [4:04:00<40:37:08,  5.18s/it]\u001b[A\n",
      "  8%|▊         | 2596/30802 [4:04:06<40:41:04,  5.19s/it]\u001b[A"
     ]
    },
    {
     "name": "stdout",
     "output_type": "stream",
     "text": [
      "Epoch 0, Batch 2595, loss 416257440.0\n"
     ]
    },
    {
     "name": "stderr",
     "output_type": "stream",
     "text": [
      "\n",
      "  8%|▊         | 2597/30802 [4:04:11<40:51:12,  5.21s/it]\u001b[A\n",
      "  8%|▊         | 2598/30802 [4:04:16<40:47:44,  5.21s/it]\u001b[A\n",
      "  8%|▊         | 2599/30802 [4:04:21<40:45:47,  5.20s/it]\u001b[A\n",
      "  8%|▊         | 2600/30802 [4:04:27<41:19:01,  5.27s/it]\u001b[A\n",
      "  8%|▊         | 2601/30802 [4:04:32<41:22:35,  5.28s/it]\u001b[A"
     ]
    },
    {
     "name": "stdout",
     "output_type": "stream",
     "text": [
      "Epoch 0, Batch 2600, loss 389282784.0\n"
     ]
    },
    {
     "name": "stderr",
     "output_type": "stream",
     "text": [
      "\n",
      "  8%|▊         | 2602/30802 [4:04:38<41:45:43,  5.33s/it]\u001b[A\n",
      "  8%|▊         | 2603/30802 [4:04:43<41:45:02,  5.33s/it]\u001b[A\n",
      "  8%|▊         | 2604/30802 [4:04:48<41:41:46,  5.32s/it]\u001b[A\n",
      "  8%|▊         | 2605/30802 [4:04:53<41:06:23,  5.25s/it]\u001b[A\n",
      "  8%|▊         | 2606/30802 [4:04:58<40:29:00,  5.17s/it]\u001b[A"
     ]
    },
    {
     "name": "stdout",
     "output_type": "stream",
     "text": [
      "Epoch 0, Batch 2605, loss 472951360.0\n"
     ]
    },
    {
     "name": "stderr",
     "output_type": "stream",
     "text": [
      "\n",
      "  8%|▊         | 2607/30802 [4:05:03<40:41:56,  5.20s/it]\u001b[A\n",
      "  8%|▊         | 2608/30802 [4:05:08<40:07:09,  5.12s/it]\u001b[A\n",
      "  8%|▊         | 2609/30802 [4:05:14<40:04:13,  5.12s/it]\u001b[A\n",
      "  8%|▊         | 2610/30802 [4:05:19<40:20:32,  5.15s/it]\u001b[A\n",
      "  8%|▊         | 2611/30802 [4:05:24<41:27:25,  5.29s/it]\u001b[A"
     ]
    },
    {
     "name": "stdout",
     "output_type": "stream",
     "text": [
      "Epoch 0, Batch 2610, loss 466178720.0\n"
     ]
    },
    {
     "name": "stderr",
     "output_type": "stream",
     "text": [
      "\n",
      "  8%|▊         | 2612/30802 [4:05:30<41:53:07,  5.35s/it]\u001b[A\n",
      "  8%|▊         | 2613/30802 [4:05:35<41:24:00,  5.29s/it]\u001b[A\n",
      "  8%|▊         | 2614/30802 [4:05:40<40:33:05,  5.18s/it]\u001b[A\n",
      "  8%|▊         | 2615/30802 [4:05:45<39:56:25,  5.10s/it]\u001b[A\n",
      "  8%|▊         | 2616/30802 [4:05:50<39:57:34,  5.10s/it]\u001b[A"
     ]
    },
    {
     "name": "stdout",
     "output_type": "stream",
     "text": [
      "Epoch 0, Batch 2615, loss 475920224.0\n"
     ]
    },
    {
     "name": "stderr",
     "output_type": "stream",
     "text": [
      "\n",
      "  8%|▊         | 2617/30802 [4:05:55<40:09:26,  5.13s/it]\u001b[A\n",
      "  8%|▊         | 2618/30802 [4:06:00<40:03:56,  5.12s/it]\u001b[A\n",
      "  9%|▊         | 2619/30802 [4:06:06<40:37:26,  5.19s/it]\u001b[A\n",
      "  9%|▊         | 2620/30802 [4:06:11<41:05:22,  5.25s/it]\u001b[A\n",
      "  9%|▊         | 2621/30802 [4:06:16<41:36:30,  5.32s/it]\u001b[A"
     ]
    },
    {
     "name": "stdout",
     "output_type": "stream",
     "text": [
      "Epoch 0, Batch 2620, loss 380368320.0\n"
     ]
    },
    {
     "name": "stderr",
     "output_type": "stream",
     "text": [
      "\n",
      "  9%|▊         | 2622/30802 [4:06:22<41:37:52,  5.32s/it]\u001b[A\n",
      "  9%|▊         | 2623/30802 [4:06:27<42:04:02,  5.37s/it]\u001b[A\n",
      "  9%|▊         | 2624/30802 [4:06:33<42:31:48,  5.43s/it]\u001b[A\n",
      "  9%|▊         | 2625/30802 [4:06:39<43:11:49,  5.52s/it]\u001b[A\n",
      "  9%|▊         | 2626/30802 [4:06:44<42:12:27,  5.39s/it]\u001b[A"
     ]
    },
    {
     "name": "stdout",
     "output_type": "stream",
     "text": [
      "Epoch 0, Batch 2625, loss 507968384.0\n"
     ]
    },
    {
     "name": "stderr",
     "output_type": "stream",
     "text": [
      "\n",
      "  9%|▊         | 2627/30802 [4:06:49<41:16:33,  5.27s/it]\u001b[A\n",
      "  9%|▊         | 2628/30802 [4:06:54<40:34:52,  5.19s/it]\u001b[A\n",
      "  9%|▊         | 2629/30802 [4:06:59<41:15:40,  5.27s/it]\u001b[A\n",
      "  9%|▊         | 2630/30802 [4:07:04<41:08:24,  5.26s/it]\u001b[A\n",
      "  9%|▊         | 2631/30802 [4:07:09<40:47:48,  5.21s/it]\u001b[A"
     ]
    },
    {
     "name": "stdout",
     "output_type": "stream",
     "text": [
      "Epoch 0, Batch 2630, loss 203218704.0\n"
     ]
    },
    {
     "name": "stderr",
     "output_type": "stream",
     "text": [
      "\n",
      "  9%|▊         | 2632/30802 [4:07:15<40:40:56,  5.20s/it]\u001b[A\n",
      "  9%|▊         | 2633/30802 [4:07:20<40:34:49,  5.19s/it]\u001b[A\n",
      "  9%|▊         | 2634/30802 [4:07:25<40:36:34,  5.19s/it]\u001b[A\n",
      "  9%|▊         | 2635/30802 [4:07:30<40:37:01,  5.19s/it]\u001b[A\n",
      "  9%|▊         | 2636/30802 [4:07:35<40:26:10,  5.17s/it]\u001b[A"
     ]
    },
    {
     "name": "stdout",
     "output_type": "stream",
     "text": [
      "Epoch 0, Batch 2635, loss 505403104.0\n"
     ]
    },
    {
     "name": "stderr",
     "output_type": "stream",
     "text": [
      "\n",
      "  9%|▊         | 2637/30802 [4:07:40<40:14:02,  5.14s/it]\u001b[A\n",
      "  9%|▊         | 2638/30802 [4:07:46<40:18:59,  5.15s/it]\u001b[A\n",
      "  9%|▊         | 2639/30802 [4:07:51<40:50:45,  5.22s/it]\u001b[A\n",
      "  9%|▊         | 2640/30802 [4:07:56<40:59:06,  5.24s/it]\u001b[A\n",
      "  9%|▊         | 2641/30802 [4:08:02<42:19:59,  5.41s/it]\u001b[A"
     ]
    },
    {
     "name": "stdout",
     "output_type": "stream",
     "text": [
      "Epoch 0, Batch 2640, loss 40960152.0\n"
     ]
    },
    {
     "name": "stderr",
     "output_type": "stream",
     "text": [
      "\n",
      "  9%|▊         | 2642/30802 [4:08:07<41:44:43,  5.34s/it]\u001b[A\n",
      "  9%|▊         | 2643/30802 [4:08:12<41:28:22,  5.30s/it]\u001b[A\n",
      "  9%|▊         | 2644/30802 [4:08:18<42:02:36,  5.38s/it]\u001b[A\n",
      "  9%|▊         | 2645/30802 [4:08:23<41:18:08,  5.28s/it]\u001b[A\n",
      "  9%|▊         | 2646/30802 [4:08:28<41:11:18,  5.27s/it]\u001b[A"
     ]
    },
    {
     "name": "stdout",
     "output_type": "stream",
     "text": [
      "Epoch 0, Batch 2645, loss 262191168.0\n"
     ]
    },
    {
     "name": "stderr",
     "output_type": "stream",
     "text": [
      "\n",
      "  9%|▊         | 2647/30802 [4:08:33<40:38:37,  5.20s/it]\u001b[A\n",
      "  9%|▊         | 2648/30802 [4:08:39<41:02:06,  5.25s/it]\u001b[A\n",
      "  9%|▊         | 2649/30802 [4:08:44<41:50:28,  5.35s/it]\u001b[A\n",
      "  9%|▊         | 2650/30802 [4:08:49<41:22:14,  5.29s/it]\u001b[A\n",
      "  9%|▊         | 2651/30802 [4:08:54<40:42:55,  5.21s/it]\u001b[A"
     ]
    },
    {
     "name": "stdout",
     "output_type": "stream",
     "text": [
      "Epoch 0, Batch 2650, loss 584356096.0\n"
     ]
    },
    {
     "name": "stderr",
     "output_type": "stream",
     "text": [
      "\n",
      "  9%|▊         | 2652/30802 [4:09:00<40:37:44,  5.20s/it]\u001b[A\n",
      "  9%|▊         | 2653/30802 [4:09:05<40:24:31,  5.17s/it]\u001b[A\n",
      "  9%|▊         | 2654/30802 [4:09:10<40:58:50,  5.24s/it]\u001b[A\n",
      "  9%|▊         | 2655/30802 [4:09:15<40:46:09,  5.21s/it]\u001b[A\n",
      "  9%|▊         | 2656/30802 [4:09:20<40:31:41,  5.18s/it]\u001b[A"
     ]
    },
    {
     "name": "stdout",
     "output_type": "stream",
     "text": [
      "Epoch 0, Batch 2655, loss 465528768.0\n"
     ]
    },
    {
     "name": "stderr",
     "output_type": "stream",
     "text": [
      "\n",
      "  9%|▊         | 2657/30802 [4:09:26<41:32:37,  5.31s/it]\u001b[A\n",
      "  9%|▊         | 2658/30802 [4:09:32<42:07:00,  5.39s/it]\u001b[A\n",
      "  9%|▊         | 2659/30802 [4:09:37<42:28:35,  5.43s/it]\u001b[A\n",
      "  9%|▊         | 2660/30802 [4:09:43<42:47:41,  5.47s/it]\u001b[A\n",
      "  9%|▊         | 2661/30802 [4:09:48<43:05:26,  5.51s/it]\u001b[A"
     ]
    },
    {
     "name": "stdout",
     "output_type": "stream",
     "text": [
      "Epoch 0, Batch 2660, loss 231670416.0\n"
     ]
    },
    {
     "name": "stderr",
     "output_type": "stream",
     "text": [
      "\n",
      "  9%|▊         | 2662/30802 [4:09:54<42:31:23,  5.44s/it]\u001b[A\n",
      "  9%|▊         | 2663/30802 [4:09:59<42:05:29,  5.39s/it]\u001b[A\n",
      "  9%|▊         | 2664/30802 [4:10:04<41:28:20,  5.31s/it]\u001b[A\n",
      "  9%|▊         | 2665/30802 [4:10:09<41:02:02,  5.25s/it]\u001b[A\n",
      "  9%|▊         | 2666/30802 [4:10:14<40:55:52,  5.24s/it]\u001b[A"
     ]
    },
    {
     "name": "stdout",
     "output_type": "stream",
     "text": [
      "Epoch 0, Batch 2665, loss 151611472.0\n"
     ]
    },
    {
     "name": "stderr",
     "output_type": "stream",
     "text": [
      "\n",
      "  9%|▊         | 2667/30802 [4:10:19<40:32:14,  5.19s/it]\u001b[A\n",
      "  9%|▊         | 2668/30802 [4:10:24<40:23:30,  5.17s/it]\u001b[A\n",
      "  9%|▊         | 2669/30802 [4:10:30<40:34:34,  5.19s/it]\u001b[A\n",
      "  9%|▊         | 2670/30802 [4:10:35<40:31:57,  5.19s/it]\u001b[A\n",
      "  9%|▊         | 2671/30802 [4:10:40<40:29:52,  5.18s/it]\u001b[A"
     ]
    },
    {
     "name": "stdout",
     "output_type": "stream",
     "text": [
      "Epoch 0, Batch 2670, loss 571453184.0\n"
     ]
    },
    {
     "name": "stderr",
     "output_type": "stream",
     "text": [
      "\n",
      "  9%|▊         | 2672/30802 [4:10:45<40:48:28,  5.22s/it]\u001b[A\n",
      "  9%|▊         | 2673/30802 [4:10:51<41:07:55,  5.26s/it]\u001b[A\n",
      "  9%|▊         | 2674/30802 [4:10:56<41:31:39,  5.31s/it]\u001b[A\n",
      "  9%|▊         | 2675/30802 [4:11:02<42:04:41,  5.39s/it]\u001b[A\n",
      "  9%|▊         | 2676/30802 [4:11:07<42:08:35,  5.39s/it]\u001b[A"
     ]
    },
    {
     "name": "stdout",
     "output_type": "stream",
     "text": [
      "Epoch 0, Batch 2675, loss 288304000.0\n"
     ]
    },
    {
     "name": "stderr",
     "output_type": "stream",
     "text": [
      "\n",
      "  9%|▊         | 2677/30802 [4:11:12<41:43:30,  5.34s/it]\u001b[A\n",
      "  9%|▊         | 2678/30802 [4:11:17<40:58:37,  5.25s/it]\u001b[A\n",
      "  9%|▊         | 2679/30802 [4:11:23<40:53:12,  5.23s/it]\u001b[A\n",
      "  9%|▊         | 2680/30802 [4:11:28<41:56:27,  5.37s/it]\u001b[A\n",
      "  9%|▊         | 2681/30802 [4:11:33<40:53:49,  5.24s/it]\u001b[A"
     ]
    },
    {
     "name": "stdout",
     "output_type": "stream",
     "text": [
      "Epoch 0, Batch 2680, loss 512937152.0\n"
     ]
    },
    {
     "name": "stderr",
     "output_type": "stream",
     "text": [
      "\n",
      "  9%|▊         | 2682/30802 [4:11:38<41:04:47,  5.26s/it]\u001b[A\n",
      "  9%|▊         | 2683/30802 [4:11:44<41:11:30,  5.27s/it]\u001b[A\n",
      "  9%|▊         | 2684/30802 [4:11:50<43:08:54,  5.52s/it]\u001b[A\n",
      "  9%|▊         | 2685/30802 [4:11:55<42:38:07,  5.46s/it]\u001b[A\n",
      "  9%|▊         | 2686/30802 [4:12:01<43:17:21,  5.54s/it]\u001b[A"
     ]
    },
    {
     "name": "stdout",
     "output_type": "stream",
     "text": [
      "Epoch 0, Batch 2685, loss 78550848.0\n"
     ]
    },
    {
     "name": "stderr",
     "output_type": "stream",
     "text": [
      "\n",
      "  9%|▊         | 2687/30802 [4:12:06<43:06:11,  5.52s/it]\u001b[A\n",
      "  9%|▊         | 2688/30802 [4:12:12<43:21:06,  5.55s/it]\u001b[A\n",
      "  9%|▊         | 2689/30802 [4:12:18<43:22:04,  5.55s/it]\u001b[A\n",
      "  9%|▊         | 2690/30802 [4:12:23<43:46:18,  5.61s/it]\u001b[A\n",
      "  9%|▊         | 2691/30802 [4:12:29<43:45:01,  5.60s/it]\u001b[A"
     ]
    },
    {
     "name": "stdout",
     "output_type": "stream",
     "text": [
      "Epoch 0, Batch 2690, loss 277061120.0\n"
     ]
    },
    {
     "name": "stderr",
     "output_type": "stream",
     "text": [
      "\n",
      "  9%|▊         | 2692/30802 [4:12:34<43:11:25,  5.53s/it]\u001b[A\n",
      "  9%|▊         | 2693/30802 [4:12:40<42:36:35,  5.46s/it]\u001b[A\n",
      "  9%|▊         | 2694/30802 [4:12:45<42:06:20,  5.39s/it]\u001b[A\n",
      "  9%|▊         | 2695/30802 [4:12:50<41:45:43,  5.35s/it]\u001b[A\n",
      "  9%|▉         | 2696/30802 [4:12:55<41:54:44,  5.37s/it]\u001b[A"
     ]
    },
    {
     "name": "stdout",
     "output_type": "stream",
     "text": [
      "Epoch 0, Batch 2695, loss 441465408.0\n"
     ]
    },
    {
     "name": "stderr",
     "output_type": "stream",
     "text": [
      "\n",
      "  9%|▉         | 2697/30802 [4:13:01<41:51:21,  5.36s/it]\u001b[A\n",
      "  9%|▉         | 2698/30802 [4:13:06<41:46:26,  5.35s/it]\u001b[A\n",
      "  9%|▉         | 2699/30802 [4:13:11<41:24:32,  5.30s/it]\u001b[A\n",
      "  9%|▉         | 2700/30802 [4:13:16<40:43:57,  5.22s/it]\u001b[A\n",
      "  9%|▉         | 2701/30802 [4:13:21<40:08:30,  5.14s/it]\u001b[A"
     ]
    },
    {
     "name": "stdout",
     "output_type": "stream",
     "text": [
      "Epoch 0, Batch 2700, loss 378473248.0\n"
     ]
    },
    {
     "name": "stderr",
     "output_type": "stream",
     "text": [
      "\n",
      "  9%|▉         | 2702/30802 [4:13:27<40:37:36,  5.20s/it]\u001b[A\n",
      "  9%|▉         | 2703/30802 [4:13:32<40:33:06,  5.20s/it]\u001b[A\n",
      "  9%|▉         | 2704/30802 [4:13:37<40:53:56,  5.24s/it]\u001b[A\n",
      "  9%|▉         | 2705/30802 [4:13:42<40:41:38,  5.21s/it]\u001b[A\n",
      "  9%|▉         | 2706/30802 [4:13:48<40:53:04,  5.24s/it]\u001b[A"
     ]
    },
    {
     "name": "stdout",
     "output_type": "stream",
     "text": [
      "Epoch 0, Batch 2705, loss 514232416.0\n"
     ]
    },
    {
     "name": "stderr",
     "output_type": "stream",
     "text": [
      "\n",
      "  9%|▉         | 2707/30802 [4:13:53<41:20:30,  5.30s/it]\u001b[A\n",
      "  9%|▉         | 2708/30802 [4:13:59<42:08:23,  5.40s/it]\u001b[A\n",
      "  9%|▉         | 2709/30802 [4:14:05<43:11:18,  5.53s/it]\u001b[A\n",
      "  9%|▉         | 2710/30802 [4:14:10<42:56:53,  5.50s/it]\u001b[A\n",
      "  9%|▉         | 2711/30802 [4:14:15<42:51:46,  5.49s/it]\u001b[A"
     ]
    },
    {
     "name": "stdout",
     "output_type": "stream",
     "text": [
      "Epoch 0, Batch 2710, loss 392783296.0\n"
     ]
    },
    {
     "name": "stderr",
     "output_type": "stream",
     "text": [
      "\n",
      "  9%|▉         | 2712/30802 [4:14:21<42:37:30,  5.46s/it]\u001b[A\n",
      "  9%|▉         | 2713/30802 [4:14:26<42:05:47,  5.40s/it]\u001b[A\n",
      "  9%|▉         | 2714/30802 [4:14:31<41:25:47,  5.31s/it]\u001b[A\n",
      "  9%|▉         | 2715/30802 [4:14:36<40:39:54,  5.21s/it]\u001b[A\n",
      "  9%|▉         | 2716/30802 [4:14:41<40:02:59,  5.13s/it]\u001b[A"
     ]
    },
    {
     "name": "stdout",
     "output_type": "stream",
     "text": [
      "Epoch 0, Batch 2715, loss 409817888.0\n"
     ]
    },
    {
     "name": "stderr",
     "output_type": "stream",
     "text": [
      "\n",
      "  9%|▉         | 2717/30802 [4:14:46<40:09:34,  5.15s/it]\u001b[A\n",
      "  9%|▉         | 2718/30802 [4:14:52<40:23:26,  5.18s/it]\u001b[A\n",
      "  9%|▉         | 2719/30802 [4:14:57<40:44:34,  5.22s/it]\u001b[A\n",
      "  9%|▉         | 2720/30802 [4:15:02<40:34:17,  5.20s/it]\u001b[A\n",
      "  9%|▉         | 2721/30802 [4:15:07<40:31:47,  5.20s/it]\u001b[A"
     ]
    },
    {
     "name": "stdout",
     "output_type": "stream",
     "text": [
      "Epoch 0, Batch 2720, loss 633235648.0\n"
     ]
    },
    {
     "name": "stderr",
     "output_type": "stream",
     "text": [
      "\n",
      "  9%|▉         | 2722/30802 [4:15:12<40:41:09,  5.22s/it]\u001b[A\n",
      "  9%|▉         | 2723/30802 [4:15:18<40:35:07,  5.20s/it]\u001b[A\n",
      "  9%|▉         | 2724/30802 [4:15:23<40:29:10,  5.19s/it]\u001b[A\n",
      "  9%|▉         | 2725/30802 [4:15:28<41:01:07,  5.26s/it]\u001b[A\n",
      "  9%|▉         | 2726/30802 [4:15:34<42:20:55,  5.43s/it]\u001b[A"
     ]
    },
    {
     "name": "stdout",
     "output_type": "stream",
     "text": [
      "Epoch 0, Batch 2725, loss 51885104.0\n"
     ]
    },
    {
     "name": "stderr",
     "output_type": "stream",
     "text": [
      "\n",
      "  9%|▉         | 2727/30802 [4:15:39<41:39:39,  5.34s/it]\u001b[A\n",
      "  9%|▉         | 2728/30802 [4:15:45<42:27:49,  5.45s/it]\u001b[A\n",
      "  9%|▉         | 2729/30802 [4:15:50<41:09:56,  5.28s/it]\u001b[A\n",
      "  9%|▉         | 2730/30802 [4:15:55<40:22:15,  5.18s/it]\u001b[A\n",
      "  9%|▉         | 2731/30802 [4:16:00<40:08:42,  5.15s/it]\u001b[A"
     ]
    },
    {
     "name": "stdout",
     "output_type": "stream",
     "text": [
      "Epoch 0, Batch 2730, loss 248617440.0\n"
     ]
    },
    {
     "name": "stderr",
     "output_type": "stream",
     "text": [
      "\n",
      "  9%|▉         | 2732/30802 [4:16:05<41:17:22,  5.30s/it]\u001b[A\n",
      "  9%|▉         | 2733/30802 [4:16:11<40:52:25,  5.24s/it]\u001b[A\n",
      "  9%|▉         | 2734/30802 [4:16:16<40:48:42,  5.23s/it]\u001b[A\n",
      "  9%|▉         | 2735/30802 [4:16:21<40:27:51,  5.19s/it]\u001b[A\n",
      "  9%|▉         | 2736/30802 [4:16:26<40:34:26,  5.20s/it]\u001b[A"
     ]
    },
    {
     "name": "stdout",
     "output_type": "stream",
     "text": [
      "Epoch 0, Batch 2735, loss 707295168.0\n"
     ]
    },
    {
     "name": "stderr",
     "output_type": "stream",
     "text": [
      "\n",
      "  9%|▉         | 2737/30802 [4:16:31<40:27:34,  5.19s/it]\u001b[A\n",
      "  9%|▉         | 2738/30802 [4:16:36<40:33:18,  5.20s/it]\u001b[A\n",
      "  9%|▉         | 2739/30802 [4:16:42<41:03:31,  5.27s/it]\u001b[A\n",
      "  9%|▉         | 2740/30802 [4:16:47<41:17:35,  5.30s/it]\u001b[A\n",
      "  9%|▉         | 2741/30802 [4:16:53<41:46:57,  5.36s/it]\u001b[A"
     ]
    },
    {
     "name": "stdout",
     "output_type": "stream",
     "text": [
      "Epoch 0, Batch 2740, loss 402259424.0\n"
     ]
    },
    {
     "name": "stderr",
     "output_type": "stream",
     "text": [
      "\n",
      "  9%|▉         | 2742/30802 [4:16:58<41:43:34,  5.35s/it]\u001b[A\n",
      "  9%|▉         | 2743/30802 [4:17:03<41:25:05,  5.31s/it]\u001b[A\n",
      "  9%|▉         | 2744/30802 [4:17:09<41:26:46,  5.32s/it]\u001b[A\n",
      "  9%|▉         | 2745/30802 [4:17:14<42:02:47,  5.39s/it]\u001b[A\n",
      "  9%|▉         | 2746/30802 [4:17:20<42:00:37,  5.39s/it]\u001b[A"
     ]
    },
    {
     "name": "stdout",
     "output_type": "stream",
     "text": [
      "Epoch 0, Batch 2745, loss 603408704.0\n"
     ]
    },
    {
     "name": "stderr",
     "output_type": "stream",
     "text": [
      "\n",
      "  9%|▉         | 2747/30802 [4:17:25<41:00:19,  5.26s/it]\u001b[A\n",
      "  9%|▉         | 2748/30802 [4:17:30<41:06:45,  5.28s/it]\u001b[A\n",
      "  9%|▉         | 2749/30802 [4:17:35<41:00:12,  5.26s/it]\u001b[A\n",
      "  9%|▉         | 2750/30802 [4:17:40<40:36:11,  5.21s/it]\u001b[A\n",
      "  9%|▉         | 2751/30802 [4:17:45<40:14:31,  5.16s/it]\u001b[A"
     ]
    },
    {
     "name": "stdout",
     "output_type": "stream",
     "text": [
      "Epoch 0, Batch 2750, loss 708100032.0\n"
     ]
    },
    {
     "name": "stderr",
     "output_type": "stream",
     "text": [
      "\n",
      "  9%|▉         | 2752/30802 [4:17:50<40:18:15,  5.17s/it]\u001b[A\n",
      "  9%|▉         | 2753/30802 [4:17:56<40:29:05,  5.20s/it]\u001b[A\n",
      "  9%|▉         | 2754/30802 [4:18:01<40:35:56,  5.21s/it]\u001b[A\n",
      "  9%|▉         | 2755/30802 [4:18:06<40:42:26,  5.23s/it]\u001b[A\n",
      "  9%|▉         | 2756/30802 [4:18:11<40:43:35,  5.23s/it]\u001b[A"
     ]
    },
    {
     "name": "stdout",
     "output_type": "stream",
     "text": [
      "Epoch 0, Batch 2755, loss 708146048.0\n"
     ]
    },
    {
     "name": "stderr",
     "output_type": "stream",
     "text": [
      "\n",
      "  9%|▉         | 2757/30802 [4:18:17<41:02:31,  5.27s/it]\u001b[A\n",
      "  9%|▉         | 2758/30802 [4:18:22<41:48:51,  5.37s/it]\u001b[A\n",
      "  9%|▉         | 2759/30802 [4:18:28<41:20:32,  5.31s/it]\u001b[A\n",
      "  9%|▉         | 2760/30802 [4:18:33<41:52:21,  5.38s/it]\u001b[A\n",
      "  9%|▉         | 2761/30802 [4:18:38<41:41:06,  5.35s/it]\u001b[A"
     ]
    },
    {
     "name": "stdout",
     "output_type": "stream",
     "text": [
      "Epoch 0, Batch 2760, loss 990719040.0\n"
     ]
    },
    {
     "name": "stderr",
     "output_type": "stream",
     "text": [
      "\n",
      "  9%|▉         | 2762/30802 [4:18:44<41:37:24,  5.34s/it]\u001b[A\n",
      "  9%|▉         | 2763/30802 [4:18:49<41:15:37,  5.30s/it]\u001b[A\n",
      "  9%|▉         | 2764/30802 [4:18:54<41:21:25,  5.31s/it]\u001b[A\n",
      "  9%|▉         | 2765/30802 [4:19:00<41:24:03,  5.32s/it]\u001b[A\n",
      "  9%|▉         | 2766/30802 [4:19:05<40:51:13,  5.25s/it]\u001b[A"
     ]
    },
    {
     "name": "stdout",
     "output_type": "stream",
     "text": [
      "Epoch 0, Batch 2765, loss 104732472.0\n"
     ]
    },
    {
     "name": "stderr",
     "output_type": "stream",
     "text": [
      "\n",
      "  9%|▉         | 2767/30802 [4:19:10<40:26:32,  5.19s/it]\u001b[A\n",
      "  9%|▉         | 2768/30802 [4:19:16<42:17:14,  5.43s/it]\u001b[A\n",
      "  9%|▉         | 2769/30802 [4:19:21<42:03:00,  5.40s/it]\u001b[A\n",
      "  9%|▉         | 2770/30802 [4:19:27<42:25:01,  5.45s/it]\u001b[A\n",
      "  9%|▉         | 2771/30802 [4:19:32<42:09:02,  5.41s/it]\u001b[A"
     ]
    },
    {
     "name": "stdout",
     "output_type": "stream",
     "text": [
      "Epoch 0, Batch 2770, loss 140558400.0\n"
     ]
    },
    {
     "name": "stderr",
     "output_type": "stream",
     "text": [
      "\n",
      "  9%|▉         | 2772/30802 [4:19:37<41:43:06,  5.36s/it]\u001b[A\n",
      "  9%|▉         | 2773/30802 [4:19:42<41:37:37,  5.35s/it]\u001b[A\n",
      "  9%|▉         | 2774/30802 [4:19:48<41:47:30,  5.37s/it]\u001b[A\n",
      "  9%|▉         | 2775/30802 [4:19:53<41:51:31,  5.38s/it]\u001b[A\n",
      "  9%|▉         | 2776/30802 [4:19:59<41:50:21,  5.37s/it]\u001b[A"
     ]
    },
    {
     "name": "stdout",
     "output_type": "stream",
     "text": [
      "Epoch 0, Batch 2775, loss 116134112.0\n"
     ]
    },
    {
     "name": "stderr",
     "output_type": "stream",
     "text": [
      "\n",
      "  9%|▉         | 2777/30802 [4:20:04<41:45:13,  5.36s/it]\u001b[A\n",
      "  9%|▉         | 2778/30802 [4:20:09<41:33:54,  5.34s/it]\u001b[A\n",
      "  9%|▉         | 2779/30802 [4:20:15<42:00:14,  5.40s/it]\u001b[A\n",
      "  9%|▉         | 2780/30802 [4:20:20<41:50:24,  5.38s/it]\u001b[A\n",
      "  9%|▉         | 2781/30802 [4:20:25<41:05:40,  5.28s/it]\u001b[A"
     ]
    },
    {
     "name": "stdout",
     "output_type": "stream",
     "text": [
      "Epoch 0, Batch 2780, loss 377817344.0\n"
     ]
    },
    {
     "name": "stderr",
     "output_type": "stream",
     "text": [
      "\n",
      "  9%|▉         | 2782/30802 [4:20:30<40:41:27,  5.23s/it]\u001b[A\n",
      "  9%|▉         | 2783/30802 [4:20:35<39:59:28,  5.14s/it]\u001b[A\n",
      "  9%|▉         | 2784/30802 [4:20:40<39:56:45,  5.13s/it]\u001b[A\n",
      "  9%|▉         | 2785/30802 [4:20:45<39:45:08,  5.11s/it]\u001b[A\n",
      "  9%|▉         | 2786/30802 [4:20:51<39:53:16,  5.13s/it]\u001b[A"
     ]
    },
    {
     "name": "stdout",
     "output_type": "stream",
     "text": [
      "Epoch 0, Batch 2785, loss 240272848.0\n"
     ]
    },
    {
     "name": "stderr",
     "output_type": "stream",
     "text": [
      "\n",
      "  9%|▉         | 2787/30802 [4:20:56<39:56:14,  5.13s/it]\u001b[A\n",
      "  9%|▉         | 2788/30802 [4:21:01<39:48:40,  5.12s/it]\u001b[A\n",
      "  9%|▉         | 2789/30802 [4:21:06<40:09:12,  5.16s/it]\u001b[A\n",
      "  9%|▉         | 2790/30802 [4:21:11<40:18:43,  5.18s/it]\u001b[A\n",
      "  9%|▉         | 2791/30802 [4:21:17<40:35:27,  5.22s/it]\u001b[A"
     ]
    },
    {
     "name": "stdout",
     "output_type": "stream",
     "text": [
      "Epoch 0, Batch 2790, loss 376347200.0\n"
     ]
    },
    {
     "name": "stderr",
     "output_type": "stream",
     "text": [
      "\n",
      "  9%|▉         | 2792/30802 [4:21:22<41:37:20,  5.35s/it]\u001b[A\n",
      "  9%|▉         | 2793/30802 [4:21:28<42:32:39,  5.47s/it]\u001b[A\n",
      "  9%|▉         | 2794/30802 [4:21:33<42:25:50,  5.45s/it]\u001b[A\n",
      "  9%|▉         | 2795/30802 [4:21:38<41:29:58,  5.33s/it]\u001b[A\n",
      "  9%|▉         | 2796/30802 [4:21:44<41:07:20,  5.29s/it]\u001b[A"
     ]
    },
    {
     "name": "stdout",
     "output_type": "stream",
     "text": [
      "Epoch 0, Batch 2795, loss 951572160.0\n"
     ]
    },
    {
     "name": "stderr",
     "output_type": "stream",
     "text": [
      "\n",
      "  9%|▉         | 2797/30802 [4:21:49<40:50:25,  5.25s/it]\u001b[A\n",
      "  9%|▉         | 2798/30802 [4:21:54<40:43:29,  5.24s/it]\u001b[A\n",
      "  9%|▉         | 2799/30802 [4:21:59<40:55:00,  5.26s/it]\u001b[A\n",
      "  9%|▉         | 2800/30802 [4:22:04<40:30:53,  5.21s/it]\u001b[A\n",
      "  9%|▉         | 2801/30802 [4:22:09<40:05:14,  5.15s/it]\u001b[A"
     ]
    },
    {
     "name": "stdout",
     "output_type": "stream",
     "text": [
      "Epoch 0, Batch 2800, loss 281333408.0\n"
     ]
    },
    {
     "name": "stderr",
     "output_type": "stream",
     "text": [
      "\n",
      "  9%|▉         | 2802/30802 [4:22:15<40:22:56,  5.19s/it]\u001b[A\n",
      "  9%|▉         | 2803/30802 [4:22:20<41:21:36,  5.32s/it]\u001b[A\n",
      "  9%|▉         | 2804/30802 [4:22:26<42:36:29,  5.48s/it]\u001b[A\n",
      "  9%|▉         | 2805/30802 [4:22:32<42:30:41,  5.47s/it]\u001b[A\n",
      "  9%|▉         | 2806/30802 [4:22:37<42:30:28,  5.47s/it]\u001b[A"
     ]
    },
    {
     "name": "stdout",
     "output_type": "stream",
     "text": [
      "Epoch 0, Batch 2805, loss 238663744.0\n"
     ]
    },
    {
     "name": "stderr",
     "output_type": "stream",
     "text": [
      "\n",
      "  9%|▉         | 2807/30802 [4:22:43<42:31:19,  5.47s/it]\u001b[A\n",
      "  9%|▉         | 2808/30802 [4:22:48<42:25:18,  5.46s/it]\u001b[A\n",
      "  9%|▉         | 2809/30802 [4:22:53<41:25:59,  5.33s/it]\u001b[A\n",
      "  9%|▉         | 2810/30802 [4:22:58<40:40:08,  5.23s/it]\u001b[A\n",
      "  9%|▉         | 2811/30802 [4:23:03<40:11:15,  5.17s/it]\u001b[A"
     ]
    },
    {
     "name": "stdout",
     "output_type": "stream",
     "text": [
      "Epoch 0, Batch 2810, loss 465117696.0\n"
     ]
    },
    {
     "name": "stderr",
     "output_type": "stream",
     "text": [
      "\n",
      "  9%|▉         | 2812/30802 [4:23:08<40:02:11,  5.15s/it]\u001b[A\n",
      "  9%|▉         | 2813/30802 [4:23:13<39:55:05,  5.13s/it]\u001b[A\n",
      "  9%|▉         | 2814/30802 [4:23:18<40:08:48,  5.16s/it]\u001b[A\n",
      "  9%|▉         | 2815/30802 [4:23:24<40:44:15,  5.24s/it]\u001b[A\n",
      "  9%|▉         | 2816/30802 [4:23:29<41:07:35,  5.29s/it]\u001b[A"
     ]
    },
    {
     "name": "stdout",
     "output_type": "stream",
     "text": [
      "Epoch 0, Batch 2815, loss 277242368.0\n"
     ]
    },
    {
     "name": "stderr",
     "output_type": "stream",
     "text": [
      "\n",
      "  9%|▉         | 2817/30802 [4:23:34<40:42:19,  5.24s/it]\u001b[A\n",
      "  9%|▉         | 2818/30802 [4:23:40<40:40:12,  5.23s/it]\u001b[A\n",
      "  9%|▉         | 2819/30802 [4:23:45<40:49:47,  5.25s/it]\u001b[A\n",
      "  9%|▉         | 2820/30802 [4:23:50<41:13:29,  5.30s/it]\u001b[A\n",
      "  9%|▉         | 2821/30802 [4:23:56<41:11:22,  5.30s/it]\u001b[A"
     ]
    },
    {
     "name": "stdout",
     "output_type": "stream",
     "text": [
      "Epoch 0, Batch 2820, loss 406186752.0\n"
     ]
    },
    {
     "name": "stderr",
     "output_type": "stream",
     "text": [
      "\n",
      "  9%|▉         | 2822/30802 [4:24:01<41:00:00,  5.28s/it]\u001b[A\n",
      "  9%|▉         | 2823/30802 [4:24:06<41:11:31,  5.30s/it]\u001b[A\n",
      "  9%|▉         | 2824/30802 [4:24:12<41:33:15,  5.35s/it]\u001b[A\n",
      "  9%|▉         | 2825/30802 [4:24:18<43:12:46,  5.56s/it]\u001b[A\n",
      "  9%|▉         | 2826/30802 [4:24:24<44:00:52,  5.66s/it]\u001b[A"
     ]
    },
    {
     "name": "stdout",
     "output_type": "stream",
     "text": [
      "Epoch 0, Batch 2825, loss 88620288.0\n"
     ]
    },
    {
     "name": "stderr",
     "output_type": "stream",
     "text": [
      "\n",
      "  9%|▉         | 2827/30802 [4:24:29<43:34:50,  5.61s/it]\u001b[A\n",
      "  9%|▉         | 2828/30802 [4:24:35<43:08:30,  5.55s/it]\u001b[A\n",
      "  9%|▉         | 2829/30802 [4:24:40<42:49:23,  5.51s/it]\u001b[A\n",
      "  9%|▉         | 2830/30802 [4:24:45<42:21:23,  5.45s/it]\u001b[A\n",
      "  9%|▉         | 2831/30802 [4:24:51<42:02:33,  5.41s/it]\u001b[A"
     ]
    },
    {
     "name": "stdout",
     "output_type": "stream",
     "text": [
      "Epoch 0, Batch 2830, loss 268062272.0\n"
     ]
    },
    {
     "name": "stderr",
     "output_type": "stream",
     "text": [
      "\n",
      "  9%|▉         | 2832/30802 [4:24:56<42:22:14,  5.45s/it]\u001b[A\n",
      "  9%|▉         | 2833/30802 [4:25:01<41:55:50,  5.40s/it]\u001b[A\n",
      "  9%|▉         | 2834/30802 [4:25:07<41:26:01,  5.33s/it]\u001b[A\n",
      "  9%|▉         | 2835/30802 [4:25:12<42:08:31,  5.42s/it]\u001b[A\n",
      "  9%|▉         | 2836/30802 [4:25:18<42:15:04,  5.44s/it]\u001b[A"
     ]
    },
    {
     "name": "stdout",
     "output_type": "stream",
     "text": [
      "Epoch 0, Batch 2835, loss 170898768.0\n"
     ]
    },
    {
     "name": "stderr",
     "output_type": "stream",
     "text": [
      "\n",
      "  9%|▉         | 2837/30802 [4:25:23<41:01:01,  5.28s/it]\u001b[A\n",
      "  9%|▉         | 2838/30802 [4:25:28<41:12:21,  5.30s/it]\u001b[A\n",
      "  9%|▉         | 2839/30802 [4:25:33<40:58:01,  5.27s/it]\u001b[A\n",
      "  9%|▉         | 2840/30802 [4:25:38<40:32:27,  5.22s/it]\u001b[A\n",
      "  9%|▉         | 2841/30802 [4:25:44<40:48:24,  5.25s/it]\u001b[A"
     ]
    },
    {
     "name": "stdout",
     "output_type": "stream",
     "text": [
      "Epoch 0, Batch 2840, loss 494069248.0\n"
     ]
    },
    {
     "name": "stderr",
     "output_type": "stream",
     "text": [
      "\n",
      "  9%|▉         | 2842/30802 [4:25:49<40:54:44,  5.27s/it]\u001b[A\n",
      "  9%|▉         | 2843/30802 [4:25:54<40:58:51,  5.28s/it]\u001b[A\n",
      "  9%|▉         | 2844/30802 [4:25:59<40:55:28,  5.27s/it]\u001b[A\n",
      "  9%|▉         | 2845/30802 [4:26:05<40:34:30,  5.22s/it]\u001b[A\n",
      "  9%|▉         | 2846/30802 [4:26:09<39:47:22,  5.12s/it]\u001b[A"
     ]
    },
    {
     "name": "stdout",
     "output_type": "stream",
     "text": [
      "Epoch 0, Batch 2845, loss 428908672.0\n"
     ]
    },
    {
     "name": "stderr",
     "output_type": "stream",
     "text": [
      "\n",
      "  9%|▉         | 2847/30802 [4:26:14<39:34:54,  5.10s/it]\u001b[A\n",
      "  9%|▉         | 2848/30802 [4:26:19<39:08:07,  5.04s/it]\u001b[A\n",
      "  9%|▉         | 2849/30802 [4:26:25<39:24:39,  5.08s/it]\u001b[A\n",
      "  9%|▉         | 2850/30802 [4:26:30<39:34:42,  5.10s/it]\u001b[A\n",
      "  9%|▉         | 2851/30802 [4:26:35<39:53:30,  5.14s/it]\u001b[A"
     ]
    },
    {
     "name": "stdout",
     "output_type": "stream",
     "text": [
      "Epoch 0, Batch 2850, loss 94511728.0\n"
     ]
    },
    {
     "name": "stderr",
     "output_type": "stream",
     "text": [
      "\n",
      "  9%|▉         | 2852/30802 [4:26:40<40:27:13,  5.21s/it]\u001b[A\n",
      "  9%|▉         | 2853/30802 [4:26:46<41:07:04,  5.30s/it]\u001b[A\n",
      "  9%|▉         | 2854/30802 [4:26:51<41:33:45,  5.35s/it]\u001b[A\n",
      "  9%|▉         | 2855/30802 [4:26:57<41:57:43,  5.41s/it]\u001b[A\n",
      "  9%|▉         | 2856/30802 [4:27:02<41:16:48,  5.32s/it]\u001b[A"
     ]
    },
    {
     "name": "stdout",
     "output_type": "stream",
     "text": [
      "Epoch 0, Batch 2855, loss 373392928.0\n"
     ]
    },
    {
     "name": "stderr",
     "output_type": "stream",
     "text": [
      "\n",
      "  9%|▉         | 2857/30802 [4:27:07<40:44:27,  5.25s/it]\u001b[A\n",
      "  9%|▉         | 2858/30802 [4:27:12<40:43:21,  5.25s/it]\u001b[A\n",
      "  9%|▉         | 2859/30802 [4:27:18<41:10:46,  5.31s/it]\u001b[A\n",
      "  9%|▉         | 2860/30802 [4:27:23<40:50:10,  5.26s/it]\u001b[A\n",
      "  9%|▉         | 2861/30802 [4:27:28<40:43:37,  5.25s/it]\u001b[A"
     ]
    },
    {
     "name": "stdout",
     "output_type": "stream",
     "text": [
      "Epoch 0, Batch 2860, loss 400568384.0\n"
     ]
    },
    {
     "name": "stderr",
     "output_type": "stream",
     "text": [
      "\n",
      "  9%|▉         | 2862/30802 [4:27:33<40:17:39,  5.19s/it]\u001b[A\n",
      "  9%|▉         | 2863/30802 [4:27:38<40:34:48,  5.23s/it]\u001b[A\n",
      "  9%|▉         | 2864/30802 [4:27:44<40:23:42,  5.21s/it]\u001b[A\n",
      "  9%|▉         | 2865/30802 [4:27:49<40:03:37,  5.16s/it]\u001b[A\n",
      "  9%|▉         | 2866/30802 [4:27:54<40:04:15,  5.16s/it]\u001b[A"
     ]
    },
    {
     "name": "stdout",
     "output_type": "stream",
     "text": [
      "Epoch 0, Batch 2865, loss 157306432.0\n"
     ]
    },
    {
     "name": "stderr",
     "output_type": "stream",
     "text": [
      "\n",
      "  9%|▉         | 2867/30802 [4:27:59<39:48:07,  5.13s/it]\u001b[A\n",
      "  9%|▉         | 2868/30802 [4:28:04<39:59:55,  5.15s/it]\u001b[A\n",
      "  9%|▉         | 2869/30802 [4:28:10<40:36:10,  5.23s/it]\u001b[A\n",
      "  9%|▉         | 2870/30802 [4:28:15<40:49:09,  5.26s/it]\u001b[A\n",
      "  9%|▉         | 2871/30802 [4:28:20<40:52:50,  5.27s/it]\u001b[A"
     ]
    },
    {
     "name": "stdout",
     "output_type": "stream",
     "text": [
      "Epoch 0, Batch 2870, loss 221264224.0\n"
     ]
    },
    {
     "name": "stderr",
     "output_type": "stream",
     "text": [
      "\n",
      "  9%|▉         | 2872/30802 [4:28:26<41:59:37,  5.41s/it]\u001b[A\n",
      "  9%|▉         | 2873/30802 [4:28:31<42:27:51,  5.47s/it]\u001b[A\n",
      "  9%|▉         | 2874/30802 [4:28:37<41:56:02,  5.41s/it]\u001b[A\n",
      "  9%|▉         | 2875/30802 [4:28:42<41:51:59,  5.40s/it]\u001b[A\n",
      "  9%|▉         | 2876/30802 [4:28:48<41:54:04,  5.40s/it]\u001b[A"
     ]
    },
    {
     "name": "stdout",
     "output_type": "stream",
     "text": [
      "Epoch 0, Batch 2875, loss 243256640.0\n"
     ]
    },
    {
     "name": "stderr",
     "output_type": "stream",
     "text": [
      "\n",
      "  9%|▉         | 2877/30802 [4:28:53<41:24:32,  5.34s/it]\u001b[A\n",
      "  9%|▉         | 2878/30802 [4:28:58<40:35:08,  5.23s/it]\u001b[A\n",
      "  9%|▉         | 2879/30802 [4:29:03<40:04:29,  5.17s/it]\u001b[A\n",
      "  9%|▉         | 2880/30802 [4:29:08<39:39:45,  5.11s/it]\u001b[A\n",
      "  9%|▉         | 2881/30802 [4:29:13<39:40:24,  5.12s/it]\u001b[A"
     ]
    },
    {
     "name": "stdout",
     "output_type": "stream",
     "text": [
      "Epoch 0, Batch 2880, loss 435309344.0\n"
     ]
    },
    {
     "name": "stderr",
     "output_type": "stream",
     "text": [
      "\n",
      "  9%|▉         | 2882/30802 [4:29:18<40:14:24,  5.19s/it]\u001b[A\n",
      "  9%|▉         | 2883/30802 [4:29:23<40:19:10,  5.20s/it]\u001b[A\n",
      "  9%|▉         | 2884/30802 [4:29:29<40:50:05,  5.27s/it]\u001b[A\n",
      "  9%|▉         | 2885/30802 [4:29:34<40:30:55,  5.22s/it]\u001b[A\n",
      "  9%|▉         | 2886/30802 [4:29:39<40:24:43,  5.21s/it]\u001b[A"
     ]
    },
    {
     "name": "stdout",
     "output_type": "stream",
     "text": [
      "Epoch 0, Batch 2885, loss 338616320.0\n"
     ]
    },
    {
     "name": "stderr",
     "output_type": "stream",
     "text": [
      "\n",
      "  9%|▉         | 2887/30802 [4:29:44<40:31:02,  5.23s/it]\u001b[A\n",
      "  9%|▉         | 2888/30802 [4:29:50<41:14:09,  5.32s/it]\u001b[A\n",
      "  9%|▉         | 2889/30802 [4:29:55<41:33:14,  5.36s/it]\u001b[A\n",
      "  9%|▉         | 2890/30802 [4:30:01<42:27:36,  5.48s/it]\u001b[A\n",
      "  9%|▉         | 2891/30802 [4:30:07<43:28:36,  5.61s/it]\u001b[A"
     ]
    },
    {
     "name": "stdout",
     "output_type": "stream",
     "text": [
      "Epoch 0, Batch 2890, loss 103734112.0\n"
     ]
    },
    {
     "name": "stderr",
     "output_type": "stream",
     "text": [
      "\n",
      "  9%|▉         | 2892/30802 [4:30:13<43:07:10,  5.56s/it]\u001b[A\n",
      "  9%|▉         | 2893/30802 [4:30:18<42:42:13,  5.51s/it]\u001b[A\n",
      "  9%|▉         | 2894/30802 [4:30:23<41:38:00,  5.37s/it]\u001b[A\n",
      "  9%|▉         | 2895/30802 [4:30:28<40:35:51,  5.24s/it]\u001b[A\n",
      "  9%|▉         | 2896/30802 [4:30:33<40:02:51,  5.17s/it]\u001b[A"
     ]
    },
    {
     "name": "stdout",
     "output_type": "stream",
     "text": [
      "Epoch 0, Batch 2895, loss 603714880.0\n"
     ]
    },
    {
     "name": "stderr",
     "output_type": "stream",
     "text": [
      "\n",
      "  9%|▉         | 2897/30802 [4:30:39<41:17:24,  5.33s/it]\u001b[A\n",
      "  9%|▉         | 2898/30802 [4:30:44<40:57:04,  5.28s/it]\u001b[A\n",
      "  9%|▉         | 2899/30802 [4:30:49<40:29:20,  5.22s/it]\u001b[A\n",
      "  9%|▉         | 2900/30802 [4:30:54<40:31:33,  5.23s/it]\u001b[A\n",
      "  9%|▉         | 2901/30802 [4:30:59<40:23:10,  5.21s/it]\u001b[A"
     ]
    },
    {
     "name": "stdout",
     "output_type": "stream",
     "text": [
      "Epoch 0, Batch 2900, loss 191036352.0\n"
     ]
    },
    {
     "name": "stderr",
     "output_type": "stream",
     "text": [
      "\n",
      "  9%|▉         | 2902/30802 [4:31:05<40:33:09,  5.23s/it]\u001b[A\n",
      "  9%|▉         | 2903/30802 [4:31:10<40:20:55,  5.21s/it]\u001b[A\n",
      "  9%|▉         | 2904/30802 [4:31:15<40:05:32,  5.17s/it]\u001b[A\n",
      "  9%|▉         | 2905/30802 [4:31:20<39:52:52,  5.15s/it]\u001b[A\n",
      "  9%|▉         | 2906/30802 [4:31:25<40:10:07,  5.18s/it]\u001b[A"
     ]
    },
    {
     "name": "stdout",
     "output_type": "stream",
     "text": [
      "Epoch 0, Batch 2905, loss 372190400.0\n"
     ]
    },
    {
     "name": "stderr",
     "output_type": "stream",
     "text": [
      "\n",
      "  9%|▉         | 2907/30802 [4:31:31<41:04:02,  5.30s/it]\u001b[A\n",
      "  9%|▉         | 2908/30802 [4:31:36<41:37:19,  5.37s/it]\u001b[A\n",
      "  9%|▉         | 2909/30802 [4:31:41<41:19:35,  5.33s/it]\u001b[A\n",
      "  9%|▉         | 2910/30802 [4:31:47<41:17:13,  5.33s/it]\u001b[A\n",
      "  9%|▉         | 2911/30802 [4:31:52<41:36:22,  5.37s/it]\u001b[A"
     ]
    },
    {
     "name": "stdout",
     "output_type": "stream",
     "text": [
      "Epoch 0, Batch 2910, loss 732606336.0\n"
     ]
    },
    {
     "name": "stderr",
     "output_type": "stream",
     "text": [
      "\n",
      "  9%|▉         | 2912/30802 [4:31:58<42:21:13,  5.47s/it]\u001b[A\n",
      "  9%|▉         | 2913/30802 [4:32:03<42:14:49,  5.45s/it]\u001b[A\n",
      "  9%|▉         | 2914/30802 [4:32:09<41:41:22,  5.38s/it]\u001b[A\n",
      "  9%|▉         | 2915/30802 [4:32:14<41:33:58,  5.37s/it]\u001b[A\n",
      "  9%|▉         | 2916/30802 [4:32:19<41:02:15,  5.30s/it]\u001b[A"
     ]
    },
    {
     "name": "stdout",
     "output_type": "stream",
     "text": [
      "Epoch 0, Batch 2915, loss 141708192.0\n"
     ]
    },
    {
     "name": "stderr",
     "output_type": "stream",
     "text": [
      "\n",
      "  9%|▉         | 2917/30802 [4:32:24<40:25:24,  5.22s/it]\u001b[A\n",
      "  9%|▉         | 2918/30802 [4:32:29<40:01:55,  5.17s/it]\u001b[A\n",
      "  9%|▉         | 2919/30802 [4:32:34<39:48:54,  5.14s/it]\u001b[A\n",
      "  9%|▉         | 2920/30802 [4:32:39<40:02:40,  5.17s/it]\u001b[A\n",
      "  9%|▉         | 2921/30802 [4:32:45<40:20:04,  5.21s/it]\u001b[A"
     ]
    },
    {
     "name": "stdout",
     "output_type": "stream",
     "text": [
      "Epoch 0, Batch 2920, loss 30670528.0\n"
     ]
    },
    {
     "name": "stderr",
     "output_type": "stream",
     "text": [
      "\n",
      "  9%|▉         | 2922/30802 [4:32:50<40:24:38,  5.22s/it]\u001b[A\n",
      "  9%|▉         | 2923/30802 [4:32:55<40:42:45,  5.26s/it]\u001b[A\n",
      "  9%|▉         | 2924/30802 [4:33:01<40:31:23,  5.23s/it]\u001b[A\n",
      "  9%|▉         | 2925/30802 [4:33:06<40:22:34,  5.21s/it]\u001b[A\n",
      "  9%|▉         | 2926/30802 [4:33:11<40:53:18,  5.28s/it]\u001b[A"
     ]
    },
    {
     "name": "stdout",
     "output_type": "stream",
     "text": [
      "Epoch 0, Batch 2925, loss 87641360.0\n"
     ]
    },
    {
     "name": "stderr",
     "output_type": "stream",
     "text": [
      "\n",
      " 10%|▉         | 2927/30802 [4:33:17<41:26:39,  5.35s/it]\u001b[A\n",
      " 10%|▉         | 2928/30802 [4:33:22<41:32:51,  5.37s/it]\u001b[A\n",
      " 10%|▉         | 2929/30802 [4:33:28<42:22:15,  5.47s/it]\u001b[A\n",
      " 10%|▉         | 2930/30802 [4:33:34<43:03:20,  5.56s/it]\u001b[A\n",
      " 10%|▉         | 2931/30802 [4:33:39<42:24:44,  5.48s/it]\u001b[A"
     ]
    },
    {
     "name": "stdout",
     "output_type": "stream",
     "text": [
      "Epoch 0, Batch 2930, loss 558809408.0\n"
     ]
    },
    {
     "name": "stderr",
     "output_type": "stream",
     "text": [
      "\n",
      " 10%|▉         | 2932/30802 [4:33:44<41:53:14,  5.41s/it]\u001b[A\n",
      " 10%|▉         | 2933/30802 [4:33:49<41:35:02,  5.37s/it]\u001b[A\n",
      " 10%|▉         | 2934/30802 [4:33:54<40:53:42,  5.28s/it]\u001b[A\n",
      " 10%|▉         | 2935/30802 [4:34:00<40:28:38,  5.23s/it]\u001b[A\n",
      " 10%|▉         | 2936/30802 [4:34:05<40:05:05,  5.18s/it]\u001b[A"
     ]
    },
    {
     "name": "stdout",
     "output_type": "stream",
     "text": [
      "Epoch 0, Batch 2935, loss 405117600.0\n"
     ]
    },
    {
     "name": "stderr",
     "output_type": "stream",
     "text": [
      "\n",
      " 10%|▉         | 2937/30802 [4:34:10<39:37:25,  5.12s/it]\u001b[A\n",
      " 10%|▉         | 2938/30802 [4:34:15<40:05:48,  5.18s/it]\u001b[A\n",
      " 10%|▉         | 2939/30802 [4:34:20<40:36:45,  5.25s/it]\u001b[A\n",
      " 10%|▉         | 2940/30802 [4:34:26<40:40:10,  5.25s/it]\u001b[A\n",
      " 10%|▉         | 2941/30802 [4:34:31<40:34:08,  5.24s/it]\u001b[A"
     ]
    },
    {
     "name": "stdout",
     "output_type": "stream",
     "text": [
      "Epoch 0, Batch 2940, loss 734024640.0\n"
     ]
    },
    {
     "name": "stderr",
     "output_type": "stream",
     "text": [
      "\n",
      " 10%|▉         | 2942/30802 [4:34:36<41:00:58,  5.30s/it]\u001b[A\n",
      " 10%|▉         | 2943/30802 [4:34:41<40:55:35,  5.29s/it]\u001b[A\n",
      " 10%|▉         | 2944/30802 [4:34:47<40:31:20,  5.24s/it]\u001b[A\n",
      " 10%|▉         | 2945/30802 [4:34:52<39:53:36,  5.16s/it]\u001b[A\n",
      " 10%|▉         | 2946/30802 [4:34:57<39:25:08,  5.09s/it]\u001b[A"
     ]
    },
    {
     "name": "stdout",
     "output_type": "stream",
     "text": [
      "Epoch 0, Batch 2945, loss 372673728.0\n"
     ]
    },
    {
     "name": "stderr",
     "output_type": "stream",
     "text": [
      "\n",
      " 10%|▉         | 2947/30802 [4:35:02<39:29:36,  5.10s/it]\u001b[A\n",
      " 10%|▉         | 2948/30802 [4:35:07<39:25:25,  5.10s/it]\u001b[A\n",
      " 10%|▉         | 2949/30802 [4:35:12<39:16:03,  5.08s/it]\u001b[A\n",
      " 10%|▉         | 2950/30802 [4:35:17<39:49:28,  5.15s/it]\u001b[A\n",
      " 10%|▉         | 2951/30802 [4:35:22<39:58:59,  5.17s/it]\u001b[A"
     ]
    },
    {
     "name": "stdout",
     "output_type": "stream",
     "text": [
      "Epoch 0, Batch 2950, loss 40525416.0\n"
     ]
    },
    {
     "name": "stderr",
     "output_type": "stream",
     "text": [
      "\n",
      " 10%|▉         | 2952/30802 [4:35:28<40:19:12,  5.21s/it]\u001b[A\n",
      " 10%|▉         | 2953/30802 [4:35:33<40:33:42,  5.24s/it]\u001b[A\n",
      " 10%|▉         | 2954/30802 [4:35:38<41:15:14,  5.33s/it]\u001b[A\n",
      " 10%|▉         | 2955/30802 [4:35:44<41:23:14,  5.35s/it]\u001b[A\n",
      " 10%|▉         | 2956/30802 [4:35:49<41:37:31,  5.38s/it]\u001b[A"
     ]
    },
    {
     "name": "stdout",
     "output_type": "stream",
     "text": [
      "Epoch 0, Batch 2955, loss 33514268.0\n"
     ]
    },
    {
     "name": "stderr",
     "output_type": "stream",
     "text": [
      "\n",
      " 10%|▉         | 2957/30802 [4:35:55<41:48:24,  5.41s/it]\u001b[A\n",
      " 10%|▉         | 2958/30802 [4:36:00<41:32:14,  5.37s/it]\u001b[A\n",
      " 10%|▉         | 2959/30802 [4:36:05<41:26:50,  5.36s/it]\u001b[A\n",
      " 10%|▉         | 2960/30802 [4:36:10<40:48:27,  5.28s/it]\u001b[A\n",
      " 10%|▉         | 2961/30802 [4:36:15<39:58:12,  5.17s/it]\u001b[A"
     ]
    },
    {
     "name": "stdout",
     "output_type": "stream",
     "text": [
      "Epoch 0, Batch 2960, loss 292507232.0\n"
     ]
    },
    {
     "name": "stderr",
     "output_type": "stream",
     "text": [
      "\n",
      " 10%|▉         | 2962/30802 [4:36:20<39:22:44,  5.09s/it]\u001b[A\n",
      " 10%|▉         | 2963/30802 [4:36:25<39:02:35,  5.05s/it]\u001b[A\n",
      " 10%|▉         | 2964/30802 [4:36:30<39:09:41,  5.06s/it]\u001b[A\n",
      " 10%|▉         | 2965/30802 [4:36:36<39:40:05,  5.13s/it]\u001b[A\n",
      " 10%|▉         | 2966/30802 [4:36:41<40:00:46,  5.17s/it]\u001b[A"
     ]
    },
    {
     "name": "stdout",
     "output_type": "stream",
     "text": [
      "Epoch 0, Batch 2965, loss 229157440.0\n"
     ]
    },
    {
     "name": "stderr",
     "output_type": "stream",
     "text": [
      "\n",
      " 10%|▉         | 2967/30802 [4:36:46<40:26:20,  5.23s/it]\u001b[A\n",
      " 10%|▉         | 2968/30802 [4:36:52<40:58:40,  5.30s/it]\u001b[A\n",
      " 10%|▉         | 2969/30802 [4:36:57<40:53:20,  5.29s/it]\u001b[A\n",
      " 10%|▉         | 2970/30802 [4:37:03<41:33:35,  5.38s/it]\u001b[A\n",
      " 10%|▉         | 2971/30802 [4:37:08<42:00:06,  5.43s/it]\u001b[A"
     ]
    },
    {
     "name": "stdout",
     "output_type": "stream",
     "text": [
      "Epoch 0, Batch 2970, loss 130741920.0\n"
     ]
    },
    {
     "name": "stderr",
     "output_type": "stream",
     "text": [
      "\n",
      " 10%|▉         | 2972/30802 [4:37:14<42:51:31,  5.54s/it]\u001b[A\n",
      " 10%|▉         | 2973/30802 [4:37:19<42:46:59,  5.53s/it]\u001b[A\n",
      " 10%|▉         | 2974/30802 [4:37:25<43:04:22,  5.57s/it]\u001b[A\n",
      " 10%|▉         | 2975/30802 [4:37:31<43:38:30,  5.65s/it]\u001b[A\n",
      " 10%|▉         | 2976/30802 [4:37:36<43:07:10,  5.58s/it]\u001b[A"
     ]
    },
    {
     "name": "stdout",
     "output_type": "stream",
     "text": [
      "Epoch 0, Batch 2975, loss 34120400.0\n"
     ]
    },
    {
     "name": "stderr",
     "output_type": "stream",
     "text": [
      "\n",
      " 10%|▉         | 2977/30802 [4:37:42<43:05:44,  5.58s/it]\u001b[A\n",
      " 10%|▉         | 2978/30802 [4:37:47<42:05:41,  5.45s/it]\u001b[A\n",
      " 10%|▉         | 2979/30802 [4:37:52<41:22:45,  5.35s/it]\u001b[A\n",
      " 10%|▉         | 2980/30802 [4:37:57<40:17:25,  5.21s/it]\u001b[A\n",
      " 10%|▉         | 2981/30802 [4:38:02<40:35:56,  5.25s/it]\u001b[A"
     ]
    },
    {
     "name": "stdout",
     "output_type": "stream",
     "text": [
      "Epoch 0, Batch 2980, loss 31688938.0\n"
     ]
    },
    {
     "name": "stderr",
     "output_type": "stream",
     "text": [
      "\n",
      " 10%|▉         | 2982/30802 [4:38:08<41:59:03,  5.43s/it]\u001b[A\n",
      " 10%|▉         | 2983/30802 [4:38:14<41:34:35,  5.38s/it]\u001b[A\n",
      " 10%|▉         | 2984/30802 [4:38:19<41:14:12,  5.34s/it]\u001b[A\n",
      " 10%|▉         | 2985/30802 [4:38:24<41:28:34,  5.37s/it]\u001b[A\n",
      " 10%|▉         | 2986/30802 [4:38:29<40:55:38,  5.30s/it]\u001b[A"
     ]
    },
    {
     "name": "stdout",
     "output_type": "stream",
     "text": [
      "Epoch 0, Batch 2985, loss 431099776.0\n"
     ]
    },
    {
     "name": "stderr",
     "output_type": "stream",
     "text": [
      "\n",
      " 10%|▉         | 2987/30802 [4:38:34<40:07:20,  5.19s/it]\u001b[A\n",
      " 10%|▉         | 2988/30802 [4:38:39<40:01:32,  5.18s/it]\u001b[A\n",
      " 10%|▉         | 2989/30802 [4:38:45<40:15:47,  5.21s/it]\u001b[A\n",
      " 10%|▉         | 2990/30802 [4:38:50<40:19:35,  5.22s/it]\u001b[A\n",
      " 10%|▉         | 2991/30802 [4:38:55<40:12:43,  5.21s/it]\u001b[A"
     ]
    },
    {
     "name": "stdout",
     "output_type": "stream",
     "text": [
      "Epoch 0, Batch 2990, loss 301608352.0\n"
     ]
    },
    {
     "name": "stderr",
     "output_type": "stream",
     "text": [
      "\n",
      " 10%|▉         | 2992/30802 [4:39:01<40:35:47,  5.26s/it]\u001b[A\n",
      " 10%|▉         | 2993/30802 [4:39:06<41:42:19,  5.40s/it]\u001b[A\n",
      " 10%|▉         | 2994/30802 [4:39:12<41:47:47,  5.41s/it]\u001b[A\n",
      " 10%|▉         | 2995/30802 [4:39:17<41:43:01,  5.40s/it]\u001b[A\n",
      " 10%|▉         | 2996/30802 [4:39:23<41:57:53,  5.43s/it]\u001b[A"
     ]
    },
    {
     "name": "stdout",
     "output_type": "stream",
     "text": [
      "Epoch 0, Batch 2995, loss 645830336.0\n"
     ]
    },
    {
     "name": "stderr",
     "output_type": "stream",
     "text": [
      "\n",
      " 10%|▉         | 2997/30802 [4:39:28<42:34:53,  5.51s/it]\u001b[A\n",
      " 10%|▉         | 2998/30802 [4:39:34<42:25:02,  5.49s/it]\u001b[A\n",
      " 10%|▉         | 2999/30802 [4:39:39<41:42:41,  5.40s/it]\u001b[A\n",
      " 10%|▉         | 3000/30802 [4:39:44<40:54:27,  5.30s/it]\u001b[A\n",
      " 10%|▉         | 3001/30802 [4:39:49<40:21:23,  5.23s/it]\u001b[A"
     ]
    },
    {
     "name": "stdout",
     "output_type": "stream",
     "text": [
      "Epoch 0, Batch 3000, loss 183606576.0\n"
     ]
    },
    {
     "name": "stderr",
     "output_type": "stream",
     "text": [
      "\n",
      " 10%|▉         | 3002/30802 [4:39:54<40:20:44,  5.22s/it]\u001b[A\n",
      " 10%|▉         | 3003/30802 [4:39:59<40:22:03,  5.23s/it]\u001b[A\n",
      " 10%|▉         | 3004/30802 [4:40:05<40:26:38,  5.24s/it]\u001b[A\n",
      " 10%|▉         | 3005/30802 [4:40:10<40:13:44,  5.21s/it]\u001b[A\n",
      " 10%|▉         | 3006/30802 [4:40:15<40:07:49,  5.20s/it]\u001b[A"
     ]
    },
    {
     "name": "stdout",
     "output_type": "stream",
     "text": [
      "Epoch 0, Batch 3005, loss 427098560.0\n"
     ]
    },
    {
     "name": "stderr",
     "output_type": "stream",
     "text": [
      "\n",
      " 10%|▉         | 3007/30802 [4:40:20<39:56:14,  5.17s/it]\u001b[A\n",
      " 10%|▉         | 3008/30802 [4:40:25<40:05:25,  5.19s/it]\u001b[A\n",
      " 10%|▉         | 3009/30802 [4:40:31<40:28:16,  5.24s/it]\u001b[A\n",
      " 10%|▉         | 3010/30802 [4:40:36<40:54:46,  5.30s/it]\u001b[A\n",
      " 10%|▉         | 3011/30802 [4:40:41<40:35:19,  5.26s/it]\u001b[A"
     ]
    },
    {
     "name": "stdout",
     "output_type": "stream",
     "text": [
      "Epoch 0, Batch 3010, loss 508053024.0\n"
     ]
    },
    {
     "name": "stderr",
     "output_type": "stream",
     "text": [
      "\n",
      " 10%|▉         | 3012/30802 [4:40:47<40:37:15,  5.26s/it]\u001b[A\n",
      " 10%|▉         | 3013/30802 [4:40:52<40:49:03,  5.29s/it]\u001b[A\n",
      " 10%|▉         | 3014/30802 [4:40:57<41:11:11,  5.34s/it]\u001b[A\n",
      " 10%|▉         | 3015/30802 [4:41:03<41:24:46,  5.37s/it]\u001b[A\n",
      " 10%|▉         | 3016/30802 [4:41:08<41:26:57,  5.37s/it]\u001b[A"
     ]
    },
    {
     "name": "stdout",
     "output_type": "stream",
     "text": [
      "Epoch 0, Batch 3015, loss 631979840.0\n"
     ]
    },
    {
     "name": "stderr",
     "output_type": "stream",
     "text": [
      "\n",
      " 10%|▉         | 3017/30802 [4:41:13<41:04:15,  5.32s/it]\u001b[A\n",
      " 10%|▉         | 3018/30802 [4:41:19<40:55:27,  5.30s/it]\u001b[A\n",
      " 10%|▉         | 3019/30802 [4:41:24<40:24:22,  5.24s/it]\u001b[A\n",
      " 10%|▉         | 3020/30802 [4:41:29<41:29:00,  5.38s/it]\u001b[A\n",
      " 10%|▉         | 3021/30802 [4:41:35<41:02:07,  5.32s/it]\u001b[A"
     ]
    },
    {
     "name": "stdout",
     "output_type": "stream",
     "text": [
      "Epoch 0, Batch 3020, loss 348319488.0\n"
     ]
    },
    {
     "name": "stderr",
     "output_type": "stream",
     "text": [
      "\n",
      " 10%|▉         | 3022/30802 [4:41:40<40:29:20,  5.25s/it]\u001b[A\n",
      " 10%|▉         | 3023/30802 [4:41:45<39:53:27,  5.17s/it]\u001b[A\n",
      " 10%|▉         | 3024/30802 [4:41:50<40:04:21,  5.19s/it]\u001b[A\n",
      " 10%|▉         | 3025/30802 [4:41:55<40:21:07,  5.23s/it]\u001b[A\n",
      " 10%|▉         | 3026/30802 [4:42:01<40:18:16,  5.22s/it]\u001b[A"
     ]
    },
    {
     "name": "stdout",
     "output_type": "stream",
     "text": [
      "Epoch 0, Batch 3025, loss 471959776.0\n"
     ]
    },
    {
     "name": "stderr",
     "output_type": "stream",
     "text": [
      "\n",
      " 10%|▉         | 3027/30802 [4:42:06<40:36:30,  5.26s/it]\u001b[A\n",
      " 10%|▉         | 3028/30802 [4:42:12<41:38:30,  5.40s/it]\u001b[A\n",
      " 10%|▉         | 3029/30802 [4:42:17<42:18:40,  5.48s/it]\u001b[A\n",
      " 10%|▉         | 3030/30802 [4:42:23<41:55:04,  5.43s/it]\u001b[A\n",
      " 10%|▉         | 3031/30802 [4:42:28<41:20:56,  5.36s/it]\u001b[A"
     ]
    },
    {
     "name": "stdout",
     "output_type": "stream",
     "text": [
      "Epoch 0, Batch 3030, loss 399029184.0\n"
     ]
    },
    {
     "name": "stderr",
     "output_type": "stream",
     "text": [
      "\n",
      " 10%|▉         | 3032/30802 [4:42:33<41:07:45,  5.33s/it]\u001b[A\n",
      " 10%|▉         | 3033/30802 [4:42:38<41:16:39,  5.35s/it]\u001b[A\n",
      " 10%|▉         | 3034/30802 [4:42:44<42:05:33,  5.46s/it]\u001b[A\n",
      " 10%|▉         | 3035/30802 [4:42:50<43:09:38,  5.60s/it]\u001b[A\n",
      " 10%|▉         | 3036/30802 [4:42:56<43:44:18,  5.67s/it]\u001b[A"
     ]
    },
    {
     "name": "stdout",
     "output_type": "stream",
     "text": [
      "Epoch 0, Batch 3035, loss 107802720.0\n"
     ]
    },
    {
     "name": "stderr",
     "output_type": "stream",
     "text": [
      "\n",
      " 10%|▉         | 3037/30802 [4:43:02<44:13:54,  5.74s/it]\u001b[A\n",
      " 10%|▉         | 3038/30802 [4:43:08<44:20:17,  5.75s/it]\u001b[A\n",
      " 10%|▉         | 3039/30802 [4:43:13<44:00:29,  5.71s/it]\u001b[A\n",
      " 10%|▉         | 3040/30802 [4:43:19<43:19:17,  5.62s/it]\u001b[A\n",
      " 10%|▉         | 3041/30802 [4:43:24<42:51:21,  5.56s/it]\u001b[A"
     ]
    },
    {
     "name": "stdout",
     "output_type": "stream",
     "text": [
      "Epoch 0, Batch 3040, loss 366379936.0\n"
     ]
    },
    {
     "name": "stderr",
     "output_type": "stream",
     "text": [
      "\n",
      " 10%|▉         | 3042/30802 [4:43:29<42:31:57,  5.52s/it]\u001b[A\n",
      " 10%|▉         | 3043/30802 [4:43:35<41:41:13,  5.41s/it]\u001b[A\n",
      " 10%|▉         | 3044/30802 [4:43:39<40:32:12,  5.26s/it]\u001b[A\n",
      " 10%|▉         | 3045/30802 [4:43:45<40:14:11,  5.22s/it]\u001b[A\n",
      " 10%|▉         | 3046/30802 [4:43:50<40:34:02,  5.26s/it]\u001b[A"
     ]
    },
    {
     "name": "stdout",
     "output_type": "stream",
     "text": [
      "Epoch 0, Batch 3045, loss 124916192.0\n"
     ]
    },
    {
     "name": "stderr",
     "output_type": "stream",
     "text": [
      "\n",
      " 10%|▉         | 3047/30802 [4:43:55<40:39:38,  5.27s/it]\u001b[A\n",
      " 10%|▉         | 3048/30802 [4:44:01<41:10:59,  5.34s/it]\u001b[A\n",
      " 10%|▉         | 3049/30802 [4:44:08<44:55:24,  5.83s/it]\u001b[A\n",
      " 10%|▉         | 3050/30802 [4:44:14<46:52:13,  6.08s/it]\u001b[A\n",
      " 10%|▉         | 3051/30802 [4:44:20<46:18:34,  6.01s/it]\u001b[A"
     ]
    },
    {
     "name": "stdout",
     "output_type": "stream",
     "text": [
      "Epoch 0, Batch 3050, loss 370986080.0\n"
     ]
    },
    {
     "name": "stderr",
     "output_type": "stream",
     "text": [
      "\n",
      " 10%|▉         | 3052/30802 [4:44:27<46:57:00,  6.09s/it]\u001b[A\n",
      " 10%|▉         | 3053/30802 [4:44:32<46:36:47,  6.05s/it]\u001b[A\n",
      " 10%|▉         | 3054/30802 [4:44:38<45:06:50,  5.85s/it]\u001b[A\n",
      " 10%|▉         | 3055/30802 [4:44:43<43:56:22,  5.70s/it]\u001b[A\n",
      " 10%|▉         | 3056/30802 [4:44:48<42:37:32,  5.53s/it]\u001b[A"
     ]
    },
    {
     "name": "stdout",
     "output_type": "stream",
     "text": [
      "Epoch 0, Batch 3055, loss 473155296.0\n"
     ]
    },
    {
     "name": "stderr",
     "output_type": "stream",
     "text": [
      "\n",
      " 10%|▉         | 3057/30802 [4:44:53<41:20:09,  5.36s/it]\u001b[A\n",
      " 10%|▉         | 3058/30802 [4:44:59<42:57:25,  5.57s/it]\u001b[A\n",
      " 10%|▉         | 3059/30802 [4:45:06<45:23:53,  5.89s/it]\u001b[A\n",
      " 10%|▉         | 3060/30802 [4:45:11<44:24:47,  5.76s/it]\u001b[A\n",
      " 10%|▉         | 3061/30802 [4:45:16<42:08:58,  5.47s/it]\u001b[A"
     ]
    },
    {
     "name": "stdout",
     "output_type": "stream",
     "text": [
      "Epoch 0, Batch 3060, loss 260740896.0\n"
     ]
    },
    {
     "name": "stderr",
     "output_type": "stream",
     "text": [
      "\n",
      " 10%|▉         | 3062/30802 [4:45:21<40:36:24,  5.27s/it]\u001b[A\n",
      " 10%|▉         | 3063/30802 [4:45:26<40:55:55,  5.31s/it]\u001b[A\n",
      " 10%|▉         | 3064/30802 [4:45:32<40:22:34,  5.24s/it]\u001b[A\n",
      " 10%|▉         | 3065/30802 [4:45:37<39:47:19,  5.16s/it]\u001b[A\n",
      " 10%|▉         | 3066/30802 [4:45:42<40:45:39,  5.29s/it]\u001b[A"
     ]
    },
    {
     "name": "stdout",
     "output_type": "stream",
     "text": [
      "Epoch 0, Batch 3065, loss 613540800.0\n"
     ]
    },
    {
     "name": "stderr",
     "output_type": "stream",
     "text": [
      "\n",
      " 10%|▉         | 3067/30802 [4:45:47<40:43:34,  5.29s/it]\u001b[A\n",
      " 10%|▉         | 3068/30802 [4:45:53<40:48:35,  5.30s/it]\u001b[A\n",
      " 10%|▉         | 3069/30802 [4:45:58<40:39:08,  5.28s/it]\u001b[A\n",
      " 10%|▉         | 3070/30802 [4:46:03<40:17:46,  5.23s/it]\u001b[A\n",
      " 10%|▉         | 3071/30802 [4:46:08<40:27:28,  5.25s/it]\u001b[A"
     ]
    },
    {
     "name": "stdout",
     "output_type": "stream",
     "text": [
      "Epoch 0, Batch 3070, loss 589464064.0\n"
     ]
    },
    {
     "name": "stderr",
     "output_type": "stream",
     "text": [
      "\n",
      " 10%|▉         | 3072/30802 [4:46:13<40:04:35,  5.20s/it]\u001b[A\n",
      " 10%|▉         | 3073/30802 [4:46:18<39:10:34,  5.09s/it]\u001b[A\n",
      " 10%|▉         | 3074/30802 [4:46:23<38:37:56,  5.02s/it]\u001b[A\n",
      " 10%|▉         | 3075/30802 [4:46:28<38:16:07,  4.97s/it]\u001b[A\n",
      " 10%|▉         | 3076/30802 [4:46:33<38:35:07,  5.01s/it]\u001b[A"
     ]
    },
    {
     "name": "stdout",
     "output_type": "stream",
     "text": [
      "Epoch 0, Batch 3075, loss 31926492.0\n"
     ]
    },
    {
     "name": "stderr",
     "output_type": "stream",
     "text": [
      "\n",
      " 10%|▉         | 3077/30802 [4:46:38<39:08:26,  5.08s/it]\u001b[A\n",
      " 10%|▉         | 3078/30802 [4:46:44<39:52:12,  5.18s/it]\u001b[A\n",
      " 10%|▉         | 3079/30802 [4:46:49<40:18:21,  5.23s/it]\u001b[A\n",
      " 10%|▉         | 3080/30802 [4:46:55<42:51:03,  5.56s/it]\u001b[A\n",
      " 10%|█         | 3081/30802 [4:47:01<42:04:49,  5.46s/it]\u001b[A"
     ]
    },
    {
     "name": "stdout",
     "output_type": "stream",
     "text": [
      "Epoch 0, Batch 3080, loss 816310528.0\n"
     ]
    },
    {
     "name": "stderr",
     "output_type": "stream",
     "text": [
      "\n",
      " 10%|█         | 3082/30802 [4:47:06<41:40:51,  5.41s/it]\u001b[A\n",
      " 10%|█         | 3083/30802 [4:47:11<41:19:00,  5.37s/it]\u001b[A\n",
      " 10%|█         | 3084/30802 [4:47:16<41:03:08,  5.33s/it]\u001b[A\n",
      " 10%|█         | 3085/30802 [4:47:22<40:21:34,  5.24s/it]\u001b[A\n",
      " 10%|█         | 3086/30802 [4:47:27<40:33:41,  5.27s/it]\u001b[A"
     ]
    },
    {
     "name": "stdout",
     "output_type": "stream",
     "text": [
      "Epoch 0, Batch 3085, loss 591255872.0\n"
     ]
    },
    {
     "name": "stderr",
     "output_type": "stream",
     "text": [
      "\n",
      " 10%|█         | 3087/30802 [4:47:32<39:56:24,  5.19s/it]\u001b[A\n",
      " 10%|█         | 3088/30802 [4:47:37<39:47:37,  5.17s/it]\u001b[A\n",
      " 10%|█         | 3089/30802 [4:47:42<39:44:20,  5.16s/it]\u001b[A\n",
      " 10%|█         | 3090/30802 [4:47:47<40:05:07,  5.21s/it]\u001b[A\n",
      " 10%|█         | 3091/30802 [4:47:52<39:40:41,  5.15s/it]\u001b[A"
     ]
    },
    {
     "name": "stdout",
     "output_type": "stream",
     "text": [
      "Epoch 0, Batch 3090, loss 201954672.0\n"
     ]
    },
    {
     "name": "stderr",
     "output_type": "stream",
     "text": [
      "\n",
      " 10%|█         | 3092/30802 [4:47:58<39:47:22,  5.17s/it]\u001b[A\n",
      " 10%|█         | 3093/30802 [4:48:04<41:29:39,  5.39s/it]\u001b[A\n",
      " 10%|█         | 3094/30802 [4:48:12<47:41:28,  6.20s/it]\u001b[A\n",
      " 10%|█         | 3095/30802 [4:48:20<53:05:43,  6.90s/it]\u001b[A\n",
      " 10%|█         | 3096/30802 [4:48:26<51:12:47,  6.65s/it]\u001b[A"
     ]
    },
    {
     "name": "stdout",
     "output_type": "stream",
     "text": [
      "Epoch 0, Batch 3095, loss 1060750464.0\n"
     ]
    },
    {
     "name": "stderr",
     "output_type": "stream",
     "text": [
      "\n",
      " 10%|█         | 3097/30802 [4:48:32<48:03:13,  6.24s/it]\u001b[A\n",
      " 10%|█         | 3098/30802 [4:48:37<46:23:57,  6.03s/it]\u001b[A\n",
      " 10%|█         | 3099/30802 [4:48:42<44:14:30,  5.75s/it]\u001b[A\n",
      " 10%|█         | 3100/30802 [4:48:48<44:39:04,  5.80s/it]\u001b[A\n",
      " 10%|█         | 3101/30802 [4:48:55<46:44:18,  6.07s/it]\u001b[A"
     ]
    },
    {
     "name": "stdout",
     "output_type": "stream",
     "text": [
      "Epoch 0, Batch 3100, loss 426833120.0\n"
     ]
    },
    {
     "name": "stderr",
     "output_type": "stream",
     "text": [
      "\n",
      " 10%|█         | 3102/30802 [4:49:01<47:41:18,  6.20s/it]\u001b[A\n",
      " 10%|█         | 3103/30802 [4:49:08<48:40:54,  6.33s/it]\u001b[A\n",
      " 10%|█         | 3104/30802 [4:49:15<49:45:40,  6.47s/it]\u001b[A\n",
      " 10%|█         | 3105/30802 [4:49:22<50:26:01,  6.56s/it]\u001b[A\n",
      " 10%|█         | 3106/30802 [4:49:29<51:29:39,  6.69s/it]\u001b[A"
     ]
    },
    {
     "name": "stdout",
     "output_type": "stream",
     "text": [
      "Epoch 0, Batch 3105, loss 403609888.0\n"
     ]
    },
    {
     "name": "stderr",
     "output_type": "stream",
     "text": [
      "\n",
      " 10%|█         | 3107/30802 [4:49:35<51:15:33,  6.66s/it]\u001b[A\n",
      " 10%|█         | 3108/30802 [4:49:42<51:21:19,  6.68s/it]\u001b[A\n",
      " 10%|█         | 3109/30802 [4:49:48<51:16:44,  6.67s/it]\u001b[A\n",
      " 10%|█         | 3110/30802 [4:49:55<51:20:18,  6.67s/it]\u001b[A\n",
      " 10%|█         | 3111/30802 [4:50:02<51:10:56,  6.65s/it]\u001b[A"
     ]
    },
    {
     "name": "stdout",
     "output_type": "stream",
     "text": [
      "Epoch 0, Batch 3110, loss 511329536.0\n"
     ]
    },
    {
     "name": "stderr",
     "output_type": "stream",
     "text": [
      "\n",
      " 10%|█         | 3112/30802 [4:50:08<51:23:05,  6.68s/it]\u001b[A\n",
      " 10%|█         | 3113/30802 [4:50:15<51:35:56,  6.71s/it]\u001b[A\n",
      " 10%|█         | 3114/30802 [4:50:22<51:28:30,  6.69s/it]\u001b[A\n",
      " 10%|█         | 3115/30802 [4:50:29<51:45:45,  6.73s/it]\u001b[A\n",
      " 10%|█         | 3116/30802 [4:50:36<51:57:32,  6.76s/it]\u001b[A"
     ]
    },
    {
     "name": "stdout",
     "output_type": "stream",
     "text": [
      "Epoch 0, Batch 3115, loss 473661696.0\n"
     ]
    },
    {
     "name": "stderr",
     "output_type": "stream",
     "text": [
      "\n",
      " 10%|█         | 3117/30802 [4:50:42<51:54:55,  6.75s/it]\u001b[A\n",
      " 10%|█         | 3118/30802 [4:50:49<52:27:01,  6.82s/it]\u001b[A\n",
      " 10%|█         | 3119/30802 [4:50:56<52:58:15,  6.89s/it]\u001b[A\n",
      " 10%|█         | 3120/30802 [4:51:03<53:21:17,  6.94s/it]\u001b[A\n",
      " 10%|█         | 3121/30802 [4:51:11<53:45:07,  6.99s/it]\u001b[A"
     ]
    },
    {
     "name": "stdout",
     "output_type": "stream",
     "text": [
      "Epoch 0, Batch 3120, loss 489894624.0\n"
     ]
    },
    {
     "name": "stderr",
     "output_type": "stream",
     "text": [
      "\n",
      " 10%|█         | 3122/30802 [4:51:17<53:19:38,  6.94s/it]\u001b[A\n",
      " 10%|█         | 3123/30802 [4:51:25<54:55:36,  7.14s/it]\u001b[A\n",
      " 10%|█         | 3124/30802 [4:51:32<54:40:50,  7.11s/it]\u001b[A\n",
      " 10%|█         | 3125/30802 [4:51:39<53:41:19,  6.98s/it]\u001b[A\n",
      " 10%|█         | 3126/30802 [4:51:45<53:17:52,  6.93s/it]\u001b[A"
     ]
    },
    {
     "name": "stdout",
     "output_type": "stream",
     "text": [
      "Epoch 0, Batch 3125, loss 311920224.0\n"
     ]
    },
    {
     "name": "stderr",
     "output_type": "stream",
     "text": [
      "\n",
      " 10%|█         | 3127/30802 [4:51:53<55:14:09,  7.19s/it]\u001b[A\n",
      " 10%|█         | 3128/30802 [4:52:00<53:35:16,  6.97s/it]\u001b[A\n",
      " 10%|█         | 3129/30802 [4:52:06<52:51:10,  6.88s/it]\u001b[A\n",
      " 10%|█         | 3130/30802 [4:52:13<52:59:03,  6.89s/it]\u001b[A\n",
      " 10%|█         | 3131/30802 [4:52:21<53:58:58,  7.02s/it]\u001b[A"
     ]
    },
    {
     "name": "stdout",
     "output_type": "stream",
     "text": [
      "Epoch 0, Batch 3130, loss 392791744.0\n"
     ]
    },
    {
     "name": "stderr",
     "output_type": "stream",
     "text": [
      "\n",
      " 10%|█         | 3132/30802 [4:52:28<54:11:08,  7.05s/it]\u001b[A\n",
      " 10%|█         | 3133/30802 [4:52:37<58:23:28,  7.60s/it]\u001b[A\n",
      " 10%|█         | 3134/30802 [4:52:44<56:45:46,  7.39s/it]\u001b[A\n",
      " 10%|█         | 3135/30802 [4:52:51<56:09:42,  7.31s/it]\u001b[A\n",
      " 10%|█         | 3136/30802 [4:52:57<54:40:22,  7.11s/it]\u001b[A"
     ]
    },
    {
     "name": "stdout",
     "output_type": "stream",
     "text": [
      "Epoch 0, Batch 3135, loss 600383744.0\n"
     ]
    },
    {
     "name": "stderr",
     "output_type": "stream",
     "text": [
      "\n",
      " 10%|█         | 3137/30802 [4:53:04<53:20:16,  6.94s/it]\u001b[A\n",
      " 10%|█         | 3138/30802 [4:53:11<52:43:14,  6.86s/it]\u001b[A\n",
      " 10%|█         | 3139/30802 [4:53:18<54:31:42,  7.10s/it]\u001b[A\n",
      " 10%|█         | 3140/30802 [4:53:26<56:06:03,  7.30s/it]\u001b[A\n",
      " 10%|█         | 3141/30802 [4:53:33<55:30:49,  7.22s/it]\u001b[A"
     ]
    },
    {
     "name": "stdout",
     "output_type": "stream",
     "text": [
      "Epoch 0, Batch 3140, loss 384505824.0\n"
     ]
    },
    {
     "name": "stderr",
     "output_type": "stream",
     "text": [
      "\n",
      " 10%|█         | 3142/30802 [4:53:40<55:36:16,  7.24s/it]\u001b[A\n",
      " 10%|█         | 3143/30802 [4:53:47<54:41:31,  7.12s/it]\u001b[A\n",
      " 10%|█         | 3144/30802 [4:53:54<53:18:43,  6.94s/it]\u001b[A\n",
      " 10%|█         | 3145/30802 [4:54:01<54:15:43,  7.06s/it]\u001b[A\n",
      " 10%|█         | 3146/30802 [4:54:08<53:21:10,  6.94s/it]\u001b[A"
     ]
    },
    {
     "name": "stdout",
     "output_type": "stream",
     "text": [
      "Epoch 0, Batch 3145, loss 528044064.0\n"
     ]
    },
    {
     "name": "stderr",
     "output_type": "stream",
     "text": [
      "\n",
      " 10%|█         | 3147/30802 [4:54:14<53:06:51,  6.91s/it]\u001b[A\n",
      " 10%|█         | 3148/30802 [4:54:22<54:01:15,  7.03s/it]\u001b[A\n",
      " 10%|█         | 3149/30802 [4:54:29<54:11:31,  7.05s/it]\u001b[A\n",
      " 10%|█         | 3150/30802 [4:54:36<54:46:43,  7.13s/it]\u001b[A\n",
      " 10%|█         | 3151/30802 [4:54:45<58:05:42,  7.56s/it]\u001b[A"
     ]
    },
    {
     "name": "stdout",
     "output_type": "stream",
     "text": [
      "Epoch 0, Batch 3150, loss 14069154.0\n"
     ]
    },
    {
     "name": "stderr",
     "output_type": "stream",
     "text": [
      "\n",
      " 10%|█         | 3152/30802 [4:54:53<60:16:03,  7.85s/it]\u001b[A\n",
      " 10%|█         | 3153/30802 [4:55:00<57:55:06,  7.54s/it]\u001b[A\n",
      " 10%|█         | 3154/30802 [4:55:06<53:24:08,  6.95s/it]\u001b[A\n",
      " 10%|█         | 3155/30802 [4:55:11<50:41:43,  6.60s/it]\u001b[A\n",
      " 10%|█         | 3156/30802 [4:55:17<49:16:40,  6.42s/it]\u001b[A"
     ]
    },
    {
     "name": "stdout",
     "output_type": "stream",
     "text": [
      "Epoch 0, Batch 3155, loss 245024256.0\n"
     ]
    },
    {
     "name": "stderr",
     "output_type": "stream",
     "text": [
      "\n",
      " 10%|█         | 3157/30802 [4:55:23<47:21:49,  6.17s/it]\u001b[A\n",
      " 10%|█         | 3158/30802 [4:55:29<46:50:57,  6.10s/it]\u001b[A\n",
      " 10%|█         | 3159/30802 [4:55:36<49:20:36,  6.43s/it]\u001b[A\n",
      " 10%|█         | 3160/30802 [4:55:43<50:51:34,  6.62s/it]\u001b[A\n",
      " 10%|█         | 3161/30802 [4:55:50<50:38:33,  6.60s/it]\u001b[A"
     ]
    },
    {
     "name": "stdout",
     "output_type": "stream",
     "text": [
      "Epoch 0, Batch 3160, loss 463964608.0\n"
     ]
    },
    {
     "name": "stderr",
     "output_type": "stream",
     "text": [
      "\n",
      " 10%|█         | 3162/30802 [4:55:56<50:28:11,  6.57s/it]\u001b[A\n",
      " 10%|█         | 3163/30802 [4:56:03<51:05:24,  6.65s/it]\u001b[A\n",
      " 10%|█         | 3164/30802 [4:56:10<50:39:55,  6.60s/it]\u001b[A\n",
      " 10%|█         | 3165/30802 [4:56:17<51:50:32,  6.75s/it]\u001b[A\n",
      " 10%|█         | 3166/30802 [4:56:24<52:12:02,  6.80s/it]\u001b[A"
     ]
    },
    {
     "name": "stdout",
     "output_type": "stream",
     "text": [
      "Epoch 0, Batch 3165, loss 765455360.0\n"
     ]
    },
    {
     "name": "stderr",
     "output_type": "stream",
     "text": [
      "\n",
      " 10%|█         | 3167/30802 [4:56:30<51:01:16,  6.65s/it]\u001b[A\n",
      " 10%|█         | 3168/30802 [4:56:35<48:17:57,  6.29s/it]\u001b[A\n",
      " 10%|█         | 3169/30802 [4:56:41<46:34:51,  6.07s/it]\u001b[A\n",
      " 10%|█         | 3170/30802 [4:56:47<45:42:26,  5.95s/it]\u001b[A\n",
      " 10%|█         | 3171/30802 [4:56:52<45:07:45,  5.88s/it]\u001b[A"
     ]
    },
    {
     "name": "stdout",
     "output_type": "stream",
     "text": [
      "Epoch 0, Batch 3170, loss 29120994.0\n"
     ]
    },
    {
     "name": "stderr",
     "output_type": "stream",
     "text": [
      "\n",
      " 10%|█         | 3172/30802 [4:56:58<44:46:10,  5.83s/it]\u001b[A\n",
      " 10%|█         | 3173/30802 [4:57:04<44:33:05,  5.80s/it]\u001b[A\n",
      " 10%|█         | 3174/30802 [4:57:10<44:23:04,  5.78s/it]\u001b[A\n",
      " 10%|█         | 3175/30802 [4:57:15<44:35:20,  5.81s/it]\u001b[A\n",
      " 10%|█         | 3176/30802 [4:57:21<44:21:13,  5.78s/it]\u001b[A"
     ]
    },
    {
     "name": "stdout",
     "output_type": "stream",
     "text": [
      "Epoch 0, Batch 3175, loss 402711296.0\n"
     ]
    },
    {
     "name": "stderr",
     "output_type": "stream",
     "text": [
      "\n",
      " 10%|█         | 3177/30802 [4:57:27<45:08:34,  5.88s/it]\u001b[A\n",
      " 10%|█         | 3178/30802 [4:57:33<44:48:55,  5.84s/it]\u001b[A\n",
      " 10%|█         | 3179/30802 [4:57:39<44:57:40,  5.86s/it]\u001b[A\n",
      " 10%|█         | 3180/30802 [4:57:45<44:27:43,  5.79s/it]\u001b[A\n",
      " 10%|█         | 3181/30802 [4:57:50<43:54:56,  5.72s/it]\u001b[A"
     ]
    },
    {
     "name": "stdout",
     "output_type": "stream",
     "text": [
      "Epoch 0, Batch 3180, loss 408006816.0\n"
     ]
    },
    {
     "name": "stderr",
     "output_type": "stream",
     "text": [
      "\n",
      " 10%|█         | 3182/30802 [4:57:56<43:31:34,  5.67s/it]\u001b[A\n",
      " 10%|█         | 3183/30802 [4:58:01<42:44:37,  5.57s/it]\u001b[A\n",
      " 10%|█         | 3184/30802 [4:58:06<42:03:23,  5.48s/it]\u001b[A\n",
      " 10%|█         | 3185/30802 [4:58:11<41:23:39,  5.40s/it]\u001b[A\n",
      " 10%|█         | 3186/30802 [4:58:17<40:50:40,  5.32s/it]\u001b[A"
     ]
    },
    {
     "name": "stdout",
     "output_type": "stream",
     "text": [
      "Epoch 0, Batch 3185, loss 388713472.0\n"
     ]
    },
    {
     "name": "stderr",
     "output_type": "stream",
     "text": [
      "\n",
      " 10%|█         | 3187/30802 [4:58:22<40:24:57,  5.27s/it]\u001b[A\n",
      " 10%|█         | 3188/30802 [4:58:27<40:37:09,  5.30s/it]\u001b[A\n",
      " 10%|█         | 3189/30802 [4:58:33<40:54:04,  5.33s/it]\u001b[A\n",
      " 10%|█         | 3190/30802 [4:58:38<40:45:15,  5.31s/it]\u001b[A\n",
      " 10%|█         | 3191/30802 [4:58:43<41:05:03,  5.36s/it]\u001b[A"
     ]
    },
    {
     "name": "stdout",
     "output_type": "stream",
     "text": [
      "Epoch 0, Batch 3190, loss 159410800.0\n"
     ]
    },
    {
     "name": "stderr",
     "output_type": "stream",
     "text": [
      "\n",
      " 10%|█         | 3192/30802 [4:58:49<41:11:33,  5.37s/it]\u001b[A\n",
      " 10%|█         | 3193/30802 [4:58:54<41:12:17,  5.37s/it]\u001b[A\n",
      " 10%|█         | 3194/30802 [4:58:59<40:52:31,  5.33s/it]\u001b[A\n",
      " 10%|█         | 3195/30802 [4:59:04<40:30:38,  5.28s/it]\u001b[A\n",
      " 10%|█         | 3196/30802 [4:59:11<42:28:21,  5.54s/it]\u001b[A"
     ]
    },
    {
     "name": "stdout",
     "output_type": "stream",
     "text": [
      "Epoch 0, Batch 3195, loss 88545808.0\n"
     ]
    },
    {
     "name": "stderr",
     "output_type": "stream",
     "text": [
      "\n",
      " 10%|█         | 3197/30802 [4:59:16<41:30:29,  5.41s/it]\u001b[A\n",
      " 10%|█         | 3198/30802 [4:59:21<40:58:45,  5.34s/it]\u001b[A\n",
      " 10%|█         | 3199/30802 [4:59:27<41:55:57,  5.47s/it]\u001b[A\n",
      " 10%|█         | 3200/30802 [4:59:32<41:55:52,  5.47s/it]\u001b[A\n",
      " 10%|█         | 3201/30802 [4:59:37<41:41:38,  5.44s/it]\u001b[A"
     ]
    },
    {
     "name": "stdout",
     "output_type": "stream",
     "text": [
      "Epoch 0, Batch 3200, loss 104450104.0\n"
     ]
    },
    {
     "name": "stderr",
     "output_type": "stream",
     "text": [
      "\n",
      " 10%|█         | 3202/30802 [4:59:43<41:07:54,  5.37s/it]\u001b[A\n",
      " 10%|█         | 3203/30802 [4:59:48<40:46:54,  5.32s/it]\u001b[A\n",
      " 10%|█         | 3204/30802 [4:59:54<42:33:13,  5.55s/it]\u001b[A\n",
      " 10%|█         | 3205/30802 [4:59:59<42:21:17,  5.53s/it]\u001b[A\n",
      " 10%|█         | 3206/30802 [5:00:05<41:32:55,  5.42s/it]\u001b[A"
     ]
    },
    {
     "name": "stdout",
     "output_type": "stream",
     "text": [
      "Epoch 0, Batch 3205, loss 414062528.0\n"
     ]
    },
    {
     "name": "stderr",
     "output_type": "stream",
     "text": [
      "\n",
      " 10%|█         | 3207/30802 [5:00:10<41:12:39,  5.38s/it]\u001b[A\n",
      " 10%|█         | 3208/30802 [5:00:15<41:16:13,  5.38s/it]\u001b[A\n",
      " 10%|█         | 3209/30802 [5:00:21<40:55:22,  5.34s/it]\u001b[A\n",
      " 10%|█         | 3210/30802 [5:00:26<41:01:27,  5.35s/it]\u001b[A\n",
      " 10%|█         | 3211/30802 [5:00:31<40:40:16,  5.31s/it]\u001b[A"
     ]
    },
    {
     "name": "stdout",
     "output_type": "stream",
     "text": [
      "Epoch 0, Batch 3210, loss 455235904.0\n"
     ]
    },
    {
     "name": "stderr",
     "output_type": "stream",
     "text": [
      "\n",
      " 10%|█         | 3212/30802 [5:00:36<40:30:44,  5.29s/it]\u001b[A\n",
      " 10%|█         | 3213/30802 [5:00:42<41:11:43,  5.38s/it]\u001b[A\n",
      " 10%|█         | 3214/30802 [5:00:47<41:04:38,  5.36s/it]\u001b[A\n",
      " 10%|█         | 3215/30802 [5:00:52<40:42:35,  5.31s/it]\u001b[A\n",
      " 10%|█         | 3216/30802 [5:00:58<40:44:07,  5.32s/it]\u001b[A"
     ]
    },
    {
     "name": "stdout",
     "output_type": "stream",
     "text": [
      "Epoch 0, Batch 3215, loss 321011360.0\n"
     ]
    },
    {
     "name": "stderr",
     "output_type": "stream",
     "text": [
      "\n",
      " 10%|█         | 3217/30802 [5:01:03<41:03:54,  5.36s/it]\u001b[A\n",
      " 10%|█         | 3218/30802 [5:01:09<41:20:04,  5.39s/it]\u001b[A\n",
      " 10%|█         | 3219/30802 [5:01:14<41:46:31,  5.45s/it]\u001b[A\n",
      " 10%|█         | 3220/30802 [5:01:20<42:12:44,  5.51s/it]\u001b[A\n",
      " 10%|█         | 3221/30802 [5:01:26<43:03:03,  5.62s/it]\u001b[A"
     ]
    },
    {
     "name": "stdout",
     "output_type": "stream",
     "text": [
      "Epoch 0, Batch 3220, loss 738077632.0\n"
     ]
    },
    {
     "name": "stderr",
     "output_type": "stream",
     "text": [
      "\n",
      " 10%|█         | 3222/30802 [5:01:31<42:53:27,  5.60s/it]\u001b[A\n",
      " 10%|█         | 3223/30802 [5:01:36<41:48:54,  5.46s/it]\u001b[A\n",
      " 10%|█         | 3224/30802 [5:01:42<41:37:33,  5.43s/it]\u001b[A\n",
      " 10%|█         | 3225/30802 [5:01:47<41:06:45,  5.37s/it]\u001b[A\n",
      " 10%|█         | 3226/30802 [5:01:52<40:49:48,  5.33s/it]\u001b[A"
     ]
    },
    {
     "name": "stdout",
     "output_type": "stream",
     "text": [
      "Epoch 0, Batch 3225, loss 241326528.0\n"
     ]
    },
    {
     "name": "stderr",
     "output_type": "stream",
     "text": [
      "\n",
      " 10%|█         | 3227/30802 [5:01:58<40:58:04,  5.35s/it]\u001b[A\n",
      " 10%|█         | 3228/30802 [5:02:03<40:47:34,  5.33s/it]\u001b[A\n",
      " 10%|█         | 3229/30802 [5:02:08<40:48:20,  5.33s/it]\u001b[A\n",
      " 10%|█         | 3230/30802 [5:02:14<41:05:04,  5.36s/it]\u001b[A\n",
      " 10%|█         | 3231/30802 [5:02:19<40:52:29,  5.34s/it]\u001b[A"
     ]
    },
    {
     "name": "stdout",
     "output_type": "stream",
     "text": [
      "Epoch 0, Batch 3230, loss 375208864.0\n"
     ]
    },
    {
     "name": "stderr",
     "output_type": "stream",
     "text": [
      "\n",
      " 10%|█         | 3232/30802 [5:02:24<40:53:26,  5.34s/it]\u001b[A\n",
      " 10%|█         | 3233/30802 [5:02:30<41:00:20,  5.35s/it]\u001b[A\n",
      " 10%|█         | 3234/30802 [5:02:35<41:07:47,  5.37s/it]\u001b[A\n",
      " 11%|█         | 3235/30802 [5:02:41<41:21:57,  5.40s/it]\u001b[A\n",
      " 11%|█         | 3236/30802 [5:02:46<41:24:26,  5.41s/it]\u001b[A"
     ]
    },
    {
     "name": "stdout",
     "output_type": "stream",
     "text": [
      "Epoch 0, Batch 3235, loss 665338240.0\n"
     ]
    },
    {
     "name": "stderr",
     "output_type": "stream",
     "text": [
      "\n",
      " 11%|█         | 3237/30802 [5:02:51<41:13:45,  5.38s/it]\u001b[A\n",
      " 11%|█         | 3238/30802 [5:02:57<41:50:45,  5.47s/it]\u001b[A\n",
      " 11%|█         | 3239/30802 [5:03:02<41:22:43,  5.40s/it]\u001b[A\n",
      " 11%|█         | 3240/30802 [5:03:08<40:54:03,  5.34s/it]\u001b[A\n",
      " 11%|█         | 3241/30802 [5:03:13<42:14:16,  5.52s/it]\u001b[A"
     ]
    },
    {
     "name": "stdout",
     "output_type": "stream",
     "text": [
      "Epoch 0, Batch 3240, loss 114668912.0\n"
     ]
    },
    {
     "name": "stderr",
     "output_type": "stream",
     "text": [
      "\n",
      " 11%|█         | 3242/30802 [5:03:19<42:10:35,  5.51s/it]\u001b[A\n",
      " 11%|█         | 3243/30802 [5:03:24<41:28:24,  5.42s/it]\u001b[A\n",
      " 11%|█         | 3244/30802 [5:03:29<41:18:59,  5.40s/it]\u001b[A\n",
      " 11%|█         | 3245/30802 [5:03:35<41:05:45,  5.37s/it]\u001b[A\n",
      " 11%|█         | 3246/30802 [5:03:40<41:11:04,  5.38s/it]\u001b[A"
     ]
    },
    {
     "name": "stdout",
     "output_type": "stream",
     "text": [
      "Epoch 0, Batch 3245, loss 308924288.0\n"
     ]
    },
    {
     "name": "stderr",
     "output_type": "stream",
     "text": [
      "\n",
      " 11%|█         | 3247/30802 [5:03:45<40:50:25,  5.34s/it]\u001b[A\n",
      " 11%|█         | 3248/30802 [5:03:51<40:49:35,  5.33s/it]\u001b[A\n",
      " 11%|█         | 3249/30802 [5:03:56<40:58:47,  5.35s/it]\u001b[A\n",
      " 11%|█         | 3250/30802 [5:04:02<41:01:48,  5.36s/it]\u001b[A\n",
      " 11%|█         | 3251/30802 [5:04:07<40:59:53,  5.36s/it]\u001b[A"
     ]
    },
    {
     "name": "stdout",
     "output_type": "stream",
     "text": [
      "Epoch 0, Batch 3250, loss 216269488.0\n"
     ]
    },
    {
     "name": "stderr",
     "output_type": "stream",
     "text": [
      "\n",
      " 11%|█         | 3252/30802 [5:04:12<41:20:38,  5.40s/it]\u001b[A\n",
      " 11%|█         | 3253/30802 [5:04:18<41:21:33,  5.40s/it]\u001b[A\n",
      " 11%|█         | 3254/30802 [5:04:23<41:16:21,  5.39s/it]\u001b[A\n",
      " 11%|█         | 3255/30802 [5:04:29<41:31:39,  5.43s/it]\u001b[A\n",
      " 11%|█         | 3256/30802 [5:04:34<41:37:57,  5.44s/it]\u001b[A"
     ]
    },
    {
     "name": "stdout",
     "output_type": "stream",
     "text": [
      "Epoch 0, Batch 3255, loss 208946384.0\n"
     ]
    },
    {
     "name": "stderr",
     "output_type": "stream",
     "text": [
      "\n",
      " 11%|█         | 3257/30802 [5:04:40<41:50:15,  5.47s/it]\u001b[A\n",
      " 11%|█         | 3258/30802 [5:04:45<41:49:08,  5.47s/it]\u001b[A\n",
      " 11%|█         | 3259/30802 [5:04:50<41:29:14,  5.42s/it]\u001b[A\n",
      " 11%|█         | 3260/30802 [5:04:56<41:17:55,  5.40s/it]\u001b[A\n",
      " 11%|█         | 3261/30802 [5:05:01<41:19:42,  5.40s/it]\u001b[A"
     ]
    },
    {
     "name": "stdout",
     "output_type": "stream",
     "text": [
      "Epoch 0, Batch 3260, loss 28280366.0\n"
     ]
    },
    {
     "name": "stderr",
     "output_type": "stream",
     "text": [
      "\n",
      " 11%|█         | 3262/30802 [5:05:06<40:49:12,  5.34s/it]\u001b[A\n",
      " 11%|█         | 3263/30802 [5:05:12<40:44:23,  5.33s/it]\u001b[A\n",
      " 11%|█         | 3264/30802 [5:05:17<40:35:04,  5.31s/it]\u001b[A\n",
      " 11%|█         | 3265/30802 [5:05:22<40:19:25,  5.27s/it]\u001b[A\n",
      " 11%|█         | 3266/30802 [5:05:28<40:57:24,  5.35s/it]\u001b[A"
     ]
    },
    {
     "name": "stdout",
     "output_type": "stream",
     "text": [
      "Epoch 0, Batch 3265, loss 630748864.0\n"
     ]
    },
    {
     "name": "stderr",
     "output_type": "stream",
     "text": [
      "\n",
      " 11%|█         | 3267/30802 [5:05:33<41:42:17,  5.45s/it]\u001b[A\n",
      " 11%|█         | 3268/30802 [5:05:39<42:04:36,  5.50s/it]\u001b[A\n",
      " 11%|█         | 3269/30802 [5:05:44<41:45:22,  5.46s/it]\u001b[A\n",
      " 11%|█         | 3270/30802 [5:05:50<42:07:52,  5.51s/it]\u001b[A\n",
      " 11%|█         | 3271/30802 [5:05:56<43:15:22,  5.66s/it]\u001b[A"
     ]
    },
    {
     "name": "stdout",
     "output_type": "stream",
     "text": [
      "Epoch 0, Batch 3270, loss 115904832.0\n"
     ]
    },
    {
     "name": "stderr",
     "output_type": "stream",
     "text": [
      "\n",
      " 11%|█         | 3272/30802 [5:06:01<42:37:49,  5.57s/it]\u001b[A\n",
      " 11%|█         | 3273/30802 [5:06:07<41:53:08,  5.48s/it]\u001b[A\n",
      " 11%|█         | 3274/30802 [5:06:12<41:22:42,  5.41s/it]\u001b[A\n",
      " 11%|█         | 3275/30802 [5:06:17<41:29:14,  5.43s/it]\u001b[A\n",
      " 11%|█         | 3276/30802 [5:06:23<41:40:34,  5.45s/it]\u001b[A"
     ]
    },
    {
     "name": "stdout",
     "output_type": "stream",
     "text": [
      "Epoch 0, Batch 3275, loss 171249584.0\n"
     ]
    },
    {
     "name": "stderr",
     "output_type": "stream",
     "text": [
      "\n",
      " 11%|█         | 3277/30802 [5:06:28<41:30:28,  5.43s/it]\u001b[A\n",
      " 11%|█         | 3278/30802 [5:06:34<41:28:53,  5.43s/it]\u001b[A\n",
      " 11%|█         | 3279/30802 [5:06:39<40:57:53,  5.36s/it]\u001b[A\n",
      " 11%|█         | 3280/30802 [5:06:44<41:25:23,  5.42s/it]\u001b[A\n",
      " 11%|█         | 3281/30802 [5:06:50<42:45:41,  5.59s/it]\u001b[A"
     ]
    },
    {
     "name": "stdout",
     "output_type": "stream",
     "text": [
      "Epoch 0, Batch 3280, loss 32748324.0\n"
     ]
    },
    {
     "name": "stderr",
     "output_type": "stream",
     "text": [
      "\n",
      " 11%|█         | 3282/30802 [5:06:56<43:36:30,  5.70s/it]\u001b[A\n",
      " 11%|█         | 3283/30802 [5:07:02<42:45:31,  5.59s/it]\u001b[A\n",
      " 11%|█         | 3284/30802 [5:07:07<42:43:02,  5.59s/it]\u001b[A\n",
      " 11%|█         | 3285/30802 [5:07:13<42:40:22,  5.58s/it]\u001b[A\n",
      " 11%|█         | 3286/30802 [5:07:18<42:30:36,  5.56s/it]\u001b[A"
     ]
    },
    {
     "name": "stdout",
     "output_type": "stream",
     "text": [
      "Epoch 0, Batch 3285, loss 445624192.0\n"
     ]
    },
    {
     "name": "stderr",
     "output_type": "stream",
     "text": [
      "\n",
      " 11%|█         | 3287/30802 [5:07:24<42:03:29,  5.50s/it]\u001b[A\n",
      " 11%|█         | 3288/30802 [5:07:29<41:40:00,  5.45s/it]\u001b[A\n",
      " 11%|█         | 3289/30802 [5:07:34<41:09:46,  5.39s/it]\u001b[A\n",
      " 11%|█         | 3290/30802 [5:07:40<40:46:58,  5.34s/it]\u001b[A\n",
      " 11%|█         | 3291/30802 [5:07:45<40:31:53,  5.30s/it]\u001b[A"
     ]
    },
    {
     "name": "stdout",
     "output_type": "stream",
     "text": [
      "Epoch 0, Batch 3290, loss 460841408.0\n"
     ]
    },
    {
     "name": "stderr",
     "output_type": "stream",
     "text": [
      "\n",
      " 11%|█         | 3292/30802 [5:07:50<40:49:47,  5.34s/it]\u001b[A\n",
      " 11%|█         | 3293/30802 [5:07:56<41:08:24,  5.38s/it]\u001b[A\n",
      " 11%|█         | 3294/30802 [5:08:01<41:11:54,  5.39s/it]\u001b[A\n",
      " 11%|█         | 3295/30802 [5:08:06<41:01:14,  5.37s/it]\u001b[A\n",
      " 11%|█         | 3296/30802 [5:08:12<41:45:13,  5.46s/it]\u001b[A"
     ]
    },
    {
     "name": "stdout",
     "output_type": "stream",
     "text": [
      "Epoch 0, Batch 3295, loss 175070880.0\n"
     ]
    },
    {
     "name": "stderr",
     "output_type": "stream",
     "text": [
      "\n",
      " 11%|█         | 3297/30802 [5:08:17<41:39:55,  5.45s/it]\u001b[A\n",
      " 11%|█         | 3298/30802 [5:08:23<41:11:44,  5.39s/it]\u001b[A\n",
      " 11%|█         | 3299/30802 [5:08:28<41:01:34,  5.37s/it]\u001b[A\n",
      " 11%|█         | 3300/30802 [5:08:33<40:45:38,  5.34s/it]\u001b[A\n",
      " 11%|█         | 3301/30802 [5:08:39<40:56:27,  5.36s/it]\u001b[A"
     ]
    },
    {
     "name": "stdout",
     "output_type": "stream",
     "text": [
      "Epoch 0, Batch 3300, loss 408240192.0\n"
     ]
    },
    {
     "name": "stderr",
     "output_type": "stream",
     "text": [
      "\n",
      " 11%|█         | 3302/30802 [5:08:44<41:33:44,  5.44s/it]\u001b[A\n",
      " 11%|█         | 3303/30802 [5:08:50<42:01:03,  5.50s/it]\u001b[A\n",
      " 11%|█         | 3304/30802 [5:08:56<42:15:15,  5.53s/it]\u001b[A\n",
      " 11%|█         | 3305/30802 [5:09:01<42:16:19,  5.53s/it]\u001b[A\n",
      " 11%|█         | 3306/30802 [5:09:07<43:40:29,  5.72s/it]\u001b[A"
     ]
    },
    {
     "name": "stdout",
     "output_type": "stream",
     "text": [
      "Epoch 0, Batch 3305, loss 104410728.0\n"
     ]
    },
    {
     "name": "stderr",
     "output_type": "stream",
     "text": [
      "\n",
      " 11%|█         | 3307/30802 [5:09:13<43:41:10,  5.72s/it]\u001b[A\n",
      " 11%|█         | 3308/30802 [5:09:19<43:22:24,  5.68s/it]\u001b[A\n",
      " 11%|█         | 3309/30802 [5:09:24<43:04:52,  5.64s/it]\u001b[A\n",
      " 11%|█         | 3310/30802 [5:09:30<42:45:50,  5.60s/it]\u001b[A\n",
      " 11%|█         | 3311/30802 [5:09:35<41:48:19,  5.47s/it]\u001b[A"
     ]
    },
    {
     "name": "stdout",
     "output_type": "stream",
     "text": [
      "Epoch 0, Batch 3310, loss 483871488.0\n"
     ]
    },
    {
     "name": "stderr",
     "output_type": "stream",
     "text": [
      "\n",
      " 11%|█         | 3312/30802 [5:09:40<41:24:56,  5.42s/it]\u001b[A\n",
      " 11%|█         | 3313/30802 [5:09:46<41:45:15,  5.47s/it]\u001b[A\n",
      " 11%|█         | 3314/30802 [5:09:51<41:29:27,  5.43s/it]\u001b[A\n",
      " 11%|█         | 3315/30802 [5:09:56<41:10:48,  5.39s/it]\u001b[A\n",
      " 11%|█         | 3316/30802 [5:10:02<40:50:55,  5.35s/it]\u001b[A"
     ]
    },
    {
     "name": "stdout",
     "output_type": "stream",
     "text": [
      "Epoch 0, Batch 3315, loss 224368384.0\n"
     ]
    },
    {
     "name": "stderr",
     "output_type": "stream",
     "text": [
      "\n",
      " 11%|█         | 3317/30802 [5:10:07<41:33:47,  5.44s/it]\u001b[A\n",
      " 11%|█         | 3318/30802 [5:10:13<41:26:38,  5.43s/it]\u001b[A\n",
      " 11%|█         | 3319/30802 [5:10:18<41:04:36,  5.38s/it]\u001b[A\n",
      " 11%|█         | 3320/30802 [5:10:23<40:38:02,  5.32s/it]\u001b[A\n",
      " 11%|█         | 3321/30802 [5:10:28<40:41:30,  5.33s/it]\u001b[A"
     ]
    },
    {
     "name": "stdout",
     "output_type": "stream",
     "text": [
      "Epoch 0, Batch 3320, loss 649746496.0\n"
     ]
    },
    {
     "name": "stderr",
     "output_type": "stream",
     "text": [
      "\n",
      " 11%|█         | 3322/30802 [5:10:34<40:42:44,  5.33s/it]\u001b[A\n",
      " 11%|█         | 3323/30802 [5:10:39<41:07:07,  5.39s/it]\u001b[A\n",
      " 11%|█         | 3324/30802 [5:10:45<41:08:54,  5.39s/it]\u001b[A\n",
      " 11%|█         | 3325/30802 [5:10:51<42:14:24,  5.53s/it]\u001b[A\n",
      " 11%|█         | 3326/30802 [5:10:56<42:19:35,  5.55s/it]\u001b[A"
     ]
    },
    {
     "name": "stdout",
     "output_type": "stream",
     "text": [
      "Epoch 0, Batch 3325, loss 388163936.0\n"
     ]
    },
    {
     "name": "stderr",
     "output_type": "stream",
     "text": [
      "\n",
      " 11%|█         | 3327/30802 [5:11:02<41:53:31,  5.49s/it]\u001b[A\n",
      " 11%|█         | 3328/30802 [5:11:08<43:23:13,  5.69s/it]\u001b[A\n",
      " 11%|█         | 3329/30802 [5:11:13<42:29:59,  5.57s/it]\u001b[A\n",
      " 11%|█         | 3330/30802 [5:11:19<42:35:18,  5.58s/it]\u001b[A\n",
      " 11%|█         | 3331/30802 [5:11:24<42:07:31,  5.52s/it]\u001b[A"
     ]
    },
    {
     "name": "stdout",
     "output_type": "stream",
     "text": [
      "Epoch 0, Batch 3330, loss 443328736.0\n"
     ]
    },
    {
     "name": "stderr",
     "output_type": "stream",
     "text": [
      "\n",
      " 11%|█         | 3332/30802 [5:11:30<42:14:52,  5.54s/it]\u001b[A\n",
      " 11%|█         | 3333/30802 [5:11:35<42:27:54,  5.57s/it]\u001b[A\n",
      " 11%|█         | 3334/30802 [5:11:41<42:28:58,  5.57s/it]\u001b[A\n",
      " 11%|█         | 3335/30802 [5:11:47<43:01:31,  5.64s/it]\u001b[A\n",
      " 11%|█         | 3336/30802 [5:11:52<42:22:21,  5.55s/it]\u001b[A"
     ]
    },
    {
     "name": "stdout",
     "output_type": "stream",
     "text": [
      "Epoch 0, Batch 3335, loss 215826992.0\n"
     ]
    },
    {
     "name": "stderr",
     "output_type": "stream",
     "text": [
      "\n",
      " 11%|█         | 3337/30802 [5:11:57<42:02:14,  5.51s/it]\u001b[A\n",
      " 11%|█         | 3338/30802 [5:12:03<41:43:02,  5.47s/it]\u001b[A\n",
      " 11%|█         | 3339/30802 [5:12:08<41:29:37,  5.44s/it]\u001b[A\n",
      " 11%|█         | 3340/30802 [5:12:14<41:39:44,  5.46s/it]\u001b[A\n",
      " 11%|█         | 3341/30802 [5:12:19<42:08:10,  5.52s/it]\u001b[A"
     ]
    },
    {
     "name": "stdout",
     "output_type": "stream",
     "text": [
      "Epoch 0, Batch 3340, loss 647704704.0\n"
     ]
    },
    {
     "name": "stderr",
     "output_type": "stream",
     "text": [
      "\n",
      " 11%|█         | 3342/30802 [5:12:25<42:11:32,  5.53s/it]\u001b[A\n",
      " 11%|█         | 3343/30802 [5:12:30<42:23:35,  5.56s/it]\u001b[A\n",
      " 11%|█         | 3344/30802 [5:12:36<42:18:17,  5.55s/it]\u001b[A\n",
      " 11%|█         | 3345/30802 [5:12:41<42:11:44,  5.53s/it]\u001b[A\n",
      " 11%|█         | 3346/30802 [5:12:47<41:42:41,  5.47s/it]\u001b[A"
     ]
    },
    {
     "name": "stdout",
     "output_type": "stream",
     "text": [
      "Epoch 0, Batch 3345, loss 362445280.0\n"
     ]
    },
    {
     "name": "stderr",
     "output_type": "stream",
     "text": [
      "\n",
      " 11%|█         | 3347/30802 [5:12:52<41:08:50,  5.40s/it]\u001b[A\n",
      " 11%|█         | 3348/30802 [5:12:57<40:34:36,  5.32s/it]\u001b[A\n",
      " 11%|█         | 3349/30802 [5:13:02<40:30:39,  5.31s/it]\u001b[A\n",
      " 11%|█         | 3350/30802 [5:13:08<40:57:39,  5.37s/it]\u001b[A\n",
      " 11%|█         | 3351/30802 [5:13:14<41:27:12,  5.44s/it]\u001b[A"
     ]
    },
    {
     "name": "stdout",
     "output_type": "stream",
     "text": [
      "Epoch 0, Batch 3350, loss 29656154.0\n"
     ]
    },
    {
     "name": "stderr",
     "output_type": "stream",
     "text": [
      "\n",
      " 11%|█         | 3352/30802 [5:13:19<41:25:50,  5.43s/it]\u001b[A\n",
      " 11%|█         | 3353/30802 [5:13:24<40:54:25,  5.37s/it]\u001b[A\n",
      " 11%|█         | 3354/30802 [5:13:30<40:58:15,  5.37s/it]\u001b[A\n",
      " 11%|█         | 3355/30802 [5:13:35<41:17:14,  5.42s/it]\u001b[A\n",
      " 11%|█         | 3356/30802 [5:13:40<41:07:08,  5.39s/it]\u001b[A"
     ]
    },
    {
     "name": "stdout",
     "output_type": "stream",
     "text": [
      "Epoch 0, Batch 3355, loss 35847036.0\n"
     ]
    },
    {
     "name": "stderr",
     "output_type": "stream",
     "text": [
      "\n",
      " 11%|█         | 3357/30802 [5:13:46<41:19:46,  5.42s/it]\u001b[A\n",
      " 11%|█         | 3358/30802 [5:13:51<41:38:25,  5.46s/it]\u001b[A\n",
      " 11%|█         | 3359/30802 [5:13:57<40:57:31,  5.37s/it]\u001b[A\n",
      " 11%|█         | 3360/30802 [5:14:02<40:40:46,  5.34s/it]\u001b[A\n",
      " 11%|█         | 3361/30802 [5:14:07<41:07:38,  5.40s/it]\u001b[A"
     ]
    },
    {
     "name": "stdout",
     "output_type": "stream",
     "text": [
      "Epoch 0, Batch 3360, loss 479902304.0\n"
     ]
    },
    {
     "name": "stderr",
     "output_type": "stream",
     "text": [
      "\n",
      " 11%|█         | 3362/30802 [5:14:13<40:43:12,  5.34s/it]\u001b[A\n",
      " 11%|█         | 3363/30802 [5:14:18<41:23:09,  5.43s/it]\u001b[A\n",
      " 11%|█         | 3364/30802 [5:14:25<43:42:01,  5.73s/it]\u001b[A\n",
      " 11%|█         | 3365/30802 [5:14:30<43:07:38,  5.66s/it]\u001b[A\n",
      " 11%|█         | 3366/30802 [5:14:36<42:54:37,  5.63s/it]\u001b[A"
     ]
    },
    {
     "name": "stdout",
     "output_type": "stream",
     "text": [
      "Epoch 0, Batch 3365, loss 152215696.0\n"
     ]
    },
    {
     "name": "stderr",
     "output_type": "stream",
     "text": [
      "\n",
      " 11%|█         | 3367/30802 [5:14:41<42:12:21,  5.54s/it]\u001b[A\n",
      " 11%|█         | 3368/30802 [5:14:46<42:00:03,  5.51s/it]\u001b[A\n",
      " 11%|█         | 3369/30802 [5:14:52<41:24:31,  5.43s/it]\u001b[A\n",
      " 11%|█         | 3370/30802 [5:14:57<41:17:13,  5.42s/it]\u001b[A\n",
      " 11%|█         | 3371/30802 [5:15:02<40:51:36,  5.36s/it]\u001b[A"
     ]
    },
    {
     "name": "stdout",
     "output_type": "stream",
     "text": [
      "Epoch 0, Batch 3370, loss 337958048.0\n"
     ]
    },
    {
     "name": "stderr",
     "output_type": "stream",
     "text": [
      "\n",
      " 11%|█         | 3372/30802 [5:15:08<40:31:58,  5.32s/it]\u001b[A\n",
      " 11%|█         | 3373/30802 [5:15:13<40:37:56,  5.33s/it]\u001b[A\n",
      " 11%|█         | 3374/30802 [5:15:18<40:31:11,  5.32s/it]\u001b[A\n",
      " 11%|█         | 3375/30802 [5:15:24<40:45:57,  5.35s/it]\u001b[A\n",
      " 11%|█         | 3376/30802 [5:15:29<41:31:32,  5.45s/it]\u001b[A"
     ]
    },
    {
     "name": "stdout",
     "output_type": "stream",
     "text": [
      "Epoch 0, Batch 3375, loss 245174192.0\n"
     ]
    },
    {
     "name": "stderr",
     "output_type": "stream",
     "text": [
      "\n",
      " 11%|█         | 3377/30802 [5:15:35<41:11:28,  5.41s/it]\u001b[A\n",
      " 11%|█         | 3378/30802 [5:15:40<41:04:49,  5.39s/it]\u001b[A\n",
      " 11%|█         | 3379/30802 [5:15:45<41:01:24,  5.39s/it]\u001b[A\n",
      " 11%|█         | 3380/30802 [5:15:51<41:13:08,  5.41s/it]\u001b[A\n",
      " 11%|█         | 3381/30802 [5:15:56<41:04:20,  5.39s/it]\u001b[A"
     ]
    },
    {
     "name": "stdout",
     "output_type": "stream",
     "text": [
      "Epoch 0, Batch 3380, loss 217076672.0\n"
     ]
    },
    {
     "name": "stderr",
     "output_type": "stream",
     "text": [
      "\n",
      " 11%|█         | 3382/30802 [5:16:01<40:48:59,  5.36s/it]\u001b[A\n",
      " 11%|█         | 3383/30802 [5:16:07<40:45:24,  5.35s/it]\u001b[A\n",
      " 11%|█         | 3384/30802 [5:16:12<40:28:50,  5.32s/it]\u001b[A\n",
      " 11%|█         | 3385/30802 [5:16:17<40:31:50,  5.32s/it]\u001b[A\n",
      " 11%|█         | 3386/30802 [5:16:23<40:19:59,  5.30s/it]\u001b[A"
     ]
    },
    {
     "name": "stdout",
     "output_type": "stream",
     "text": [
      "Epoch 0, Batch 3385, loss 469236832.0\n"
     ]
    },
    {
     "name": "stderr",
     "output_type": "stream",
     "text": [
      "\n",
      " 11%|█         | 3387/30802 [5:16:28<40:48:44,  5.36s/it]\u001b[A\n",
      " 11%|█         | 3388/30802 [5:16:33<40:38:47,  5.34s/it]\u001b[A\n",
      " 11%|█         | 3389/30802 [5:16:39<40:51:11,  5.37s/it]\u001b[A\n",
      " 11%|█         | 3390/30802 [5:16:44<41:23:49,  5.44s/it]\u001b[A\n",
      " 11%|█         | 3391/30802 [5:16:50<41:33:15,  5.46s/it]\u001b[A"
     ]
    },
    {
     "name": "stdout",
     "output_type": "stream",
     "text": [
      "Epoch 0, Batch 3390, loss 41936028.0\n"
     ]
    },
    {
     "name": "stderr",
     "output_type": "stream",
     "text": [
      "\n",
      " 11%|█         | 3392/30802 [5:16:56<41:56:25,  5.51s/it]\u001b[A\n",
      " 11%|█         | 3393/30802 [5:17:01<41:35:09,  5.46s/it]\u001b[A\n",
      " 11%|█         | 3394/30802 [5:17:06<41:47:56,  5.49s/it]\u001b[A\n",
      " 11%|█         | 3395/30802 [5:17:12<42:12:25,  5.54s/it]\u001b[A\n",
      " 11%|█         | 3396/30802 [5:17:18<42:20:55,  5.56s/it]\u001b[A"
     ]
    },
    {
     "name": "stdout",
     "output_type": "stream",
     "text": [
      "Epoch 0, Batch 3395, loss 344481344.0\n"
     ]
    },
    {
     "name": "stderr",
     "output_type": "stream",
     "text": [
      "\n",
      " 11%|█         | 3397/30802 [5:17:23<42:16:48,  5.55s/it]\u001b[A\n",
      " 11%|█         | 3398/30802 [5:17:29<42:49:56,  5.63s/it]\u001b[A\n",
      " 11%|█         | 3399/30802 [5:17:34<41:50:26,  5.50s/it]\u001b[A\n",
      " 11%|█         | 3400/30802 [5:17:40<41:33:13,  5.46s/it]\u001b[A\n",
      " 11%|█         | 3401/30802 [5:17:45<41:17:09,  5.42s/it]\u001b[A"
     ]
    },
    {
     "name": "stdout",
     "output_type": "stream",
     "text": [
      "Epoch 0, Batch 3400, loss 701626880.0\n"
     ]
    },
    {
     "name": "stderr",
     "output_type": "stream",
     "text": [
      "\n",
      " 11%|█         | 3402/30802 [5:17:51<42:02:32,  5.52s/it]\u001b[A\n",
      " 11%|█         | 3403/30802 [5:17:56<42:03:22,  5.53s/it]\u001b[A\n",
      " 11%|█         | 3404/30802 [5:18:02<41:47:19,  5.49s/it]\u001b[A\n",
      " 11%|█         | 3405/30802 [5:18:07<41:33:24,  5.46s/it]\u001b[A\n",
      " 11%|█         | 3406/30802 [5:18:13<41:55:00,  5.51s/it]\u001b[A"
     ]
    },
    {
     "name": "stdout",
     "output_type": "stream",
     "text": [
      "Epoch 0, Batch 3405, loss 270752288.0\n"
     ]
    },
    {
     "name": "stderr",
     "output_type": "stream",
     "text": [
      "\n",
      " 11%|█         | 3407/30802 [5:18:18<41:45:52,  5.49s/it]\u001b[A\n",
      " 11%|█         | 3408/30802 [5:18:24<41:28:47,  5.45s/it]\u001b[A\n",
      " 11%|█         | 3409/30802 [5:18:29<41:35:12,  5.47s/it]\u001b[A\n",
      " 11%|█         | 3410/30802 [5:18:34<41:36:39,  5.47s/it]\u001b[A\n",
      " 11%|█         | 3411/30802 [5:18:40<40:44:29,  5.35s/it]\u001b[A"
     ]
    },
    {
     "name": "stdout",
     "output_type": "stream",
     "text": [
      "Epoch 0, Batch 3410, loss 523363072.0\n"
     ]
    },
    {
     "name": "stderr",
     "output_type": "stream",
     "text": [
      "\n",
      " 11%|█         | 3412/30802 [5:18:45<40:43:09,  5.35s/it]\u001b[A\n",
      " 11%|█         | 3413/30802 [5:18:50<40:27:26,  5.32s/it]\u001b[A\n",
      " 11%|█         | 3414/30802 [5:18:56<40:35:41,  5.34s/it]\u001b[A\n",
      " 11%|█         | 3415/30802 [5:19:01<41:13:54,  5.42s/it]\u001b[A\n",
      " 11%|█         | 3416/30802 [5:19:07<41:07:42,  5.41s/it]\u001b[A"
     ]
    },
    {
     "name": "stdout",
     "output_type": "stream",
     "text": [
      "Epoch 0, Batch 3415, loss 295242560.0\n"
     ]
    },
    {
     "name": "stderr",
     "output_type": "stream",
     "text": [
      "\n",
      " 11%|█         | 3417/30802 [5:19:12<42:19:21,  5.56s/it]\u001b[A\n",
      " 11%|█         | 3418/30802 [5:19:18<42:07:30,  5.54s/it]\u001b[A\n",
      " 11%|█         | 3419/30802 [5:19:24<43:20:36,  5.70s/it]\u001b[A\n",
      " 11%|█         | 3420/30802 [5:19:30<43:06:39,  5.67s/it]\u001b[A\n",
      " 11%|█         | 3421/30802 [5:19:35<42:28:32,  5.58s/it]\u001b[A"
     ]
    },
    {
     "name": "stdout",
     "output_type": "stream",
     "text": [
      "Epoch 0, Batch 3420, loss 325580416.0\n"
     ]
    },
    {
     "name": "stderr",
     "output_type": "stream",
     "text": [
      "\n",
      " 11%|█         | 3422/30802 [5:19:41<42:55:16,  5.64s/it]\u001b[A\n",
      " 11%|█         | 3423/30802 [5:19:46<42:30:24,  5.59s/it]\u001b[A\n",
      " 11%|█         | 3424/30802 [5:19:52<42:19:49,  5.57s/it]\u001b[A\n",
      " 11%|█         | 3425/30802 [5:19:57<41:58:41,  5.52s/it]\u001b[A\n",
      " 11%|█         | 3426/30802 [5:20:02<41:30:55,  5.46s/it]\u001b[A"
     ]
    },
    {
     "name": "stdout",
     "output_type": "stream",
     "text": [
      "Epoch 0, Batch 3425, loss 377078112.0\n"
     ]
    },
    {
     "name": "stderr",
     "output_type": "stream",
     "text": [
      "\n",
      " 11%|█         | 3427/30802 [5:20:08<41:25:47,  5.45s/it]\u001b[A\n",
      " 11%|█         | 3428/30802 [5:20:14<41:48:00,  5.50s/it]\u001b[A\n",
      " 11%|█         | 3429/30802 [5:20:19<42:33:12,  5.60s/it]\u001b[A\n",
      " 11%|█         | 3430/30802 [5:20:25<42:34:30,  5.60s/it]\u001b[A\n",
      " 11%|█         | 3431/30802 [5:20:33<47:54:14,  6.30s/it]\u001b[A"
     ]
    },
    {
     "name": "stdout",
     "output_type": "stream",
     "text": [
      "Epoch 0, Batch 3430, loss 286192576.0\n"
     ]
    },
    {
     "name": "stderr",
     "output_type": "stream",
     "text": [
      "\n",
      " 11%|█         | 3432/30802 [5:20:40<49:53:17,  6.56s/it]\u001b[A\n",
      " 11%|█         | 3433/30802 [5:20:45<46:46:40,  6.15s/it]\u001b[A\n",
      " 11%|█         | 3434/30802 [5:20:50<44:35:13,  5.86s/it]\u001b[A\n",
      " 11%|█         | 3435/30802 [5:20:56<43:06:17,  5.67s/it]\u001b[A\n",
      " 11%|█         | 3436/30802 [5:21:01<41:54:26,  5.51s/it]\u001b[A"
     ]
    },
    {
     "name": "stdout",
     "output_type": "stream",
     "text": [
      "Epoch 0, Batch 3435, loss 341333888.0\n"
     ]
    },
    {
     "name": "stderr",
     "output_type": "stream",
     "text": [
      "\n",
      " 11%|█         | 3437/30802 [5:21:06<41:11:03,  5.42s/it]\u001b[A\n",
      " 11%|█         | 3438/30802 [5:21:11<40:37:24,  5.34s/it]\u001b[A\n",
      " 11%|█         | 3439/30802 [5:21:17<40:50:30,  5.37s/it]\u001b[A\n",
      " 11%|█         | 3440/30802 [5:21:22<40:52:40,  5.38s/it]\u001b[A\n",
      " 11%|█         | 3441/30802 [5:21:28<42:10:25,  5.55s/it]\u001b[A"
     ]
    },
    {
     "name": "stdout",
     "output_type": "stream",
     "text": [
      "Epoch 0, Batch 3440, loss 154667712.0\n"
     ]
    },
    {
     "name": "stderr",
     "output_type": "stream",
     "text": [
      "\n",
      " 11%|█         | 3442/30802 [5:21:34<42:55:45,  5.65s/it]\u001b[A\n",
      " 11%|█         | 3443/30802 [5:21:39<42:45:23,  5.63s/it]\u001b[A\n",
      " 11%|█         | 3444/30802 [5:21:45<42:02:28,  5.53s/it]\u001b[A\n",
      " 11%|█         | 3445/30802 [5:21:50<41:29:45,  5.46s/it]\u001b[A\n",
      " 11%|█         | 3446/30802 [5:21:55<40:58:47,  5.39s/it]\u001b[A"
     ]
    },
    {
     "name": "stdout",
     "output_type": "stream",
     "text": [
      "Epoch 0, Batch 3445, loss 496816832.0\n"
     ]
    },
    {
     "name": "stderr",
     "output_type": "stream",
     "text": [
      "\n",
      " 11%|█         | 3447/30802 [5:22:01<40:58:25,  5.39s/it]\u001b[A\n",
      " 11%|█         | 3448/30802 [5:22:06<40:49:48,  5.37s/it]\u001b[A\n",
      " 11%|█         | 3449/30802 [5:22:12<41:16:50,  5.43s/it]\u001b[A\n",
      " 11%|█         | 3450/30802 [5:22:17<41:36:59,  5.48s/it]\u001b[A\n",
      " 11%|█         | 3451/30802 [5:22:22<41:17:59,  5.44s/it]\u001b[A"
     ]
    },
    {
     "name": "stdout",
     "output_type": "stream",
     "text": [
      "Epoch 0, Batch 3450, loss 615218048.0\n"
     ]
    },
    {
     "name": "stderr",
     "output_type": "stream",
     "text": [
      "\n",
      " 11%|█         | 3452/30802 [5:22:28<41:50:34,  5.51s/it]\u001b[A\n",
      " 11%|█         | 3453/30802 [5:22:34<42:54:32,  5.65s/it]\u001b[A\n",
      " 11%|█         | 3454/30802 [5:22:40<42:31:53,  5.60s/it]\u001b[A\n",
      " 11%|█         | 3455/30802 [5:22:46<43:24:44,  5.71s/it]\u001b[A\n",
      " 11%|█         | 3456/30802 [5:22:51<43:34:58,  5.74s/it]\u001b[A"
     ]
    },
    {
     "name": "stdout",
     "output_type": "stream",
     "text": [
      "Epoch 0, Batch 3455, loss 535852512.0\n"
     ]
    },
    {
     "name": "stderr",
     "output_type": "stream",
     "text": [
      "\n",
      " 11%|█         | 3457/30802 [5:22:57<43:01:19,  5.66s/it]\u001b[A\n",
      " 11%|█         | 3458/30802 [5:23:02<42:16:43,  5.57s/it]\u001b[A\n",
      " 11%|█         | 3459/30802 [5:23:07<41:34:15,  5.47s/it]\u001b[A\n",
      " 11%|█         | 3460/30802 [5:23:13<40:51:29,  5.38s/it]\u001b[A\n",
      " 11%|█         | 3461/30802 [5:23:18<40:31:57,  5.34s/it]\u001b[A"
     ]
    },
    {
     "name": "stdout",
     "output_type": "stream",
     "text": [
      "Epoch 0, Batch 3460, loss 432943648.0\n"
     ]
    },
    {
     "name": "stderr",
     "output_type": "stream",
     "text": [
      "\n",
      " 11%|█         | 3462/30802 [5:23:24<42:13:47,  5.56s/it]\u001b[A\n",
      " 11%|█         | 3463/30802 [5:23:30<43:50:30,  5.77s/it]\u001b[A\n",
      " 11%|█         | 3464/30802 [5:23:36<42:50:52,  5.64s/it]\u001b[A\n",
      " 11%|█         | 3465/30802 [5:23:41<41:45:53,  5.50s/it]\u001b[A\n",
      " 11%|█▏        | 3466/30802 [5:23:46<41:32:34,  5.47s/it]\u001b[A"
     ]
    },
    {
     "name": "stdout",
     "output_type": "stream",
     "text": [
      "Epoch 0, Batch 3465, loss 302285568.0\n"
     ]
    },
    {
     "name": "stderr",
     "output_type": "stream",
     "text": [
      "\n",
      " 11%|█▏        | 3467/30802 [5:23:52<41:31:13,  5.47s/it]\u001b[A\n",
      " 11%|█▏        | 3468/30802 [5:23:57<41:46:57,  5.50s/it]\u001b[A\n",
      " 11%|█▏        | 3469/30802 [5:24:03<41:54:32,  5.52s/it]\u001b[A\n",
      " 11%|█▏        | 3470/30802 [5:24:08<42:21:43,  5.58s/it]\u001b[A\n",
      " 11%|█▏        | 3471/30802 [5:24:14<42:59:42,  5.66s/it]\u001b[A"
     ]
    },
    {
     "name": "stdout",
     "output_type": "stream",
     "text": [
      "Epoch 0, Batch 3470, loss 194073664.0\n"
     ]
    },
    {
     "name": "stderr",
     "output_type": "stream",
     "text": [
      "\n",
      " 11%|█▏        | 3472/30802 [5:24:20<42:55:36,  5.65s/it]\u001b[A\n",
      " 11%|█▏        | 3473/30802 [5:24:26<42:49:33,  5.64s/it]\u001b[A\n",
      " 11%|█▏        | 3474/30802 [5:24:31<42:43:54,  5.63s/it]\u001b[A\n",
      " 11%|█▏        | 3475/30802 [5:24:37<42:15:14,  5.57s/it]\u001b[A\n",
      " 11%|█▏        | 3476/30802 [5:24:42<41:29:24,  5.47s/it]\u001b[A"
     ]
    },
    {
     "name": "stdout",
     "output_type": "stream",
     "text": [
      "Epoch 0, Batch 3475, loss 169784208.0\n"
     ]
    },
    {
     "name": "stderr",
     "output_type": "stream",
     "text": [
      "\n",
      " 11%|█▏        | 3477/30802 [5:24:47<41:28:45,  5.46s/it]\u001b[A\n",
      " 11%|█▏        | 3478/30802 [5:24:52<40:56:28,  5.39s/it]\u001b[A\n",
      " 11%|█▏        | 3479/30802 [5:24:58<40:38:46,  5.36s/it]\u001b[A\n",
      " 11%|█▏        | 3480/30802 [5:25:03<39:57:31,  5.27s/it]\u001b[A\n",
      " 11%|█▏        | 3481/30802 [5:25:08<40:19:19,  5.31s/it]\u001b[A"
     ]
    },
    {
     "name": "stdout",
     "output_type": "stream",
     "text": [
      "Epoch 0, Batch 3480, loss 141406864.0\n"
     ]
    },
    {
     "name": "stderr",
     "output_type": "stream",
     "text": [
      "\n",
      " 11%|█▏        | 3482/30802 [5:25:14<40:40:52,  5.36s/it]\u001b[A\n",
      " 11%|█▏        | 3483/30802 [5:25:19<40:51:27,  5.38s/it]\u001b[A\n",
      " 11%|█▏        | 3484/30802 [5:25:25<40:54:52,  5.39s/it]\u001b[A\n",
      " 11%|█▏        | 3485/30802 [5:25:30<41:14:50,  5.44s/it]\u001b[A\n",
      " 11%|█▏        | 3486/30802 [5:25:36<41:25:16,  5.46s/it]\u001b[A"
     ]
    },
    {
     "name": "stdout",
     "output_type": "stream",
     "text": [
      "Epoch 0, Batch 3485, loss 552289152.0\n"
     ]
    },
    {
     "name": "stderr",
     "output_type": "stream",
     "text": [
      "\n",
      " 11%|█▏        | 3487/30802 [5:25:41<40:45:51,  5.37s/it]\u001b[A\n",
      " 11%|█▏        | 3488/30802 [5:25:46<40:27:32,  5.33s/it]\u001b[A\n",
      " 11%|█▏        | 3489/30802 [5:25:51<40:44:50,  5.37s/it]\u001b[A\n",
      " 11%|█▏        | 3490/30802 [5:25:57<41:02:08,  5.41s/it]\u001b[A\n",
      " 11%|█▏        | 3491/30802 [5:26:02<41:11:07,  5.43s/it]\u001b[A"
     ]
    },
    {
     "name": "stdout",
     "output_type": "stream",
     "text": [
      "Epoch 0, Batch 3490, loss 457292096.0\n"
     ]
    },
    {
     "name": "stderr",
     "output_type": "stream",
     "text": [
      "\n",
      " 11%|█▏        | 3492/30802 [5:26:08<40:59:05,  5.40s/it]\u001b[A\n",
      " 11%|█▏        | 3493/30802 [5:26:13<40:43:57,  5.37s/it]\u001b[A\n",
      " 11%|█▏        | 3494/30802 [5:26:18<40:47:35,  5.38s/it]\u001b[A\n",
      " 11%|█▏        | 3495/30802 [5:26:24<40:39:08,  5.36s/it]\u001b[A\n",
      " 11%|█▏        | 3496/30802 [5:26:29<41:05:34,  5.42s/it]\u001b[A"
     ]
    },
    {
     "name": "stdout",
     "output_type": "stream",
     "text": [
      "Epoch 0, Batch 3495, loss 103741336.0\n"
     ]
    },
    {
     "name": "stderr",
     "output_type": "stream",
     "text": [
      "\n",
      " 11%|█▏        | 3497/30802 [5:26:35<41:00:50,  5.41s/it]\u001b[A\n",
      " 11%|█▏        | 3498/30802 [5:26:40<40:32:29,  5.35s/it]\u001b[A\n",
      " 11%|█▏        | 3499/30802 [5:26:45<40:40:14,  5.36s/it]\u001b[A\n",
      " 11%|█▏        | 3500/30802 [5:26:51<40:19:58,  5.32s/it]\u001b[A\n",
      " 11%|█▏        | 3501/30802 [5:26:56<40:12:06,  5.30s/it]\u001b[A"
     ]
    },
    {
     "name": "stdout",
     "output_type": "stream",
     "text": [
      "Epoch 0, Batch 3500, loss 446600352.0\n"
     ]
    },
    {
     "name": "stderr",
     "output_type": "stream",
     "text": [
      "\n",
      " 11%|█▏        | 3502/30802 [5:27:01<40:12:26,  5.30s/it]\u001b[A\n",
      " 11%|█▏        | 3503/30802 [5:27:06<40:02:50,  5.28s/it]\u001b[A\n",
      " 11%|█▏        | 3504/30802 [5:27:12<39:56:35,  5.27s/it]\u001b[A\n",
      " 11%|█▏        | 3505/30802 [5:27:17<39:57:00,  5.27s/it]\u001b[A\n",
      " 11%|█▏        | 3506/30802 [5:27:22<40:14:02,  5.31s/it]\u001b[A"
     ]
    },
    {
     "name": "stdout",
     "output_type": "stream",
     "text": [
      "Epoch 0, Batch 3505, loss 472518112.0\n"
     ]
    },
    {
     "name": "stderr",
     "output_type": "stream",
     "text": [
      "\n",
      " 11%|█▏        | 3507/30802 [5:27:28<41:24:18,  5.46s/it]\u001b[A\n",
      " 11%|█▏        | 3508/30802 [5:27:33<41:05:35,  5.42s/it]\u001b[A\n",
      " 11%|█▏        | 3509/30802 [5:27:39<41:42:14,  5.50s/it]\u001b[A\n",
      " 11%|█▏        | 3510/30802 [5:27:44<41:07:24,  5.42s/it]\u001b[A\n",
      " 11%|█▏        | 3511/30802 [5:27:50<40:58:51,  5.41s/it]\u001b[A"
     ]
    },
    {
     "name": "stdout",
     "output_type": "stream",
     "text": [
      "Epoch 0, Batch 3510, loss 270341376.0\n"
     ]
    },
    {
     "name": "stderr",
     "output_type": "stream",
     "text": [
      "\n",
      " 11%|█▏        | 3512/30802 [5:27:55<41:31:25,  5.48s/it]\u001b[A\n",
      " 11%|█▏        | 3513/30802 [5:28:01<41:41:23,  5.50s/it]\u001b[A\n",
      " 11%|█▏        | 3514/30802 [5:28:06<41:53:17,  5.53s/it]\u001b[A\n",
      " 11%|█▏        | 3515/30802 [5:28:12<41:36:51,  5.49s/it]\u001b[A\n",
      " 11%|█▏        | 3516/30802 [5:28:18<41:53:32,  5.53s/it]\u001b[A"
     ]
    },
    {
     "name": "stdout",
     "output_type": "stream",
     "text": [
      "Epoch 0, Batch 3515, loss 321438912.0\n"
     ]
    },
    {
     "name": "stderr",
     "output_type": "stream",
     "text": [
      "\n",
      " 11%|█▏        | 3517/30802 [5:28:23<42:39:14,  5.63s/it]\u001b[A\n",
      " 11%|█▏        | 3518/30802 [5:28:30<44:04:07,  5.81s/it]\u001b[A\n",
      " 11%|█▏        | 3519/30802 [5:28:35<44:05:05,  5.82s/it]\u001b[A\n",
      " 11%|█▏        | 3520/30802 [5:28:41<43:05:57,  5.69s/it]\u001b[A\n",
      " 11%|█▏        | 3521/30802 [5:28:46<42:29:48,  5.61s/it]\u001b[A"
     ]
    },
    {
     "name": "stdout",
     "output_type": "stream",
     "text": [
      "Epoch 0, Batch 3520, loss 33747008.0\n"
     ]
    },
    {
     "name": "stderr",
     "output_type": "stream",
     "text": [
      "\n",
      " 11%|█▏        | 3522/30802 [5:28:52<41:58:24,  5.54s/it]\u001b[A\n",
      " 11%|█▏        | 3523/30802 [5:28:57<41:39:24,  5.50s/it]\u001b[A\n",
      " 11%|█▏        | 3524/30802 [5:29:03<41:43:04,  5.51s/it]\u001b[A\n",
      " 11%|█▏        | 3525/30802 [5:29:08<40:56:10,  5.40s/it]\u001b[A\n",
      " 11%|█▏        | 3526/30802 [5:29:13<41:08:18,  5.43s/it]\u001b[A"
     ]
    },
    {
     "name": "stdout",
     "output_type": "stream",
     "text": [
      "Epoch 0, Batch 3525, loss 180581376.0\n"
     ]
    },
    {
     "name": "stderr",
     "output_type": "stream",
     "text": [
      "\n",
      " 11%|█▏        | 3527/30802 [5:29:19<40:55:36,  5.40s/it]\u001b[A\n",
      " 11%|█▏        | 3528/30802 [5:29:24<41:36:12,  5.49s/it]\u001b[A\n",
      " 11%|█▏        | 3529/30802 [5:29:30<41:28:57,  5.48s/it]\u001b[A\n",
      " 11%|█▏        | 3530/30802 [5:29:35<40:51:11,  5.39s/it]\u001b[A\n",
      " 11%|█▏        | 3531/30802 [5:29:41<41:23:18,  5.46s/it]\u001b[A"
     ]
    },
    {
     "name": "stdout",
     "output_type": "stream",
     "text": [
      "Epoch 0, Batch 3530, loss 146085056.0\n"
     ]
    },
    {
     "name": "stderr",
     "output_type": "stream",
     "text": [
      "\n",
      " 11%|█▏        | 3532/30802 [5:29:46<40:54:25,  5.40s/it]\u001b[A\n",
      " 11%|█▏        | 3533/30802 [5:29:51<41:00:24,  5.41s/it]\u001b[A\n",
      " 11%|█▏        | 3534/30802 [5:29:57<41:01:33,  5.42s/it]\u001b[A\n",
      " 11%|█▏        | 3535/30802 [5:30:02<42:00:34,  5.55s/it]\u001b[A\n",
      " 11%|█▏        | 3536/30802 [5:30:08<41:31:05,  5.48s/it]\u001b[A"
     ]
    },
    {
     "name": "stdout",
     "output_type": "stream",
     "text": [
      "Epoch 0, Batch 3535, loss 421120704.0\n"
     ]
    },
    {
     "name": "stderr",
     "output_type": "stream",
     "text": [
      "\n",
      " 11%|█▏        | 3537/30802 [5:30:13<41:12:35,  5.44s/it]\u001b[A\n",
      " 11%|█▏        | 3538/30802 [5:30:19<41:01:58,  5.42s/it]\u001b[A\n",
      " 11%|█▏        | 3539/30802 [5:30:24<41:28:20,  5.48s/it]\u001b[A\n",
      " 11%|█▏        | 3540/30802 [5:30:30<41:34:57,  5.49s/it]\u001b[A\n",
      " 11%|█▏        | 3541/30802 [5:30:35<41:27:31,  5.47s/it]\u001b[A"
     ]
    },
    {
     "name": "stdout",
     "output_type": "stream",
     "text": [
      "Epoch 0, Batch 3540, loss 340085440.0\n"
     ]
    },
    {
     "name": "stderr",
     "output_type": "stream",
     "text": [
      "\n",
      " 11%|█▏        | 3542/30802 [5:30:41<41:28:07,  5.48s/it]\u001b[A\n",
      " 12%|█▏        | 3543/30802 [5:30:46<41:20:29,  5.46s/it]\u001b[A\n",
      " 12%|█▏        | 3544/30802 [5:30:51<41:14:35,  5.45s/it]\u001b[A\n",
      " 12%|█▏        | 3545/30802 [5:30:57<40:39:52,  5.37s/it]\u001b[A\n",
      " 12%|█▏        | 3546/30802 [5:31:02<40:29:58,  5.35s/it]\u001b[A"
     ]
    },
    {
     "name": "stdout",
     "output_type": "stream",
     "text": [
      "Epoch 0, Batch 3545, loss 405768512.0\n"
     ]
    },
    {
     "name": "stderr",
     "output_type": "stream",
     "text": [
      "\n",
      " 12%|█▏        | 3547/30802 [5:31:07<40:18:01,  5.32s/it]\u001b[A\n",
      " 12%|█▏        | 3548/30802 [5:31:12<40:17:38,  5.32s/it]\u001b[A\n",
      " 12%|█▏        | 3549/30802 [5:31:18<40:25:01,  5.34s/it]\u001b[A\n",
      " 12%|█▏        | 3550/30802 [5:31:24<41:08:46,  5.44s/it]\u001b[A\n",
      " 12%|█▏        | 3551/30802 [5:31:29<41:36:38,  5.50s/it]\u001b[A"
     ]
    },
    {
     "name": "stdout",
     "output_type": "stream",
     "text": [
      "Epoch 0, Batch 3550, loss 310669728.0\n"
     ]
    },
    {
     "name": "stderr",
     "output_type": "stream",
     "text": [
      "\n",
      " 12%|█▏        | 3552/30802 [5:31:35<41:42:17,  5.51s/it]\u001b[A\n",
      " 12%|█▏        | 3553/30802 [5:31:40<41:46:07,  5.52s/it]\u001b[A\n",
      " 12%|█▏        | 3554/30802 [5:31:46<41:52:09,  5.53s/it]\u001b[A\n",
      " 12%|█▏        | 3555/30802 [5:31:52<42:23:58,  5.60s/it]\u001b[A\n",
      " 12%|█▏        | 3556/30802 [5:31:57<42:06:29,  5.56s/it]\u001b[A"
     ]
    },
    {
     "name": "stdout",
     "output_type": "stream",
     "text": [
      "Epoch 0, Batch 3555, loss 679945536.0\n"
     ]
    },
    {
     "name": "stderr",
     "output_type": "stream",
     "text": [
      "\n",
      " 12%|█▏        | 3557/30802 [5:32:03<42:07:31,  5.57s/it]\u001b[A\n",
      " 12%|█▏        | 3558/30802 [5:32:08<42:04:02,  5.56s/it]\u001b[A\n",
      " 12%|█▏        | 3559/30802 [5:32:14<41:40:44,  5.51s/it]\u001b[A\n",
      " 12%|█▏        | 3560/30802 [5:32:19<40:59:25,  5.42s/it]\u001b[A\n",
      " 12%|█▏        | 3561/30802 [5:32:24<40:36:50,  5.37s/it]\u001b[A"
     ]
    },
    {
     "name": "stdout",
     "output_type": "stream",
     "text": [
      "Epoch 0, Batch 3560, loss 456358048.0\n"
     ]
    },
    {
     "name": "stderr",
     "output_type": "stream",
     "text": [
      "\n",
      " 12%|█▏        | 3562/30802 [5:32:29<40:26:37,  5.34s/it]\u001b[A\n",
      " 12%|█▏        | 3563/30802 [5:32:35<40:31:24,  5.36s/it]\u001b[A\n",
      " 12%|█▏        | 3564/30802 [5:32:40<40:56:51,  5.41s/it]\u001b[A\n",
      " 12%|█▏        | 3565/30802 [5:32:46<41:20:49,  5.46s/it]\u001b[A\n",
      " 12%|█▏        | 3566/30802 [5:32:51<41:09:23,  5.44s/it]\u001b[A"
     ]
    },
    {
     "name": "stdout",
     "output_type": "stream",
     "text": [
      "Epoch 0, Batch 3565, loss 330101952.0\n"
     ]
    },
    {
     "name": "stderr",
     "output_type": "stream",
     "text": [
      "\n",
      " 12%|█▏        | 3567/30802 [5:32:57<41:28:03,  5.48s/it]\u001b[A\n",
      " 12%|█▏        | 3568/30802 [5:33:02<41:45:52,  5.52s/it]\u001b[A\n",
      " 12%|█▏        | 3569/30802 [5:33:08<41:57:38,  5.55s/it]\u001b[A\n",
      " 12%|█▏        | 3570/30802 [5:33:13<41:28:20,  5.48s/it]\u001b[A\n",
      " 12%|█▏        | 3571/30802 [5:33:19<41:28:04,  5.48s/it]\u001b[A"
     ]
    },
    {
     "name": "stdout",
     "output_type": "stream",
     "text": [
      "Epoch 0, Batch 3570, loss 865972352.0\n"
     ]
    },
    {
     "name": "stderr",
     "output_type": "stream",
     "text": [
      "\n",
      " 12%|█▏        | 3572/30802 [5:33:25<43:32:10,  5.76s/it]\u001b[A\n",
      " 12%|█▏        | 3573/30802 [5:33:33<47:24:54,  6.27s/it]\u001b[A\n",
      " 12%|█▏        | 3574/30802 [5:33:40<49:11:14,  6.50s/it]\u001b[A\n",
      " 12%|█▏        | 3575/30802 [5:33:49<55:50:08,  7.38s/it]\u001b[A\n",
      " 12%|█▏        | 3576/30802 [5:33:57<56:39:36,  7.49s/it]\u001b[A"
     ]
    },
    {
     "name": "stdout",
     "output_type": "stream",
     "text": [
      "Epoch 0, Batch 3575, loss 283369216.0\n"
     ]
    },
    {
     "name": "stderr",
     "output_type": "stream",
     "text": [
      "\n",
      " 12%|█▏        | 3577/30802 [5:34:03<54:36:48,  7.22s/it]\u001b[A\n",
      " 12%|█▏        | 3578/30802 [5:34:11<54:25:11,  7.20s/it]\u001b[A\n",
      " 12%|█▏        | 3579/30802 [5:34:19<56:19:12,  7.45s/it]\u001b[A\n",
      " 12%|█▏        | 3580/30802 [5:34:26<55:27:48,  7.33s/it]\u001b[A\n",
      " 12%|█▏        | 3581/30802 [5:34:33<54:30:27,  7.21s/it]\u001b[A"
     ]
    },
    {
     "name": "stdout",
     "output_type": "stream",
     "text": [
      "Epoch 0, Batch 3580, loss 299857728.0\n"
     ]
    },
    {
     "name": "stderr",
     "output_type": "stream",
     "text": [
      "\n",
      " 12%|█▏        | 3582/30802 [5:34:39<53:19:53,  7.05s/it]\u001b[A\n",
      " 12%|█▏        | 3583/30802 [5:34:46<52:46:57,  6.98s/it]\u001b[A\n",
      " 12%|█▏        | 3584/30802 [5:34:53<52:40:05,  6.97s/it]\u001b[A\n",
      " 12%|█▏        | 3585/30802 [5:35:01<53:55:46,  7.13s/it]\u001b[A\n",
      " 12%|█▏        | 3586/30802 [5:35:08<54:19:21,  7.19s/it]\u001b[A"
     ]
    },
    {
     "name": "stdout",
     "output_type": "stream",
     "text": [
      "Epoch 0, Batch 3585, loss 412713984.0\n"
     ]
    },
    {
     "name": "stderr",
     "output_type": "stream",
     "text": [
      "\n",
      " 12%|█▏        | 3587/30802 [5:35:18<60:50:27,  8.05s/it]\u001b[A\n",
      " 12%|█▏        | 3588/30802 [5:35:27<62:26:43,  8.26s/it]\u001b[A\n",
      " 12%|█▏        | 3589/30802 [5:35:34<59:50:45,  7.92s/it]\u001b[A\n",
      " 12%|█▏        | 3590/30802 [5:35:40<56:08:58,  7.43s/it]\u001b[A\n",
      " 12%|█▏        | 3591/30802 [5:35:47<55:47:53,  7.38s/it]\u001b[A"
     ]
    },
    {
     "name": "stdout",
     "output_type": "stream",
     "text": [
      "Epoch 0, Batch 3590, loss 147799984.0\n"
     ]
    },
    {
     "name": "stderr",
     "output_type": "stream",
     "text": [
      "\n",
      " 12%|█▏        | 3592/30802 [5:35:57<60:07:55,  7.96s/it]\u001b[A\n",
      " 12%|█▏        | 3593/30802 [5:36:05<60:53:35,  8.06s/it]\u001b[A\n",
      " 12%|█▏        | 3594/30802 [5:36:11<57:16:33,  7.58s/it]\u001b[A\n",
      " 12%|█▏        | 3595/30802 [5:36:18<54:25:39,  7.20s/it]\u001b[A\n",
      " 12%|█▏        | 3596/30802 [5:36:25<55:09:59,  7.30s/it]\u001b[A"
     ]
    },
    {
     "name": "stdout",
     "output_type": "stream",
     "text": [
      "Epoch 0, Batch 3595, loss 325635872.0\n"
     ]
    },
    {
     "name": "stderr",
     "output_type": "stream",
     "text": [
      "\n",
      " 12%|█▏        | 3597/30802 [5:36:33<55:19:45,  7.32s/it]\u001b[A\n",
      " 12%|█▏        | 3598/30802 [5:36:41<58:28:21,  7.74s/it]\u001b[A\n",
      " 12%|█▏        | 3599/30802 [5:36:50<59:33:51,  7.88s/it]\u001b[A\n",
      " 12%|█▏        | 3600/30802 [5:36:56<57:02:54,  7.55s/it]\u001b[A\n",
      " 12%|█▏        | 3601/30802 [5:37:03<54:14:08,  7.18s/it]\u001b[A"
     ]
    },
    {
     "name": "stdout",
     "output_type": "stream",
     "text": [
      "Epoch 0, Batch 3600, loss 204351488.0\n"
     ]
    },
    {
     "name": "stderr",
     "output_type": "stream",
     "text": [
      "\n",
      " 12%|█▏        | 3602/30802 [5:37:09<51:53:21,  6.87s/it]\u001b[A\n",
      " 12%|█▏        | 3603/30802 [5:37:16<52:14:08,  6.91s/it]\u001b[A\n",
      " 12%|█▏        | 3604/30802 [5:37:22<50:12:17,  6.65s/it]\u001b[A\n",
      " 12%|█▏        | 3605/30802 [5:37:28<48:49:21,  6.46s/it]\u001b[A\n",
      " 12%|█▏        | 3606/30802 [5:37:35<50:10:00,  6.64s/it]\u001b[A"
     ]
    },
    {
     "name": "stdout",
     "output_type": "stream",
     "text": [
      "Epoch 0, Batch 3605, loss 115968800.0\n"
     ]
    },
    {
     "name": "stderr",
     "output_type": "stream",
     "text": [
      "\n",
      " 12%|█▏        | 3607/30802 [5:37:41<48:38:40,  6.44s/it]\u001b[A\n",
      " 12%|█▏        | 3608/30802 [5:37:47<48:00:48,  6.36s/it]\u001b[A\n",
      " 12%|█▏        | 3609/30802 [5:37:54<48:44:27,  6.45s/it]\u001b[A\n",
      " 12%|█▏        | 3610/30802 [5:38:00<49:15:55,  6.52s/it]\u001b[A\n",
      " 12%|█▏        | 3611/30802 [5:38:07<49:32:08,  6.56s/it]\u001b[A"
     ]
    },
    {
     "name": "stdout",
     "output_type": "stream",
     "text": [
      "Epoch 0, Batch 3610, loss 261839360.0\n"
     ]
    },
    {
     "name": "stderr",
     "output_type": "stream",
     "text": [
      "\n",
      " 12%|█▏        | 3612/30802 [5:38:15<52:08:43,  6.90s/it]\u001b[A\n",
      " 12%|█▏        | 3613/30802 [5:38:22<52:43:27,  6.98s/it]\u001b[A\n",
      " 12%|█▏        | 3614/30802 [5:38:28<51:15:02,  6.79s/it]\u001b[A\n",
      " 12%|█▏        | 3615/30802 [5:38:35<50:04:23,  6.63s/it]\u001b[A\n",
      " 12%|█▏        | 3616/30802 [5:38:42<51:10:31,  6.78s/it]\u001b[A"
     ]
    },
    {
     "name": "stdout",
     "output_type": "stream",
     "text": [
      "Epoch 0, Batch 3615, loss 754351104.0\n"
     ]
    },
    {
     "name": "stderr",
     "output_type": "stream",
     "text": [
      "\n",
      " 12%|█▏        | 3617/30802 [5:38:48<50:53:37,  6.74s/it]\u001b[A\n",
      " 12%|█▏        | 3618/30802 [5:38:55<50:00:43,  6.62s/it]\u001b[A\n",
      " 12%|█▏        | 3619/30802 [5:39:02<51:23:02,  6.81s/it]\u001b[A\n",
      " 12%|█▏        | 3620/30802 [5:39:10<54:01:39,  7.16s/it]\u001b[A\n",
      " 12%|█▏        | 3621/30802 [5:39:16<52:06:15,  6.90s/it]\u001b[A"
     ]
    },
    {
     "name": "stdout",
     "output_type": "stream",
     "text": [
      "Epoch 0, Batch 3620, loss 447623648.0\n"
     ]
    },
    {
     "name": "stderr",
     "output_type": "stream",
     "text": [
      "\n",
      " 12%|█▏        | 3622/30802 [5:39:22<50:35:58,  6.70s/it]\u001b[A\n",
      " 12%|█▏        | 3623/30802 [5:39:30<51:24:56,  6.81s/it]\u001b[A\n",
      " 12%|█▏        | 3624/30802 [5:39:35<49:16:41,  6.53s/it]\u001b[A\n",
      " 12%|█▏        | 3625/30802 [5:39:41<48:05:09,  6.37s/it]\u001b[A\n",
      " 12%|█▏        | 3626/30802 [5:39:48<48:09:10,  6.38s/it]\u001b[A"
     ]
    },
    {
     "name": "stdout",
     "output_type": "stream",
     "text": [
      "Epoch 0, Batch 3625, loss 51704868.0\n"
     ]
    },
    {
     "name": "stderr",
     "output_type": "stream",
     "text": [
      "\n",
      " 12%|█▏        | 3627/30802 [5:39:54<48:30:47,  6.43s/it]\u001b[A\n",
      " 12%|█▏        | 3628/30802 [5:40:01<49:45:05,  6.59s/it]\u001b[A\n",
      " 12%|█▏        | 3629/30802 [5:40:08<49:34:58,  6.57s/it]\u001b[A\n",
      " 12%|█▏        | 3630/30802 [5:40:14<48:41:38,  6.45s/it]\u001b[A\n",
      " 12%|█▏        | 3631/30802 [5:40:20<46:37:21,  6.18s/it]\u001b[A"
     ]
    },
    {
     "name": "stdout",
     "output_type": "stream",
     "text": [
      "Epoch 0, Batch 3630, loss 406303872.0\n"
     ]
    },
    {
     "name": "stderr",
     "output_type": "stream",
     "text": [
      "\n",
      " 12%|█▏        | 3632/30802 [5:40:26<48:08:29,  6.38s/it]\u001b[A\n",
      " 12%|█▏        | 3633/30802 [5:40:33<49:43:34,  6.59s/it]\u001b[A\n",
      " 12%|█▏        | 3634/30802 [5:40:40<48:42:26,  6.45s/it]\u001b[A\n",
      " 12%|█▏        | 3635/30802 [5:40:46<47:47:23,  6.33s/it]\u001b[A\n",
      " 12%|█▏        | 3636/30802 [5:40:52<48:48:37,  6.47s/it]\u001b[A"
     ]
    },
    {
     "name": "stdout",
     "output_type": "stream",
     "text": [
      "Epoch 0, Batch 3635, loss 356881728.0\n"
     ]
    },
    {
     "name": "stderr",
     "output_type": "stream",
     "text": [
      "\n",
      " 12%|█▏        | 3637/30802 [5:40:59<48:06:45,  6.38s/it]\u001b[A\n",
      " 12%|█▏        | 3638/30802 [5:41:05<48:29:55,  6.43s/it]\u001b[A\n",
      " 12%|█▏        | 3639/30802 [5:41:12<48:54:48,  6.48s/it]\u001b[A\n",
      " 12%|█▏        | 3640/30802 [5:41:18<48:17:54,  6.40s/it]\u001b[A\n",
      " 12%|█▏        | 3641/30802 [5:41:25<50:50:18,  6.74s/it]\u001b[A"
     ]
    },
    {
     "name": "stdout",
     "output_type": "stream",
     "text": [
      "Epoch 0, Batch 3640, loss 205607648.0\n"
     ]
    },
    {
     "name": "stderr",
     "output_type": "stream",
     "text": [
      "\n",
      " 12%|█▏        | 3642/30802 [5:41:32<49:45:23,  6.60s/it]\u001b[A\n",
      " 12%|█▏        | 3643/30802 [5:41:41<54:44:18,  7.26s/it]\u001b[A\n",
      " 12%|█▏        | 3644/30802 [5:41:47<53:06:54,  7.04s/it]\u001b[A\n",
      " 12%|█▏        | 3645/30802 [5:41:54<52:11:46,  6.92s/it]\u001b[A\n",
      " 12%|█▏        | 3646/30802 [5:42:00<50:25:02,  6.68s/it]\u001b[A"
     ]
    },
    {
     "name": "stdout",
     "output_type": "stream",
     "text": [
      "Epoch 0, Batch 3645, loss 444546560.0\n"
     ]
    },
    {
     "name": "stderr",
     "output_type": "stream",
     "text": [
      "\n",
      " 12%|█▏        | 3647/30802 [5:42:06<49:49:04,  6.60s/it]\u001b[A\n",
      " 12%|█▏        | 3648/30802 [5:42:13<50:28:21,  6.69s/it]\u001b[A\n",
      " 12%|█▏        | 3649/30802 [5:42:21<53:49:29,  7.14s/it]\u001b[A\n",
      " 12%|█▏        | 3650/30802 [5:42:29<54:34:05,  7.24s/it]\u001b[A\n",
      " 12%|█▏        | 3651/30802 [5:42:37<57:12:01,  7.58s/it]\u001b[A"
     ]
    },
    {
     "name": "stdout",
     "output_type": "stream",
     "text": [
      "Epoch 0, Batch 3650, loss 435989568.0\n"
     ]
    },
    {
     "name": "stderr",
     "output_type": "stream",
     "text": [
      "\n",
      " 12%|█▏        | 3652/30802 [5:42:45<56:48:18,  7.53s/it]\u001b[A\n",
      " 12%|█▏        | 3653/30802 [5:42:52<55:41:14,  7.38s/it]\u001b[A\n",
      " 12%|█▏        | 3654/30802 [5:42:58<54:26:18,  7.22s/it]\u001b[A\n",
      " 12%|█▏        | 3655/30802 [5:43:05<52:21:41,  6.94s/it]\u001b[A\n",
      " 12%|█▏        | 3656/30802 [5:43:10<49:02:32,  6.50s/it]\u001b[A"
     ]
    },
    {
     "name": "stdout",
     "output_type": "stream",
     "text": [
      "Epoch 0, Batch 3655, loss 317288992.0\n"
     ]
    },
    {
     "name": "stderr",
     "output_type": "stream",
     "text": [
      "\n",
      " 12%|█▏        | 3657/30802 [5:43:19<53:20:41,  7.07s/it]\u001b[A\n",
      " 12%|█▏        | 3658/30802 [5:43:26<52:58:15,  7.03s/it]\u001b[A\n",
      " 12%|█▏        | 3659/30802 [5:43:31<50:19:51,  6.68s/it]\u001b[A\n",
      " 12%|█▏        | 3660/30802 [5:43:39<51:54:39,  6.89s/it]\u001b[A\n",
      " 12%|█▏        | 3661/30802 [5:43:45<50:23:52,  6.68s/it]\u001b[A"
     ]
    },
    {
     "name": "stdout",
     "output_type": "stream",
     "text": [
      "Epoch 0, Batch 3660, loss 78786568.0\n"
     ]
    },
    {
     "name": "stderr",
     "output_type": "stream",
     "text": [
      "\n",
      " 12%|█▏        | 3662/30802 [5:43:51<49:34:34,  6.58s/it]\u001b[A\n",
      " 12%|█▏        | 3663/30802 [5:44:01<56:00:34,  7.43s/it]\u001b[A\n",
      " 12%|█▏        | 3664/30802 [5:44:08<56:11:09,  7.45s/it]\u001b[A\n",
      " 12%|█▏        | 3665/30802 [5:44:14<52:40:43,  6.99s/it]\u001b[A\n",
      " 12%|█▏        | 3666/30802 [5:44:20<51:06:12,  6.78s/it]\u001b[A"
     ]
    },
    {
     "name": "stdout",
     "output_type": "stream",
     "text": [
      "Epoch 0, Batch 3665, loss 178678128.0\n"
     ]
    },
    {
     "name": "stderr",
     "output_type": "stream",
     "text": [
      "\n",
      " 12%|█▏        | 3667/30802 [5:44:27<50:51:23,  6.75s/it]\u001b[A\n",
      " 12%|█▏        | 3668/30802 [5:44:34<50:13:29,  6.66s/it]\u001b[A\n",
      " 12%|█▏        | 3669/30802 [5:44:39<48:10:12,  6.39s/it]\u001b[A\n",
      " 12%|█▏        | 3670/30802 [5:44:46<49:21:51,  6.55s/it]\u001b[A\n",
      " 12%|█▏        | 3671/30802 [5:44:52<47:23:16,  6.29s/it]\u001b[A"
     ]
    },
    {
     "name": "stdout",
     "output_type": "stream",
     "text": [
      "Epoch 0, Batch 3670, loss 292074016.0\n"
     ]
    },
    {
     "name": "stderr",
     "output_type": "stream",
     "text": [
      "\n",
      " 12%|█▏        | 3672/30802 [5:44:58<47:06:32,  6.25s/it]\u001b[A\n",
      " 12%|█▏        | 3673/30802 [5:45:05<48:59:07,  6.50s/it]\u001b[A\n",
      " 12%|█▏        | 3674/30802 [5:45:11<48:13:33,  6.40s/it]\u001b[A\n",
      " 12%|█▏        | 3675/30802 [5:45:17<46:36:02,  6.18s/it]\u001b[A\n",
      " 12%|█▏        | 3676/30802 [5:45:23<46:49:07,  6.21s/it]\u001b[A"
     ]
    },
    {
     "name": "stdout",
     "output_type": "stream",
     "text": [
      "Epoch 0, Batch 3675, loss 360007424.0\n"
     ]
    },
    {
     "name": "stderr",
     "output_type": "stream",
     "text": [
      "\n",
      " 12%|█▏        | 3677/30802 [5:45:30<46:58:12,  6.23s/it]\u001b[A\n",
      " 12%|█▏        | 3678/30802 [5:45:35<45:35:22,  6.05s/it]\u001b[A\n",
      " 12%|█▏        | 3679/30802 [5:45:41<44:22:59,  5.89s/it]\u001b[A\n",
      " 12%|█▏        | 3680/30802 [5:45:47<45:56:59,  6.10s/it]\u001b[A\n",
      " 12%|█▏        | 3681/30802 [5:45:54<48:05:14,  6.38s/it]\u001b[A"
     ]
    },
    {
     "name": "stdout",
     "output_type": "stream",
     "text": [
      "Epoch 0, Batch 3680, loss 64796716.0\n"
     ]
    },
    {
     "name": "stderr",
     "output_type": "stream",
     "text": [
      "\n",
      " 12%|█▏        | 3682/30802 [5:46:01<48:30:23,  6.44s/it]\u001b[A\n",
      " 12%|█▏        | 3683/30802 [5:46:07<48:37:59,  6.46s/it]\u001b[A\n",
      " 12%|█▏        | 3684/30802 [5:46:13<47:34:09,  6.31s/it]\u001b[A\n",
      " 12%|█▏        | 3685/30802 [5:46:20<47:10:37,  6.26s/it]\u001b[A\n",
      " 12%|█▏        | 3686/30802 [5:46:27<50:11:05,  6.66s/it]\u001b[A"
     ]
    },
    {
     "name": "stdout",
     "output_type": "stream",
     "text": [
      "Epoch 0, Batch 3685, loss 262698640.0\n"
     ]
    },
    {
     "name": "stderr",
     "output_type": "stream",
     "text": [
      "\n",
      " 12%|█▏        | 3687/30802 [5:46:34<49:59:44,  6.64s/it]\u001b[A\n",
      " 12%|█▏        | 3688/30802 [5:46:40<48:50:30,  6.48s/it]\u001b[A\n",
      " 12%|█▏        | 3689/30802 [5:46:48<52:59:53,  7.04s/it]\u001b[A\n",
      " 12%|█▏        | 3690/30802 [5:46:55<52:17:41,  6.94s/it]\u001b[A\n",
      " 12%|█▏        | 3691/30802 [5:47:01<50:16:27,  6.68s/it]\u001b[A"
     ]
    },
    {
     "name": "stdout",
     "output_type": "stream",
     "text": [
      "Epoch 0, Batch 3690, loss 27176110.0\n"
     ]
    },
    {
     "name": "stderr",
     "output_type": "stream",
     "text": [
      "\n",
      " 12%|█▏        | 3692/30802 [5:47:08<50:06:57,  6.66s/it]\u001b[A\n",
      " 12%|█▏        | 3693/30802 [5:47:15<50:45:51,  6.74s/it]\u001b[A\n",
      " 12%|█▏        | 3694/30802 [5:47:22<51:32:00,  6.84s/it]\u001b[A\n",
      " 12%|█▏        | 3695/30802 [5:47:30<55:45:15,  7.40s/it]\u001b[A\n",
      " 12%|█▏        | 3696/30802 [5:47:37<54:17:30,  7.21s/it]\u001b[A"
     ]
    },
    {
     "name": "stdout",
     "output_type": "stream",
     "text": [
      "Epoch 0, Batch 3695, loss 56286276.0\n"
     ]
    },
    {
     "name": "stderr",
     "output_type": "stream",
     "text": [
      "\n",
      " 12%|█▏        | 3697/30802 [5:47:45<56:00:31,  7.44s/it]\u001b[A\n",
      " 12%|█▏        | 3698/30802 [5:47:54<58:16:27,  7.74s/it]\u001b[A\n",
      " 12%|█▏        | 3699/30802 [5:48:01<58:35:28,  7.78s/it]\u001b[A\n",
      " 12%|█▏        | 3700/30802 [5:48:08<55:30:08,  7.37s/it]\u001b[A\n",
      " 12%|█▏        | 3701/30802 [5:48:14<53:50:38,  7.15s/it]\u001b[A"
     ]
    },
    {
     "name": "stdout",
     "output_type": "stream",
     "text": [
      "Epoch 0, Batch 3700, loss 39484608.0\n"
     ]
    },
    {
     "name": "stderr",
     "output_type": "stream",
     "text": [
      "\n",
      " 12%|█▏        | 3702/30802 [5:48:21<52:04:25,  6.92s/it]\u001b[A\n",
      " 12%|█▏        | 3703/30802 [5:48:27<50:04:49,  6.65s/it]\u001b[A\n",
      " 12%|█▏        | 3704/30802 [5:48:33<49:59:51,  6.64s/it]\u001b[A\n",
      " 12%|█▏        | 3705/30802 [5:48:41<51:32:44,  6.85s/it]\u001b[A\n",
      " 12%|█▏        | 3706/30802 [5:48:47<49:01:32,  6.51s/it]\u001b[A"
     ]
    },
    {
     "name": "stdout",
     "output_type": "stream",
     "text": [
      "Epoch 0, Batch 3705, loss 27961750.0\n"
     ]
    },
    {
     "name": "stderr",
     "output_type": "stream",
     "text": [
      "\n",
      " 12%|█▏        | 3707/30802 [5:48:52<46:49:07,  6.22s/it]\u001b[A\n",
      " 12%|█▏        | 3708/30802 [5:48:58<45:39:47,  6.07s/it]\u001b[A\n",
      " 12%|█▏        | 3709/30802 [5:49:05<47:46:39,  6.35s/it]\u001b[A\n",
      " 12%|█▏        | 3710/30802 [5:49:13<51:13:30,  6.81s/it]\u001b[A\n",
      " 12%|█▏        | 3711/30802 [5:49:21<54:55:49,  7.30s/it]\u001b[A"
     ]
    },
    {
     "name": "stdout",
     "output_type": "stream",
     "text": [
      "Epoch 0, Batch 3710, loss 70840080.0\n"
     ]
    },
    {
     "name": "stderr",
     "output_type": "stream",
     "text": [
      "\n",
      " 12%|█▏        | 3712/30802 [5:49:30<58:52:42,  7.82s/it]\u001b[A\n",
      " 12%|█▏        | 3713/30802 [5:49:38<59:24:37,  7.90s/it]\u001b[A\n",
      " 12%|█▏        | 3714/30802 [5:49:47<60:21:26,  8.02s/it]\u001b[A\n",
      " 12%|█▏        | 3715/30802 [5:49:54<59:30:54,  7.91s/it]\u001b[A\n",
      " 12%|█▏        | 3716/30802 [5:50:03<61:39:10,  8.19s/it]\u001b[A"
     ]
    },
    {
     "name": "stdout",
     "output_type": "stream",
     "text": [
      "Epoch 0, Batch 3715, loss 199740304.0\n"
     ]
    },
    {
     "name": "stderr",
     "output_type": "stream",
     "text": [
      "\n",
      " 12%|█▏        | 3717/30802 [5:50:10<59:02:21,  7.85s/it]\u001b[A\n",
      " 12%|█▏        | 3718/30802 [5:50:19<61:12:06,  8.13s/it]\u001b[A\n",
      " 12%|█▏        | 3719/30802 [5:50:28<63:13:20,  8.40s/it]\u001b[A\n",
      " 12%|█▏        | 3720/30802 [5:50:37<63:41:04,  8.47s/it]\u001b[A\n",
      " 12%|█▏        | 3721/30802 [5:50:45<63:35:43,  8.45s/it]\u001b[A"
     ]
    },
    {
     "name": "stdout",
     "output_type": "stream",
     "text": [
      "Epoch 0, Batch 3720, loss 377667968.0\n"
     ]
    },
    {
     "name": "stderr",
     "output_type": "stream",
     "text": [
      "\n",
      " 12%|█▏        | 3722/30802 [5:50:54<65:47:56,  8.75s/it]\u001b[A\n",
      " 12%|█▏        | 3723/30802 [5:51:02<64:15:42,  8.54s/it]\u001b[A\n",
      " 12%|█▏        | 3724/30802 [5:51:12<65:38:57,  8.73s/it]\u001b[A\n",
      " 12%|█▏        | 3725/30802 [5:51:22<68:46:48,  9.14s/it]\u001b[A\n",
      " 12%|█▏        | 3726/30802 [5:51:33<73:57:47,  9.83s/it]\u001b[A"
     ]
    },
    {
     "name": "stdout",
     "output_type": "stream",
     "text": [
      "Epoch 0, Batch 3725, loss 89005536.0\n"
     ]
    },
    {
     "name": "stderr",
     "output_type": "stream",
     "text": [
      "\n",
      " 12%|█▏        | 3727/30802 [5:51:43<73:47:20,  9.81s/it]\u001b[A\n",
      " 12%|█▏        | 3728/30802 [5:51:52<71:09:22,  9.46s/it]\u001b[A\n",
      " 12%|█▏        | 3729/30802 [5:51:59<65:51:37,  8.76s/it]\u001b[A\n",
      " 12%|█▏        | 3730/30802 [5:52:05<59:57:24,  7.97s/it]\u001b[A\n",
      " 12%|█▏        | 3731/30802 [5:52:12<57:58:48,  7.71s/it]\u001b[A"
     ]
    },
    {
     "name": "stdout",
     "output_type": "stream",
     "text": [
      "Epoch 0, Batch 3730, loss 199507360.0\n"
     ]
    },
    {
     "name": "stderr",
     "output_type": "stream",
     "text": [
      "\n",
      " 12%|█▏        | 3732/30802 [5:52:19<56:55:09,  7.57s/it]\u001b[A\n",
      " 12%|█▏        | 3733/30802 [5:52:26<55:30:14,  7.38s/it]\u001b[A\n",
      " 12%|█▏        | 3734/30802 [5:52:32<52:35:57,  7.00s/it]\u001b[A\n",
      " 12%|█▏        | 3735/30802 [5:52:38<50:40:41,  6.74s/it]\u001b[A\n",
      " 12%|█▏        | 3736/30802 [5:52:45<50:00:21,  6.65s/it]\u001b[A"
     ]
    },
    {
     "name": "stdout",
     "output_type": "stream",
     "text": [
      "Epoch 0, Batch 3735, loss 321717152.0\n"
     ]
    },
    {
     "name": "stderr",
     "output_type": "stream",
     "text": [
      "\n",
      " 12%|█▏        | 3737/30802 [5:52:51<49:25:59,  6.58s/it]\u001b[A\n",
      " 12%|█▏        | 3738/30802 [5:52:58<48:48:50,  6.49s/it]\u001b[A\n",
      " 12%|█▏        | 3739/30802 [5:53:04<47:46:16,  6.35s/it]\u001b[A\n",
      " 12%|█▏        | 3740/30802 [5:53:10<47:15:18,  6.29s/it]\u001b[A\n",
      " 12%|█▏        | 3741/30802 [5:53:16<46:24:07,  6.17s/it]\u001b[A"
     ]
    },
    {
     "name": "stdout",
     "output_type": "stream",
     "text": [
      "Epoch 0, Batch 3740, loss 63984840.0\n"
     ]
    },
    {
     "name": "stderr",
     "output_type": "stream",
     "text": [
      "\n",
      " 12%|█▏        | 3742/30802 [5:53:21<44:28:21,  5.92s/it]\u001b[A\n",
      " 12%|█▏        | 3743/30802 [5:53:27<44:18:28,  5.89s/it]\u001b[A\n",
      " 12%|█▏        | 3744/30802 [5:53:34<47:55:35,  6.38s/it]\u001b[A\n",
      " 12%|█▏        | 3745/30802 [5:53:40<46:45:18,  6.22s/it]\u001b[A\n",
      " 12%|█▏        | 3746/30802 [5:53:46<45:31:36,  6.06s/it]\u001b[A"
     ]
    },
    {
     "name": "stdout",
     "output_type": "stream",
     "text": [
      "Epoch 0, Batch 3745, loss 243323040.0\n"
     ]
    },
    {
     "name": "stderr",
     "output_type": "stream",
     "text": [
      "\n",
      " 12%|█▏        | 3747/30802 [5:53:52<44:52:11,  5.97s/it]\u001b[A\n",
      " 12%|█▏        | 3748/30802 [5:53:57<43:58:17,  5.85s/it]\u001b[A\n",
      " 12%|█▏        | 3749/30802 [5:54:03<44:49:43,  5.97s/it]\u001b[A\n",
      " 12%|█▏        | 3750/30802 [5:54:09<44:28:48,  5.92s/it]\u001b[A\n",
      " 12%|█▏        | 3751/30802 [5:54:15<43:15:33,  5.76s/it]\u001b[A"
     ]
    },
    {
     "name": "stdout",
     "output_type": "stream",
     "text": [
      "Epoch 0, Batch 3750, loss 410802208.0\n"
     ]
    },
    {
     "name": "stderr",
     "output_type": "stream",
     "text": [
      "\n",
      " 12%|█▏        | 3752/30802 [5:54:20<42:08:54,  5.61s/it]\u001b[A\n",
      " 12%|█▏        | 3753/30802 [5:54:25<41:55:28,  5.58s/it]\u001b[A\n",
      " 12%|█▏        | 3754/30802 [5:54:31<41:44:27,  5.56s/it]\u001b[A\n",
      " 12%|█▏        | 3755/30802 [5:54:36<41:39:05,  5.54s/it]\u001b[A\n",
      " 12%|█▏        | 3756/30802 [5:54:42<41:27:11,  5.52s/it]\u001b[A"
     ]
    },
    {
     "name": "stdout",
     "output_type": "stream",
     "text": [
      "Epoch 0, Batch 3755, loss 148810992.0\n"
     ]
    },
    {
     "name": "stderr",
     "output_type": "stream",
     "text": [
      "\n",
      " 12%|█▏        | 3757/30802 [5:54:47<41:03:21,  5.47s/it]\u001b[A\n",
      " 12%|█▏        | 3758/30802 [5:54:53<41:02:05,  5.46s/it]\u001b[A\n",
      " 12%|█▏        | 3759/30802 [5:54:58<40:55:18,  5.45s/it]\u001b[A\n",
      " 12%|█▏        | 3760/30802 [5:55:03<40:29:00,  5.39s/it]\u001b[A\n",
      " 12%|█▏        | 3761/30802 [5:55:09<40:48:11,  5.43s/it]\u001b[A"
     ]
    },
    {
     "name": "stdout",
     "output_type": "stream",
     "text": [
      "Epoch 0, Batch 3760, loss 112763384.0\n"
     ]
    },
    {
     "name": "stderr",
     "output_type": "stream",
     "text": [
      "\n",
      " 12%|█▏        | 3762/30802 [5:55:14<40:51:51,  5.44s/it]\u001b[A\n",
      " 12%|█▏        | 3763/30802 [5:55:19<40:23:48,  5.38s/it]\u001b[A\n",
      " 12%|█▏        | 3764/30802 [5:55:25<40:04:20,  5.34s/it]\u001b[A\n",
      " 12%|█▏        | 3765/30802 [5:55:30<40:36:35,  5.41s/it]\u001b[A\n",
      " 12%|█▏        | 3766/30802 [5:55:36<40:48:24,  5.43s/it]\u001b[A"
     ]
    },
    {
     "name": "stdout",
     "output_type": "stream",
     "text": [
      "Epoch 0, Batch 3765, loss 140556912.0\n"
     ]
    },
    {
     "name": "stderr",
     "output_type": "stream",
     "text": [
      "\n",
      " 12%|█▏        | 3767/30802 [5:55:41<41:12:04,  5.49s/it]\u001b[A\n",
      " 12%|█▏        | 3768/30802 [5:55:47<41:44:25,  5.56s/it]\u001b[A\n",
      " 12%|█▏        | 3769/30802 [5:55:53<42:02:44,  5.60s/it]\u001b[A\n",
      " 12%|█▏        | 3770/30802 [5:55:58<42:05:39,  5.61s/it]\u001b[A\n",
      " 12%|█▏        | 3771/30802 [5:56:06<46:49:52,  6.24s/it]\u001b[A"
     ]
    },
    {
     "name": "stdout",
     "output_type": "stream",
     "text": [
      "Epoch 0, Batch 3770, loss 143888496.0\n"
     ]
    },
    {
     "name": "stderr",
     "output_type": "stream",
     "text": [
      "\n",
      " 12%|█▏        | 3772/30802 [5:56:11<44:44:47,  5.96s/it]\u001b[A\n",
      " 12%|█▏        | 3773/30802 [5:56:17<43:24:55,  5.78s/it]\u001b[A\n",
      " 12%|█▏        | 3774/30802 [5:56:22<42:31:36,  5.66s/it]\u001b[A\n",
      " 12%|█▏        | 3775/30802 [5:56:28<43:40:23,  5.82s/it]\u001b[A\n",
      " 12%|█▏        | 3776/30802 [5:56:34<42:07:03,  5.61s/it]\u001b[A"
     ]
    },
    {
     "name": "stdout",
     "output_type": "stream",
     "text": [
      "Epoch 0, Batch 3775, loss 205265248.0\n"
     ]
    },
    {
     "name": "stderr",
     "output_type": "stream",
     "text": [
      "\n",
      " 12%|█▏        | 3777/30802 [5:56:39<41:45:32,  5.56s/it]\u001b[A\n",
      " 12%|█▏        | 3778/30802 [5:56:44<41:29:24,  5.53s/it]\u001b[A\n",
      " 12%|█▏        | 3779/30802 [5:56:50<41:06:03,  5.48s/it]\u001b[A\n",
      " 12%|█▏        | 3780/30802 [5:56:55<41:02:37,  5.47s/it]\u001b[A\n",
      " 12%|█▏        | 3781/30802 [5:57:01<42:02:57,  5.60s/it]\u001b[A"
     ]
    },
    {
     "name": "stdout",
     "output_type": "stream",
     "text": [
      "Epoch 0, Batch 3780, loss 198459424.0\n"
     ]
    },
    {
     "name": "stderr",
     "output_type": "stream",
     "text": [
      "\n",
      " 12%|█▏        | 3782/30802 [5:57:07<41:54:49,  5.58s/it]\u001b[A\n",
      " 12%|█▏        | 3783/30802 [5:57:12<41:37:17,  5.55s/it]\u001b[A\n",
      " 12%|█▏        | 3784/30802 [5:57:17<41:09:58,  5.49s/it]\u001b[A\n",
      " 12%|█▏        | 3785/30802 [5:57:23<40:54:59,  5.45s/it]\u001b[A\n",
      " 12%|█▏        | 3786/30802 [5:57:28<41:17:10,  5.50s/it]\u001b[A"
     ]
    },
    {
     "name": "stdout",
     "output_type": "stream",
     "text": [
      "Epoch 0, Batch 3785, loss 36854064.0\n"
     ]
    },
    {
     "name": "stderr",
     "output_type": "stream",
     "text": [
      "\n",
      " 12%|█▏        | 3787/30802 [5:57:34<41:05:46,  5.48s/it]\u001b[A\n",
      " 12%|█▏        | 3788/30802 [5:57:39<40:53:12,  5.45s/it]\u001b[A\n",
      " 12%|█▏        | 3789/30802 [5:57:45<40:56:15,  5.46s/it]\u001b[A\n",
      " 12%|█▏        | 3790/30802 [5:57:50<41:19:00,  5.51s/it]\u001b[A\n",
      " 12%|█▏        | 3791/30802 [5:57:56<41:28:49,  5.53s/it]\u001b[A"
     ]
    },
    {
     "name": "stdout",
     "output_type": "stream",
     "text": [
      "Epoch 0, Batch 3790, loss 311659680.0\n"
     ]
    },
    {
     "name": "stderr",
     "output_type": "stream",
     "text": [
      "\n",
      " 12%|█▏        | 3792/30802 [5:58:02<41:48:08,  5.57s/it]\u001b[A\n",
      " 12%|█▏        | 3793/30802 [5:58:07<41:30:11,  5.53s/it]\u001b[A\n",
      " 12%|█▏        | 3794/30802 [5:58:12<41:02:25,  5.47s/it]\u001b[A\n",
      " 12%|█▏        | 3795/30802 [5:58:18<40:30:09,  5.40s/it]\u001b[A\n",
      " 12%|█▏        | 3796/30802 [5:58:23<40:19:25,  5.38s/it]\u001b[A"
     ]
    },
    {
     "name": "stdout",
     "output_type": "stream",
     "text": [
      "Epoch 0, Batch 3795, loss 392547200.0\n"
     ]
    },
    {
     "name": "stderr",
     "output_type": "stream",
     "text": [
      "\n",
      " 12%|█▏        | 3797/30802 [5:58:28<40:33:36,  5.41s/it]\u001b[A\n",
      " 12%|█▏        | 3798/30802 [5:58:34<41:32:23,  5.54s/it]\u001b[A\n",
      " 12%|█▏        | 3799/30802 [5:58:40<42:22:55,  5.65s/it]\u001b[A\n",
      " 12%|█▏        | 3800/30802 [5:58:46<42:25:15,  5.66s/it]\u001b[A\n",
      " 12%|█▏        | 3801/30802 [5:58:52<43:20:33,  5.78s/it]\u001b[A"
     ]
    },
    {
     "name": "stdout",
     "output_type": "stream",
     "text": [
      "Epoch 0, Batch 3800, loss 167944544.0\n"
     ]
    },
    {
     "name": "stderr",
     "output_type": "stream",
     "text": [
      "\n",
      " 12%|█▏        | 3802/30802 [5:58:57<42:44:10,  5.70s/it]\u001b[A\n",
      " 12%|█▏        | 3803/30802 [5:59:03<42:37:26,  5.68s/it]\u001b[A\n",
      " 12%|█▏        | 3804/30802 [5:59:09<42:05:39,  5.61s/it]\u001b[A\n",
      " 12%|█▏        | 3805/30802 [5:59:14<41:15:06,  5.50s/it]\u001b[A\n",
      " 12%|█▏        | 3806/30802 [5:59:19<40:32:30,  5.41s/it]\u001b[A"
     ]
    },
    {
     "name": "stdout",
     "output_type": "stream",
     "text": [
      "Epoch 0, Batch 3805, loss 516959744.0\n"
     ]
    },
    {
     "name": "stderr",
     "output_type": "stream",
     "text": [
      "\n",
      " 12%|█▏        | 3807/30802 [5:59:24<40:17:24,  5.37s/it]\u001b[A\n",
      " 12%|█▏        | 3808/30802 [5:59:30<41:10:08,  5.49s/it]\u001b[A\n",
      " 12%|█▏        | 3809/30802 [5:59:35<40:42:21,  5.43s/it]\u001b[A\n",
      " 12%|█▏        | 3810/30802 [5:59:41<40:53:04,  5.45s/it]\u001b[A\n",
      " 12%|█▏        | 3811/30802 [5:59:46<41:08:42,  5.49s/it]\u001b[A"
     ]
    },
    {
     "name": "stdout",
     "output_type": "stream",
     "text": [
      "Epoch 0, Batch 3810, loss 315856000.0\n"
     ]
    },
    {
     "name": "stderr",
     "output_type": "stream",
     "text": [
      "\n",
      " 12%|█▏        | 3812/30802 [5:59:52<41:06:37,  5.48s/it]\u001b[A\n",
      " 12%|█▏        | 3813/30802 [5:59:57<40:52:53,  5.45s/it]\u001b[A\n",
      " 12%|█▏        | 3814/30802 [6:00:03<40:35:36,  5.41s/it]\u001b[A\n",
      " 12%|█▏        | 3815/30802 [6:00:08<40:44:24,  5.43s/it]\u001b[A\n",
      " 12%|█▏        | 3816/30802 [6:00:13<40:34:36,  5.41s/it]\u001b[A"
     ]
    },
    {
     "name": "stdout",
     "output_type": "stream",
     "text": [
      "Epoch 0, Batch 3815, loss 311682240.0\n"
     ]
    },
    {
     "name": "stderr",
     "output_type": "stream",
     "text": [
      "\n",
      " 12%|█▏        | 3817/30802 [6:00:19<40:35:46,  5.42s/it]\u001b[A\n",
      " 12%|█▏        | 3818/30802 [6:00:24<41:10:49,  5.49s/it]\u001b[A\n",
      " 12%|█▏        | 3819/30802 [6:00:30<41:05:12,  5.48s/it]\u001b[A\n",
      " 12%|█▏        | 3820/30802 [6:00:36<41:21:38,  5.52s/it]\u001b[A\n",
      " 12%|█▏        | 3821/30802 [6:00:41<41:02:54,  5.48s/it]\u001b[A"
     ]
    },
    {
     "name": "stdout",
     "output_type": "stream",
     "text": [
      "Epoch 0, Batch 3820, loss 392317664.0\n"
     ]
    },
    {
     "name": "stderr",
     "output_type": "stream",
     "text": [
      "\n",
      " 12%|█▏        | 3822/30802 [6:00:46<41:16:33,  5.51s/it]\u001b[A\n",
      " 12%|█▏        | 3823/30802 [6:00:52<41:52:50,  5.59s/it]\u001b[A\n",
      " 12%|█▏        | 3824/30802 [6:00:58<41:48:26,  5.58s/it]\u001b[A\n",
      " 12%|█▏        | 3825/30802 [6:01:03<41:45:13,  5.57s/it]\u001b[A\n",
      " 12%|█▏        | 3826/30802 [6:01:09<41:32:23,  5.54s/it]\u001b[A"
     ]
    },
    {
     "name": "stdout",
     "output_type": "stream",
     "text": [
      "Epoch 0, Batch 3825, loss 79036504.0\n"
     ]
    },
    {
     "name": "stderr",
     "output_type": "stream",
     "text": [
      "\n",
      " 12%|█▏        | 3827/30802 [6:01:14<41:07:54,  5.49s/it]\u001b[A\n",
      " 12%|█▏        | 3828/30802 [6:01:20<40:47:16,  5.44s/it]\u001b[A\n",
      " 12%|█▏        | 3829/30802 [6:01:25<41:10:44,  5.50s/it]\u001b[A\n",
      " 12%|█▏        | 3830/30802 [6:01:31<41:07:36,  5.49s/it]\u001b[A\n",
      " 12%|█▏        | 3831/30802 [6:01:36<40:56:31,  5.46s/it]\u001b[A"
     ]
    },
    {
     "name": "stdout",
     "output_type": "stream",
     "text": [
      "Epoch 0, Batch 3830, loss 316358048.0\n"
     ]
    },
    {
     "name": "stderr",
     "output_type": "stream",
     "text": [
      "\n",
      " 12%|█▏        | 3832/30802 [6:01:41<40:20:02,  5.38s/it]\u001b[A\n",
      " 12%|█▏        | 3833/30802 [6:01:47<40:15:25,  5.37s/it]\u001b[A\n",
      " 12%|█▏        | 3834/30802 [6:01:52<40:39:31,  5.43s/it]\u001b[A\n",
      " 12%|█▏        | 3835/30802 [6:01:58<40:48:05,  5.45s/it]\u001b[A\n",
      " 12%|█▏        | 3836/30802 [6:02:03<41:02:21,  5.48s/it]\u001b[A"
     ]
    },
    {
     "name": "stdout",
     "output_type": "stream",
     "text": [
      "Epoch 0, Batch 3835, loss 29041056.0\n"
     ]
    },
    {
     "name": "stderr",
     "output_type": "stream",
     "text": [
      "\n",
      " 12%|█▏        | 3837/30802 [6:02:09<41:07:52,  5.49s/it]\u001b[A\n",
      " 12%|█▏        | 3838/30802 [6:02:14<41:00:58,  5.48s/it]\u001b[A\n",
      " 12%|█▏        | 3839/30802 [6:02:19<40:34:22,  5.42s/it]\u001b[A\n",
      " 12%|█▏        | 3840/30802 [6:02:26<42:12:53,  5.64s/it]\u001b[A\n",
      " 12%|█▏        | 3841/30802 [6:02:31<41:42:04,  5.57s/it]\u001b[A"
     ]
    },
    {
     "name": "stdout",
     "output_type": "stream",
     "text": [
      "Epoch 0, Batch 3840, loss 394947456.0\n"
     ]
    },
    {
     "name": "stderr",
     "output_type": "stream",
     "text": [
      "\n",
      " 12%|█▏        | 3842/30802 [6:02:37<41:41:37,  5.57s/it]\u001b[A\n",
      " 12%|█▏        | 3843/30802 [6:02:42<41:02:29,  5.48s/it]\u001b[A\n",
      " 12%|█▏        | 3844/30802 [6:02:47<40:23:38,  5.39s/it]\u001b[A\n",
      " 12%|█▏        | 3845/30802 [6:02:52<40:08:37,  5.36s/it]\u001b[A\n",
      " 12%|█▏        | 3846/30802 [6:02:58<40:17:44,  5.38s/it]\u001b[A"
     ]
    },
    {
     "name": "stdout",
     "output_type": "stream",
     "text": [
      "Epoch 0, Batch 3845, loss 545606528.0\n"
     ]
    },
    {
     "name": "stderr",
     "output_type": "stream",
     "text": [
      "\n",
      " 12%|█▏        | 3847/30802 [6:03:03<40:19:28,  5.39s/it]\u001b[A\n",
      " 12%|█▏        | 3848/30802 [6:03:09<41:06:27,  5.49s/it]\u001b[A\n",
      " 12%|█▏        | 3849/30802 [6:03:15<41:42:13,  5.57s/it]\u001b[A\n",
      " 12%|█▏        | 3850/30802 [6:03:20<41:12:16,  5.50s/it]\u001b[A\n",
      " 13%|█▎        | 3851/30802 [6:03:26<42:59:02,  5.74s/it]\u001b[A"
     ]
    },
    {
     "name": "stdout",
     "output_type": "stream",
     "text": [
      "Epoch 0, Batch 3850, loss 386838720.0\n"
     ]
    },
    {
     "name": "stderr",
     "output_type": "stream",
     "text": [
      "\n",
      " 13%|█▎        | 3852/30802 [6:03:33<45:48:08,  6.12s/it]\u001b[A\n",
      " 13%|█▎        | 3853/30802 [6:03:39<45:58:21,  6.14s/it]\u001b[A\n",
      " 13%|█▎        | 3854/30802 [6:03:46<46:26:58,  6.21s/it]\u001b[A\n",
      " 13%|█▎        | 3855/30802 [6:03:53<48:53:36,  6.53s/it]\u001b[A\n",
      " 13%|█▎        | 3856/30802 [6:04:00<49:32:58,  6.62s/it]\u001b[A"
     ]
    },
    {
     "name": "stdout",
     "output_type": "stream",
     "text": [
      "Epoch 0, Batch 3855, loss 504766720.0\n"
     ]
    },
    {
     "name": "stderr",
     "output_type": "stream",
     "text": [
      "\n",
      " 13%|█▎        | 3857/30802 [6:04:07<50:10:36,  6.70s/it]\u001b[A\n",
      " 13%|█▎        | 3858/30802 [6:04:13<49:39:36,  6.64s/it]\u001b[A\n",
      " 13%|█▎        | 3859/30802 [6:04:20<50:05:08,  6.69s/it]\u001b[A\n",
      " 13%|█▎        | 3860/30802 [6:04:27<49:31:36,  6.62s/it]\u001b[A\n",
      " 13%|█▎        | 3861/30802 [6:04:32<46:46:01,  6.25s/it]\u001b[A"
     ]
    },
    {
     "name": "stdout",
     "output_type": "stream",
     "text": [
      "Epoch 0, Batch 3860, loss 363583392.0\n"
     ]
    },
    {
     "name": "stderr",
     "output_type": "stream",
     "text": [
      "\n",
      " 13%|█▎        | 3862/30802 [6:04:37<44:47:38,  5.99s/it]\u001b[A\n",
      " 13%|█▎        | 3863/30802 [6:04:43<43:56:07,  5.87s/it]\u001b[A\n",
      " 13%|█▎        | 3864/30802 [6:04:49<43:21:43,  5.79s/it]\u001b[A\n",
      " 13%|█▎        | 3865/30802 [6:04:54<42:41:28,  5.71s/it]\u001b[A\n",
      " 13%|█▎        | 3866/30802 [6:04:59<41:40:02,  5.57s/it]\u001b[A"
     ]
    },
    {
     "name": "stdout",
     "output_type": "stream",
     "text": [
      "Epoch 0, Batch 3865, loss 426169760.0\n"
     ]
    },
    {
     "name": "stderr",
     "output_type": "stream",
     "text": [
      "\n",
      " 13%|█▎        | 3867/30802 [6:05:05<41:32:22,  5.55s/it]\u001b[A\n",
      " 13%|█▎        | 3868/30802 [6:05:10<41:10:27,  5.50s/it]\u001b[A\n",
      " 13%|█▎        | 3869/30802 [6:05:16<41:11:52,  5.51s/it]\u001b[A\n",
      " 13%|█▎        | 3870/30802 [6:05:21<40:44:09,  5.45s/it]\u001b[A\n",
      " 13%|█▎        | 3871/30802 [6:05:27<41:21:32,  5.53s/it]\u001b[A"
     ]
    },
    {
     "name": "stdout",
     "output_type": "stream",
     "text": [
      "Epoch 0, Batch 3870, loss 368024032.0\n"
     ]
    },
    {
     "name": "stderr",
     "output_type": "stream",
     "text": [
      "\n",
      " 13%|█▎        | 3872/30802 [6:05:32<40:41:35,  5.44s/it]\u001b[A\n",
      " 13%|█▎        | 3873/30802 [6:05:37<40:19:09,  5.39s/it]\u001b[A\n",
      " 13%|█▎        | 3874/30802 [6:05:42<39:34:09,  5.29s/it]\u001b[A\n",
      " 13%|█▎        | 3875/30802 [6:05:48<39:24:48,  5.27s/it]\u001b[A\n",
      " 13%|█▎        | 3876/30802 [6:05:53<39:35:50,  5.29s/it]\u001b[A"
     ]
    },
    {
     "name": "stdout",
     "output_type": "stream",
     "text": [
      "Epoch 0, Batch 3875, loss 285500032.0\n"
     ]
    },
    {
     "name": "stderr",
     "output_type": "stream",
     "text": [
      "\n",
      " 13%|█▎        | 3877/30802 [6:05:58<39:48:33,  5.32s/it]\u001b[A\n",
      " 13%|█▎        | 3878/30802 [6:06:04<40:20:31,  5.39s/it]\u001b[A\n",
      " 13%|█▎        | 3879/30802 [6:06:09<40:01:12,  5.35s/it]\u001b[A\n",
      " 13%|█▎        | 3880/30802 [6:06:14<39:21:19,  5.26s/it]\u001b[A\n",
      " 13%|█▎        | 3881/30802 [6:06:19<39:05:11,  5.23s/it]\u001b[A"
     ]
    },
    {
     "name": "stdout",
     "output_type": "stream",
     "text": [
      "Epoch 0, Batch 3880, loss 390319232.0\n"
     ]
    },
    {
     "name": "stderr",
     "output_type": "stream",
     "text": [
      "\n",
      " 13%|█▎        | 3882/30802 [6:06:25<39:08:14,  5.23s/it]\u001b[A\n",
      " 13%|█▎        | 3883/30802 [6:06:30<39:25:20,  5.27s/it]\u001b[A\n",
      " 13%|█▎        | 3884/30802 [6:06:35<39:48:50,  5.32s/it]\u001b[A\n",
      " 13%|█▎        | 3885/30802 [6:06:41<39:57:54,  5.35s/it]\u001b[A\n",
      " 13%|█▎        | 3886/30802 [6:06:46<40:13:54,  5.38s/it]\u001b[A"
     ]
    },
    {
     "name": "stdout",
     "output_type": "stream",
     "text": [
      "Epoch 0, Batch 3885, loss 500118656.0\n"
     ]
    },
    {
     "name": "stderr",
     "output_type": "stream",
     "text": [
      "\n",
      " 13%|█▎        | 3887/30802 [6:06:52<41:27:29,  5.55s/it]\u001b[A\n",
      " 13%|█▎        | 3888/30802 [6:06:58<41:27:10,  5.54s/it]\u001b[A\n",
      " 13%|█▎        | 3889/30802 [6:07:03<41:30:37,  5.55s/it]\u001b[A\n",
      " 13%|█▎        | 3890/30802 [6:07:09<40:51:14,  5.47s/it]\u001b[A\n",
      " 13%|█▎        | 3891/30802 [6:07:14<40:59:06,  5.48s/it]\u001b[A"
     ]
    },
    {
     "name": "stdout",
     "output_type": "stream",
     "text": [
      "Epoch 0, Batch 3890, loss 742014016.0\n"
     ]
    },
    {
     "name": "stderr",
     "output_type": "stream",
     "text": [
      "\n",
      " 13%|█▎        | 3892/30802 [6:07:20<41:14:25,  5.52s/it]\u001b[A\n",
      " 13%|█▎        | 3893/30802 [6:07:25<40:41:34,  5.44s/it]\u001b[A\n",
      " 13%|█▎        | 3894/30802 [6:07:30<40:29:09,  5.42s/it]\u001b[A\n",
      " 13%|█▎        | 3895/30802 [6:07:36<40:38:11,  5.44s/it]\u001b[A\n",
      " 13%|█▎        | 3896/30802 [6:07:41<40:37:41,  5.44s/it]\u001b[A"
     ]
    },
    {
     "name": "stdout",
     "output_type": "stream",
     "text": [
      "Epoch 0, Batch 3895, loss 326298336.0\n"
     ]
    },
    {
     "name": "stderr",
     "output_type": "stream",
     "text": [
      "\n",
      " 13%|█▎        | 3897/30802 [6:07:47<41:59:43,  5.62s/it]\u001b[A\n",
      " 13%|█▎        | 3898/30802 [6:07:53<41:45:15,  5.59s/it]\u001b[A\n",
      " 13%|█▎        | 3899/30802 [6:07:58<40:52:14,  5.47s/it]\u001b[A\n",
      " 13%|█▎        | 3900/30802 [6:08:03<40:05:06,  5.36s/it]\u001b[A\n",
      " 13%|█▎        | 3901/30802 [6:08:09<40:38:26,  5.44s/it]\u001b[A"
     ]
    },
    {
     "name": "stdout",
     "output_type": "stream",
     "text": [
      "Epoch 0, Batch 3900, loss 978237056.0\n"
     ]
    },
    {
     "name": "stderr",
     "output_type": "stream",
     "text": [
      "\n",
      " 13%|█▎        | 3902/30802 [6:08:14<40:22:09,  5.40s/it]\u001b[A\n",
      " 13%|█▎        | 3903/30802 [6:08:19<39:37:40,  5.30s/it]\u001b[A\n",
      " 13%|█▎        | 3904/30802 [6:08:24<39:33:26,  5.29s/it]\u001b[A\n",
      " 13%|█▎        | 3905/30802 [6:08:30<39:33:33,  5.29s/it]\u001b[A\n",
      " 13%|█▎        | 3906/30802 [6:08:35<40:15:34,  5.39s/it]\u001b[A"
     ]
    },
    {
     "name": "stdout",
     "output_type": "stream",
     "text": [
      "Epoch 0, Batch 3905, loss 290729760.0\n"
     ]
    },
    {
     "name": "stderr",
     "output_type": "stream",
     "text": [
      "\n",
      " 13%|█▎        | 3907/30802 [6:08:40<39:37:42,  5.30s/it]\u001b[A\n",
      " 13%|█▎        | 3908/30802 [6:08:46<39:45:37,  5.32s/it]\u001b[A\n",
      " 13%|█▎        | 3909/30802 [6:08:51<40:29:27,  5.42s/it]\u001b[A\n",
      " 13%|█▎        | 3910/30802 [6:08:56<39:48:53,  5.33s/it]\u001b[A\n",
      " 13%|█▎        | 3911/30802 [6:09:02<39:31:21,  5.29s/it]\u001b[A"
     ]
    },
    {
     "name": "stdout",
     "output_type": "stream",
     "text": [
      "Epoch 0, Batch 3910, loss 444634432.0\n"
     ]
    },
    {
     "name": "stderr",
     "output_type": "stream",
     "text": [
      "\n",
      " 13%|█▎        | 3912/30802 [6:09:07<39:36:03,  5.30s/it]\u001b[A\n",
      " 13%|█▎        | 3913/30802 [6:09:12<39:40:05,  5.31s/it]\u001b[A\n",
      " 13%|█▎        | 3914/30802 [6:09:18<39:39:18,  5.31s/it]\u001b[A\n",
      " 13%|█▎        | 3915/30802 [6:09:23<39:19:19,  5.26s/it]\u001b[A\n",
      " 13%|█▎        | 3916/30802 [6:09:28<39:28:55,  5.29s/it]\u001b[A"
     ]
    },
    {
     "name": "stdout",
     "output_type": "stream",
     "text": [
      "Epoch 0, Batch 3915, loss 477778048.0\n"
     ]
    },
    {
     "name": "stderr",
     "output_type": "stream",
     "text": [
      "\n",
      " 13%|█▎        | 3917/30802 [6:09:34<39:39:31,  5.31s/it]\u001b[A\n",
      " 13%|█▎        | 3918/30802 [6:09:39<40:11:58,  5.38s/it]\u001b[A\n",
      " 13%|█▎        | 3919/30802 [6:09:45<40:35:44,  5.44s/it]\u001b[A\n",
      " 13%|█▎        | 3920/30802 [6:09:50<41:27:22,  5.55s/it]\u001b[A\n",
      " 13%|█▎        | 3921/30802 [6:09:56<41:15:03,  5.52s/it]\u001b[A"
     ]
    },
    {
     "name": "stdout",
     "output_type": "stream",
     "text": [
      "Epoch 0, Batch 3920, loss 290133856.0\n"
     ]
    },
    {
     "name": "stderr",
     "output_type": "stream",
     "text": [
      "\n",
      " 13%|█▎        | 3922/30802 [6:10:01<40:50:14,  5.47s/it]\u001b[A\n",
      " 13%|█▎        | 3923/30802 [6:10:07<40:43:15,  5.45s/it]\u001b[A\n",
      " 13%|█▎        | 3924/30802 [6:10:12<40:26:51,  5.42s/it]\u001b[A\n",
      " 13%|█▎        | 3925/30802 [6:10:17<40:06:34,  5.37s/it]\u001b[A\n",
      " 13%|█▎        | 3926/30802 [6:10:23<39:52:35,  5.34s/it]\u001b[A"
     ]
    },
    {
     "name": "stdout",
     "output_type": "stream",
     "text": [
      "Epoch 0, Batch 3925, loss 502684064.0\n"
     ]
    },
    {
     "name": "stderr",
     "output_type": "stream",
     "text": [
      "\n",
      " 13%|█▎        | 3927/30802 [6:10:28<39:44:41,  5.32s/it]\u001b[A\n",
      " 13%|█▎        | 3928/30802 [6:10:33<39:49:34,  5.34s/it]\u001b[A\n",
      " 13%|█▎        | 3929/30802 [6:10:39<41:39:54,  5.58s/it]\u001b[A\n",
      " 13%|█▎        | 3930/30802 [6:10:45<41:04:53,  5.50s/it]\u001b[A\n",
      " 13%|█▎        | 3931/30802 [6:10:50<40:43:28,  5.46s/it]\u001b[A"
     ]
    },
    {
     "name": "stdout",
     "output_type": "stream",
     "text": [
      "Epoch 0, Batch 3930, loss 365381024.0\n"
     ]
    },
    {
     "name": "stderr",
     "output_type": "stream",
     "text": [
      "\n",
      " 13%|█▎        | 3932/30802 [6:10:55<40:43:37,  5.46s/it]\u001b[A\n",
      " 13%|█▎        | 3933/30802 [6:11:01<40:30:46,  5.43s/it]\u001b[A\n",
      " 13%|█▎        | 3934/30802 [6:11:06<39:48:17,  5.33s/it]\u001b[A\n",
      " 13%|█▎        | 3935/30802 [6:11:11<39:51:21,  5.34s/it]\u001b[A\n",
      " 13%|█▎        | 3936/30802 [6:11:16<39:33:29,  5.30s/it]\u001b[A"
     ]
    },
    {
     "name": "stdout",
     "output_type": "stream",
     "text": [
      "Epoch 0, Batch 3935, loss 321257312.0\n"
     ]
    },
    {
     "name": "stderr",
     "output_type": "stream",
     "text": [
      "\n",
      " 13%|█▎        | 3937/30802 [6:11:22<39:23:09,  5.28s/it]\u001b[A\n",
      " 13%|█▎        | 3938/30802 [6:11:27<40:17:33,  5.40s/it]\u001b[A\n",
      " 13%|█▎        | 3939/30802 [6:11:33<40:18:11,  5.40s/it]\u001b[A\n",
      " 13%|█▎        | 3940/30802 [6:11:38<40:47:35,  5.47s/it]\u001b[A\n",
      " 13%|█▎        | 3941/30802 [6:11:44<41:09:38,  5.52s/it]\u001b[A"
     ]
    },
    {
     "name": "stdout",
     "output_type": "stream",
     "text": [
      "Epoch 0, Batch 3940, loss 364697376.0\n"
     ]
    },
    {
     "name": "stderr",
     "output_type": "stream",
     "text": [
      "\n",
      " 13%|█▎        | 3942/30802 [6:11:50<41:36:07,  5.58s/it]\u001b[A\n",
      " 13%|█▎        | 3943/30802 [6:11:55<41:07:55,  5.51s/it]\u001b[A\n",
      " 13%|█▎        | 3944/30802 [6:12:01<41:03:33,  5.50s/it]\u001b[A\n",
      " 13%|█▎        | 3945/30802 [6:12:06<40:54:20,  5.48s/it]\u001b[A\n",
      " 13%|█▎        | 3946/30802 [6:12:12<40:57:32,  5.49s/it]\u001b[A"
     ]
    },
    {
     "name": "stdout",
     "output_type": "stream",
     "text": [
      "Epoch 0, Batch 3945, loss 284578240.0\n"
     ]
    },
    {
     "name": "stderr",
     "output_type": "stream",
     "text": [
      "\n",
      " 13%|█▎        | 3947/30802 [6:12:17<39:59:22,  5.36s/it]\u001b[A\n",
      " 13%|█▎        | 3948/30802 [6:12:22<39:28:37,  5.29s/it]\u001b[A\n",
      " 13%|█▎        | 3949/30802 [6:12:27<39:11:09,  5.25s/it]\u001b[A\n",
      " 13%|█▎        | 3950/30802 [6:12:32<39:11:44,  5.25s/it]\u001b[A\n",
      " 13%|█▎        | 3951/30802 [6:12:38<39:26:10,  5.29s/it]\u001b[A"
     ]
    },
    {
     "name": "stdout",
     "output_type": "stream",
     "text": [
      "Epoch 0, Batch 3950, loss 422779616.0\n"
     ]
    },
    {
     "name": "stderr",
     "output_type": "stream",
     "text": [
      "\n",
      " 13%|█▎        | 3952/30802 [6:12:43<40:43:40,  5.46s/it]\u001b[A\n",
      " 13%|█▎        | 3953/30802 [6:12:49<41:51:51,  5.61s/it]\u001b[A\n",
      " 13%|█▎        | 3954/30802 [6:12:55<41:36:12,  5.58s/it]\u001b[A\n",
      " 13%|█▎        | 3955/30802 [6:13:00<41:30:25,  5.57s/it]\u001b[A\n",
      " 13%|█▎        | 3956/30802 [6:13:06<41:24:03,  5.55s/it]\u001b[A"
     ]
    },
    {
     "name": "stdout",
     "output_type": "stream",
     "text": [
      "Epoch 0, Batch 3955, loss 621563904.0\n"
     ]
    },
    {
     "name": "stderr",
     "output_type": "stream",
     "text": [
      "\n",
      " 13%|█▎        | 3957/30802 [6:13:12<41:44:04,  5.60s/it]\u001b[A\n",
      " 13%|█▎        | 3958/30802 [6:13:17<41:11:48,  5.52s/it]\u001b[A\n",
      " 13%|█▎        | 3959/30802 [6:13:22<40:33:08,  5.44s/it]\u001b[A\n",
      " 13%|█▎        | 3960/30802 [6:13:28<40:58:10,  5.49s/it]\u001b[A\n",
      " 13%|█▎        | 3961/30802 [6:13:33<40:33:59,  5.44s/it]\u001b[A"
     ]
    },
    {
     "name": "stdout",
     "output_type": "stream",
     "text": [
      "Epoch 0, Batch 3960, loss 346621376.0\n"
     ]
    },
    {
     "name": "stderr",
     "output_type": "stream",
     "text": [
      "\n",
      " 13%|█▎        | 3962/30802 [6:13:39<40:34:38,  5.44s/it]\u001b[A\n",
      " 13%|█▎        | 3963/30802 [6:13:44<40:26:46,  5.43s/it]\u001b[A\n",
      " 13%|█▎        | 3964/30802 [6:13:50<40:55:33,  5.49s/it]\u001b[A\n",
      " 13%|█▎        | 3965/30802 [6:13:55<40:36:42,  5.45s/it]\u001b[A\n",
      " 13%|█▎        | 3966/30802 [6:14:00<40:36:45,  5.45s/it]\u001b[A"
     ]
    },
    {
     "name": "stdout",
     "output_type": "stream",
     "text": [
      "Epoch 0, Batch 3965, loss 432571328.0\n"
     ]
    },
    {
     "name": "stderr",
     "output_type": "stream",
     "text": [
      "\n",
      " 13%|█▎        | 3967/30802 [6:14:06<40:50:39,  5.48s/it]\u001b[A\n",
      " 13%|█▎        | 3968/30802 [6:14:12<41:59:09,  5.63s/it]\u001b[A\n",
      " 13%|█▎        | 3969/30802 [6:14:17<41:10:53,  5.53s/it]\u001b[A\n",
      " 13%|█▎        | 3970/30802 [6:14:22<40:14:08,  5.40s/it]\u001b[A\n",
      " 13%|█▎        | 3971/30802 [6:14:28<39:43:49,  5.33s/it]\u001b[A"
     ]
    },
    {
     "name": "stdout",
     "output_type": "stream",
     "text": [
      "Epoch 0, Batch 3970, loss 382257376.0\n"
     ]
    },
    {
     "name": "stderr",
     "output_type": "stream",
     "text": [
      "\n",
      " 13%|█▎        | 3972/30802 [6:14:33<39:03:01,  5.24s/it]\u001b[A\n",
      " 13%|█▎        | 3973/30802 [6:14:38<39:16:09,  5.27s/it]\u001b[A\n",
      " 13%|█▎        | 3974/30802 [6:14:43<39:58:25,  5.36s/it]\u001b[A\n",
      " 13%|█▎        | 3975/30802 [6:14:49<39:22:00,  5.28s/it]\u001b[A\n",
      " 13%|█▎        | 3976/30802 [6:14:54<39:50:58,  5.35s/it]\u001b[A"
     ]
    },
    {
     "name": "stdout",
     "output_type": "stream",
     "text": [
      "Epoch 0, Batch 3975, loss 75099528.0\n"
     ]
    },
    {
     "name": "stderr",
     "output_type": "stream",
     "text": [
      "\n",
      " 13%|█▎        | 3977/30802 [6:15:00<40:02:24,  5.37s/it]\u001b[A\n",
      " 13%|█▎        | 3978/30802 [6:15:05<39:56:16,  5.36s/it]\u001b[A\n",
      " 13%|█▎        | 3979/30802 [6:15:10<40:15:56,  5.40s/it]\u001b[A\n",
      " 13%|█▎        | 3980/30802 [6:15:16<40:27:39,  5.43s/it]\u001b[A\n",
      " 13%|█▎        | 3981/30802 [6:15:21<40:03:01,  5.38s/it]\u001b[A"
     ]
    },
    {
     "name": "stdout",
     "output_type": "stream",
     "text": [
      "Epoch 0, Batch 3980, loss 624912768.0\n"
     ]
    },
    {
     "name": "stderr",
     "output_type": "stream",
     "text": [
      "\n",
      " 13%|█▎        | 3982/30802 [6:15:27<40:36:37,  5.45s/it]\u001b[A\n",
      " 13%|█▎        | 3983/30802 [6:15:32<40:45:13,  5.47s/it]\u001b[A\n",
      " 13%|█▎        | 3984/30802 [6:15:38<41:18:29,  5.55s/it]\u001b[A\n",
      " 13%|█▎        | 3985/30802 [6:15:43<40:29:53,  5.44s/it]\u001b[A\n",
      " 13%|█▎        | 3986/30802 [6:15:48<40:05:27,  5.38s/it]\u001b[A"
     ]
    },
    {
     "name": "stdout",
     "output_type": "stream",
     "text": [
      "Epoch 0, Batch 3985, loss 431556608.0\n"
     ]
    },
    {
     "name": "stderr",
     "output_type": "stream",
     "text": [
      "\n",
      " 13%|█▎        | 3987/30802 [6:15:54<39:58:38,  5.37s/it]\u001b[A\n",
      " 13%|█▎        | 3988/30802 [6:15:59<39:50:17,  5.35s/it]\u001b[A\n",
      " 13%|█▎        | 3989/30802 [6:16:04<39:57:48,  5.37s/it]\u001b[A\n",
      " 13%|█▎        | 3990/30802 [6:16:10<40:14:28,  5.40s/it]\u001b[A\n",
      " 13%|█▎        | 3991/30802 [6:16:15<39:57:43,  5.37s/it]\u001b[A"
     ]
    },
    {
     "name": "stdout",
     "output_type": "stream",
     "text": [
      "Epoch 0, Batch 3990, loss 210778208.0\n"
     ]
    },
    {
     "name": "stderr",
     "output_type": "stream",
     "text": [
      "\n",
      " 13%|█▎        | 3992/30802 [6:16:20<39:26:06,  5.30s/it]\u001b[A\n",
      " 13%|█▎        | 3993/30802 [6:16:26<40:10:10,  5.39s/it]\u001b[A\n",
      " 13%|█▎        | 3994/30802 [6:16:31<40:24:19,  5.43s/it]\u001b[A\n",
      " 13%|█▎        | 3995/30802 [6:16:37<40:06:14,  5.39s/it]\u001b[A\n",
      " 13%|█▎        | 3996/30802 [6:16:42<40:04:36,  5.38s/it]\u001b[A"
     ]
    },
    {
     "name": "stdout",
     "output_type": "stream",
     "text": [
      "Epoch 0, Batch 3995, loss 262162736.0\n"
     ]
    },
    {
     "name": "stderr",
     "output_type": "stream",
     "text": [
      "\n",
      " 13%|█▎        | 3997/30802 [6:16:48<40:51:54,  5.49s/it]\u001b[A\n",
      " 13%|█▎        | 3998/30802 [6:16:54<41:30:18,  5.57s/it]\u001b[A\n",
      " 13%|█▎        | 3999/30802 [6:16:59<40:59:03,  5.50s/it]\u001b[A\n",
      " 13%|█▎        | 4000/30802 [6:17:04<40:44:58,  5.47s/it]\u001b[A\n",
      " 13%|█▎        | 4001/30802 [6:17:10<40:22:28,  5.42s/it]\u001b[A"
     ]
    },
    {
     "name": "stdout",
     "output_type": "stream",
     "text": [
      "Epoch 0, Batch 4000, loss 139998816.0\n"
     ]
    },
    {
     "name": "stderr",
     "output_type": "stream",
     "text": [
      "\n",
      " 13%|█▎        | 4002/30802 [6:17:15<40:05:40,  5.39s/it]\u001b[A\n",
      " 13%|█▎        | 4003/30802 [6:17:20<40:10:55,  5.40s/it]\u001b[A\n",
      " 13%|█▎        | 4004/30802 [6:17:26<41:06:40,  5.52s/it]\u001b[A\n",
      " 13%|█▎        | 4005/30802 [6:17:32<40:41:39,  5.47s/it]\u001b[A\n",
      " 13%|█▎        | 4006/30802 [6:17:37<40:04:58,  5.39s/it]\u001b[A"
     ]
    },
    {
     "name": "stdout",
     "output_type": "stream",
     "text": [
      "Epoch 0, Batch 4005, loss 557884608.0\n"
     ]
    },
    {
     "name": "stderr",
     "output_type": "stream",
     "text": [
      "\n",
      " 13%|█▎        | 4007/30802 [6:17:42<39:59:19,  5.37s/it]\u001b[A\n",
      " 13%|█▎        | 4008/30802 [6:17:47<39:59:15,  5.37s/it]\u001b[A\n",
      " 13%|█▎        | 4009/30802 [6:17:53<40:10:53,  5.40s/it]\u001b[A\n",
      " 13%|█▎        | 4010/30802 [6:17:59<40:43:26,  5.47s/it]\u001b[A\n",
      " 13%|█▎        | 4011/30802 [6:18:04<40:46:14,  5.48s/it]\u001b[A"
     ]
    },
    {
     "name": "stdout",
     "output_type": "stream",
     "text": [
      "Epoch 0, Batch 4010, loss 262857024.0\n"
     ]
    },
    {
     "name": "stderr",
     "output_type": "stream",
     "text": [
      "\n",
      " 13%|█▎        | 4012/30802 [6:18:10<41:06:38,  5.52s/it]\u001b[A\n",
      " 13%|█▎        | 4013/30802 [6:18:15<40:37:49,  5.46s/it]\u001b[A\n",
      " 13%|█▎        | 4014/30802 [6:18:20<40:42:34,  5.47s/it]\u001b[A\n",
      " 13%|█▎        | 4015/30802 [6:18:28<45:20:51,  6.09s/it]\u001b[A\n",
      " 13%|█▎        | 4016/30802 [6:18:38<53:33:29,  7.20s/it]\u001b[A"
     ]
    },
    {
     "name": "stdout",
     "output_type": "stream",
     "text": [
      "Epoch 0, Batch 4015, loss 551048896.0\n"
     ]
    },
    {
     "name": "stderr",
     "output_type": "stream",
     "text": [
      "\n",
      " 13%|█▎        | 4017/30802 [6:18:46<54:44:28,  7.36s/it]\u001b[A\n",
      " 13%|█▎        | 4018/30802 [6:18:54<57:17:54,  7.70s/it]\u001b[A\n",
      " 13%|█▎        | 4019/30802 [6:19:02<58:23:16,  7.85s/it]\u001b[A\n",
      " 13%|█▎        | 4020/30802 [6:19:08<54:25:28,  7.32s/it]\u001b[A\n",
      " 13%|█▎        | 4021/30802 [6:19:15<52:05:33,  7.00s/it]\u001b[A"
     ]
    },
    {
     "name": "stdout",
     "output_type": "stream",
     "text": [
      "Epoch 0, Batch 4020, loss 319164960.0\n"
     ]
    },
    {
     "name": "stderr",
     "output_type": "stream",
     "text": [
      "\n",
      " 13%|█▎        | 4022/30802 [6:19:24<56:59:05,  7.66s/it]\u001b[A\n",
      " 13%|█▎        | 4023/30802 [6:19:31<55:29:02,  7.46s/it]\u001b[A\n",
      " 13%|█▎        | 4024/30802 [6:19:37<53:42:56,  7.22s/it]\u001b[A\n",
      " 13%|█▎        | 4025/30802 [6:19:44<51:29:44,  6.92s/it]\u001b[A\n",
      " 13%|█▎        | 4026/30802 [6:19:49<48:57:30,  6.58s/it]\u001b[A"
     ]
    },
    {
     "name": "stdout",
     "output_type": "stream",
     "text": [
      "Epoch 0, Batch 4025, loss 529223072.0\n"
     ]
    },
    {
     "name": "stderr",
     "output_type": "stream",
     "text": [
      "\n",
      " 13%|█▎        | 4027/30802 [6:19:55<47:40:14,  6.41s/it]\u001b[A\n",
      " 13%|█▎        | 4028/30802 [6:20:01<46:14:31,  6.22s/it]\u001b[A\n",
      " 13%|█▎        | 4029/30802 [6:20:07<45:18:17,  6.09s/it]\u001b[A\n",
      " 13%|█▎        | 4030/30802 [6:20:14<46:24:16,  6.24s/it]\u001b[A\n",
      " 13%|█▎        | 4031/30802 [6:20:20<46:42:23,  6.28s/it]\u001b[A"
     ]
    },
    {
     "name": "stdout",
     "output_type": "stream",
     "text": [
      "Epoch 0, Batch 4030, loss 157798720.0\n"
     ]
    },
    {
     "name": "stderr",
     "output_type": "stream",
     "text": [
      "\n",
      " 13%|█▎        | 4032/30802 [6:20:26<45:32:27,  6.12s/it]\u001b[A\n",
      " 13%|█▎        | 4033/30802 [6:20:32<45:16:36,  6.09s/it]\u001b[A\n",
      " 13%|█▎        | 4034/30802 [6:20:38<46:02:59,  6.19s/it]\u001b[A\n",
      " 13%|█▎        | 4035/30802 [6:20:45<47:00:09,  6.32s/it]\u001b[A\n",
      " 13%|█▎        | 4036/30802 [6:20:51<46:26:31,  6.25s/it]\u001b[A"
     ]
    },
    {
     "name": "stdout",
     "output_type": "stream",
     "text": [
      "Epoch 0, Batch 4035, loss 170192752.0\n"
     ]
    },
    {
     "name": "stderr",
     "output_type": "stream",
     "text": [
      "\n",
      " 13%|█▎        | 4037/30802 [6:20:58<48:41:06,  6.55s/it]\u001b[A\n",
      " 13%|█▎        | 4038/30802 [6:21:05<50:20:54,  6.77s/it]\u001b[A\n",
      " 13%|█▎        | 4039/30802 [6:21:13<52:09:07,  7.02s/it]\u001b[A\n",
      " 13%|█▎        | 4040/30802 [6:21:20<51:38:57,  6.95s/it]\u001b[A"
     ]
    }
   ],
   "source": [
    "train_loss = []\n",
    "val_accuracy = []\n",
    "train_model(model, opt, scheduler, train_loss, val_accuracy, 3)"
   ]
  },
  {
   "cell_type": "code",
   "execution_count": null,
   "metadata": {},
   "outputs": [],
   "source": []
  },
  {
   "cell_type": "code",
   "execution_count": null,
   "metadata": {},
   "outputs": [],
   "source": []
  }
 ],
 "metadata": {
  "colab": {
   "collapsed_sections": [
    "I-RBCz5S2gD1",
    "hMUYnd3NtnF3",
    "3XtY17EajF71",
    "doR9EP687k_X",
    "TX7aEQlJjJ95",
    "NnYl0KJUs3qg",
    "50DnLHavviED"
   ],
   "last_runtime": {
    "build_target": "//learning/deepmind/dm_python:dm_notebook",
    "kind": "private"
   },
   "name": "Copy of playing with magenta vae",
   "provenance": [
    {
     "file_id": "/piper/depot/google3/third_party/py/magenta/models/svg_vae/decoding.ipynb?workspaceId=iraphael:fig-export-dev-change-54-1cc47efa03b3::citc",
     "timestamp": 1568758807713
    },
    {
     "file_id": "1tIEoA9aNaQ1G8LrvOj1OU4N8gGh0MNMU",
     "timestamp": 1567712980131
    },
    {
     "file_id": "17FMYlIPEIu0qP-IB0ko1BbPsuZzRf7R_",
     "timestamp": 1566847141824
    }
   ]
  },
  "kernelspec": {
   "display_name": "Python 3",
   "language": "python",
   "name": "python3"
  },
  "language_info": {
   "codemirror_mode": {
    "name": "ipython",
    "version": 3
   },
   "file_extension": ".py",
   "mimetype": "text/x-python",
   "name": "python",
   "nbconvert_exporter": "python",
   "pygments_lexer": "ipython3",
   "version": "3.7.3"
  }
 },
 "nbformat": 4,
 "nbformat_minor": 1
}
