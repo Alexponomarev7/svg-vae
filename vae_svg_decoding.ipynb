{
 "cells": [
  {
   "cell_type": "markdown",
   "metadata": {},
   "source": [
    "# SVG-VAE"
   ]
  },
  {
   "cell_type": "code",
   "execution_count": 1,
   "metadata": {},
   "outputs": [],
   "source": [
    "import pyarrow.parquet as pq\n",
    "import svg_utils\n",
    "import numpy as np\n",
    "import matplotlib.pyplot as plt\n",
    "import torch\n",
    "\n",
    "from torch.utils.data import Dataset, DataLoader\n",
    "from model import VAEModel\n",
    "from config import ImageVAEConfig"
   ]
  },
  {
   "cell_type": "markdown",
   "metadata": {},
   "source": [
    "## Prepare dataset"
   ]
  },
  {
   "cell_type": "code",
   "execution_count": 2,
   "metadata": {},
   "outputs": [
    {
     "data": {
      "text/html": [
       "<div>\n",
       "<style scoped>\n",
       "    .dataframe tbody tr th:only-of-type {\n",
       "        vertical-align: middle;\n",
       "    }\n",
       "\n",
       "    .dataframe tbody tr th {\n",
       "        vertical-align: top;\n",
       "    }\n",
       "\n",
       "    .dataframe thead th {\n",
       "        text-align: right;\n",
       "    }\n",
       "</style>\n",
       "<table border=\"1\" class=\"dataframe\">\n",
       "  <thead>\n",
       "    <tr style=\"text-align: right;\">\n",
       "      <th></th>\n",
       "      <th>uni</th>\n",
       "      <th>width</th>\n",
       "      <th>vwidth</th>\n",
       "      <th>sfd</th>\n",
       "      <th>id</th>\n",
       "      <th>binary_fp</th>\n",
       "    </tr>\n",
       "  </thead>\n",
       "  <tbody>\n",
       "    <tr>\n",
       "      <th>0</th>\n",
       "      <td>97</td>\n",
       "      <td>649</td>\n",
       "      <td>1000</td>\n",
       "      <td>SplineSet\\n637 0 m 1,0,-1\\n 595 0 l 1,1,-1\\n 5...</td>\n",
       "      <td>1</td>\n",
       "      <td>12127215344058962203\\n</td>\n",
       "    </tr>\n",
       "    <tr>\n",
       "      <th>1</th>\n",
       "      <td>98</td>\n",
       "      <td>560</td>\n",
       "      <td>1000</td>\n",
       "      <td>SplineSet\\n535 284 m 0,0,1\\n 535 166 535 166 4...</td>\n",
       "      <td>2</td>\n",
       "      <td>12127215344058962203\\n</td>\n",
       "    </tr>\n",
       "    <tr>\n",
       "      <th>2</th>\n",
       "      <td>99</td>\n",
       "      <td>712</td>\n",
       "      <td>1000</td>\n",
       "      <td>SplineSet\\n693 125 m 1,0,1\\n 686 116 686 116 6...</td>\n",
       "      <td>3</td>\n",
       "      <td>12127215344058962203\\n</td>\n",
       "    </tr>\n",
       "    <tr>\n",
       "      <th>3</th>\n",
       "      <td>100</td>\n",
       "      <td>710</td>\n",
       "      <td>1000</td>\n",
       "      <td>SplineSet\\n678 378 m 0,0,1\\n 678 221 678 221 5...</td>\n",
       "      <td>4</td>\n",
       "      <td>12127215344058962203\\n</td>\n",
       "    </tr>\n",
       "    <tr>\n",
       "      <th>4</th>\n",
       "      <td>101</td>\n",
       "      <td>613</td>\n",
       "      <td>1000</td>\n",
       "      <td>SplineSet\\n586 0 m 1,0,-1\\n 28 0 l 1,1,-1\\n 28...</td>\n",
       "      <td>5</td>\n",
       "      <td>12127215344058962203\\n</td>\n",
       "    </tr>\n",
       "  </tbody>\n",
       "</table>\n",
       "</div>"
      ],
      "text/plain": [
       "   uni  width  vwidth                                                sfd  id  \\\n",
       "0   97    649    1000  SplineSet\\n637 0 m 1,0,-1\\n 595 0 l 1,1,-1\\n 5...   1   \n",
       "1   98    560    1000  SplineSet\\n535 284 m 0,0,1\\n 535 166 535 166 4...   2   \n",
       "2   99    712    1000  SplineSet\\n693 125 m 1,0,1\\n 686 116 686 116 6...   3   \n",
       "3  100    710    1000  SplineSet\\n678 378 m 0,0,1\\n 678 221 678 221 5...   4   \n",
       "4  101    613    1000  SplineSet\\n586 0 m 1,0,-1\\n 28 0 l 1,1,-1\\n 28...   5   \n",
       "\n",
       "                binary_fp  \n",
       "0  12127215344058962203\\n  \n",
       "1  12127215344058962203\\n  \n",
       "2  12127215344058962203\\n  \n",
       "3  12127215344058962203\\n  \n",
       "4  12127215344058962203\\n  "
      ]
     },
     "execution_count": 2,
     "metadata": {},
     "output_type": "execute_result"
    }
   ],
   "source": [
    "data_train = pq.read_table('data_train.parquet')\n",
    "data_train = data_train.to_pandas()\n",
    "\n",
    "data_test = pq.read_table('data_test.parquet')\n",
    "data_test = data_test.to_pandas()\n",
    "\n",
    "data_train.head()"
   ]
  },
  {
   "cell_type": "code",
   "execution_count": 3,
   "metadata": {},
   "outputs": [
    {
     "data": {
      "text/plain": [
       "1971326"
      ]
     },
     "execution_count": 3,
     "metadata": {},
     "output_type": "execute_result"
    }
   ],
   "source": [
    "len(data_train)"
   ]
  },
  {
   "cell_type": "markdown",
   "metadata": {},
   "source": [
    "Взглянем на сэмпл."
   ]
  },
  {
   "cell_type": "code",
   "execution_count": 4,
   "metadata": {},
   "outputs": [],
   "source": [
    "from random import randint\n",
    "i = 1358568 # randint(0, 1971326)"
   ]
  },
  {
   "cell_type": "code",
   "execution_count": 5,
   "metadata": {},
   "outputs": [
    {
     "data": {
      "text/plain": [
       "dict_keys(['rendered', 'seq_len', 'class', 'binary_fp', 'sequence'])"
      ]
     },
     "execution_count": 5,
     "metadata": {},
     "output_type": "execute_result"
    }
   ],
   "source": [
    "assert svg_utils._is_valid_glyph(data_train.loc[i])\n",
    "path = svg_utils._convert_to_path(data_train.loc[i])\n",
    "assert svg_utils._is_valid_path(path)\n",
    "data = svg_utils._create_example(path)\n",
    "data.keys()"
   ]
  },
  {
   "cell_type": "code",
   "execution_count": 6,
   "metadata": {},
   "outputs": [
    {
     "data": {
      "text/plain": [
       "<matplotlib.image.AxesImage at 0x158b38fd0>"
      ]
     },
     "execution_count": 6,
     "metadata": {},
     "output_type": "execute_result"
    },
    {
     "data": {
      "image/png": "[encoded data removed]",
      "text/plain": [
       "<Figure size 432x288 with 1 Axes>"
      ]
     },
     "metadata": {
      "needs_background": "light"
     },
     "output_type": "display_data"
    }
   ],
   "source": [
    "plt.imshow(np.array(data['rendered']).reshape(64, 64))"
   ]
  },
  {
   "cell_type": "markdown",
   "metadata": {},
   "source": [
    "Подготовим даталоадеры."
   ]
  },
  {
   "cell_type": "code",
   "execution_count": 7,
   "metadata": {},
   "outputs": [
    {
     "data": {
      "text/plain": [
       "uni                                                         97\n",
       "width                                                      649\n",
       "vwidth                                                    1000\n",
       "sfd          SplineSet\\n637 0 m 1,0,-1\\n 595 0 l 1,1,-1\\n 5...\n",
       "id                                                           1\n",
       "binary_fp                               12127215344058962203\\n\n",
       "Name: 0, dtype: object"
      ]
     },
     "execution_count": 7,
     "metadata": {},
     "output_type": "execute_result"
    }
   ],
   "source": [
    "data_train.loc[0, :]"
   ]
  },
  {
   "cell_type": "code",
   "execution_count": 8,
   "metadata": {},
   "outputs": [],
   "source": [
    "class GlyphDataset(Dataset):\n",
    "    def __init__(self, df):\n",
    "        self.df = df\n",
    "        self.map_class = {}\n",
    "        self.cached = self.__getitem__(0)\n",
    "    \n",
    "    def __len__(self):\n",
    "        return len(self.df)\n",
    "    \n",
    "    def __getitem__(self, idx):\n",
    "        idx=0\n",
    "        try:\n",
    "            example = np.array(svg_utils._create_example(svg_utils._convert_to_path(self.df.loc[idx, :]))['rendered']\n",
    "                              , dtype=np.float32)\n",
    "            \n",
    "            if not (self.df.loc[idx, \"uni\"] in self.map_class):\n",
    "                len_ind = len(self.map_class)\n",
    "                self.map_class[self.df.loc[idx, \"uni\"]] = len_ind\n",
    "            \n",
    "            \n",
    "            std_dev = np.std(example)\n",
    "            mean = np.mean(example)\n",
    "            example = (example - mean) / std_dev \n",
    "            \n",
    "            return torch.FloatTensor(example.reshape(1, 64, 64)), self.map_class[self.df.loc[idx, \"uni\"]]\n",
    "        except Exception as e:\n",
    "            return self.cached"
   ]
  },
  {
   "cell_type": "code",
   "execution_count": 9,
   "metadata": {},
   "outputs": [],
   "source": [
    "glyph_train = GlyphDataset(data_train[:1])\n",
    "glyph_test = GlyphDataset(data_test)"
   ]
  },
  {
   "cell_type": "code",
   "execution_count": 10,
   "metadata": {},
   "outputs": [
    {
     "name": "stdout",
     "output_type": "stream",
     "text": [
      "tensor([[[[-0.2767, -0.2767, -0.2767,  ..., -0.2767, -0.2767, -0.2767],\n",
      "          [-0.2767, -0.2767, -0.2767,  ..., -0.2767, -0.2767, -0.2767],\n",
      "          [-0.2767, -0.2767, -0.2767,  ..., -0.2767, -0.2767, -0.2767],\n",
      "          ...,\n",
      "          [-0.2767, -0.2767, -0.2767,  ..., -0.2767, -0.2767, -0.2767],\n",
      "          [-0.2767, -0.2767, -0.2767,  ..., -0.2767, -0.2767, -0.2767],\n",
      "          [-0.2767, -0.2767, -0.2767,  ..., -0.2767, -0.2767, -0.2767]]]])\n",
      "tensor([0])\n"
     ]
    }
   ],
   "source": [
    "train_loader = DataLoader(glyph_train, batch_size=128)\n",
    "for X_batch, Y_batch in train_loader:\n",
    "    print(X_batch)\n",
    "    print(Y_batch)\n",
    "    break"
   ]
  },
  {
   "cell_type": "markdown",
   "metadata": {},
   "source": [
    "## Model declaration"
   ]
  },
  {
   "cell_type": "code",
   "execution_count": 11,
   "metadata": {},
   "outputs": [],
   "source": [
    "%load_ext autoreload\n",
    "%autoreload 2"
   ]
  },
  {
   "cell_type": "code",
   "execution_count": 48,
   "metadata": {},
   "outputs": [],
   "source": [
    "config = ImageVAEConfig('cpu')"
   ]
  },
  {
   "cell_type": "code",
   "execution_count": 49,
   "metadata": {},
   "outputs": [],
   "source": [
    "device = torch.device('cpu')"
   ]
  },
  {
   "cell_type": "code",
   "execution_count": 50,
   "metadata": {},
   "outputs": [],
   "source": [
    "model = VAEModel(config).to(device)"
   ]
  },
  {
   "cell_type": "code",
   "execution_count": 51,
   "metadata": {},
   "outputs": [
    {
     "name": "stdout",
     "output_type": "stream",
     "text": [
      "----------------------------------------------------------------\n",
      "        Layer (type)               Output Shape         Param #\n",
      "================================================================\n",
      "            Conv2d-1           [-1, 32, 64, 64]             832\n",
      "       BatchNorm2d-2           [-1, 32, 64, 64]              64\n",
      "              ReLU-3           [-1, 32, 64, 64]               0\n",
      " VisualEncoderCell-4           [-1, 32, 64, 64]               0\n",
      "            Conv2d-5           [-1, 32, 32, 32]          25,632\n",
      "       BatchNorm2d-6           [-1, 32, 32, 32]              64\n",
      "              ReLU-7           [-1, 32, 32, 32]               0\n",
      " VisualEncoderCell-8           [-1, 32, 32, 32]               0\n",
      "            Conv2d-9           [-1, 64, 32, 32]          51,264\n",
      "      BatchNorm2d-10           [-1, 64, 32, 32]             128\n",
      "             ReLU-11           [-1, 64, 32, 32]               0\n",
      "VisualEncoderCell-12           [-1, 64, 32, 32]               0\n",
      "           Conv2d-13           [-1, 64, 16, 16]         102,464\n",
      "      BatchNorm2d-14           [-1, 64, 16, 16]             128\n",
      "             ReLU-15           [-1, 64, 16, 16]               0\n",
      "VisualEncoderCell-16           [-1, 64, 16, 16]               0\n",
      "           Conv2d-17             [-1, 64, 8, 8]          65,600\n",
      "      BatchNorm2d-18             [-1, 64, 8, 8]             128\n",
      "             ReLU-19             [-1, 64, 8, 8]               0\n",
      "VisualEncoderCell-20             [-1, 64, 8, 8]               0\n",
      "           Conv2d-21             [-1, 64, 4, 4]          65,600\n",
      "      BatchNorm2d-22             [-1, 64, 4, 4]             128\n",
      "             ReLU-23             [-1, 64, 4, 4]               0\n",
      "VisualEncoderCell-24             [-1, 64, 4, 4]               0\n",
      "          Flatten-25                 [-1, 1024]               0\n",
      "           Linear-26                   [-1, 64]          65,600\n",
      "VisualEncoderModel-27                   [-1, 64]               0\n",
      "           Linear-28                 [-1, 1024]          33,792\n",
      "  ConvTranspose2d-29             [-1, 64, 8, 8]          65,600\n",
      "      BatchNorm2d-30             [-1, 64, 8, 8]             128\n",
      "             ReLU-31             [-1, 64, 8, 8]               0\n",
      "VisualDecoderCell-32             [-1, 64, 8, 8]               0\n",
      "  ConvTranspose2d-33           [-1, 64, 16, 16]          65,600\n",
      "      BatchNorm2d-34           [-1, 64, 16, 16]             128\n",
      "             ReLU-35           [-1, 64, 16, 16]               0\n",
      "VisualDecoderCell-36           [-1, 64, 16, 16]               0\n",
      "  ConvTranspose2d-37           [-1, 64, 16, 16]         102,464\n",
      "      BatchNorm2d-38           [-1, 64, 16, 16]             128\n",
      "             ReLU-39           [-1, 64, 16, 16]               0\n",
      "VisualDecoderCell-40           [-1, 64, 16, 16]               0\n",
      "  ConvTranspose2d-41           [-1, 64, 32, 32]         102,464\n",
      "      BatchNorm2d-42           [-1, 64, 32, 32]             128\n",
      "             ReLU-43           [-1, 64, 32, 32]               0\n",
      "VisualDecoderCell-44           [-1, 64, 32, 32]               0\n",
      "  ConvTranspose2d-45           [-1, 32, 32, 32]          51,232\n",
      "      BatchNorm2d-46           [-1, 32, 32, 32]              64\n",
      "             ReLU-47           [-1, 32, 32, 32]               0\n",
      "VisualDecoderCell-48           [-1, 32, 32, 32]               0\n",
      "  ConvTranspose2d-49           [-1, 32, 64, 64]          25,632\n",
      "      BatchNorm2d-50           [-1, 32, 64, 64]              64\n",
      "             ReLU-51           [-1, 32, 64, 64]               0\n",
      "VisualDecoderCell-52           [-1, 32, 64, 64]               0\n",
      "  ConvTranspose2d-53           [-1, 32, 64, 64]          25,632\n",
      "      BatchNorm2d-54           [-1, 32, 64, 64]              64\n",
      "             ReLU-55           [-1, 32, 64, 64]               0\n",
      "VisualDecoderCell-56           [-1, 32, 64, 64]               0\n",
      "           Conv2d-57            [-1, 1, 64, 64]             801\n",
      "VisualDecoderModel-58            [-1, 1, 64, 64]               0\n",
      "================================================================\n",
      "Total params: 851,553\n",
      "Trainable params: 851,553\n",
      "Non-trainable params: 0\n",
      "----------------------------------------------------------------\n",
      "Input size (MB): 0.02\n",
      "Forward/backward pass size (MB): 19.86\n",
      "Params size (MB): 3.25\n",
      "Estimated Total Size (MB): 23.12\n",
      "----------------------------------------------------------------\n"
     ]
    }
   ],
   "source": [
    "from torchsummary import summary\n",
    "\n",
    "summary(model, [(1, 64, 64), (1, 1, 1)])"
   ]
  },
  {
   "cell_type": "markdown",
   "metadata": {},
   "source": [
    "## Training"
   ]
  },
  {
   "cell_type": "code",
   "execution_count": 52,
   "metadata": {},
   "outputs": [],
   "source": [
    "opt = torch.optim.Adam(model.parameters(), lr=3e-4, eps=1e-11)\n",
    "scheduler = torch.optim.lr_scheduler.ReduceLROnPlateau(opt, mode='min', patience=4, min_lr=0.000001)"
   ]
  },
  {
   "cell_type": "code",
   "execution_count": 53,
   "metadata": {},
   "outputs": [],
   "source": [
    "import time\n",
    "from tqdm.notebook import tqdm\n",
    "\n",
    "\n",
    "def train_model(model, opt, scheduler, train_loss, \n",
    "                val_accuracy, num_epochs, print_every=5):\n",
    "    cur_max_acc = None\n",
    "    for epoch in range(num_epochs):\n",
    "        #print(f'Start epoch {epoch}')\n",
    "        start_time = time.time()\n",
    "        model.train()\n",
    "        epoch_loss = 0\n",
    "        i = 0\n",
    "        for X_batch, Y_batch in train_loader:\n",
    "            logits, losses = model(X_batch.to(device), Y_batch.to(device))\n",
    "            loss = model.loss(X_batch, logits)[1]#losses['training']\n",
    "            loss.backward()\n",
    "            opt.step()\n",
    "            opt.zero_grad()\n",
    "            epoch_loss += loss.item()\n",
    "            if epoch % print_every == 0:\n",
    "                plt.imshow(X_batch[0][0])\n",
    "                plt.show()\n",
    "                plt.imshow(logits.detach().numpy()[0][0])\n",
    "                plt.show()\n",
    "                print(f'Epoch {epoch}, Batch {i}, loss {loss.item()}')\n",
    "            i += 1\n",
    "        #cur_val_acc, cur_val_loss = get_accuracy(model, val_batch_gen)\n",
    "        #epoch_loss /= len(train_batch_gen)\n",
    "        #scheduler.step(cur_val_loss)\n",
    "        \n",
    "        #train_loss.append(epoch_loss)\n",
    "        #val_accuracy.append(cur_val_acc)\n",
    "        #val_loss.append(cur_val_loss)\n",
    "        \n",
    "        #print(\"Epoch {} of {} took {:.3f}s\".format(\n",
    "        #    epoch + 1, num_epochs, time.time() - start_time))\n",
    "        #print('  lr =', scheduler._last_lr[0])\n",
    "        #print(\"  training loss (in-iteration): \\t{:.6f}\".format(epoch_loss))\n",
    "        #print(\"  validate loss (in-iteration): \\t{:.6f}\".format(cur_val_loss))\n",
    "        #print(\"  validation accuracy: \\t\\t\\t{:.2f} %\".format(cur_val_acc * 100))\n",
    "        #if cur_max_acc is None or cur_val_acc > cur_max_acc:\n",
    "        #    cur_max_acc = cur_val_acc\n",
    "        #    torch.save(model.state_dict(), 'models/residual.best4')"
   ]
  },
  {
   "cell_type": "code",
   "execution_count": 54,
   "metadata": {
    "scrolled": true
   },
   "outputs": [
    {
     "ename": "RuntimeError",
     "evalue": "element 0 of tensors does not require grad and does not have a grad_fn",
     "output_type": "error",
     "traceback": [
      "\u001b[0;31m---------------------------------------------------------------------------\u001b[0m",
      "\u001b[0;31mRuntimeError\u001b[0m                              Traceback (most recent call last)",
      "\u001b[0;32m<ipython-input-54-35c322786384>\u001b[0m in \u001b[0;36m<module>\u001b[0;34m\u001b[0m\n\u001b[1;32m      1\u001b[0m \u001b[0mtrain_loss\u001b[0m \u001b[0;34m=\u001b[0m \u001b[0;34m[\u001b[0m\u001b[0;34m]\u001b[0m\u001b[0;34m\u001b[0m\u001b[0;34m\u001b[0m\u001b[0m\n\u001b[1;32m      2\u001b[0m \u001b[0mval_accuracy\u001b[0m \u001b[0;34m=\u001b[0m \u001b[0;34m[\u001b[0m\u001b[0;34m]\u001b[0m\u001b[0;34m\u001b[0m\u001b[0;34m\u001b[0m\u001b[0m\n\u001b[0;32m----> 3\u001b[0;31m \u001b[0mtrain_model\u001b[0m\u001b[0;34m(\u001b[0m\u001b[0mmodel\u001b[0m\u001b[0;34m,\u001b[0m \u001b[0mopt\u001b[0m\u001b[0;34m,\u001b[0m \u001b[0mscheduler\u001b[0m\u001b[0;34m,\u001b[0m \u001b[0mtrain_loss\u001b[0m\u001b[0;34m,\u001b[0m \u001b[0mval_accuracy\u001b[0m\u001b[0;34m,\u001b[0m \u001b[0;36m10000\u001b[0m\u001b[0;34m,\u001b[0m \u001b[0;36m100\u001b[0m\u001b[0;34m)\u001b[0m\u001b[0;34m\u001b[0m\u001b[0;34m\u001b[0m\u001b[0m\n\u001b[0m",
      "\u001b[0;32m<ipython-input-53-308de56d16e3>\u001b[0m in \u001b[0;36mtrain_model\u001b[0;34m(model, opt, scheduler, train_loss, val_accuracy, num_epochs, print_every)\u001b[0m\n\u001b[1;32m     15\u001b[0m             \u001b[0mlogits\u001b[0m\u001b[0;34m,\u001b[0m \u001b[0mlosses\u001b[0m \u001b[0;34m=\u001b[0m \u001b[0mmodel\u001b[0m\u001b[0;34m(\u001b[0m\u001b[0mX_batch\u001b[0m\u001b[0;34m.\u001b[0m\u001b[0mto\u001b[0m\u001b[0;34m(\u001b[0m\u001b[0mdevice\u001b[0m\u001b[0;34m)\u001b[0m\u001b[0;34m,\u001b[0m \u001b[0mY_batch\u001b[0m\u001b[0;34m.\u001b[0m\u001b[0mto\u001b[0m\u001b[0;34m(\u001b[0m\u001b[0mdevice\u001b[0m\u001b[0;34m)\u001b[0m\u001b[0;34m)\u001b[0m\u001b[0;34m\u001b[0m\u001b[0;34m\u001b[0m\u001b[0m\n\u001b[1;32m     16\u001b[0m             \u001b[0mloss\u001b[0m \u001b[0;34m=\u001b[0m \u001b[0mmodel\u001b[0m\u001b[0;34m.\u001b[0m\u001b[0mloss\u001b[0m\u001b[0;34m(\u001b[0m\u001b[0mX_batch\u001b[0m\u001b[0;34m,\u001b[0m \u001b[0mlogits\u001b[0m\u001b[0;34m)\u001b[0m\u001b[0;34m[\u001b[0m\u001b[0;36m1\u001b[0m\u001b[0;34m]\u001b[0m\u001b[0;31m#losses['training']\u001b[0m\u001b[0;34m\u001b[0m\u001b[0;34m\u001b[0m\u001b[0m\n\u001b[0;32m---> 17\u001b[0;31m             \u001b[0mloss\u001b[0m\u001b[0;34m.\u001b[0m\u001b[0mbackward\u001b[0m\u001b[0;34m(\u001b[0m\u001b[0;34m)\u001b[0m\u001b[0;34m\u001b[0m\u001b[0;34m\u001b[0m\u001b[0m\n\u001b[0m\u001b[1;32m     18\u001b[0m             \u001b[0mopt\u001b[0m\u001b[0;34m.\u001b[0m\u001b[0mstep\u001b[0m\u001b[0;34m(\u001b[0m\u001b[0;34m)\u001b[0m\u001b[0;34m\u001b[0m\u001b[0;34m\u001b[0m\u001b[0m\n\u001b[1;32m     19\u001b[0m             \u001b[0mopt\u001b[0m\u001b[0;34m.\u001b[0m\u001b[0mzero_grad\u001b[0m\u001b[0;34m(\u001b[0m\u001b[0;34m)\u001b[0m\u001b[0;34m\u001b[0m\u001b[0;34m\u001b[0m\u001b[0m\n",
      "\u001b[0;32m~/Library/Python/3.7/lib/python/site-packages/torch/tensor.py\u001b[0m in \u001b[0;36mbackward\u001b[0;34m(self, gradient, retain_graph, create_graph)\u001b[0m\n\u001b[1;32m    196\u001b[0m                 \u001b[0mproducts\u001b[0m\u001b[0;34m.\u001b[0m \u001b[0mDefaults\u001b[0m \u001b[0mto\u001b[0m\u001b[0;31m \u001b[0m\u001b[0;31m`\u001b[0m\u001b[0;31m`\u001b[0m\u001b[0;32mFalse\u001b[0m\u001b[0;31m`\u001b[0m\u001b[0;31m`\u001b[0m\u001b[0;34m.\u001b[0m\u001b[0;34m\u001b[0m\u001b[0;34m\u001b[0m\u001b[0m\n\u001b[1;32m    197\u001b[0m         \"\"\"\n\u001b[0;32m--> 198\u001b[0;31m         \u001b[0mtorch\u001b[0m\u001b[0;34m.\u001b[0m\u001b[0mautograd\u001b[0m\u001b[0;34m.\u001b[0m\u001b[0mbackward\u001b[0m\u001b[0;34m(\u001b[0m\u001b[0mself\u001b[0m\u001b[0;34m,\u001b[0m \u001b[0mgradient\u001b[0m\u001b[0;34m,\u001b[0m \u001b[0mretain_graph\u001b[0m\u001b[0;34m,\u001b[0m \u001b[0mcreate_graph\u001b[0m\u001b[0;34m)\u001b[0m\u001b[0;34m\u001b[0m\u001b[0;34m\u001b[0m\u001b[0m\n\u001b[0m\u001b[1;32m    199\u001b[0m \u001b[0;34m\u001b[0m\u001b[0m\n\u001b[1;32m    200\u001b[0m     \u001b[0;32mdef\u001b[0m \u001b[0mregister_hook\u001b[0m\u001b[0;34m(\u001b[0m\u001b[0mself\u001b[0m\u001b[0;34m,\u001b[0m \u001b[0mhook\u001b[0m\u001b[0;34m)\u001b[0m\u001b[0;34m:\u001b[0m\u001b[0;34m\u001b[0m\u001b[0;34m\u001b[0m\u001b[0m\n",
      "\u001b[0;32m~/Library/Python/3.7/lib/python/site-packages/torch/autograd/__init__.py\u001b[0m in \u001b[0;36mbackward\u001b[0;34m(tensors, grad_tensors, retain_graph, create_graph, grad_variables)\u001b[0m\n\u001b[1;32m     98\u001b[0m     Variable._execution_engine.run_backward(\n\u001b[1;32m     99\u001b[0m         \u001b[0mtensors\u001b[0m\u001b[0;34m,\u001b[0m \u001b[0mgrad_tensors\u001b[0m\u001b[0;34m,\u001b[0m \u001b[0mretain_graph\u001b[0m\u001b[0;34m,\u001b[0m \u001b[0mcreate_graph\u001b[0m\u001b[0;34m,\u001b[0m\u001b[0;34m\u001b[0m\u001b[0;34m\u001b[0m\u001b[0m\n\u001b[0;32m--> 100\u001b[0;31m         allow_unreachable=True)  # allow_unreachable flag\n\u001b[0m\u001b[1;32m    101\u001b[0m \u001b[0;34m\u001b[0m\u001b[0m\n\u001b[1;32m    102\u001b[0m \u001b[0;34m\u001b[0m\u001b[0m\n",
      "\u001b[0;31mRuntimeError\u001b[0m: element 0 of tensors does not require grad and does not have a grad_fn"
     ]
    }
   ],
   "source": [
    "train_loss = []\n",
    "val_accuracy = []\n",
    "train_model(model, opt, scheduler, train_loss, val_accuracy, 10000, 100)"
   ]
  },
  {
   "cell_type": "code",
   "execution_count": null,
   "metadata": {},
   "outputs": [],
   "source": []
  },
  {
   "cell_type": "code",
   "execution_count": 96,
   "metadata": {},
   "outputs": [],
   "source": [
    "torch.save(model.state_dict(), 'residual.best4')"
   ]
  },
  {
   "cell_type": "code",
   "execution_count": 136,
   "metadata": {},
   "outputs": [
    {
     "data": {
      "text/plain": [
       "VAEModel(\n",
       "  (encoder): VisualEncoderModel(\n",
       "    (block1): VisualEncoderCell(\n",
       "      (conv2d): Conv2d(1, 32, kernel_size=(5, 5), stride=(1, 1), padding=(2, 2))\n",
       "      (instance_norm): CategoricalConditionalBatchNorm(32, num_cats=62, eps=2e-05, momentum=0.1, affine=True, track_running_stats=True)\n",
       "      (relu): ReLU()\n",
       "    )\n",
       "    (block2): VisualEncoderCell(\n",
       "      (conv2d): Conv2d(32, 32, kernel_size=(5, 5), stride=(2, 2), padding=(2, 2))\n",
       "      (instance_norm): CategoricalConditionalBatchNorm(32, num_cats=62, eps=2e-05, momentum=0.1, affine=True, track_running_stats=True)\n",
       "      (relu): ReLU()\n",
       "    )\n",
       "    (block3): VisualEncoderCell(\n",
       "      (conv2d): Conv2d(32, 64, kernel_size=(5, 5), stride=(1, 1), padding=(2, 2))\n",
       "      (instance_norm): CategoricalConditionalBatchNorm(64, num_cats=62, eps=2e-05, momentum=0.1, affine=True, track_running_stats=True)\n",
       "      (relu): ReLU()\n",
       "    )\n",
       "    (block4): VisualEncoderCell(\n",
       "      (conv2d): Conv2d(64, 64, kernel_size=(5, 5), stride=(2, 2), padding=(2, 2))\n",
       "      (instance_norm): CategoricalConditionalBatchNorm(64, num_cats=62, eps=2e-05, momentum=0.1, affine=True, track_running_stats=True)\n",
       "      (relu): ReLU()\n",
       "    )\n",
       "    (block5): VisualEncoderCell(\n",
       "      (conv2d): Conv2d(64, 64, kernel_size=(4, 4), stride=(2, 2), padding=(1, 1))\n",
       "      (instance_norm): CategoricalConditionalBatchNorm(64, num_cats=62, eps=2e-05, momentum=0.1, affine=True, track_running_stats=True)\n",
       "      (relu): ReLU()\n",
       "    )\n",
       "    (block6): VisualEncoderCell(\n",
       "      (conv2d): Conv2d(64, 64, kernel_size=(4, 4), stride=(2, 2), padding=(1, 1))\n",
       "      (instance_norm): CategoricalConditionalBatchNorm(64, num_cats=62, eps=2e-05, momentum=0.1, affine=True, track_running_stats=True)\n",
       "      (relu): ReLU()\n",
       "    )\n",
       "    (flatten): Flatten()\n",
       "    (dense): Linear(in_features=1024, out_features=64, bias=True)\n",
       "  )\n",
       "  (decoder): VisualDecoderModel(\n",
       "    (dense): Linear(in_features=32, out_features=1024, bias=True)\n",
       "    (block1): VisualDecoderCell(\n",
       "      (conv2d): ConvTranspose2d(64, 64, kernel_size=(4, 4), stride=(2, 2), padding=(1, 1))\n",
       "      (instance_norm): CategoricalConditionalBatchNorm(64, num_cats=62, eps=2e-05, momentum=0.1, affine=True, track_running_stats=True)\n",
       "      (relu): ReLU()\n",
       "    )\n",
       "    (block2): VisualDecoderCell(\n",
       "      (conv2d): ConvTranspose2d(64, 64, kernel_size=(4, 4), stride=(2, 2), padding=(1, 1))\n",
       "      (instance_norm): CategoricalConditionalBatchNorm(64, num_cats=62, eps=2e-05, momentum=0.1, affine=True, track_running_stats=True)\n",
       "      (relu): ReLU()\n",
       "    )\n",
       "    (block3): VisualDecoderCell(\n",
       "      (conv2d): ConvTranspose2d(64, 64, kernel_size=(5, 5), stride=(1, 1), padding=(2, 2))\n",
       "      (instance_norm): CategoricalConditionalBatchNorm(64, num_cats=62, eps=2e-05, momentum=0.1, affine=True, track_running_stats=True)\n",
       "      (relu): ReLU()\n",
       "    )\n",
       "    (block4): VisualDecoderCell(\n",
       "      (conv2d): ConvTranspose2d(64, 64, kernel_size=(5, 5), stride=(2, 2), padding=(2, 2), output_padding=(1, 1))\n",
       "      (instance_norm): CategoricalConditionalBatchNorm(64, num_cats=62, eps=2e-05, momentum=0.1, affine=True, track_running_stats=True)\n",
       "      (relu): ReLU()\n",
       "    )\n",
       "    (block5): VisualDecoderCell(\n",
       "      (conv2d): ConvTranspose2d(64, 32, kernel_size=(5, 5), stride=(1, 1), padding=(2, 2))\n",
       "      (instance_norm): CategoricalConditionalBatchNorm(32, num_cats=62, eps=2e-05, momentum=0.1, affine=True, track_running_stats=True)\n",
       "      (relu): ReLU()\n",
       "    )\n",
       "    (block6): VisualDecoderCell(\n",
       "      (conv2d): ConvTranspose2d(32, 32, kernel_size=(5, 5), stride=(2, 2), padding=(2, 2), output_padding=(1, 1))\n",
       "      (instance_norm): CategoricalConditionalBatchNorm(32, num_cats=62, eps=2e-05, momentum=0.1, affine=True, track_running_stats=True)\n",
       "      (relu): ReLU()\n",
       "    )\n",
       "    (block7): VisualDecoderCell(\n",
       "      (conv2d): ConvTranspose2d(32, 32, kernel_size=(5, 5), stride=(1, 1), padding=(2, 2))\n",
       "      (instance_norm): CategoricalConditionalBatchNorm(32, num_cats=62, eps=2e-05, momentum=0.1, affine=True, track_running_stats=True)\n",
       "      (relu): ReLU()\n",
       "    )\n",
       "    (conv2d): Conv2d(32, 1, kernel_size=(5, 5), stride=(1, 1), padding=(2, 2))\n",
       "  )\n",
       ")"
      ]
     },
     "execution_count": 136,
     "metadata": {},
     "output_type": "execute_result"
    }
   ],
   "source": [
    "model.eval()"
   ]
  },
  {
   "cell_type": "code",
   "execution_count": 187,
   "metadata": {},
   "outputs": [],
   "source": [
    "img = model.decoder(torch.randn(32), torch.Tensor([1]))"
   ]
  },
  {
   "cell_type": "code",
   "execution_count": 188,
   "metadata": {},
   "outputs": [
    {
     "data": {
      "text/plain": [
       "<matplotlib.image.AxesImage at 0x16b031898>"
      ]
     },
     "execution_count": 188,
     "metadata": {},
     "output_type": "execute_result"
    },
    {
     "data": {
      "image/png": "[encoded data removed]",
      "text/plain": [
       "<Figure size 432x288 with 1 Axes>"
      ]
     },
     "metadata": {
      "needs_background": "light"
     },
     "output_type": "display_data"
    }
   ],
   "source": [
    "plt.imshow(np.array(img[0][0].detach()))"
   ]
  },
  {
   "cell_type": "code",
   "execution_count": null,
   "metadata": {},
   "outputs": [],
   "source": []
  }
 ],
 "metadata": {
  "colab": {
   "collapsed_sections": [
    "I-RBCz5S2gD1",
    "hMUYnd3NtnF3",
    "3XtY17EajF71",
    "doR9EP687k_X",
    "TX7aEQlJjJ95",
    "NnYl0KJUs3qg",
    "50DnLHavviED"
   ],
   "last_runtime": {
    "build_target": "//learning/deepmind/dm_python:dm_notebook",
    "kind": "private"
   },
   "name": "Copy of playing with magenta vae",
   "provenance": [
    {
     "file_id": "/piper/depot/google3/third_party/py/magenta/models/svg_vae/decoding.ipynb?workspaceId=iraphael:fig-export-dev-change-54-1cc47efa03b3::citc",
     "timestamp": 1568758807713
    },
    {
     "file_id": "1tIEoA9aNaQ1G8LrvOj1OU4N8gGh0MNMU",
     "timestamp": 1567712980131
    },
    {
     "file_id": "17FMYlIPEIu0qP-IB0ko1BbPsuZzRf7R_",
     "timestamp": 1566847141824
    }
   ]
  },
  "kernelspec": {
   "display_name": "Python 3",
   "language": "python",
   "name": "python3"
  },
  "language_info": {
   "codemirror_mode": {
    "name": "ipython",
    "version": 3
   },
   "file_extension": ".py",
   "mimetype": "text/x-python",
   "name": "python",
   "nbconvert_exporter": "python",
   "pygments_lexer": "ipython3",
   "version": "3.7.3"
  }
 },
 "nbformat": 4,
 "nbformat_minor": 1
}
